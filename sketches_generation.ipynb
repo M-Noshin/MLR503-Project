{
  "cells": [
    {
      "cell_type": "code",
      "execution_count": null,
      "metadata": {
        "colab": {
          "base_uri": "https://localhost:8080/"
        },
        "id": "UknJ075yUABP",
        "outputId": "99d92a63-6602-4439-aca2-404593adce7d"
      },
      "outputs": [
        {
          "output_type": "stream",
          "name": "stdout",
          "text": [
            "Cloning into 'sketchKeras-pytorch'...\n",
            "remote: Enumerating objects: 20, done.\u001b[K\n",
            "remote: Counting objects: 100% (20/20), done.\u001b[K\n",
            "remote: Compressing objects: 100% (16/16), done.\u001b[K\n",
            "remote: Total 20 (delta 2), reused 20 (delta 2), pack-reused 0 (from 0)\u001b[K\n",
            "Receiving objects: 100% (20/20), 9.29 MiB | 14.82 MiB/s, done.\n",
            "Resolving deltas: 100% (2/2), done.\n"
          ]
        }
      ],
      "source": [
        "!git clone https://github.com/higumax/sketchKeras-pytorch.git\n",
        "!cd sketchKeras-pytorch\n"
      ]
    },
    {
      "cell_type": "code",
      "execution_count": null,
      "metadata": {
        "colab": {
          "base_uri": "https://localhost:8080/"
        },
        "id": "d5uIPGY1WQvc",
        "outputId": "db69b907-7c04-4057-cc87-cf022cb40bc7"
      },
      "outputs": [
        {
          "name": "stdout",
          "output_type": "stream",
          "text": [
            "Requirement already satisfied: numpy in /usr/local/lib/python3.10/dist-packages (1.26.4)\n",
            "\u001b[31mERROR: Could not find a version that satisfies the requirement torch==1.6.0 (from versions: 1.11.0, 1.12.0, 1.12.1, 1.13.0, 1.13.1, 2.0.0, 2.0.1, 2.1.0, 2.1.1, 2.1.2, 2.2.0, 2.2.1, 2.2.2, 2.3.0, 2.3.1, 2.4.0, 2.4.1, 2.5.0, 2.5.1)\u001b[0m\u001b[31m\n",
            "\u001b[0m\u001b[31mERROR: No matching distribution found for torch==1.6.0\u001b[0m\u001b[31m\n",
            "\u001b[0m"
          ]
        }
      ],
      "source": [
        "!pip install numpy torch==1.6.0 opencv-python==4.4.0.42\n"
      ]
    },
    {
      "cell_type": "code",
      "execution_count": null,
      "metadata": {
        "colab": {
          "base_uri": "https://localhost:8080/"
        },
        "id": "ZirhrPTJWgUX",
        "outputId": "9afa29ac-4cd1-4a95-cbd4-df894b28aef3"
      },
      "outputs": [
        {
          "name": "stdout",
          "output_type": "stream",
          "text": [
            "Requirement already satisfied: numpy in /usr/local/lib/python3.10/dist-packages (1.26.4)\n",
            "\u001b[31mERROR: Could not find a version that satisfies the requirement torch==1.6.0 (from versions: 1.11.0, 1.12.0, 1.12.1, 1.13.0, 1.13.1, 2.0.0, 2.0.1, 2.1.0, 2.1.1, 2.1.2, 2.2.0, 2.2.1, 2.2.2, 2.3.0, 2.3.1, 2.4.0, 2.4.1, 2.5.0, 2.5.1)\u001b[0m\u001b[31m\n",
            "\u001b[0m\u001b[31mERROR: No matching distribution found for torch==1.6.0\u001b[0m\u001b[31m\n",
            "\u001b[0m"
          ]
        }
      ],
      "source": [
        "!pip install numpy torch==1.6.0 opencv-python==4.4.0.42\n"
      ]
    },
    {
      "cell_type": "code",
      "execution_count": null,
      "metadata": {
        "id": "LAhyJtnPfDxp"
      },
      "outputs": [],
      "source": [
        "!mv model.pth sketchKeras-pytorch/weights/sketchKeras_pytorch.pth\n"
      ]
    },
    {
      "cell_type": "code",
      "execution_count": null,
      "metadata": {
        "colab": {
          "base_uri": "https://localhost:8080/"
        },
        "id": "dr6wv7-PfUoB",
        "outputId": "e3acee43-2783-4521-e91f-3e396f1787c1"
      },
      "outputs": [
        {
          "output_type": "stream",
          "name": "stdout",
          "text": [
            "sketchKeras_pytorch.pth\n"
          ]
        }
      ],
      "source": [
        "!ls sketchKeras-pytorch/weights\n"
      ]
    },
    {
      "cell_type": "code",
      "execution_count": null,
      "metadata": {
        "id": "0voEXMHVgYzj"
      },
      "outputs": [],
      "source": [
        "!sed -i \"s|weights/model.pth|weights/sketchKeras_pytorch.pth|\" sketchKeras-pytorch/src/test.py\n"
      ]
    },
    {
      "cell_type": "code",
      "execution_count": null,
      "metadata": {
        "id": "Q-Wu7VvcfV0l"
      },
      "outputs": [],
      "source": [
        "weights_path = \"/content/sketchKeras-pytorch/weights/sketchKeras_pytorch.pth\"\n"
      ]
    },
    {
      "cell_type": "code",
      "execution_count": null,
      "metadata": {
        "colab": {
          "base_uri": "https://localhost:8080/"
        },
        "id": "La5h7DXPf3Y7",
        "outputId": "580e8430-2638-4f06-bd5d-2813fe840731"
      },
      "outputs": [
        {
          "name": "stdout",
          "output_type": "stream",
          "text": [
            "sketchKeras_pytorch.pth\n"
          ]
        }
      ],
      "source": [
        "!ls sketchKeras-pytorch/weights\n"
      ]
    },
    {
      "cell_type": "code",
      "execution_count": null,
      "metadata": {
        "colab": {
          "base_uri": "https://localhost:8080/"
        },
        "collapsed": true,
        "id": "DPCXPaRypfYI",
        "outputId": "04f9e7aa-b2e7-42a9-c451-fd0153572e23"
      },
      "outputs": [
        {
          "output_type": "stream",
          "name": "stdout",
          "text": [
            "Reading package lists... Done\n",
            "Building dependency tree... Done\n",
            "Reading state information... Done\n",
            "unrar is already the newest version (1:6.1.5-1).\n",
            "0 upgraded, 0 newly installed, 0 to remove and 49 not upgraded.\n",
            "\n",
            "UNRAR 6.11 beta 1 freeware      Copyright (c) 1993-2022 Alexander Roshal\n",
            "\n",
            "\n",
            "Extracting from test_images.rar\n",
            "\n",
            "Creating    images/test_images                                        OK\n",
            "Extracting  images/test_images/1823.jpg                                  \b\b\b\b  0%\b\b\b\b\b  OK \n",
            "Extracting  images/test_images/1828.jpg                                  \b\b\b\b  0%\b\b\b\b\b  OK \n",
            "Extracting  images/test_images/1834.jpg                                  \b\b\b\b  0%\b\b\b\b\b  OK \n",
            "Extracting  images/test_images/1854.jpg                                  \b\b\b\b  0%\b\b\b\b\b  OK \n",
            "Extracting  images/test_images/192.jpg                                   \b\b\b\b  0%\b\b\b\b\b  OK \n",
            "Extracting  images/test_images/193.jpg                                   \b\b\b\b  0%\b\b\b\b\b  OK \n",
            "Extracting  images/test_images/194.jpg                                   \b\b\b\b  0%\b\b\b\b\b  OK \n",
            "Extracting  images/test_images/195.jpg                                   \b\b\b\b  1%\b\b\b\b\b  OK \n",
            "Extracting  images/test_images/196.jpg                                   \b\b\b\b  1%\b\b\b\b\b  OK \n",
            "Extracting  images/test_images/197.jpg                                   \b\b\b\b  1%\b\b\b\b\b  OK \n",
            "Extracting  images/test_images/198.jpg                                   \b\b\b\b  1%\b\b\b\b\b  OK \n",
            "Extracting  images/test_images/199.jpg                                   \b\b\b\b  1%\b\b\b\b\b  OK \n",
            "Extracting  images/test_images/200.jpg                                   \b\b\b\b  1%\b\b\b\b\b  OK \n",
            "Extracting  images/test_images/201.jpg                                   \b\b\b\b  1%\b\b\b\b\b  OK \n",
            "Extracting  images/test_images/202.jpg                                   \b\b\b\b  2%\b\b\b\b\b  OK \n",
            "Extracting  images/test_images/203.jpg                                   \b\b\b\b  2%\b\b\b\b\b  OK \n",
            "Extracting  images/test_images/204.jpg                                   \b\b\b\b  2%\b\b\b\b\b  OK \n",
            "Extracting  images/test_images/205.jpg                                   \b\b\b\b  2%\b\b\b\b\b  OK \n",
            "Extracting  images/test_images/206.jpg                                   \b\b\b\b  2%\b\b\b\b\b  OK \n",
            "Extracting  images/test_images/207.jpg                                   \b\b\b\b  2%\b\b\b\b\b  OK \n",
            "Extracting  images/test_images/208.jpg                                   \b\b\b\b  2%\b\b\b\b\b  OK \n",
            "Extracting  images/test_images/209.jpg                                   \b\b\b\b  2%\b\b\b\b\b  OK \n",
            "Extracting  images/test_images/210.jpg                                   \b\b\b\b  3%\b\b\b\b\b  OK \n",
            "Extracting  images/test_images/211.jpg                                   \b\b\b\b  3%\b\b\b\b\b  OK \n",
            "Extracting  images/test_images/212.jpg                                   \b\b\b\b  3%\b\b\b\b\b  OK \n",
            "Extracting  images/test_images/213.jpg                                   \b\b\b\b  3%\b\b\b\b\b  OK \n",
            "Extracting  images/test_images/214.jpg                                   \b\b\b\b  3%\b\b\b\b\b  OK \n",
            "Extracting  images/test_images/215.jpg                                   \b\b\b\b  3%\b\b\b\b\b  OK \n",
            "Extracting  images/test_images/216.jpg                                   \b\b\b\b  4%\b\b\b\b\b  OK \n",
            "Extracting  images/test_images/217.jpg                                   \b\b\b\b  4%\b\b\b\b\b  OK \n",
            "Extracting  images/test_images/218.jpg                                   \b\b\b\b  4%\b\b\b\b\b  OK \n",
            "Extracting  images/test_images/219.jpg                                   \b\b\b\b  4%\b\b\b\b\b  OK \n",
            "Extracting  images/test_images/220.jpg                                   \b\b\b\b  4%\b\b\b\b\b  OK \n",
            "Extracting  images/test_images/221.jpg                                   \b\b\b\b  4%\b\b\b\b\b  OK \n",
            "Extracting  images/test_images/222.jpg                                   \b\b\b\b  4%\b\b\b\b\b  OK \n",
            "Extracting  images/test_images/223.jpg                                   \b\b\b\b  5%\b\b\b\b\b  OK \n",
            "Extracting  images/test_images/224.jpg                                   \b\b\b\b  5%\b\b\b\b\b  OK \n",
            "Extracting  images/test_images/225.jpg                                   \b\b\b\b  5%\b\b\b\b\b  OK \n",
            "Extracting  images/test_images/226.jpg                                   \b\b\b\b  5%\b\b\b\b\b  OK \n",
            "Extracting  images/test_images/227.jpg                                   \b\b\b\b  5%\b\b\b\b\b  OK \n",
            "Extracting  images/test_images/228.jpg                                   \b\b\b\b  5%\b\b\b\b\b  OK \n",
            "Extracting  images/test_images/229.jpg                                   \b\b\b\b  5%\b\b\b\b\b  OK \n",
            "Extracting  images/test_images/230.jpg                                   \b\b\b\b  6%\b\b\b\b\b  OK \n",
            "Extracting  images/test_images/231.jpg                                   \b\b\b\b  6%\b\b\b\b\b  OK \n",
            "Extracting  images/test_images/232.jpg                                   \b\b\b\b  6%\b\b\b\b\b  OK \n",
            "Extracting  images/test_images/233.jpg                                   \b\b\b\b  6%\b\b\b\b\b  OK \n",
            "Extracting  images/test_images/234.jpg                                   \b\b\b\b  6%\b\b\b\b\b  OK \n",
            "Extracting  images/test_images/235.jpg                                   \b\b\b\b  6%\b\b\b\b\b  OK \n",
            "Extracting  images/test_images/236.jpg                                   \b\b\b\b  6%\b\b\b\b\b  OK \n",
            "Extracting  images/test_images/237.jpg                                   \b\b\b\b  7%\b\b\b\b\b  OK \n",
            "Extracting  images/test_images/238.jpg                                   \b\b\b\b  7%\b\b\b\b\b  OK \n",
            "Extracting  images/test_images/239.jpg                                   \b\b\b\b  7%\b\b\b\b\b  OK \n",
            "Extracting  images/test_images/240.jpg                                   \b\b\b\b  7%\b\b\b\b\b  OK \n",
            "Extracting  images/test_images/241.jpg                                   \b\b\b\b  7%\b\b\b\b\b  OK \n",
            "Extracting  images/test_images/242.jpg                                   \b\b\b\b  7%\b\b\b\b\b  OK \n",
            "Extracting  images/test_images/243.jpg                                   \b\b\b\b  7%\b\b\b\b\b  OK \n",
            "Extracting  images/test_images/244.jpg                                   \b\b\b\b  8%\b\b\b\b\b  OK \n",
            "Extracting  images/test_images/245.jpg                                   \b\b\b\b  8%\b\b\b\b\b  OK \n",
            "Extracting  images/test_images/246.jpg                                   \b\b\b\b  8%\b\b\b\b\b  OK \n",
            "Extracting  images/test_images/247.jpg                                   \b\b\b\b  8%\b\b\b\b\b  OK \n",
            "Extracting  images/test_images/248.jpg                                   \b\b\b\b  8%\b\b\b\b\b  OK \n",
            "Extracting  images/test_images/249.jpg                                   \b\b\b\b  8%\b\b\b\b\b  OK \n",
            "Extracting  images/test_images/250.jpg                                   \b\b\b\b  8%\b\b\b\b\b  OK \n",
            "Extracting  images/test_images/251.jpg                                   \b\b\b\b  9%\b\b\b\b\b  OK \n",
            "Extracting  images/test_images/252.jpg                                   \b\b\b\b  9%\b\b\b\b\b  OK \n",
            "Extracting  images/test_images/253.jpg                                   \b\b\b\b  9%\b\b\b\b\b  OK \n",
            "Extracting  images/test_images/254.jpg                                   \b\b\b\b  9%\b\b\b\b\b  OK \n",
            "Extracting  images/test_images/255.jpg                                   \b\b\b\b  9%\b\b\b\b\b  OK \n",
            "Extracting  images/test_images/256.jpg                                   \b\b\b\b  9%\b\b\b\b\b  OK \n",
            "Extracting  images/test_images/257.jpg                                   \b\b\b\b  9%\b\b\b\b\b  OK \n",
            "Extracting  images/test_images/258.jpg                                   \b\b\b\b 10%\b\b\b\b\b  OK \n",
            "Extracting  images/test_images/259.jpg                                   \b\b\b\b 10%\b\b\b\b\b  OK \n",
            "Extracting  images/test_images/260.jpg                                   \b\b\b\b 10%\b\b\b\b\b  OK \n",
            "Extracting  images/test_images/261.jpg                                   \b\b\b\b 10%\b\b\b\b\b  OK \n",
            "Extracting  images/test_images/262.jpg                                   \b\b\b\b 10%\b\b\b\b\b  OK \n",
            "Extracting  images/test_images/263.jpg                                   \b\b\b\b 10%\b\b\b\b\b  OK \n",
            "Extracting  images/test_images/264.jpg                                   \b\b\b\b 10%\b\b\b\b\b  OK \n",
            "Extracting  images/test_images/265.jpg                                   \b\b\b\b 10%\b\b\b\b\b  OK \n",
            "Extracting  images/test_images/266.jpg                                   \b\b\b\b 11%\b\b\b\b\b  OK \n",
            "Extracting  images/test_images/267.jpg                                   \b\b\b\b 11%\b\b\b\b\b  OK \n",
            "Extracting  images/test_images/268.jpg                                   \b\b\b\b 11%\b\b\b\b\b  OK \n",
            "Extracting  images/test_images/269.jpg                                   \b\b\b\b 11%\b\b\b\b\b  OK \n",
            "Extracting  images/test_images/270.jpg                                   \b\b\b\b 11%\b\b\b\b\b  OK \n",
            "Extracting  images/test_images/271.jpg                                   \b\b\b\b 11%\b\b\b\b\b  OK \n",
            "Extracting  images/test_images/272.jpg                                   \b\b\b\b 12%\b\b\b\b\b  OK \n",
            "Extracting  images/test_images/273.jpg                                   \b\b\b\b 12%\b\b\b\b\b  OK \n",
            "Extracting  images/test_images/274.jpg                                   \b\b\b\b 12%\b\b\b\b\b  OK \n",
            "Extracting  images/test_images/275.jpg                                   \b\b\b\b 12%\b\b\b\b\b  OK \n",
            "Extracting  images/test_images/276.jpg                                   \b\b\b\b 12%\b\b\b\b\b  OK \n",
            "Extracting  images/test_images/277.jpg                                   \b\b\b\b 12%\b\b\b\b\b  OK \n",
            "Extracting  images/test_images/278.jpg                                   \b\b\b\b 12%\b\b\b\b\b  OK \n",
            "Extracting  images/test_images/279.jpg                                   \b\b\b\b 13%\b\b\b\b\b  OK \n",
            "Extracting  images/test_images/280.jpg                                   \b\b\b\b 13%\b\b\b\b\b  OK \n",
            "Extracting  images/test_images/281.jpg                                   \b\b\b\b 13%\b\b\b\b\b  OK \n",
            "Extracting  images/test_images/282.jpg                                   \b\b\b\b 13%\b\b\b\b\b  OK \n",
            "Extracting  images/test_images/283.jpg                                   \b\b\b\b 13%\b\b\b\b\b  OK \n",
            "Extracting  images/test_images/284.jpg                                   \b\b\b\b 13%\b\b\b\b\b  OK \n",
            "Extracting  images/test_images/285.jpg                                   \b\b\b\b 13%\b\b\b\b\b  OK \n",
            "Extracting  images/test_images/286.jpg                                   \b\b\b\b 13%\b\b\b\b\b  OK \n",
            "Extracting  images/test_images/287.jpg                                   \b\b\b\b 14%\b\b\b\b\b  OK \n",
            "Extracting  images/test_images/288.jpg                                   \b\b\b\b 14%\b\b\b\b\b  OK \n",
            "Extracting  images/test_images/289.jpg                                   \b\b\b\b 14%\b\b\b\b\b  OK \n",
            "Extracting  images/test_images/290.jpg                                   \b\b\b\b 14%\b\b\b\b\b  OK \n",
            "Extracting  images/test_images/291.jpg                                   \b\b\b\b 14%\b\b\b\b\b  OK \n",
            "Extracting  images/test_images/292.jpg                                   \b\b\b\b 14%\b\b\b\b\b  OK \n",
            "Extracting  images/test_images/293.jpg                                   \b\b\b\b 14%\b\b\b\b\b  OK \n",
            "Extracting  images/test_images/294.jpg                                   \b\b\b\b 15%\b\b\b\b\b  OK \n",
            "Extracting  images/test_images/295.jpg                                   \b\b\b\b 15%\b\b\b\b\b  OK \n",
            "Extracting  images/test_images/296.jpg                                   \b\b\b\b 15%\b\b\b\b\b  OK \n",
            "Extracting  images/test_images/297.jpg                                   \b\b\b\b 15%\b\b\b\b\b  OK \n",
            "Extracting  images/test_images/298.jpg                                   \b\b\b\b 15%\b\b\b\b\b  OK \n",
            "Extracting  images/test_images/299.jpg                                   \b\b\b\b 15%\b\b\b\b\b  OK \n",
            "Extracting  images/test_images/300.jpg                                   \b\b\b\b 15%\b\b\b\b\b  OK \n",
            "Extracting  images/test_images/301.jpg                                   \b\b\b\b 15%\b\b\b\b\b  OK \n",
            "Extracting  images/test_images/302.jpg                                   \b\b\b\b 16%\b\b\b\b\b  OK \n",
            "Extracting  images/test_images/303.jpg                                   \b\b\b\b 16%\b\b\b\b\b  OK \n",
            "Extracting  images/test_images/304.jpg                                   \b\b\b\b 16%\b\b\b\b\b  OK \n",
            "Extracting  images/test_images/305.jpg                                   \b\b\b\b 16%\b\b\b\b\b  OK \n",
            "Extracting  images/test_images/306.jpg                                   \b\b\b\b 16%\b\b\b\b\b  OK \n",
            "Extracting  images/test_images/307.jpg                                   \b\b\b\b 16%\b\b\b\b\b  OK \n",
            "Extracting  images/test_images/308.jpg                                   \b\b\b\b 16%\b\b\b\b\b  OK \n",
            "Extracting  images/test_images/309.jpg                                   \b\b\b\b 17%\b\b\b\b\b  OK \n",
            "Extracting  images/test_images/310.jpg                                   \b\b\b\b 17%\b\b\b\b\b  OK \n",
            "Extracting  images/test_images/311.jpg                                   \b\b\b\b 17%\b\b\b\b\b  OK \n",
            "Extracting  images/test_images/312.jpg                                   \b\b\b\b 17%\b\b\b\b\b  OK \n",
            "Extracting  images/test_images/313.jpg                                   \b\b\b\b 17%\b\b\b\b\b  OK \n",
            "Extracting  images/test_images/314.jpg                                   \b\b\b\b 17%\b\b\b\b\b  OK \n",
            "Extracting  images/test_images/315.jpg                                   \b\b\b\b 18%\b\b\b\b\b  OK \n",
            "Extracting  images/test_images/316.jpg                                   \b\b\b\b 18%\b\b\b\b\b  OK \n",
            "Extracting  images/test_images/317.jpg                                   \b\b\b\b 18%\b\b\b\b\b  OK \n",
            "Extracting  images/test_images/318.jpg                                   \b\b\b\b 18%\b\b\b\b\b  OK \n",
            "Extracting  images/test_images/319.jpg                                   \b\b\b\b 18%\b\b\b\b\b  OK \n",
            "Extracting  images/test_images/320.jpg                                   \b\b\b\b 18%\b\b\b\b\b  OK \n",
            "Extracting  images/test_images/321.jpg                                   \b\b\b\b 18%\b\b\b\b\b  OK \n",
            "Extracting  images/test_images/322.jpg                                   \b\b\b\b 18%\b\b\b\b\b  OK \n",
            "Extracting  images/test_images/323.jpg                                   \b\b\b\b 19%\b\b\b\b\b  OK \n",
            "Extracting  images/test_images/324.jpg                                   \b\b\b\b 19%\b\b\b\b\b  OK \n",
            "Extracting  images/test_images/325.jpg                                   \b\b\b\b 19%\b\b\b\b\b  OK \n",
            "Extracting  images/test_images/326.jpg                                   \b\b\b\b 19%\b\b\b\b\b  OK \n",
            "Extracting  images/test_images/327.jpg                                   \b\b\b\b 19%\b\b\b\b\b  OK \n",
            "Extracting  images/test_images/328.jpg                                   \b\b\b\b 19%\b\b\b\b\b  OK \n",
            "Extracting  images/test_images/329.jpg                                   \b\b\b\b 19%\b\b\b\b\b  OK \n",
            "Extracting  images/test_images/330.jpg                                   \b\b\b\b 20%\b\b\b\b\b  OK \n",
            "Extracting  images/test_images/331.jpg                                   \b\b\b\b 20%\b\b\b\b\b  OK \n",
            "Extracting  images/test_images/332.jpg                                   \b\b\b\b 20%\b\b\b\b\b  OK \n",
            "Extracting  images/test_images/333.jpg                                   \b\b\b\b 20%\b\b\b\b\b  OK \n",
            "Extracting  images/test_images/334.jpg                                   \b\b\b\b 20%\b\b\b\b\b  OK \n",
            "Extracting  images/test_images/335.jpg                                   \b\b\b\b 20%\b\b\b\b\b  OK \n",
            "Extracting  images/test_images/336.jpg                                   \b\b\b\b 20%\b\b\b\b\b  OK \n",
            "Extracting  images/test_images/337.jpg                                   \b\b\b\b 21%\b\b\b\b\b  OK \n",
            "Extracting  images/test_images/338.jpg                                   \b\b\b\b 21%\b\b\b\b\b  OK \n",
            "Extracting  images/test_images/339.jpg                                   \b\b\b\b 21%\b\b\b\b\b  OK \n",
            "Extracting  images/test_images/340.jpg                                   \b\b\b\b 21%\b\b\b\b\b  OK \n",
            "Extracting  images/test_images/341.jpg                                   \b\b\b\b 21%\b\b\b\b\b  OK \n",
            "Extracting  images/test_images/342.jpg                                   \b\b\b\b 21%\b\b\b\b\b  OK \n",
            "Extracting  images/test_images/343.jpg                                   \b\b\b\b 21%\b\b\b\b\b  OK \n",
            "Extracting  images/test_images/344.jpg                                   \b\b\b\b 22%\b\b\b\b\b  OK \n",
            "Extracting  images/test_images/345.jpg                                   \b\b\b\b 22%\b\b\b\b\b  OK \n",
            "Extracting  images/test_images/346.jpg                                   \b\b\b\b 22%\b\b\b\b\b  OK \n",
            "Extracting  images/test_images/347.jpg                                   \b\b\b\b 22%\b\b\b\b\b  OK \n",
            "Extracting  images/test_images/348.jpg                                   \b\b\b\b 22%\b\b\b\b\b  OK \n",
            "Extracting  images/test_images/349.jpg                                   \b\b\b\b 22%\b\b\b\b\b  OK \n",
            "Extracting  images/test_images/350.jpg                                   \b\b\b\b 22%\b\b\b\b\b  OK \n",
            "Extracting  images/test_images/351.jpg                                   \b\b\b\b 23%\b\b\b\b\b  OK \n",
            "Extracting  images/test_images/352.jpg                                   \b\b\b\b 23%\b\b\b\b\b  OK \n",
            "Extracting  images/test_images/353.jpg                                   \b\b\b\b 23%\b\b\b\b\b  OK \n",
            "Extracting  images/test_images/354.jpg                                   \b\b\b\b 23%\b\b\b\b\b  OK \n",
            "Extracting  images/test_images/355.jpg                                   \b\b\b\b 23%\b\b\b\b\b  OK \n",
            "Extracting  images/test_images/356.jpg                                   \b\b\b\b 23%\b\b\b\b\b  OK \n",
            "Extracting  images/test_images/357.jpg                                   \b\b\b\b 23%\b\b\b\b\b  OK \n",
            "Extracting  images/test_images/358.jpg                                   \b\b\b\b 24%\b\b\b\b\b  OK \n",
            "Extracting  images/test_images/359.jpg                                   \b\b\b\b 24%\b\b\b\b\b  OK \n",
            "Extracting  images/test_images/360.jpg                                   \b\b\b\b 24%\b\b\b\b\b  OK \n",
            "Extracting  images/test_images/361.jpg                                   \b\b\b\b 24%\b\b\b\b\b  OK \n",
            "Extracting  images/test_images/362.jpg                                   \b\b\b\b 24%\b\b\b\b\b  OK \n",
            "Extracting  images/test_images/363.jpg                                   \b\b\b\b 24%\b\b\b\b\b  OK \n",
            "Extracting  images/test_images/364.jpg                                   \b\b\b\b 24%\b\b\b\b\b  OK \n",
            "Extracting  images/test_images/365.jpg                                   \b\b\b\b 25%\b\b\b\b\b  OK \n",
            "Extracting  images/test_images/366.jpg                                   \b\b\b\b 25%\b\b\b\b\b  OK \n",
            "Extracting  images/test_images/367.jpg                                   \b\b\b\b 25%\b\b\b\b\b  OK \n",
            "Extracting  images/test_images/368.jpg                                   \b\b\b\b 25%\b\b\b\b\b  OK \n",
            "Extracting  images/test_images/369.jpg                                   \b\b\b\b 25%\b\b\b\b\b  OK \n",
            "Extracting  images/test_images/370.jpg                                   \b\b\b\b 25%\b\b\b\b\b  OK \n",
            "Extracting  images/test_images/371.jpg                                   \b\b\b\b 25%\b\b\b\b\b  OK \n",
            "Extracting  images/test_images/372.jpg                                   \b\b\b\b 26%\b\b\b\b\b  OK \n",
            "Extracting  images/test_images/373.jpg                                   \b\b\b\b 26%\b\b\b\b\b  OK \n",
            "Extracting  images/test_images/374.jpg                                   \b\b\b\b 26%\b\b\b\b\b  OK \n",
            "Extracting  images/test_images/375.jpg                                   \b\b\b\b 26%\b\b\b\b\b  OK \n",
            "Extracting  images/test_images/376.jpg                                   \b\b\b\b 26%\b\b\b\b\b  OK \n",
            "Extracting  images/test_images/377.jpg                                   \b\b\b\b 26%\b\b\b\b\b  OK \n",
            "Extracting  images/test_images/378.jpg                                   \b\b\b\b 26%\b\b\b\b\b  OK \n",
            "Extracting  images/test_images/379.jpg                                   \b\b\b\b 26%\b\b\b\b\b  OK \n",
            "Extracting  images/test_images/380.jpg                                   \b\b\b\b 27%\b\b\b\b\b  OK \n",
            "Extracting  images/test_images/381.jpg                                   \b\b\b\b 27%\b\b\b\b\b  OK \n",
            "Extracting  images/test_images/382.jpg                                   \b\b\b\b 27%\b\b\b\b\b  OK \n",
            "Extracting  images/test_images/383.jpg                                   \b\b\b\b 27%\b\b\b\b\b  OK \n",
            "Extracting  images/test_images/384.jpg                                   \b\b\b\b 27%\b\b\b\b\b  OK \n",
            "Extracting  images/test_images/385.jpg                                   \b\b\b\b 27%\b\b\b\b\b  OK \n",
            "Extracting  images/test_images/386.jpg                                   \b\b\b\b 28%\b\b\b\b\b  OK \n",
            "Extracting  images/test_images/387.jpg                                   \b\b\b\b 28%\b\b\b\b\b  OK \n",
            "Extracting  images/test_images/388.jpg                                   \b\b\b\b 28%\b\b\b\b\b  OK \n",
            "Extracting  images/test_images/389.jpg                                   \b\b\b\b 28%\b\b\b\b\b  OK \n",
            "Extracting  images/test_images/390.jpg                                   \b\b\b\b 28%\b\b\b\b\b  OK \n",
            "Extracting  images/test_images/391.jpg                                   \b\b\b\b 28%\b\b\b\b\b  OK \n",
            "Extracting  images/test_images/392.jpg                                   \b\b\b\b 28%\b\b\b\b\b  OK \n",
            "Extracting  images/test_images/393.jpg                                   \b\b\b\b 29%\b\b\b\b\b  OK \n",
            "Extracting  images/test_images/394.jpg                                   \b\b\b\b 29%\b\b\b\b\b  OK \n",
            "Extracting  images/test_images/395.jpg                                   \b\b\b\b 29%\b\b\b\b\b  OK \n",
            "Extracting  images/test_images/396.jpg                                   \b\b\b\b 29%\b\b\b\b\b  OK \n",
            "Extracting  images/test_images/397.jpg                                   \b\b\b\b 29%\b\b\b\b\b  OK \n",
            "Extracting  images/test_images/398.jpg                                   \b\b\b\b 29%\b\b\b\b\b  OK \n",
            "Extracting  images/test_images/399.jpg                                   \b\b\b\b 29%\b\b\b\b\b  OK \n",
            "Extracting  images/test_images/400.jpg                                   \b\b\b\b 30%\b\b\b\b\b  OK \n",
            "Extracting  images/test_images/401.jpg                                   \b\b\b\b 30%\b\b\b\b\b  OK \n",
            "Extracting  images/test_images/402.jpg                                   \b\b\b\b 30%\b\b\b\b\b  OK \n",
            "Extracting  images/test_images/403.jpg                                   \b\b\b\b 30%\b\b\b\b\b  OK \n",
            "Extracting  images/test_images/404.jpg                                   \b\b\b\b 30%\b\b\b\b\b  OK \n",
            "Extracting  images/test_images/405.jpg                                   \b\b\b\b 30%\b\b\b\b\b  OK \n",
            "Extracting  images/test_images/406.jpg                                   \b\b\b\b 30%\b\b\b\b\b  OK \n",
            "Extracting  images/test_images/407.jpg                                   \b\b\b\b 31%\b\b\b\b\b  OK \n",
            "Extracting  images/test_images/408.jpg                                   \b\b\b\b 31%\b\b\b\b\b  OK \n",
            "Extracting  images/test_images/409.jpg                                   \b\b\b\b 31%\b\b\b\b\b  OK \n",
            "Extracting  images/test_images/410.jpg                                   \b\b\b\b 31%\b\b\b\b\b  OK \n",
            "Extracting  images/test_images/411.jpg                                   \b\b\b\b 31%\b\b\b\b\b  OK \n",
            "Extracting  images/test_images/412.jpg                                   \b\b\b\b 31%\b\b\b\b\b  OK \n",
            "Extracting  images/test_images/413.jpg                                   \b\b\b\b 31%\b\b\b\b\b  OK \n",
            "Extracting  images/test_images/414.jpg                                   \b\b\b\b 32%\b\b\b\b\b  OK \n",
            "Extracting  images/test_images/415.jpg                                   \b\b\b\b 32%\b\b\b\b\b  OK \n",
            "Extracting  images/test_images/416.jpg                                   \b\b\b\b 32%\b\b\b\b\b  OK \n",
            "Extracting  images/test_images/417.jpg                                   \b\b\b\b 32%\b\b\b\b\b  OK \n",
            "Extracting  images/test_images/418.jpg                                   \b\b\b\b 32%\b\b\b\b\b  OK \n",
            "Extracting  images/test_images/419.jpg                                   \b\b\b\b 32%\b\b\b\b\b  OK \n",
            "Extracting  images/test_images/420.jpg                                   \b\b\b\b 32%\b\b\b\b\b  OK \n",
            "Extracting  images/test_images/421.jpg                                   \b\b\b\b 33%\b\b\b\b\b  OK \n",
            "Extracting  images/test_images/422.jpg                                   \b\b\b\b 33%\b\b\b\b\b  OK \n",
            "Extracting  images/test_images/423.jpg                                   \b\b\b\b 33%\b\b\b\b\b  OK \n",
            "Extracting  images/test_images/424.jpg                                   \b\b\b\b 33%\b\b\b\b\b  OK \n",
            "Extracting  images/test_images/425.jpg                                   \b\b\b\b 33%\b\b\b\b\b  OK \n",
            "Extracting  images/test_images/426.jpg                                   \b\b\b\b 33%\b\b\b\b\b  OK \n",
            "Extracting  images/test_images/427.jpg                                   \b\b\b\b 33%\b\b\b\b\b  OK \n",
            "Extracting  images/test_images/428.jpg                                   \b\b\b\b 34%\b\b\b\b\b  OK \n",
            "Extracting  images/test_images/429.jpg                                   \b\b\b\b 34%\b\b\b\b\b  OK \n",
            "Extracting  images/test_images/430.jpg                                   \b\b\b\b 34%\b\b\b\b\b  OK \n",
            "Extracting  images/test_images/431.jpg                                   \b\b\b\b 34%\b\b\b\b\b  OK \n",
            "Extracting  images/test_images/432.jpg                                   \b\b\b\b 34%\b\b\b\b\b  OK \n",
            "Extracting  images/test_images/433.jpg                                   \b\b\b\b 34%\b\b\b\b\b  OK \n",
            "Extracting  images/test_images/434.jpg                                   \b\b\b\b 34%\b\b\b\b\b  OK \n",
            "Extracting  images/test_images/435.jpg                                   \b\b\b\b 35%\b\b\b\b\b  OK \n",
            "Extracting  images/test_images/436.jpg                                   \b\b\b\b 35%\b\b\b\b\b  OK \n",
            "Extracting  images/test_images/437.jpg                                   \b\b\b\b 35%\b\b\b\b\b  OK \n",
            "Extracting  images/test_images/438.jpg                                   \b\b\b\b 35%\b\b\b\b\b  OK \n",
            "Extracting  images/test_images/439.jpg                                   \b\b\b\b 35%\b\b\b\b\b  OK \n",
            "Extracting  images/test_images/440.jpg                                   \b\b\b\b 35%\b\b\b\b\b  OK \n",
            "Extracting  images/test_images/441.jpg                                   \b\b\b\b 35%\b\b\b\b\b  OK \n",
            "Extracting  images/test_images/442.jpg                                   \b\b\b\b 36%\b\b\b\b\b  OK \n",
            "Extracting  images/test_images/443.jpg                                   \b\b\b\b 36%\b\b\b\b\b  OK \n",
            "Extracting  images/test_images/444.jpg                                   \b\b\b\b 36%\b\b\b\b\b  OK \n",
            "Extracting  images/test_images/445.jpg                                   \b\b\b\b 36%\b\b\b\b\b  OK \n",
            "Extracting  images/test_images/446.jpg                                   \b\b\b\b 36%\b\b\b\b\b  OK \n",
            "Extracting  images/test_images/447.jpg                                   \b\b\b\b 36%\b\b\b\b\b  OK \n",
            "Extracting  images/test_images/448.jpg                                   \b\b\b\b 36%\b\b\b\b\b  OK \n",
            "Extracting  images/test_images/449.jpg                                   \b\b\b\b 37%\b\b\b\b\b  OK \n",
            "Extracting  images/test_images/450.jpg                                   \b\b\b\b 37%\b\b\b\b\b  OK \n",
            "Extracting  images/test_images/451.jpg                                   \b\b\b\b 37%\b\b\b\b\b  OK \n",
            "Extracting  images/test_images/452.jpg                                   \b\b\b\b 37%\b\b\b\b\b  OK \n",
            "Extracting  images/test_images/453.jpg                                   \b\b\b\b 37%\b\b\b\b\b  OK \n",
            "Extracting  images/test_images/454.jpg                                   \b\b\b\b 37%\b\b\b\b\b  OK \n",
            "Extracting  images/test_images/455.jpg                                   \b\b\b\b 37%\b\b\b\b\b  OK \n",
            "Extracting  images/test_images/456.jpg                                   \b\b\b\b 38%\b\b\b\b\b  OK \n",
            "Extracting  images/test_images/457.jpg                                   \b\b\b\b 38%\b\b\b\b\b  OK \n",
            "Extracting  images/test_images/458.jpg                                   \b\b\b\b 38%\b\b\b\b\b  OK \n",
            "Extracting  images/test_images/459.jpg                                   \b\b\b\b 38%\b\b\b\b\b  OK \n",
            "Extracting  images/test_images/460.jpg                                   \b\b\b\b 38%\b\b\b\b\b  OK \n",
            "Extracting  images/test_images/461.jpg                                   \b\b\b\b 38%\b\b\b\b\b  OK \n",
            "Extracting  images/test_images/462.jpg                                   \b\b\b\b 38%\b\b\b\b\b  OK \n",
            "Extracting  images/test_images/463.jpg                                   \b\b\b\b 39%\b\b\b\b\b  OK \n",
            "Extracting  images/test_images/464.jpg                                   \b\b\b\b 39%\b\b\b\b\b  OK \n",
            "Extracting  images/test_images/465.jpg                                   \b\b\b\b 39%\b\b\b\b\b  OK \n",
            "Extracting  images/test_images/466.jpg                                   \b\b\b\b 39%\b\b\b\b\b  OK \n",
            "Extracting  images/test_images/467.jpg                                   \b\b\b\b 39%\b\b\b\b\b  OK \n",
            "Extracting  images/test_images/468.jpg                                   \b\b\b\b 39%\b\b\b\b\b  OK \n",
            "Extracting  images/test_images/469.jpg                                   \b\b\b\b 39%\b\b\b\b\b  OK \n",
            "Extracting  images/test_images/470.jpg                                   \b\b\b\b 40%\b\b\b\b\b  OK \n",
            "Extracting  images/test_images/471.jpg                                   \b\b\b\b 40%\b\b\b\b\b  OK \n",
            "Extracting  images/test_images/472.jpg                                   \b\b\b\b 40%\b\b\b\b\b  OK \n",
            "Extracting  images/test_images/473.jpg                                   \b\b\b\b 40%\b\b\b\b\b  OK \n",
            "Extracting  images/test_images/474.jpg                                   \b\b\b\b 40%\b\b\b\b\b  OK \n",
            "Extracting  images/test_images/475.jpg                                   \b\b\b\b 40%\b\b\b\b\b  OK \n",
            "Extracting  images/test_images/476.jpg                                   \b\b\b\b 40%\b\b\b\b\b  OK \n",
            "Extracting  images/test_images/477.jpg                                   \b\b\b\b 41%\b\b\b\b\b  OK \n",
            "Extracting  images/test_images/478.jpg                                   \b\b\b\b 41%\b\b\b\b\b  OK \n",
            "Extracting  images/test_images/479.jpg                                   \b\b\b\b 41%\b\b\b\b\b  OK \n",
            "Extracting  images/test_images/480.jpg                                   \b\b\b\b 41%\b\b\b\b\b  OK \n",
            "Extracting  images/test_images/481.jpg                                   \b\b\b\b 41%\b\b\b\b\b  OK \n",
            "Extracting  images/test_images/482.jpg                                   \b\b\b\b 41%\b\b\b\b\b  OK \n",
            "Extracting  images/test_images/483.jpg                                   \b\b\b\b 42%\b\b\b\b\b  OK \n",
            "Extracting  images/test_images/484.jpg                                   \b\b\b\b 42%\b\b\b\b\b  OK \n",
            "Extracting  images/test_images/485.jpg                                   \b\b\b\b 42%\b\b\b\b\b  OK \n",
            "Extracting  images/test_images/486.jpg                                   \b\b\b\b 42%\b\b\b\b\b  OK \n",
            "Extracting  images/test_images/487.jpg                                   \b\b\b\b 42%\b\b\b\b\b  OK \n",
            "Extracting  images/test_images/488.jpg                                   \b\b\b\b 42%\b\b\b\b\b  OK \n",
            "Extracting  images/test_images/489.jpg                                   \b\b\b\b 42%\b\b\b\b\b  OK \n",
            "Extracting  images/test_images/490.jpg                                   \b\b\b\b 42%\b\b\b\b\b  OK \n",
            "Extracting  images/test_images/491.jpg                                   \b\b\b\b 43%\b\b\b\b\b  OK \n",
            "Extracting  images/test_images/492.jpg                                   \b\b\b\b 43%\b\b\b\b\b  OK \n",
            "Extracting  images/test_images/493.jpg                                   \b\b\b\b 43%\b\b\b\b\b  OK \n",
            "Extracting  images/test_images/494.jpg                                   \b\b\b\b 43%\b\b\b\b\b  OK \n",
            "Extracting  images/test_images/495.jpg                                   \b\b\b\b 43%\b\b\b\b\b  OK \n",
            "Extracting  images/test_images/496.jpg                                   \b\b\b\b 43%\b\b\b\b\b  OK \n",
            "Extracting  images/test_images/497.jpg                                   \b\b\b\b 43%\b\b\b\b\b  OK \n",
            "Extracting  images/test_images/498.jpg                                   \b\b\b\b 44%\b\b\b\b\b  OK \n",
            "Extracting  images/test_images/499.jpg                                   \b\b\b\b 44%\b\b\b\b\b  OK \n",
            "Extracting  images/test_images/500.jpg                                   \b\b\b\b 44%\b\b\b\b\b  OK \n",
            "Extracting  images/test_images/501.jpg                                   \b\b\b\b 44%\b\b\b\b\b  OK \n",
            "Extracting  images/test_images/502.jpg                                   \b\b\b\b 44%\b\b\b\b\b  OK \n",
            "Extracting  images/test_images/503.jpg                                   \b\b\b\b 44%\b\b\b\b\b  OK \n",
            "Extracting  images/test_images/504.jpg                                   \b\b\b\b 44%\b\b\b\b\b  OK \n",
            "Extracting  images/test_images/505.jpg                                   \b\b\b\b 45%\b\b\b\b\b  OK \n",
            "Extracting  images/test_images/506.jpg                                   \b\b\b\b 45%\b\b\b\b\b  OK \n",
            "Extracting  images/test_images/507.jpg                                   \b\b\b\b 45%\b\b\b\b\b  OK \n",
            "Extracting  images/test_images/508.jpg                                   \b\b\b\b 45%\b\b\b\b\b  OK \n",
            "Extracting  images/test_images/509.jpg                                   \b\b\b\b 45%\b\b\b\b\b  OK \n",
            "Extracting  images/test_images/510.jpg                                   \b\b\b\b 45%\b\b\b\b\b  OK \n",
            "Extracting  images/test_images/511.jpg                                   \b\b\b\b 45%\b\b\b\b\b  OK \n",
            "Extracting  images/test_images/512.jpg                                   \b\b\b\b 46%\b\b\b\b\b  OK \n",
            "Extracting  images/test_images/513.jpg                                   \b\b\b\b 46%\b\b\b\b\b  OK \n",
            "Extracting  images/test_images/514.jpg                                   \b\b\b\b 46%\b\b\b\b\b  OK \n",
            "Extracting  images/test_images/515.jpg                                   \b\b\b\b 46%\b\b\b\b\b  OK \n",
            "Extracting  images/test_images/516.jpg                                   \b\b\b\b 46%\b\b\b\b\b  OK \n",
            "Extracting  images/test_images/517.jpg                                   \b\b\b\b 46%\b\b\b\b\b  OK \n",
            "Extracting  images/test_images/518.jpg                                   \b\b\b\b 47%\b\b\b\b\b  OK \n",
            "Extracting  images/test_images/519.jpg                                   \b\b\b\b 47%\b\b\b\b\b  OK \n",
            "Extracting  images/test_images/520.jpg                                   \b\b\b\b 47%\b\b\b\b\b  OK \n",
            "Extracting  images/test_images/521.jpg                                   \b\b\b\b 47%\b\b\b\b\b  OK \n",
            "Extracting  images/test_images/522.jpg                                   \b\b\b\b 47%\b\b\b\b\b  OK \n",
            "Extracting  images/test_images/523.jpg                                   \b\b\b\b 47%\b\b\b\b\b  OK \n",
            "Extracting  images/test_images/524.jpg                                   \b\b\b\b 47%\b\b\b\b\b  OK \n",
            "Extracting  images/test_images/525.jpg                                   \b\b\b\b 47%\b\b\b\b\b  OK \n",
            "Extracting  images/test_images/526.jpg                                   \b\b\b\b 48%\b\b\b\b\b  OK \n",
            "Extracting  images/test_images/527.jpg                                   \b\b\b\b 48%\b\b\b\b\b  OK \n",
            "Extracting  images/test_images/528.jpg                                   \b\b\b\b 48%\b\b\b\b\b  OK \n",
            "Extracting  images/test_images/529.jpg                                   \b\b\b\b 48%\b\b\b\b\b  OK \n",
            "Extracting  images/test_images/530.jpg                                   \b\b\b\b 48%\b\b\b\b\b  OK \n",
            "Extracting  images/test_images/531.jpg                                   \b\b\b\b 48%\b\b\b\b\b  OK \n",
            "Extracting  images/test_images/532.jpg                                   \b\b\b\b 49%\b\b\b\b\b  OK \n",
            "Extracting  images/test_images/533.jpg                                   \b\b\b\b 49%\b\b\b\b\b  OK \n",
            "Extracting  images/test_images/534.jpg                                   \b\b\b\b 49%\b\b\b\b\b  OK \n",
            "Extracting  images/test_images/535.jpg                                   \b\b\b\b 49%\b\b\b\b\b  OK \n",
            "Extracting  images/test_images/536.jpg                                   \b\b\b\b 49%\b\b\b\b\b  OK \n",
            "Extracting  images/test_images/537.jpg                                   \b\b\b\b 49%\b\b\b\b\b  OK \n",
            "Extracting  images/test_images/538.jpg                                   \b\b\b\b 49%\b\b\b\b\b  OK \n",
            "Extracting  images/test_images/539.jpg                                   \b\b\b\b 49%\b\b\b\b\b  OK \n",
            "Extracting  images/test_images/540.jpg                                   \b\b\b\b 50%\b\b\b\b\b  OK \n",
            "Extracting  images/test_images/541.jpg                                   \b\b\b\b 50%\b\b\b\b\b  OK \n",
            "Extracting  images/test_images/542.jpg                                   \b\b\b\b 50%\b\b\b\b\b  OK \n",
            "Extracting  images/test_images/543.jpg                                   \b\b\b\b 50%\b\b\b\b\b  OK \n",
            "Extracting  images/test_images/544.jpg                                   \b\b\b\b 50%\b\b\b\b\b  OK \n",
            "Extracting  images/test_images/545.jpg                                   \b\b\b\b 50%\b\b\b\b\b  OK \n",
            "Extracting  images/test_images/546.jpg                                   \b\b\b\b 50%\b\b\b\b\b  OK \n",
            "Extracting  images/test_images/547.jpg                                   \b\b\b\b 51%\b\b\b\b\b  OK \n",
            "Extracting  images/test_images/548.jpg                                   \b\b\b\b 51%\b\b\b\b\b  OK \n",
            "Extracting  images/test_images/549.jpg                                   \b\b\b\b 51%\b\b\b\b\b  OK \n",
            "Extracting  images/test_images/550.jpg                                   \b\b\b\b 51%\b\b\b\b\b  OK \n",
            "Extracting  images/test_images/551.jpg                                   \b\b\b\b 51%\b\b\b\b\b  OK \n",
            "Extracting  images/test_images/552.jpg                                   \b\b\b\b 51%\b\b\b\b\b  OK \n",
            "Extracting  images/test_images/553.jpg                                   \b\b\b\b 51%\b\b\b\b\b  OK \n",
            "Extracting  images/test_images/554.jpg                                   \b\b\b\b 52%\b\b\b\b\b  OK \n",
            "Extracting  images/test_images/555.jpg                                   \b\b\b\b 52%\b\b\b\b\b  OK \n",
            "Extracting  images/test_images/556.jpg                                   \b\b\b\b 52%\b\b\b\b\b  OK \n",
            "Extracting  images/test_images/557.jpg                                   \b\b\b\b 52%\b\b\b\b\b  OK \n",
            "Extracting  images/test_images/558.jpg                                   \b\b\b\b 52%\b\b\b\b\b  OK \n",
            "Extracting  images/test_images/559.jpg                                   \b\b\b\b 52%\b\b\b\b\b  OK \n",
            "Extracting  images/test_images/560.jpg                                   \b\b\b\b 52%\b\b\b\b\b  OK \n",
            "Extracting  images/test_images/561.jpg                                   \b\b\b\b 53%\b\b\b\b\b  OK \n",
            "Extracting  images/test_images/562.jpg                                   \b\b\b\b 53%\b\b\b\b\b  OK \n",
            "Extracting  images/test_images/563.jpg                                   \b\b\b\b 53%\b\b\b\b\b  OK \n",
            "Extracting  images/test_images/564.jpg                                   \b\b\b\b 53%\b\b\b\b\b  OK \n",
            "Extracting  images/test_images/565.jpg                                   \b\b\b\b 53%\b\b\b\b\b  OK \n",
            "Extracting  images/test_images/566.jpg                                   \b\b\b\b 53%\b\b\b\b\b  OK \n",
            "Extracting  images/test_images/567.jpg                                   \b\b\b\b 53%\b\b\b\b\b  OK \n",
            "Extracting  images/test_images/568.jpg                                   \b\b\b\b 54%\b\b\b\b\b  OK \n",
            "Extracting  images/test_images/569.jpg                                   \b\b\b\b 54%\b\b\b\b\b  OK \n",
            "Extracting  images/test_images/570.jpg                                   \b\b\b\b 54%\b\b\b\b\b  OK \n",
            "Extracting  images/test_images/571.jpg                                   \b\b\b\b 54%\b\b\b\b\b  OK \n",
            "Extracting  images/test_images/572.jpg                                   \b\b\b\b 54%\b\b\b\b\b  OK \n",
            "Extracting  images/test_images/573.jpg                                   \b\b\b\b 54%\b\b\b\b\b  OK \n",
            "Extracting  images/test_images/574.jpg                                   \b\b\b\b 54%\b\b\b\b\b  OK \n",
            "Extracting  images/test_images/575.jpg                                   \b\b\b\b 55%\b\b\b\b\b  OK \n",
            "Extracting  images/test_images/576.jpg                                   \b\b\b\b 55%\b\b\b\b\b  OK \n",
            "Extracting  images/test_images/577.jpg                                   \b\b\b\b 55%\b\b\b\b\b  OK \n",
            "Extracting  images/test_images/578.jpg                                   \b\b\b\b 55%\b\b\b\b\b  OK \n",
            "Extracting  images/test_images/579.jpg                                   \b\b\b\b 55%\b\b\b\b\b  OK \n",
            "Extracting  images/test_images/580.jpg                                   \b\b\b\b 55%\b\b\b\b\b  OK \n",
            "Extracting  images/test_images/581.jpg                                   \b\b\b\b 55%\b\b\b\b\b  OK \n",
            "Extracting  images/test_images/582.jpg                                   \b\b\b\b 56%\b\b\b\b\b  OK \n",
            "Extracting  images/test_images/583.jpg                                   \b\b\b\b 56%\b\b\b\b\b  OK \n",
            "Extracting  images/test_images/584.jpg                                   \b\b\b\b 56%\b\b\b\b\b  OK \n",
            "Extracting  images/test_images/585.jpg                                   \b\b\b\b 56%\b\b\b\b\b  OK \n",
            "Extracting  images/test_images/586.jpg                                   \b\b\b\b 56%\b\b\b\b\b  OK \n",
            "Extracting  images/test_images/587.jpg                                   \b\b\b\b 56%\b\b\b\b\b  OK \n",
            "Extracting  images/test_images/588.jpg                                   \b\b\b\b 56%\b\b\b\b\b  OK \n",
            "Extracting  images/test_images/589.jpg                                   \b\b\b\b 57%\b\b\b\b\b  OK \n",
            "Extracting  images/test_images/590.jpg                                   \b\b\b\b 57%\b\b\b\b\b  OK \n",
            "Extracting  images/test_images/591.jpg                                   \b\b\b\b 57%\b\b\b\b\b  OK \n",
            "Extracting  images/test_images/592.jpg                                   \b\b\b\b 57%\b\b\b\b\b  OK \n",
            "Extracting  images/test_images/593.jpg                                   \b\b\b\b 57%\b\b\b\b\b  OK \n",
            "Extracting  images/test_images/594.jpg                                   \b\b\b\b 57%\b\b\b\b\b  OK \n",
            "Extracting  images/test_images/595.jpg                                   \b\b\b\b 57%\b\b\b\b\b  OK \n",
            "Extracting  images/test_images/596.jpg                                   \b\b\b\b 58%\b\b\b\b\b  OK \n",
            "Extracting  images/test_images/597.jpg                                   \b\b\b\b 58%\b\b\b\b\b  OK \n",
            "Extracting  images/test_images/598.jpg                                   \b\b\b\b 58%\b\b\b\b\b  OK \n",
            "Extracting  images/test_images/599.jpg                                   \b\b\b\b 58%\b\b\b\b\b  OK \n",
            "Extracting  images/test_images/600.jpg                                   \b\b\b\b 58%\b\b\b\b\b  OK \n",
            "Extracting  images/test_images/601.jpg                                   \b\b\b\b 58%\b\b\b\b\b  OK \n",
            "Extracting  images/test_images/602.jpg                                   \b\b\b\b 58%\b\b\b\b\b  OK \n",
            "Extracting  images/test_images/603.jpg                                   \b\b\b\b 59%\b\b\b\b\b  OK \n",
            "Extracting  images/test_images/604.jpg                                   \b\b\b\b 59%\b\b\b\b\b  OK \n",
            "Extracting  images/test_images/605.jpg                                   \b\b\b\b 59%\b\b\b\b\b  OK \n",
            "Extracting  images/test_images/606.jpg                                   \b\b\b\b 59%\b\b\b\b\b  OK \n",
            "Extracting  images/test_images/607.jpg                                   \b\b\b\b 59%\b\b\b\b\b  OK \n",
            "Extracting  images/test_images/608.jpg                                   \b\b\b\b 59%\b\b\b\b\b  OK \n",
            "Extracting  images/test_images/609.jpg                                   \b\b\b\b 59%\b\b\b\b\b  OK \n",
            "Extracting  images/test_images/610.jpg                                   \b\b\b\b 60%\b\b\b\b\b  OK \n",
            "Extracting  images/test_images/611.jpg                                   \b\b\b\b 60%\b\b\b\b\b  OK \n",
            "Extracting  images/test_images/612.jpg                                   \b\b\b\b 60%\b\b\b\b\b  OK \n",
            "Extracting  images/test_images/613.jpg                                   \b\b\b\b 60%\b\b\b\b\b  OK \n",
            "Extracting  images/test_images/614.jpg                                   \b\b\b\b 60%\b\b\b\b\b  OK \n",
            "Extracting  images/test_images/615.jpg                                   \b\b\b\b 60%\b\b\b\b\b  OK \n",
            "Extracting  images/test_images/616.jpg                                   \b\b\b\b 60%\b\b\b\b\b  OK \n",
            "Extracting  images/test_images/617.jpg                                   \b\b\b\b 61%\b\b\b\b\b  OK \n",
            "Extracting  images/test_images/618.jpg                                   \b\b\b\b 61%\b\b\b\b\b  OK \n",
            "Extracting  images/test_images/619.jpg                                   \b\b\b\b 61%\b\b\b\b\b  OK \n",
            "Extracting  images/test_images/620.jpg                                   \b\b\b\b 61%\b\b\b\b\b  OK \n",
            "Extracting  images/test_images/621.jpg                                   \b\b\b\b 61%\b\b\b\b\b  OK \n",
            "Extracting  images/test_images/622.jpg                                   \b\b\b\b 61%\b\b\b\b\b  OK \n",
            "Extracting  images/test_images/623.jpg                                   \b\b\b\b 61%\b\b\b\b\b  OK \n",
            "Extracting  images/test_images/624.jpg                                   \b\b\b\b 62%\b\b\b\b\b  OK \n",
            "Extracting  images/test_images/625.jpg                                   \b\b\b\b 62%\b\b\b\b\b  OK \n",
            "Extracting  images/test_images/626.jpg                                   \b\b\b\b 62%\b\b\b\b\b  OK \n",
            "Extracting  images/test_images/627.jpg                                   \b\b\b\b 62%\b\b\b\b\b  OK \n",
            "Extracting  images/test_images/628.jpg                                   \b\b\b\b 62%\b\b\b\b\b  OK \n",
            "Extracting  images/test_images/629.jpg                                   \b\b\b\b 62%\b\b\b\b\b  OK \n",
            "Extracting  images/test_images/630.jpg                                   \b\b\b\b 62%\b\b\b\b\b  OK \n",
            "Extracting  images/test_images/631.jpg                                   \b\b\b\b 63%\b\b\b\b\b  OK \n",
            "Extracting  images/test_images/632.jpg                                   \b\b\b\b 63%\b\b\b\b\b  OK \n",
            "Extracting  images/test_images/633.jpg                                   \b\b\b\b 63%\b\b\b\b\b  OK \n",
            "Extracting  images/test_images/634.jpg                                   \b\b\b\b 63%\b\b\b\b\b  OK \n",
            "Extracting  images/test_images/635.jpg                                   \b\b\b\b 63%\b\b\b\b\b  OK \n",
            "Extracting  images/test_images/636.jpg                                   \b\b\b\b 63%\b\b\b\b\b  OK \n",
            "Extracting  images/test_images/637.jpg                                   \b\b\b\b 63%\b\b\b\b\b  OK \n",
            "Extracting  images/test_images/638.jpg                                   \b\b\b\b 64%\b\b\b\b\b  OK \n",
            "Extracting  images/test_images/639.jpg                                   \b\b\b\b 64%\b\b\b\b\b  OK \n",
            "Extracting  images/test_images/640.jpg                                   \b\b\b\b 64%\b\b\b\b\b  OK \n",
            "Extracting  images/test_images/641.jpg                                   \b\b\b\b 64%\b\b\b\b\b  OK \n",
            "Extracting  images/test_images/642.jpg                                   \b\b\b\b 64%\b\b\b\b\b  OK \n",
            "Extracting  images/test_images/643.jpg                                   \b\b\b\b 64%\b\b\b\b\b  OK \n",
            "Extracting  images/test_images/644.jpg                                   \b\b\b\b 64%\b\b\b\b\b  OK \n",
            "Extracting  images/test_images/645.jpg                                   \b\b\b\b 65%\b\b\b\b\b  OK \n",
            "Extracting  images/test_images/646.jpg                                   \b\b\b\b 65%\b\b\b\b\b  OK \n",
            "Extracting  images/test_images/647.jpg                                   \b\b\b\b 65%\b\b\b\b\b  OK \n",
            "Extracting  images/test_images/648.jpg                                   \b\b\b\b 65%\b\b\b\b\b  OK \n",
            "Extracting  images/test_images/649.jpg                                   \b\b\b\b 65%\b\b\b\b\b  OK \n",
            "Extracting  images/test_images/650.jpg                                   \b\b\b\b 65%\b\b\b\b\b  OK \n",
            "Extracting  images/test_images/651.jpg                                   \b\b\b\b 65%\b\b\b\b\b  OK \n",
            "Extracting  images/test_images/652.jpg                                   \b\b\b\b 66%\b\b\b\b\b  OK \n",
            "Extracting  images/test_images/653.jpg                                   \b\b\b\b 66%\b\b\b\b\b  OK \n",
            "Extracting  images/test_images/654.jpg                                   \b\b\b\b 66%\b\b\b\b\b  OK \n",
            "Extracting  images/test_images/655.jpg                                   \b\b\b\b 66%\b\b\b\b\b  OK \n",
            "Extracting  images/test_images/656.jpg                                   \b\b\b\b 66%\b\b\b\b\b  OK \n",
            "Extracting  images/test_images/657.jpg                                   \b\b\b\b 66%\b\b\b\b\b  OK \n",
            "Extracting  images/test_images/658.jpg                                   \b\b\b\b 66%\b\b\b\b\b  OK \n",
            "Extracting  images/test_images/659.jpg                                   \b\b\b\b 67%\b\b\b\b\b  OK \n",
            "Extracting  images/test_images/660.jpg                                   \b\b\b\b 67%\b\b\b\b\b  OK \n",
            "Extracting  images/test_images/661.jpg                                   \b\b\b\b 67%\b\b\b\b\b  OK \n",
            "Extracting  images/test_images/662.jpg                                   \b\b\b\b 67%\b\b\b\b\b  OK \n",
            "Extracting  images/test_images/663.jpg                                   \b\b\b\b 67%\b\b\b\b\b  OK \n",
            "Extracting  images/test_images/664.jpg                                   \b\b\b\b 67%\b\b\b\b\b  OK \n",
            "Extracting  images/test_images/665.jpg                                   \b\b\b\b 68%\b\b\b\b\b  OK \n",
            "Extracting  images/test_images/666.jpg                                   \b\b\b\b 68%\b\b\b\b\b  OK \n",
            "Extracting  images/test_images/667.jpg                                   \b\b\b\b 68%\b\b\b\b\b  OK \n",
            "Extracting  images/test_images/668.jpg                                   \b\b\b\b 68%\b\b\b\b\b  OK \n",
            "Extracting  images/test_images/669.jpg                                   \b\b\b\b 68%\b\b\b\b\b  OK \n",
            "Extracting  images/test_images/670.jpg                                   \b\b\b\b 68%\b\b\b\b\b  OK \n",
            "Extracting  images/test_images/671.jpg                                   \b\b\b\b 68%\b\b\b\b\b  OK \n",
            "Extracting  images/test_images/672.jpg                                   \b\b\b\b 68%\b\b\b\b\b  OK \n",
            "Extracting  images/test_images/673.jpg                                   \b\b\b\b 69%\b\b\b\b\b  OK \n",
            "Extracting  images/test_images/674.jpg                                   \b\b\b\b 69%\b\b\b\b\b  OK \n",
            "Extracting  images/test_images/675.jpg                                   \b\b\b\b 69%\b\b\b\b\b  OK \n",
            "Extracting  images/test_images/676.jpg                                   \b\b\b\b 69%\b\b\b\b\b  OK \n",
            "Extracting  images/test_images/677.jpg                                   \b\b\b\b 69%\b\b\b\b\b  OK \n",
            "Extracting  images/test_images/678.jpg                                   \b\b\b\b 69%\b\b\b\b\b  OK \n",
            "Extracting  images/test_images/679.jpg                                   \b\b\b\b 70%\b\b\b\b\b  OK \n",
            "Extracting  images/test_images/680.jpg                                   \b\b\b\b 70%\b\b\b\b\b  OK \n",
            "Extracting  images/test_images/681.jpg                                   \b\b\b\b 70%\b\b\b\b\b  OK \n",
            "Extracting  images/test_images/682.jpg                                   \b\b\b\b 70%\b\b\b\b\b  OK \n",
            "Extracting  images/test_images/683.jpg                                   \b\b\b\b 70%\b\b\b\b\b  OK \n",
            "Extracting  images/test_images/684.jpg                                   \b\b\b\b 70%\b\b\b\b\b  OK \n",
            "Extracting  images/test_images/685.jpg                                   \b\b\b\b 70%\b\b\b\b\b  OK \n",
            "Extracting  images/test_images/686.jpg                                   \b\b\b\b 71%\b\b\b\b\b  OK \n",
            "Extracting  images/test_images/687.jpg                                   \b\b\b\b 71%\b\b\b\b\b  OK \n",
            "Extracting  images/test_images/688.jpg                                   \b\b\b\b 71%\b\b\b\b\b  OK \n",
            "Extracting  images/test_images/689.jpg                                   \b\b\b\b 71%\b\b\b\b\b  OK \n",
            "Extracting  images/test_images/690.jpg                                   \b\b\b\b 71%\b\b\b\b\b  OK \n",
            "Extracting  images/test_images/691.jpg                                   \b\b\b\b 71%\b\b\b\b\b  OK \n",
            "Extracting  images/test_images/692.jpg                                   \b\b\b\b 71%\b\b\b\b\b  OK \n",
            "Extracting  images/test_images/693.jpg                                   \b\b\b\b 72%\b\b\b\b\b  OK \n",
            "Extracting  images/test_images/694.jpg                                   \b\b\b\b 72%\b\b\b\b\b  OK \n",
            "Extracting  images/test_images/695.jpg                                   \b\b\b\b 72%\b\b\b\b\b  OK \n",
            "Extracting  images/test_images/696.jpg                                   \b\b\b\b 72%\b\b\b\b\b  OK \n",
            "Extracting  images/test_images/697.jpg                                   \b\b\b\b 72%\b\b\b\b\b  OK \n",
            "Extracting  images/test_images/698.jpg                                   \b\b\b\b 72%\b\b\b\b\b  OK \n",
            "Extracting  images/test_images/699.jpg                                   \b\b\b\b 72%\b\b\b\b\b  OK \n",
            "Extracting  images/test_images/700.jpg                                   \b\b\b\b 73%\b\b\b\b\b  OK \n",
            "Extracting  images/test_images/701.jpg                                   \b\b\b\b 73%\b\b\b\b\b  OK \n",
            "Extracting  images/test_images/702.jpg                                   \b\b\b\b 73%\b\b\b\b\b  OK \n",
            "Extracting  images/test_images/703.jpg                                   \b\b\b\b 73%\b\b\b\b\b  OK \n",
            "Extracting  images/test_images/704.jpg                                   \b\b\b\b 73%\b\b\b\b\b  OK \n",
            "Extracting  images/test_images/705.jpg                                   \b\b\b\b 73%\b\b\b\b\b  OK \n",
            "Extracting  images/test_images/706.jpg                                   \b\b\b\b 74%\b\b\b\b\b  OK \n",
            "Extracting  images/test_images/707.jpg                                   \b\b\b\b 74%\b\b\b\b\b  OK \n",
            "Extracting  images/test_images/708.jpg                                   \b\b\b\b 74%\b\b\b\b\b  OK \n",
            "Extracting  images/test_images/709.jpg                                   \b\b\b\b 74%\b\b\b\b\b  OK \n",
            "Extracting  images/test_images/710.jpg                                   \b\b\b\b 74%\b\b\b\b\b  OK \n",
            "Extracting  images/test_images/711.jpg                                   \b\b\b\b 74%\b\b\b\b\b  OK \n",
            "Extracting  images/test_images/712.jpg                                   \b\b\b\b 74%\b\b\b\b\b  OK \n",
            "Extracting  images/test_images/713.jpg                                   \b\b\b\b 75%\b\b\b\b\b  OK \n",
            "Extracting  images/test_images/714.jpg                                   \b\b\b\b 75%\b\b\b\b\b  OK \n",
            "Extracting  images/test_images/715.jpg                                   \b\b\b\b 75%\b\b\b\b\b  OK \n",
            "Extracting  images/test_images/716.jpg                                   \b\b\b\b 75%\b\b\b\b\b  OK \n",
            "Extracting  images/test_images/717.jpg                                   \b\b\b\b 75%\b\b\b\b\b  OK \n",
            "Extracting  images/test_images/718.jpg                                   \b\b\b\b 75%\b\b\b\b\b  OK \n",
            "Extracting  images/test_images/719.jpg                                   \b\b\b\b 75%\b\b\b\b\b  OK \n",
            "Extracting  images/test_images/720.jpg                                   \b\b\b\b 75%\b\b\b\b\b  OK \n",
            "Extracting  images/test_images/721.jpg                                   \b\b\b\b 76%\b\b\b\b\b  OK \n",
            "Extracting  images/test_images/722.jpg                                   \b\b\b\b 76%\b\b\b\b\b  OK \n",
            "Extracting  images/test_images/723.jpg                                   \b\b\b\b 76%\b\b\b\b\b  OK \n",
            "Extracting  images/test_images/724.jpg                                   \b\b\b\b 76%\b\b\b\b\b  OK \n",
            "Extracting  images/test_images/725.jpg                                   \b\b\b\b 76%\b\b\b\b\b  OK \n",
            "Extracting  images/test_images/726.jpg                                   \b\b\b\b 76%\b\b\b\b\b  OK \n",
            "Extracting  images/test_images/727.jpg                                   \b\b\b\b 76%\b\b\b\b\b  OK \n",
            "Extracting  images/test_images/728.jpg                                   \b\b\b\b 77%\b\b\b\b\b  OK \n",
            "Extracting  images/test_images/729.jpg                                   \b\b\b\b 77%\b\b\b\b\b  OK \n",
            "Extracting  images/test_images/730.jpg                                   \b\b\b\b 77%\b\b\b\b\b  OK \n",
            "Extracting  images/test_images/731.jpg                                   \b\b\b\b 77%\b\b\b\b\b  OK \n",
            "Extracting  images/test_images/732.jpg                                   \b\b\b\b 77%\b\b\b\b\b  OK \n",
            "Extracting  images/test_images/733.jpg                                   \b\b\b\b 77%\b\b\b\b\b  OK \n",
            "Extracting  images/test_images/734.jpg                                   \b\b\b\b 78%\b\b\b\b\b  OK \n",
            "Extracting  images/test_images/735.jpg                                   \b\b\b\b 78%\b\b\b\b\b  OK \n",
            "Extracting  images/test_images/736.jpg                                   \b\b\b\b 78%\b\b\b\b\b  OK \n",
            "Extracting  images/test_images/737.jpg                                   \b\b\b\b 78%\b\b\b\b\b  OK \n",
            "Extracting  images/test_images/738.jpg                                   \b\b\b\b 78%\b\b\b\b\b  OK \n",
            "Extracting  images/test_images/739.jpg                                   \b\b\b\b 78%\b\b\b\b\b  OK \n",
            "Extracting  images/test_images/740.jpg                                   \b\b\b\b 78%\b\b\b\b\b  OK \n",
            "Extracting  images/test_images/741.jpg                                   \b\b\b\b 78%\b\b\b\b\b  OK \n",
            "Extracting  images/test_images/742.jpg                                   \b\b\b\b 79%\b\b\b\b\b  OK \n",
            "Extracting  images/test_images/743.jpg                                   \b\b\b\b 79%\b\b\b\b\b  OK \n",
            "Extracting  images/test_images/744.jpg                                   \b\b\b\b 79%\b\b\b\b\b  OK \n",
            "Extracting  images/test_images/745.jpg                                   \b\b\b\b 79%\b\b\b\b\b  OK \n",
            "Extracting  images/test_images/746.jpg                                   \b\b\b\b 79%\b\b\b\b\b  OK \n",
            "Extracting  images/test_images/747.jpg                                   \b\b\b\b 79%\b\b\b\b\b  OK \n",
            "Extracting  images/test_images/748.jpg                                   \b\b\b\b 80%\b\b\b\b\b  OK \n",
            "Extracting  images/test_images/749.jpg                                   \b\b\b\b 80%\b\b\b\b\b  OK \n",
            "Extracting  images/test_images/750.jpg                                   \b\b\b\b 80%\b\b\b\b\b  OK \n",
            "Extracting  images/test_images/751.jpg                                   \b\b\b\b 80%\b\b\b\b\b  OK \n",
            "Extracting  images/test_images/752.jpg                                   \b\b\b\b 80%\b\b\b\b\b  OK \n",
            "Extracting  images/test_images/753.jpg                                   \b\b\b\b 80%\b\b\b\b\b  OK \n",
            "Extracting  images/test_images/754.jpg                                   \b\b\b\b 80%\b\b\b\b\b  OK \n",
            "Extracting  images/test_images/755.jpg                                   \b\b\b\b 80%\b\b\b\b\b  OK \n",
            "Extracting  images/test_images/756.jpg                                   \b\b\b\b 81%\b\b\b\b\b  OK \n",
            "Extracting  images/test_images/757.jpg                                   \b\b\b\b 81%\b\b\b\b\b  OK \n",
            "Extracting  images/test_images/758.jpg                                   \b\b\b\b 81%\b\b\b\b\b  OK \n",
            "Extracting  images/test_images/759.jpg                                   \b\b\b\b 81%\b\b\b\b\b  OK \n",
            "Extracting  images/test_images/760.jpg                                   \b\b\b\b 81%\b\b\b\b\b  OK \n",
            "Extracting  images/test_images/761.jpg                                   \b\b\b\b 81%\b\b\b\b\b  OK \n",
            "Extracting  images/test_images/762.jpg                                   \b\b\b\b 81%\b\b\b\b\b  OK \n",
            "Extracting  images/test_images/763.jpg                                   \b\b\b\b 82%\b\b\b\b\b  OK \n",
            "Extracting  images/test_images/764.jpg                                   \b\b\b\b 82%\b\b\b\b\b  OK \n",
            "Extracting  images/test_images/765.jpg                                   \b\b\b\b 82%\b\b\b\b\b  OK \n",
            "Extracting  images/test_images/766.jpg                                   \b\b\b\b 82%\b\b\b\b\b  OK \n",
            "Extracting  images/test_images/767.jpg                                   \b\b\b\b 82%\b\b\b\b\b  OK \n",
            "Extracting  images/test_images/768.jpg                                   \b\b\b\b 82%\b\b\b\b\b  OK \n",
            "Extracting  images/test_images/769.jpg                                   \b\b\b\b 82%\b\b\b\b\b  OK \n",
            "Extracting  images/test_images/770.jpg                                   \b\b\b\b 83%\b\b\b\b\b  OK \n",
            "Extracting  images/test_images/771.jpg                                   \b\b\b\b 83%\b\b\b\b\b  OK \n",
            "Extracting  images/test_images/772.jpg                                   \b\b\b\b 83%\b\b\b\b\b  OK \n",
            "Extracting  images/test_images/773.jpg                                   \b\b\b\b 83%\b\b\b\b\b  OK \n",
            "Extracting  images/test_images/774.jpg                                   \b\b\b\b 83%\b\b\b\b\b  OK \n",
            "Extracting  images/test_images/775.jpg                                   \b\b\b\b 83%\b\b\b\b\b  OK \n",
            "Extracting  images/test_images/776.jpg                                   \b\b\b\b 83%\b\b\b\b\b  OK \n",
            "Extracting  images/test_images/777.jpg                                   \b\b\b\b 84%\b\b\b\b\b  OK \n",
            "Extracting  images/test_images/778.jpg                                   \b\b\b\b 84%\b\b\b\b\b  OK \n",
            "Extracting  images/test_images/779.jpg                                   \b\b\b\b 84%\b\b\b\b\b  OK \n",
            "Extracting  images/test_images/780.jpg                                   \b\b\b\b 84%\b\b\b\b\b  OK \n",
            "Extracting  images/test_images/781.jpg                                   \b\b\b\b 84%\b\b\b\b\b  OK \n",
            "Extracting  images/test_images/782.jpg                                   \b\b\b\b 84%\b\b\b\b\b  OK \n",
            "Extracting  images/test_images/783.jpg                                   \b\b\b\b 84%\b\b\b\b\b  OK \n",
            "Extracting  images/test_images/784.jpg                                   \b\b\b\b 85%\b\b\b\b\b  OK \n",
            "Extracting  images/test_images/785.jpg                                   \b\b\b\b 85%\b\b\b\b\b  OK \n",
            "Extracting  images/test_images/786.jpg                                   \b\b\b\b 85%\b\b\b\b\b  OK \n",
            "Extracting  images/test_images/787.jpg                                   \b\b\b\b 85%\b\b\b\b\b  OK \n",
            "Extracting  images/test_images/788.jpg                                   \b\b\b\b 85%\b\b\b\b\b  OK \n",
            "Extracting  images/test_images/789.jpg                                   \b\b\b\b 85%\b\b\b\b\b  OK \n",
            "Extracting  images/test_images/790.jpg                                   \b\b\b\b 85%\b\b\b\b\b  OK \n",
            "Extracting  images/test_images/791.jpg                                   \b\b\b\b 86%\b\b\b\b\b  OK \n",
            "Extracting  images/test_images/792.jpg                                   \b\b\b\b 86%\b\b\b\b\b  OK \n",
            "Extracting  images/test_images/793.jpg                                   \b\b\b\b 86%\b\b\b\b\b  OK \n",
            "Extracting  images/test_images/794.jpg                                   \b\b\b\b 86%\b\b\b\b\b  OK \n",
            "Extracting  images/test_images/795.jpg                                   \b\b\b\b 86%\b\b\b\b\b  OK \n",
            "Extracting  images/test_images/796.jpg                                   \b\b\b\b 86%\b\b\b\b\b  OK \n",
            "Extracting  images/test_images/797.jpg                                   \b\b\b\b 86%\b\b\b\b\b  OK \n",
            "Extracting  images/test_images/798.jpg                                   \b\b\b\b 87%\b\b\b\b\b  OK \n",
            "Extracting  images/test_images/799.jpg                                   \b\b\b\b 87%\b\b\b\b\b  OK \n",
            "Extracting  images/test_images/800.jpg                                   \b\b\b\b 87%\b\b\b\b\b  OK \n",
            "Extracting  images/test_images/801.jpg                                   \b\b\b\b 87%\b\b\b\b\b  OK \n",
            "Extracting  images/test_images/802.jpg                                   \b\b\b\b 87%\b\b\b\b\b  OK \n",
            "Extracting  images/test_images/803.jpg                                   \b\b\b\b 87%\b\b\b\b\b  OK \n",
            "Extracting  images/test_images/804.jpg                                   \b\b\b\b 87%\b\b\b\b\b  OK \n",
            "Extracting  images/test_images/805.jpg                                   \b\b\b\b 88%\b\b\b\b\b  OK \n",
            "Extracting  images/test_images/806.jpg                                   \b\b\b\b 88%\b\b\b\b\b  OK \n",
            "Extracting  images/test_images/807.jpg                                   \b\b\b\b 88%\b\b\b\b\b  OK \n",
            "Extracting  images/test_images/808.jpg                                   \b\b\b\b 88%\b\b\b\b\b  OK \n",
            "Extracting  images/test_images/809.jpg                                   \b\b\b\b 88%\b\b\b\b\b  OK \n",
            "Extracting  images/test_images/810.jpg                                   \b\b\b\b 88%\b\b\b\b\b  OK \n",
            "Extracting  images/test_images/811.jpg                                   \b\b\b\b 88%\b\b\b\b\b  OK \n",
            "Extracting  images/test_images/812.jpg                                   \b\b\b\b 89%\b\b\b\b\b  OK \n",
            "Extracting  images/test_images/813.jpg                                   \b\b\b\b 89%\b\b\b\b\b  OK \n",
            "Extracting  images/test_images/814.jpg                                   \b\b\b\b 89%\b\b\b\b\b  OK \n",
            "Extracting  images/test_images/815.jpg                                   \b\b\b\b 89%\b\b\b\b\b  OK \n",
            "Extracting  images/test_images/816.jpg                                   \b\b\b\b 89%\b\b\b\b\b  OK \n",
            "Extracting  images/test_images/817.jpg                                   \b\b\b\b 89%\b\b\b\b\b  OK \n",
            "Extracting  images/test_images/818.jpg                                   \b\b\b\b 89%\b\b\b\b\b  OK \n",
            "Extracting  images/test_images/819.jpg                                   \b\b\b\b 90%\b\b\b\b\b  OK \n",
            "Extracting  images/test_images/820.jpg                                   \b\b\b\b 90%\b\b\b\b\b  OK \n",
            "Extracting  images/test_images/821.jpg                                   \b\b\b\b 90%\b\b\b\b\b  OK \n",
            "Extracting  images/test_images/822.jpg                                   \b\b\b\b 90%\b\b\b\b\b  OK \n",
            "Extracting  images/test_images/823.jpg                                   \b\b\b\b 90%\b\b\b\b\b  OK \n",
            "Extracting  images/test_images/824.jpg                                   \b\b\b\b 90%\b\b\b\b\b  OK \n",
            "Extracting  images/test_images/825.jpg                                   \b\b\b\b 91%\b\b\b\b\b  OK \n",
            "Extracting  images/test_images/826.jpg                                   \b\b\b\b 91%\b\b\b\b\b  OK \n",
            "Extracting  images/test_images/827.jpg                                   \b\b\b\b 91%\b\b\b\b\b  OK \n",
            "Extracting  images/test_images/828.jpg                                   \b\b\b\b 91%\b\b\b\b\b  OK \n",
            "Extracting  images/test_images/829.jpg                                   \b\b\b\b 91%\b\b\b\b\b  OK \n",
            "Extracting  images/test_images/830.jpg                                   \b\b\b\b 91%\b\b\b\b\b  OK \n",
            "Extracting  images/test_images/831.jpg                                   \b\b\b\b 91%\b\b\b\b\b  OK \n",
            "Extracting  images/test_images/832.jpg                                   \b\b\b\b 92%\b\b\b\b\b  OK \n",
            "Extracting  images/test_images/833.jpg                                   \b\b\b\b 92%\b\b\b\b\b  OK \n",
            "Extracting  images/test_images/834.jpg                                   \b\b\b\b 92%\b\b\b\b\b  OK \n",
            "Extracting  images/test_images/835.jpg                                   \b\b\b\b 92%\b\b\b\b\b  OK \n",
            "Extracting  images/test_images/836.jpg                                   \b\b\b\b 92%\b\b\b\b\b  OK \n",
            "Extracting  images/test_images/837.jpg                                   \b\b\b\b 92%\b\b\b\b\b  OK \n",
            "Extracting  images/test_images/838.jpg                                   \b\b\b\b 92%\b\b\b\b\b  OK \n",
            "Extracting  images/test_images/839.jpg                                   \b\b\b\b 93%\b\b\b\b\b  OK \n",
            "Extracting  images/test_images/840.jpg                                   \b\b\b\b 93%\b\b\b\b\b  OK \n",
            "Extracting  images/test_images/841.jpg                                   \b\b\b\b 93%\b\b\b\b\b  OK \n",
            "Extracting  images/test_images/842.jpg                                   \b\b\b\b 93%\b\b\b\b\b  OK \n",
            "Extracting  images/test_images/843.jpg                                   \b\b\b\b 93%\b\b\b\b\b  OK \n",
            "Extracting  images/test_images/844.jpg                                   \b\b\b\b 93%\b\b\b\b\b  OK \n",
            "Extracting  images/test_images/845.jpg                                   \b\b\b\b 93%\b\b\b\b\b  OK \n",
            "Extracting  images/test_images/846.jpg                                   \b\b\b\b 94%\b\b\b\b\b  OK \n",
            "Extracting  images/test_images/847.jpg                                   \b\b\b\b 94%\b\b\b\b\b  OK \n",
            "Extracting  images/test_images/848.jpg                                   \b\b\b\b 94%\b\b\b\b\b  OK \n",
            "Extracting  images/test_images/849.jpg                                   \b\b\b\b 94%\b\b\b\b\b  OK \n",
            "Extracting  images/test_images/850.jpg                                   \b\b\b\b 94%\b\b\b\b\b  OK \n",
            "Extracting  images/test_images/851.jpg                                   \b\b\b\b 94%\b\b\b\b\b  OK \n",
            "Extracting  images/test_images/852.jpg                                   \b\b\b\b 94%\b\b\b\b\b  OK \n",
            "Extracting  images/test_images/853.jpg                                   \b\b\b\b 95%\b\b\b\b\b  OK \n",
            "Extracting  images/test_images/854.jpg                                   \b\b\b\b 95%\b\b\b\b\b  OK \n",
            "Extracting  images/test_images/855.jpg                                   \b\b\b\b 95%\b\b\b\b\b  OK \n",
            "Extracting  images/test_images/856.jpg                                   \b\b\b\b 95%\b\b\b\b\b  OK \n",
            "Extracting  images/test_images/857.jpg                                   \b\b\b\b 95%\b\b\b\b\b  OK \n",
            "Extracting  images/test_images/858.jpg                                   \b\b\b\b 95%\b\b\b\b\b  OK \n",
            "Extracting  images/test_images/859.jpg                                   \b\b\b\b 95%\b\b\b\b\b  OK \n",
            "Extracting  images/test_images/860.jpg                                   \b\b\b\b 96%\b\b\b\b\b  OK \n",
            "Extracting  images/test_images/861.jpg                                   \b\b\b\b 96%\b\b\b\b\b  OK \n",
            "Extracting  images/test_images/862.jpg                                   \b\b\b\b 96%\b\b\b\b\b  OK \n",
            "Extracting  images/test_images/863.jpg                                   \b\b\b\b 96%\b\b\b\b\b  OK \n",
            "Extracting  images/test_images/864.jpg                                   \b\b\b\b 96%\b\b\b\b\b  OK \n",
            "Extracting  images/test_images/865.jpg                                   \b\b\b\b 96%\b\b\b\b\b  OK \n",
            "Extracting  images/test_images/866.jpg                                   \b\b\b\b 96%\b\b\b\b\b  OK \n",
            "Extracting  images/test_images/867.jpg                                   \b\b\b\b 97%\b\b\b\b\b  OK \n",
            "Extracting  images/test_images/868.jpg                                   \b\b\b\b 97%\b\b\b\b\b  OK \n",
            "Extracting  images/test_images/869.jpg                                   \b\b\b\b 97%\b\b\b\b\b  OK \n",
            "Extracting  images/test_images/870.jpg                                   \b\b\b\b 97%\b\b\b\b\b  OK \n",
            "Extracting  images/test_images/871.jpg                                   \b\b\b\b 97%\b\b\b\b\b  OK \n",
            "Extracting  images/test_images/872.jpg                                   \b\b\b\b 97%\b\b\b\b\b  OK \n",
            "Extracting  images/test_images/873.jpg                                   \b\b\b\b 97%\b\b\b\b\b  OK \n",
            "Extracting  images/test_images/874.jpg                                   \b\b\b\b 98%\b\b\b\b\b  OK \n",
            "Extracting  images/test_images/875.jpg                                   \b\b\b\b 98%\b\b\b\b\b  OK \n",
            "Extracting  images/test_images/876.jpg                                   \b\b\b\b 98%\b\b\b\b\b  OK \n",
            "Extracting  images/test_images/877.jpg                                   \b\b\b\b 98%\b\b\b\b\b  OK \n",
            "Extracting  images/test_images/878.jpg                                   \b\b\b\b 98%\b\b\b\b\b  OK \n",
            "Extracting  images/test_images/879.jpg                                   \b\b\b\b 98%\b\b\b\b\b  OK \n",
            "Extracting  images/test_images/880.jpg                                   \b\b\b\b 98%\b\b\b\b\b  OK \n",
            "Extracting  images/test_images/881.jpg                                   \b\b\b\b 99%\b\b\b\b\b  OK \n",
            "Extracting  images/test_images/882.jpg                                   \b\b\b\b 99%\b\b\b\b\b  OK \n",
            "Extracting  images/test_images/883.jpg                                   \b\b\b\b 99%\b\b\b\b\b  OK \n",
            "Extracting  images/test_images/884.jpg                                   \b\b\b\b 99%\b\b\b\b\b  OK \n",
            "Extracting  images/test_images/885.jpg                                   \b\b\b\b 99%\b\b\b\b\b  OK \n",
            "Extracting  images/test_images/886.jpg                                   \b\b\b\b 99%\b\b\b\b\b  OK \n",
            "Extracting  images/test_images/887.jpg                                   \b\b\b\b 99%\b\b\b\b\b  OK \n",
            "All OK\n"
          ]
        }
      ],
      "source": [
        "!apt-get install unrar\n",
        "!mkdir images  # Create a directory for extracted images\n",
        "!unrar x test_images.rar images/\n"
      ]
    },
    {
      "cell_type": "code",
      "source": [
        "!unzip images_test.zip -d images"
      ],
      "metadata": {
        "colab": {
          "base_uri": "https://localhost:8080/"
        },
        "id": "KRO4YFGoZ5PN",
        "outputId": "7cfbd139-7b46-4161-b4d4-7acab67673ae"
      },
      "execution_count": null,
      "outputs": [
        {
          "output_type": "stream",
          "name": "stdout",
          "text": [
            "Archive:  images_test.zip\n",
            "  inflating: images/images_test/18.jpg  \n",
            "  inflating: images/images_test/3.jpg  \n",
            "  inflating: images/images_test/35.jpg  \n",
            "  inflating: images/images_test/37.jpg  \n",
            "  inflating: images/images_test/39.jpg  \n",
            "  inflating: images/images_test/4.jpg  \n",
            "  inflating: images/images_test/42.jpg  \n",
            "  inflating: images/images_test/8.jpg  \n",
            "  inflating: images/images_test/9.jpg  \n"
          ]
        }
      ]
    },
    {
      "cell_type": "code",
      "execution_count": null,
      "metadata": {
        "colab": {
          "base_uri": "https://localhost:8080/"
        },
        "id": "7LkcVoN4wSX1",
        "outputId": "9309ffb6-f949-4823-a327-d3407f5b616c"
      },
      "outputs": [
        {
          "output_type": "stream",
          "name": "stdout",
          "text": [
            "unzip:  cannot find or open sketches.zip, sketches.zip.zip or sketches.zip.ZIP.\n"
          ]
        }
      ],
      "source": [
        "!unzip sketches.zip -d sketches\n"
      ]
    },
    {
      "cell_type": "code",
      "source": [
        "!unzip images_200.zip -d images_200\n"
      ],
      "metadata": {
        "colab": {
          "base_uri": "https://localhost:8080/"
        },
        "id": "7UkvoIA_xGzB",
        "outputId": "051084ce-f1fc-4b7d-8182-1e7ea8aa4cfc"
      },
      "execution_count": null,
      "outputs": [
        {
          "output_type": "stream",
          "name": "stdout",
          "text": [
            "unzip:  cannot find or open images_200.zip, images_200.zip.zip or images_200.zip.ZIP.\n"
          ]
        }
      ]
    },
    {
      "cell_type": "code",
      "execution_count": null,
      "metadata": {
        "colab": {
          "base_uri": "https://localhost:8080/"
        },
        "id": "m6YpRXEJqll-",
        "outputId": "b443e986-7fcc-435e-de11-6d056c78927d"
      },
      "outputs": [
        {
          "name": "stdout",
          "output_type": "stream",
          "text": [
            "0.jpg\n",
            "10000.jpg\n",
            "10001.jpg\n",
            "10002.jpg\n",
            "10003.jpg\n",
            "10004.jpg\n",
            "10005.jpg\n",
            "10006.jpg\n",
            "10007.jpg\n",
            "10008.jpg\n",
            "6000\n"
          ]
        }
      ],
      "source": [
        "!ls images/images | head -n 10  # Display the first 10 files\n",
        "!ls images/images | wc -l\n"
      ]
    },
    {
      "cell_type": "code",
      "execution_count": null,
      "metadata": {
        "id": "TeEbvDEIqzPz"
      },
      "outputs": [],
      "source": [
        "!mkdir sketches\n"
      ]
    },
    {
      "cell_type": "code",
      "execution_count": null,
      "metadata": {
        "colab": {
          "base_uri": "https://localhost:8080/"
        },
        "collapsed": true,
        "id": "TvNqu1dEq2P2",
        "outputId": "253b5a7d-0097-4dad-eab6-de54cb9dd5b1"
      },
      "outputs": [
        {
          "output_type": "stream",
          "name": "stderr",
          "text": [
            "\r  0%|          | 0/9 [00:00<?, ?it/s]"
          ]
        },
        {
          "output_type": "stream",
          "name": "stdout",
          "text": [
            "Executing: python sketchKeras-pytorch/src/test.py -i images/images_test/42.jpg -o /content/sketches/42.jpg -w sketchKeras-pytorch/weights/sketchKeras_pytorch.pth\n"
          ]
        },
        {
          "output_type": "stream",
          "name": "stderr",
          "text": [
            "\r 11%|█         | 1/9 [00:06<00:53,  6.66s/it]"
          ]
        },
        {
          "output_type": "stream",
          "name": "stdout",
          "text": [
            "Executing: python sketchKeras-pytorch/src/test.py -i images/images_test/9.jpg -o /content/sketches/9.jpg -w sketchKeras-pytorch/weights/sketchKeras_pytorch.pth\n"
          ]
        },
        {
          "output_type": "stream",
          "name": "stderr",
          "text": [
            "\r 22%|██▏       | 2/9 [00:10<00:34,  4.93s/it]"
          ]
        },
        {
          "output_type": "stream",
          "name": "stdout",
          "text": [
            "Executing: python sketchKeras-pytorch/src/test.py -i images/images_test/35.jpg -o /content/sketches/35.jpg -w sketchKeras-pytorch/weights/sketchKeras_pytorch.pth\n"
          ]
        },
        {
          "output_type": "stream",
          "name": "stderr",
          "text": [
            "\r 33%|███▎      | 3/9 [00:14<00:26,  4.43s/it]"
          ]
        },
        {
          "output_type": "stream",
          "name": "stdout",
          "text": [
            "Executing: python sketchKeras-pytorch/src/test.py -i images/images_test/18.jpg -o /content/sketches/18.jpg -w sketchKeras-pytorch/weights/sketchKeras_pytorch.pth\n"
          ]
        },
        {
          "output_type": "stream",
          "name": "stderr",
          "text": [
            "\r 44%|████▍     | 4/9 [00:17<00:19,  3.95s/it]"
          ]
        },
        {
          "output_type": "stream",
          "name": "stdout",
          "text": [
            "Executing: python sketchKeras-pytorch/src/test.py -i images/images_test/39.jpg -o /content/sketches/39.jpg -w sketchKeras-pytorch/weights/sketchKeras_pytorch.pth\n"
          ]
        },
        {
          "output_type": "stream",
          "name": "stderr",
          "text": [
            "\r 56%|█████▌    | 5/9 [00:20<00:14,  3.67s/it]"
          ]
        },
        {
          "output_type": "stream",
          "name": "stdout",
          "text": [
            "Executing: python sketchKeras-pytorch/src/test.py -i images/images_test/3.jpg -o /content/sketches/3.jpg -w sketchKeras-pytorch/weights/sketchKeras_pytorch.pth\n"
          ]
        },
        {
          "output_type": "stream",
          "name": "stderr",
          "text": [
            "\r 67%|██████▋   | 6/9 [00:24<00:11,  3.72s/it]"
          ]
        },
        {
          "output_type": "stream",
          "name": "stdout",
          "text": [
            "Executing: python sketchKeras-pytorch/src/test.py -i images/images_test/8.jpg -o /content/sketches/8.jpg -w sketchKeras-pytorch/weights/sketchKeras_pytorch.pth\n"
          ]
        },
        {
          "output_type": "stream",
          "name": "stderr",
          "text": [
            "\r 78%|███████▊  | 7/9 [00:28<00:07,  3.71s/it]"
          ]
        },
        {
          "output_type": "stream",
          "name": "stdout",
          "text": [
            "Executing: python sketchKeras-pytorch/src/test.py -i images/images_test/4.jpg -o /content/sketches/4.jpg -w sketchKeras-pytorch/weights/sketchKeras_pytorch.pth\n"
          ]
        },
        {
          "output_type": "stream",
          "name": "stderr",
          "text": [
            "\r 89%|████████▉ | 8/9 [00:31<00:03,  3.54s/it]"
          ]
        },
        {
          "output_type": "stream",
          "name": "stdout",
          "text": [
            "Executing: python sketchKeras-pytorch/src/test.py -i images/images_test/37.jpg -o /content/sketches/37.jpg -w sketchKeras-pytorch/weights/sketchKeras_pytorch.pth\n"
          ]
        },
        {
          "output_type": "stream",
          "name": "stderr",
          "text": [
            "100%|██████████| 9/9 [00:34<00:00,  3.82s/it]\n"
          ]
        }
      ],
      "source": [
        "import os\n",
        "from tqdm import tqdm\n",
        "\n",
        "# Directories\n",
        "input_dir = \"images/images_test/\"\n",
        "output_dir = \"/content/sketches\"\n",
        "\n",
        "# Ensure the output directory exists\n",
        "os.makedirs(output_dir, exist_ok=True)\n",
        "\n",
        "# Iterate over all files in the input directory\n",
        "for img_file in tqdm(os.listdir(input_dir)):\n",
        "    input_path = os.path.join(input_dir, img_file)\n",
        "    output_path = os.path.join(output_dir, img_file)  # Same filename for output\n",
        "\n",
        "    # Run the sketchKeras command\n",
        "    command = f\"python sketchKeras-pytorch/src/test.py -i {input_path} -o {output_path} -w sketchKeras-pytorch/weights/sketchKeras_pytorch.pth\"\n",
        "    print(f\"Executing: {command}\")  # Debug print\n",
        "    os.system(command)\n",
        "\n"
      ]
    },
    {
      "cell_type": "code",
      "execution_count": null,
      "metadata": {
        "colab": {
          "base_uri": "https://localhost:8080/"
        },
        "collapsed": true,
        "id": "fzCT-mMXyHG9",
        "outputId": "d1d774c4-7dc0-4cbb-c67f-c7a622822e60"
      },
      "outputs": [
        {
          "output_type": "stream",
          "name": "stdout",
          "text": [
            "  adding: sketches/ (stored 0%)\n",
            "  adding: sketches/713.jpg (deflated 3%)\n",
            "  adding: sketches/793.jpg (deflated 1%)\n",
            "  adding: sketches/612.jpg (deflated 2%)\n",
            "  adding: sketches/698.jpg (deflated 2%)\n",
            "  adding: sketches/360.jpg (deflated 2%)\n",
            "  adding: sketches/886.jpg (deflated 1%)\n",
            "  adding: sketches/834.jpg (deflated 2%)\n",
            "  adding: sketches/782.jpg (deflated 1%)\n",
            "  adding: sketches/841.jpg (deflated 1%)\n",
            "  adding: sketches/859.jpg (deflated 2%)\n",
            "  adding: sketches/200.jpg (deflated 2%)\n",
            "  adding: sketches/488.jpg (deflated 2%)\n",
            "  adding: sketches/256.jpg (deflated 2%)\n",
            "  adding: sketches/857.jpg (deflated 1%)\n",
            "  adding: sketches/737.jpg (deflated 1%)\n",
            "  adding: sketches/714.jpg (deflated 2%)\n",
            "  adding: sketches/357.jpg (deflated 2%)\n",
            "  adding: sketches/455.jpg (deflated 2%)\n",
            "  adding: sketches/847.jpg (deflated 1%)\n",
            "  adding: sketches/726.jpg (deflated 2%)\n",
            "  adding: sketches/216.jpg (deflated 1%)\n",
            "  adding: sketches/729.jpg (deflated 2%)\n",
            "  adding: sketches/378.jpg (deflated 2%)\n",
            "  adding: sketches/566.jpg (deflated 1%)\n",
            "  adding: sketches/263.jpg (deflated 1%)\n",
            "  adding: sketches/487.jpg (deflated 1%)\n",
            "  adding: sketches/707.jpg (deflated 1%)\n",
            "  adding: sketches/600.jpg (deflated 2%)\n",
            "  adding: sketches/291.jpg (deflated 2%)\n",
            "  adding: sketches/244.jpg (deflated 1%)\n",
            "  adding: sketches/653.jpg (deflated 1%)\n",
            "  adding: sketches/414.jpg (deflated 2%)\n",
            "  adding: sketches/406.jpg (deflated 1%)\n",
            "  adding: sketches/411.jpg (deflated 4%)\n",
            "  adding: sketches/877.jpg (deflated 1%)\n",
            "  adding: sketches/401.jpg (deflated 1%)\n",
            "  adding: sketches/369.jpg (deflated 1%)\n",
            "  adding: sketches/651.jpg (deflated 1%)\n",
            "  adding: sketches/468.jpg (deflated 1%)\n",
            "  adding: sketches/670.jpg (deflated 4%)\n",
            "  adding: sketches/627.jpg (deflated 1%)\n",
            "  adding: sketches/495.jpg (deflated 1%)\n",
            "  adding: sketches/678.jpg (deflated 1%)\n",
            "  adding: sketches/594.jpg (deflated 1%)\n",
            "  adding: sketches/510.jpg (deflated 1%)\n",
            "  adding: sketches/610.jpg (deflated 1%)\n",
            "  adding: sketches/335.jpg (deflated 2%)\n",
            "  adding: sketches/601.jpg (deflated 1%)\n",
            "  adding: sketches/884.jpg (deflated 1%)\n",
            "  adding: sketches/649.jpg (deflated 2%)\n",
            "  adding: sketches/1834.jpg (deflated 1%)\n",
            "  adding: sketches/435.jpg (deflated 1%)\n",
            "  adding: sketches/456.jpg (deflated 2%)\n",
            "  adding: sketches/326.jpg (deflated 1%)\n",
            "  adding: sketches/451.jpg (deflated 1%)\n",
            "  adding: sketches/439.jpg (deflated 1%)\n",
            "  adding: sketches/808.jpg (deflated 2%)\n",
            "  adding: sketches/255.jpg (deflated 1%)\n",
            "  adding: sketches/573.jpg (deflated 1%)\n",
            "  adding: sketches/606.jpg (deflated 3%)\n",
            "  adding: sketches/843.jpg (deflated 4%)\n",
            "  adding: sketches/219.jpg (deflated 1%)\n",
            "  adding: sketches/475.jpg (deflated 2%)\n",
            "  adding: sketches/236.jpg (deflated 1%)\n",
            "  adding: sketches/748.jpg (deflated 1%)\n",
            "  adding: sketches/241.jpg (deflated 2%)\n",
            "  adding: sketches/457.jpg (deflated 2%)\n",
            "  adding: sketches/634.jpg (deflated 1%)\n",
            "  adding: sketches/614.jpg (deflated 2%)\n",
            "  adding: sketches/572.jpg (deflated 1%)\n",
            "  adding: sketches/876.jpg (deflated 1%)\n",
            "  adding: sketches/252.jpg (deflated 3%)\n",
            "  adding: sketches/801.jpg (deflated 2%)\n",
            "  adding: sketches/202.jpg (deflated 1%)\n",
            "  adding: sketches/844.jpg (deflated 1%)\n",
            "  adding: sketches/885.jpg (deflated 1%)\n",
            "  adding: sketches/662.jpg (deflated 2%)\n",
            "  adding: sketches/757.jpg (deflated 1%)\n",
            "  adding: sketches/805.jpg (deflated 1%)\n",
            "  adding: sketches/297.jpg (deflated 1%)\n",
            "  adding: sketches/221.jpg (deflated 3%)\n",
            "  adding: sketches/438.jpg (deflated 1%)\n",
            "  adding: sketches/430.jpg (deflated 2%)\n",
            "  adding: sketches/483.jpg (deflated 1%)\n",
            "  adding: sketches/739.jpg (deflated 1%)\n",
            "  adding: sketches/319.jpg (deflated 2%)\n",
            "  adding: sketches/827.jpg (deflated 2%)\n",
            "  adding: sketches/535.jpg (deflated 1%)\n",
            "  adding: sketches/814.jpg (deflated 1%)\n",
            "  adding: sketches/199.jpg (deflated 3%)\n",
            "  adding: sketches/666.jpg (deflated 2%)\n",
            "  adding: sketches/257.jpg (deflated 2%)\n",
            "  adding: sketches/722.jpg (deflated 2%)\n",
            "  adding: sketches/754.jpg (deflated 1%)\n",
            "  adding: sketches/760.jpg (deflated 1%)\n",
            "  adding: sketches/570.jpg (deflated 1%)\n",
            "  adding: sketches/395.jpg (deflated 1%)\n",
            "  adding: sketches/660.jpg (deflated 1%)\n",
            "  adding: sketches/552.jpg (deflated 3%)\n",
            "  adding: sketches/548.jpg (deflated 2%)\n",
            "  adding: sketches/743.jpg (deflated 1%)\n",
            "  adding: sketches/576.jpg (deflated 3%)\n",
            "  adding: sketches/542.jpg (deflated 1%)\n",
            "  adding: sketches/837.jpg (deflated 1%)\n",
            "  adding: sketches/750.jpg (deflated 1%)\n",
            "  adding: sketches/618.jpg (deflated 1%)\n",
            "  adding: sketches/721.jpg (deflated 1%)\n",
            "  adding: sketches/773.jpg (deflated 2%)\n",
            "  adding: sketches/334.jpg (deflated 0%)\n",
            "  adding: sketches/410.jpg (deflated 2%)\n",
            "  adding: sketches/471.jpg (deflated 1%)\n",
            "  adding: sketches/871.jpg (deflated 1%)\n",
            "  adding: sketches/683.jpg (deflated 4%)\n",
            "  adding: sketches/222.jpg (deflated 2%)\n",
            "  adding: sketches/505.jpg (deflated 2%)\n",
            "  adding: sketches/565.jpg (deflated 1%)\n",
            "  adding: sketches/350.jpg (deflated 2%)\n",
            "  adding: sketches/696.jpg (deflated 4%)\n",
            "  adding: sketches/675.jpg (deflated 2%)\n",
            "  adding: sketches/620.jpg (deflated 1%)\n",
            "  adding: sketches/636.jpg (deflated 9%)\n",
            "  adding: sketches/622.jpg (deflated 1%)\n",
            "  adding: sketches/609.jpg (deflated 2%)\n",
            "  adding: sketches/306.jpg (deflated 1%)\n",
            "  adding: sketches/437.jpg (deflated 2%)\n",
            "  adding: sketches/702.jpg (deflated 2%)\n",
            "  adding: sketches/196.jpg (deflated 2%)\n",
            "  adding: sketches/393.jpg (deflated 1%)\n",
            "  adding: sketches/753.jpg (deflated 1%)\n",
            "  adding: sketches/301.jpg (deflated 1%)\n",
            "  adding: sketches/353.jpg (deflated 1%)\n",
            "  adding: sketches/822.jpg (deflated 1%)\n",
            "  adding: sketches/281.jpg (deflated 3%)\n",
            "  adding: sketches/231.jpg (deflated 1%)\n",
            "  adding: sketches/540.jpg (deflated 2%)\n",
            "  adding: sketches/268.jpg (deflated 1%)\n",
            "  adding: sketches/686.jpg (deflated 2%)\n",
            "  adding: sketches/506.jpg (deflated 2%)\n",
            "  adding: sketches/692.jpg (deflated 1%)\n",
            "  adding: sketches/593.jpg (deflated 5%)\n",
            "  adding: sketches/581.jpg (deflated 2%)\n",
            "  adding: sketches/197.jpg (deflated 1%)\n",
            "  adding: sketches/580.jpg (deflated 1%)\n",
            "  adding: sketches/655.jpg (deflated 1%)\n",
            "  adding: sketches/728.jpg (deflated 1%)\n",
            "  adding: sketches/536.jpg (deflated 2%)\n",
            "  adding: sketches/595.jpg (deflated 1%)\n",
            "  adding: sketches/284.jpg (deflated 1%)\n",
            "  adding: sketches/867.jpg (deflated 2%)\n",
            "  adding: sketches/734.jpg (deflated 1%)\n",
            "  adding: sketches/881.jpg (deflated 1%)\n",
            "  adding: sketches/277.jpg (deflated 1%)\n",
            "  adding: sketches/546.jpg (deflated 1%)\n",
            "  adding: sketches/613.jpg (deflated 1%)\n",
            "  adding: sketches/550.jpg (deflated 1%)\n",
            "  adding: sketches/749.jpg (deflated 2%)\n",
            "  adding: sketches/878.jpg (deflated 2%)\n",
            "  adding: sketches/249.jpg (deflated 2%)\n",
            "  adding: sketches/672.jpg (deflated 1%)\n",
            "  adding: sketches/308.jpg (deflated 1%)\n",
            "  adding: sketches/863.jpg (deflated 1%)\n",
            "  adding: sketches/328.jpg (deflated 2%)\n",
            "  adding: sketches/586.jpg (deflated 1%)\n",
            "  adding: sketches/242.jpg (deflated 1%)\n",
            "  adding: sketches/646.jpg (deflated 1%)\n",
            "  adding: sketches/377.jpg (deflated 1%)\n",
            "  adding: sketches/557.jpg (deflated 1%)\n",
            "  adding: sketches/480.jpg (deflated 1%)\n",
            "  adding: sketches/224.jpg (deflated 1%)\n",
            "  adding: sketches/628.jpg (deflated 1%)\n",
            "  adding: sketches/771.jpg (deflated 1%)\n",
            "  adding: sketches/602.jpg (deflated 1%)\n",
            "  adding: sketches/408.jpg (deflated 1%)\n",
            "  adding: sketches/849.jpg (deflated 2%)\n",
            "  adding: sketches/469.jpg (deflated 2%)\n",
            "  adding: sketches/238.jpg (deflated 2%)\n",
            "  adding: sketches/262.jpg (deflated 1%)\n",
            "  adding: sketches/765.jpg (deflated 1%)\n",
            "  adding: sketches/819.jpg (deflated 2%)\n",
            "  adding: sketches/447.jpg (deflated 1%)\n",
            "  adding: sketches/616.jpg (deflated 2%)\n",
            "  adding: sketches/436.jpg (deflated 1%)\n",
            "  adding: sketches/738.jpg (deflated 1%)\n",
            "  adding: sketches/625.jpg (deflated 1%)\n",
            "  adding: sketches/394.jpg (deflated 1%)\n",
            "  adding: sketches/213.jpg (deflated 1%)\n",
            "  adding: sketches/744.jpg (deflated 1%)\n",
            "  adding: sketches/700.jpg (deflated 1%)\n",
            "  adding: sketches/524.jpg (deflated 1%)\n",
            "  adding: sketches/511.jpg (deflated 2%)\n",
            "  adding: sketches/706.jpg (deflated 1%)\n",
            "  adding: sketches/599.jpg (deflated 2%)\n",
            "  adding: sketches/742.jpg (deflated 1%)\n",
            "  adding: sketches/657.jpg (deflated 2%)\n",
            "  adding: sketches/875.jpg (deflated 3%)\n",
            "  adding: sketches/855.jpg (deflated 3%)\n",
            "  adding: sketches/217.jpg (deflated 1%)\n",
            "  adding: sketches/246.jpg (deflated 1%)\n",
            "  adding: sketches/460.jpg (deflated 1%)\n",
            "  adding: sketches/444.jpg (deflated 2%)\n",
            "  adding: sketches/198.jpg (deflated 1%)\n",
            "  adding: sketches/820.jpg (deflated 0%)\n",
            "  adding: sketches/307.jpg (deflated 1%)\n"
          ]
        }
      ],
      "source": [
        "!zip -r sketches.zip sketches/\n",
        "# from google.colab import files\n",
        "# files.download(\"sketches_f.zip\")\n"
      ]
    },
    {
      "cell_type": "code",
      "source": [
        "!zip -r images_200.zip images_200/\n",
        "# from google.colab import files\n",
        "# files.download(\"sketches_f.zip\")\n"
      ],
      "metadata": {
        "colab": {
          "base_uri": "https://localhost:8080/"
        },
        "id": "r76VZWvlxTqE",
        "outputId": "b2315211-edca-4777-853c-cbc60b409c68"
      },
      "execution_count": null,
      "outputs": [
        {
          "output_type": "stream",
          "name": "stdout",
          "text": [
            "  adding: images_200/ (stored 0%)\n",
            "  adding: images_200/713.jpg (deflated 1%)\n",
            "  adding: images_200/793.jpg (deflated 1%)\n",
            "  adding: images_200/612.jpg (deflated 1%)\n",
            "  adding: images_200/698.jpg (deflated 1%)\n",
            "  adding: images_200/360.jpg (deflated 1%)\n",
            "  adding: images_200/886.jpg (deflated 1%)\n",
            "  adding: images_200/834.jpg (deflated 1%)\n",
            "  adding: images_200/782.jpg (deflated 1%)\n",
            "  adding: images_200/841.jpg (deflated 1%)\n",
            "  adding: images_200/859.jpg (deflated 1%)\n",
            "  adding: images_200/200.jpg (deflated 0%)\n",
            "  adding: images_200/488.jpg (deflated 1%)\n",
            "  adding: images_200/256.jpg (deflated 1%)\n",
            "  adding: images_200/857.jpg (deflated 1%)\n",
            "  adding: images_200/737.jpg (deflated 1%)\n",
            "  adding: images_200/714.jpg (deflated 1%)\n",
            "  adding: images_200/357.jpg (deflated 1%)\n",
            "  adding: images_200/455.jpg (deflated 1%)\n",
            "  adding: images_200/847.jpg (deflated 1%)\n",
            "  adding: images_200/726.jpg (deflated 1%)\n",
            "  adding: images_200/216.jpg (deflated 1%)\n",
            "  adding: images_200/729.jpg (deflated 1%)\n",
            "  adding: images_200/378.jpg (deflated 1%)\n",
            "  adding: images_200/566.jpg (deflated 1%)\n",
            "  adding: images_200/263.jpg (deflated 1%)\n",
            "  adding: images_200/487.jpg (deflated 1%)\n",
            "  adding: images_200/707.jpg (deflated 1%)\n",
            "  adding: images_200/600.jpg (deflated 1%)\n",
            "  adding: images_200/291.jpg (deflated 1%)\n",
            "  adding: images_200/244.jpg (deflated 1%)\n",
            "  adding: images_200/653.jpg (deflated 1%)\n",
            "  adding: images_200/414.jpg (deflated 1%)\n",
            "  adding: images_200/406.jpg (deflated 1%)\n",
            "  adding: images_200/411.jpg (deflated 1%)\n",
            "  adding: images_200/877.jpg (deflated 1%)\n",
            "  adding: images_200/401.jpg (deflated 0%)\n",
            "  adding: images_200/369.jpg (deflated 0%)\n",
            "  adding: images_200/651.jpg (deflated 1%)\n",
            "  adding: images_200/468.jpg (deflated 1%)\n",
            "  adding: images_200/670.jpg (deflated 1%)\n",
            "  adding: images_200/627.jpg (deflated 1%)\n",
            "  adding: images_200/495.jpg (deflated 1%)\n",
            "  adding: images_200/678.jpg (deflated 1%)\n",
            "  adding: images_200/594.jpg (deflated 1%)\n",
            "  adding: images_200/510.jpg (deflated 0%)\n",
            "  adding: images_200/610.jpg (deflated 1%)\n",
            "  adding: images_200/335.jpg (deflated 1%)\n",
            "  adding: images_200/601.jpg (deflated 1%)\n",
            "  adding: images_200/884.jpg (deflated 1%)\n",
            "  adding: images_200/649.jpg (deflated 1%)\n",
            "  adding: images_200/1834.jpg (deflated 1%)\n",
            "  adding: images_200/435.jpg (deflated 1%)\n",
            "  adding: images_200/456.jpg (deflated 1%)\n",
            "  adding: images_200/326.jpg (deflated 1%)\n",
            "  adding: images_200/451.jpg (deflated 1%)\n",
            "  adding: images_200/439.jpg (deflated 1%)\n",
            "  adding: images_200/808.jpg (deflated 0%)\n",
            "  adding: images_200/255.jpg (deflated 1%)\n",
            "  adding: images_200/573.jpg (deflated 1%)\n",
            "  adding: images_200/606.jpg (deflated 1%)\n",
            "  adding: images_200/843.jpg (deflated 1%)\n",
            "  adding: images_200/219.jpg (deflated 1%)\n",
            "  adding: images_200/475.jpg (deflated 1%)\n",
            "  adding: images_200/236.jpg (deflated 1%)\n",
            "  adding: images_200/748.jpg (deflated 1%)\n",
            "  adding: images_200/241.jpg (deflated 0%)\n",
            "  adding: images_200/457.jpg (deflated 1%)\n",
            "  adding: images_200/634.jpg (deflated 1%)\n",
            "  adding: images_200/614.jpg (deflated 1%)\n",
            "  adding: images_200/572.jpg (deflated 1%)\n",
            "  adding: images_200/876.jpg (deflated 0%)\n",
            "  adding: images_200/252.jpg (deflated 1%)\n",
            "  adding: images_200/801.jpg (deflated 1%)\n",
            "  adding: images_200/202.jpg (deflated 0%)\n",
            "  adding: images_200/844.jpg (deflated 1%)\n",
            "  adding: images_200/885.jpg (deflated 1%)\n",
            "  adding: images_200/662.jpg (deflated 1%)\n",
            "  adding: images_200/757.jpg (deflated 1%)\n",
            "  adding: images_200/805.jpg (deflated 1%)\n",
            "  adding: images_200/297.jpg (deflated 1%)\n",
            "  adding: images_200/221.jpg (deflated 1%)\n",
            "  adding: images_200/438.jpg (deflated 1%)\n",
            "  adding: images_200/430.jpg (deflated 0%)\n",
            "  adding: images_200/483.jpg (deflated 1%)\n",
            "  adding: images_200/739.jpg (deflated 1%)\n",
            "  adding: images_200/319.jpg (deflated 1%)\n",
            "  adding: images_200/827.jpg (deflated 1%)\n",
            "  adding: images_200/535.jpg (deflated 1%)\n",
            "  adding: images_200/814.jpg (deflated 1%)\n",
            "  adding: images_200/199.jpg (deflated 1%)\n",
            "  adding: images_200/666.jpg (deflated 1%)\n",
            "  adding: images_200/257.jpg (deflated 1%)\n",
            "  adding: images_200/722.jpg (deflated 1%)\n",
            "  adding: images_200/754.jpg (deflated 1%)\n",
            "  adding: images_200/760.jpg (deflated 1%)\n",
            "  adding: images_200/570.jpg (deflated 1%)\n",
            "  adding: images_200/395.jpg (deflated 0%)\n",
            "  adding: images_200/660.jpg (deflated 1%)\n",
            "  adding: images_200/552.jpg (deflated 1%)\n",
            "  adding: images_200/548.jpg (deflated 1%)\n",
            "  adding: images_200/743.jpg (deflated 1%)\n",
            "  adding: images_200/576.jpg (deflated 1%)\n",
            "  adding: images_200/542.jpg (deflated 1%)\n",
            "  adding: images_200/837.jpg (deflated 1%)\n",
            "  adding: images_200/750.jpg (deflated 1%)\n",
            "  adding: images_200/618.jpg (deflated 0%)\n",
            "  adding: images_200/721.jpg (deflated 1%)\n",
            "  adding: images_200/773.jpg (deflated 1%)\n",
            "  adding: images_200/334.jpg (deflated 1%)\n",
            "  adding: images_200/410.jpg (deflated 1%)\n",
            "  adding: images_200/471.jpg (deflated 0%)\n",
            "  adding: images_200/871.jpg (deflated 1%)\n",
            "  adding: images_200/683.jpg (deflated 1%)\n",
            "  adding: images_200/222.jpg (deflated 1%)\n",
            "  adding: images_200/505.jpg (deflated 1%)\n",
            "  adding: images_200/565.jpg (deflated 1%)\n",
            "  adding: images_200/350.jpg (deflated 1%)\n",
            "  adding: images_200/696.jpg (deflated 1%)\n",
            "  adding: images_200/675.jpg (deflated 0%)\n",
            "  adding: images_200/620.jpg (deflated 0%)\n",
            "  adding: images_200/636.jpg (deflated 1%)\n",
            "  adding: images_200/622.jpg (deflated 1%)\n",
            "  adding: images_200/609.jpg (deflated 1%)\n",
            "  adding: images_200/306.jpg (deflated 1%)\n",
            "  adding: images_200/437.jpg (deflated 1%)\n",
            "  adding: images_200/702.jpg (deflated 0%)\n",
            "  adding: images_200/196.jpg (deflated 1%)\n",
            "  adding: images_200/393.jpg (deflated 1%)\n",
            "  adding: images_200/753.jpg (deflated 1%)\n",
            "  adding: images_200/301.jpg (deflated 1%)\n",
            "  adding: images_200/353.jpg (deflated 1%)\n",
            "  adding: images_200/822.jpg (deflated 1%)\n",
            "  adding: images_200/281.jpg (deflated 1%)\n",
            "  adding: images_200/231.jpg (deflated 1%)\n",
            "  adding: images_200/540.jpg (deflated 0%)\n",
            "  adding: images_200/268.jpg (deflated 1%)\n",
            "  adding: images_200/686.jpg (deflated 0%)\n",
            "  adding: images_200/506.jpg (deflated 1%)\n",
            "  adding: images_200/692.jpg (deflated 0%)\n",
            "  adding: images_200/593.jpg (deflated 1%)\n",
            "  adding: images_200/581.jpg (deflated 1%)\n",
            "  adding: images_200/197.jpg (deflated 1%)\n",
            "  adding: images_200/580.jpg (deflated 1%)\n",
            "  adding: images_200/655.jpg (deflated 0%)\n",
            "  adding: images_200/728.jpg (deflated 1%)\n",
            "  adding: images_200/536.jpg (deflated 1%)\n",
            "  adding: images_200/595.jpg (deflated 1%)\n",
            "  adding: images_200/284.jpg (deflated 1%)\n",
            "  adding: images_200/867.jpg (deflated 0%)\n",
            "  adding: images_200/734.jpg (deflated 1%)\n",
            "  adding: images_200/881.jpg (deflated 1%)\n",
            "  adding: images_200/277.jpg (deflated 1%)\n",
            "  adding: images_200/546.jpg (deflated 1%)\n",
            "  adding: images_200/613.jpg (deflated 1%)\n",
            "  adding: images_200/550.jpg (deflated 1%)\n",
            "  adding: images_200/749.jpg (deflated 1%)\n",
            "  adding: images_200/878.jpg (deflated 0%)\n",
            "  adding: images_200/249.jpg (deflated 1%)\n",
            "  adding: images_200/672.jpg (deflated 0%)\n",
            "  adding: images_200/308.jpg (deflated 1%)\n",
            "  adding: images_200/863.jpg (deflated 1%)\n",
            "  adding: images_200/328.jpg (deflated 1%)\n",
            "  adding: images_200/586.jpg (deflated 1%)\n",
            "  adding: images_200/242.jpg (deflated 1%)\n",
            "  adding: images_200/646.jpg (deflated 1%)\n",
            "  adding: images_200/377.jpg (deflated 1%)\n",
            "  adding: images_200/557.jpg (deflated 1%)\n",
            "  adding: images_200/480.jpg (deflated 1%)\n",
            "  adding: images_200/224.jpg (deflated 1%)\n",
            "  adding: images_200/628.jpg (deflated 1%)\n",
            "  adding: images_200/771.jpg (deflated 1%)\n",
            "  adding: images_200/602.jpg (deflated 1%)\n",
            "  adding: images_200/408.jpg (deflated 1%)\n",
            "  adding: images_200/849.jpg (deflated 0%)\n",
            "  adding: images_200/469.jpg (deflated 1%)\n",
            "  adding: images_200/238.jpg (deflated 1%)\n",
            "  adding: images_200/262.jpg (deflated 1%)\n",
            "  adding: images_200/765.jpg (deflated 1%)\n",
            "  adding: images_200/819.jpg (deflated 0%)\n",
            "  adding: images_200/447.jpg (deflated 1%)\n",
            "  adding: images_200/616.jpg (deflated 0%)\n",
            "  adding: images_200/436.jpg (deflated 0%)\n",
            "  adding: images_200/738.jpg (deflated 0%)\n",
            "  adding: images_200/625.jpg (deflated 1%)\n",
            "  adding: images_200/394.jpg (deflated 1%)\n",
            "  adding: images_200/213.jpg (deflated 1%)\n",
            "  adding: images_200/744.jpg (deflated 0%)\n",
            "  adding: images_200/700.jpg (deflated 1%)\n",
            "  adding: images_200/524.jpg (deflated 1%)\n",
            "  adding: images_200/511.jpg (deflated 0%)\n",
            "  adding: images_200/706.jpg (deflated 1%)\n",
            "  adding: images_200/599.jpg (deflated 0%)\n",
            "  adding: images_200/742.jpg (deflated 1%)\n",
            "  adding: images_200/657.jpg (deflated 1%)\n",
            "  adding: images_200/875.jpg (deflated 1%)\n",
            "  adding: images_200/855.jpg (deflated 1%)\n",
            "  adding: images_200/217.jpg (deflated 1%)\n",
            "  adding: images_200/246.jpg (deflated 1%)\n",
            "  adding: images_200/460.jpg (deflated 1%)\n",
            "  adding: images_200/444.jpg (deflated 0%)\n",
            "  adding: images_200/198.jpg (deflated 0%)\n",
            "  adding: images_200/820.jpg (deflated 0%)\n",
            "  adding: images_200/307.jpg (deflated 1%)\n"
          ]
        }
      ]
    },
    {
      "cell_type": "code",
      "execution_count": null,
      "metadata": {
        "id": "CLE1RNHhAFix"
      },
      "outputs": [],
      "source": [
        "!cp /content/sketches_4k.zip /content/drive/MyDrive/\n"
      ]
    },
    {
      "cell_type": "code",
      "execution_count": null,
      "metadata": {
        "id": "cgNOOSQIv8qt"
      },
      "outputs": [],
      "source": []
    },
    {
      "cell_type": "code",
      "execution_count": null,
      "metadata": {
        "colab": {
          "base_uri": "https://localhost:8080/"
        },
        "id": "-8KAyIP7yKnq",
        "outputId": "503e0e97-06a4-4e60-c3e9-0c8e58fcfa78",
        "collapsed": true
      },
      "outputs": [
        {
          "name": "stderr",
          "output_type": "stream",
          "text": [
            " 23%|██▎       | 1380/6000 [00:00<00:00, 13798.53it/s]"
          ]
        },
        {
          "name": "stdout",
          "output_type": "stream",
          "text": [
            "Skipping 14355.jpg: Output already exists.\n",
            "Skipping 11501.jpg: Output already exists.\n",
            "Skipping 10590.jpg: Output already exists.\n",
            "Skipping 12376.jpg: Output already exists.\n",
            "Skipping 12454.jpg: Output already exists.\n",
            "Skipping 11937.jpg: Output already exists.\n",
            "Skipping 1329.jpg: Output already exists.\n",
            "Skipping 11332.jpg: Output already exists.\n",
            "Skipping 13411.jpg: Output already exists.\n",
            "Skipping 10921.jpg: Output already exists.\n",
            "Skipping 11034.jpg: Output already exists.\n",
            "Skipping 12458.jpg: Output already exists.\n",
            "Skipping 11516.jpg: Output already exists.\n",
            "Skipping 12241.jpg: Output already exists.\n",
            "Skipping 14609.jpg: Output already exists.\n",
            "Skipping 13850.jpg: Output already exists.\n",
            "Skipping 13862.jpg: Output already exists.\n",
            "Skipping 12347.jpg: Output already exists.\n",
            "Skipping 10853.jpg: Output already exists.\n",
            "Skipping 10266.jpg: Output already exists.\n",
            "Skipping 13283.jpg: Output already exists.\n",
            "Skipping 13849.jpg: Output already exists.\n",
            "Skipping 12893.jpg: Output already exists.\n",
            "Skipping 10307.jpg: Output already exists.\n",
            "Skipping 1511.jpg: Output already exists.\n",
            "Skipping 11964.jpg: Output already exists.\n",
            "Skipping 11477.jpg: Output already exists.\n",
            "Skipping 12115.jpg: Output already exists.\n",
            "Skipping 13104.jpg: Output already exists.\n",
            "Skipping 13565.jpg: Output already exists.\n",
            "Skipping 11295.jpg: Output already exists.\n",
            "Skipping 15065.jpg: Output already exists.\n",
            "Skipping 13142.jpg: Output already exists.\n",
            "Skipping 14957.jpg: Output already exists.\n",
            "Skipping 144.jpg: Output already exists.\n",
            "Skipping 13531.jpg: Output already exists.\n",
            "Skipping 10900.jpg: Output already exists.\n",
            "Skipping 1303.jpg: Output already exists.\n",
            "Skipping 13593.jpg: Output already exists.\n",
            "Skipping 14344.jpg: Output already exists.\n",
            "Skipping 11015.jpg: Output already exists.\n",
            "Skipping 10727.jpg: Output already exists.\n",
            "Skipping 13207.jpg: Output already exists.\n",
            "Skipping 10082.jpg: Output already exists.\n",
            "Skipping 13946.jpg: Output already exists.\n",
            "Skipping 13303.jpg: Output already exists.\n",
            "Skipping 1145.jpg: Output already exists.\n",
            "Skipping 10216.jpg: Output already exists.\n",
            "Skipping 15211.jpg: Output already exists.\n",
            "Skipping 13631.jpg: Output already exists.\n",
            "Skipping 11831.jpg: Output already exists.\n",
            "Skipping 10640.jpg: Output already exists.\n",
            "Skipping 12121.jpg: Output already exists.\n",
            "Skipping 1212.jpg: Output already exists.\n",
            "Skipping 1400.jpg: Output already exists.\n",
            "Skipping 1421.jpg: Output already exists.\n",
            "Skipping 14798.jpg: Output already exists.\n",
            "Skipping 10234.jpg: Output already exists.\n",
            "Skipping 13945.jpg: Output already exists.\n",
            "Skipping 11648.jpg: Output already exists.\n",
            "Skipping 15244.jpg: Output already exists.\n",
            "Skipping 11703.jpg: Output already exists.\n",
            "Skipping 13230.jpg: Output already exists.\n",
            "Skipping 12611.jpg: Output already exists.\n",
            "Skipping 10717.jpg: Output already exists.\n",
            "Skipping 13036.jpg: Output already exists.\n",
            "Skipping 12946.jpg: Output already exists.\n",
            "Skipping 12233.jpg: Output already exists.\n",
            "Skipping 1499.jpg: Output already exists.\n",
            "Skipping 14989.jpg: Output already exists.\n",
            "Skipping 11986.jpg: Output already exists.\n",
            "Skipping 13493.jpg: Output already exists.\n",
            "Skipping 10960.jpg: Output already exists.\n",
            "Skipping 1154.jpg: Output already exists.\n",
            "Skipping 14791.jpg: Output already exists.\n",
            "Skipping 13940.jpg: Output already exists.\n",
            "Skipping 10970.jpg: Output already exists.\n",
            "Skipping 11502.jpg: Output already exists.\n",
            "Skipping 13617.jpg: Output already exists.\n",
            "Skipping 10129.jpg: Output already exists.\n",
            "Skipping 14129.jpg: Output already exists.\n",
            "Skipping 11434.jpg: Output already exists.\n",
            "Skipping 10798.jpg: Output already exists.\n",
            "Skipping 12387.jpg: Output already exists.\n",
            "Skipping 11878.jpg: Output already exists.\n",
            "Skipping 11779.jpg: Output already exists.\n",
            "Skipping 13454.jpg: Output already exists.\n",
            "Skipping 11825.jpg: Output already exists.\n",
            "Skipping 11639.jpg: Output already exists.\n",
            "Skipping 1167.jpg: Output already exists.\n",
            "Skipping 10032.jpg: Output already exists.\n",
            "Skipping 10887.jpg: Output already exists.\n",
            "Skipping 14137.jpg: Output already exists.\n",
            "Skipping 11222.jpg: Output already exists.\n",
            "Skipping 11652.jpg: Output already exists.\n",
            "Skipping 10751.jpg: Output already exists.\n",
            "Skipping 14552.jpg: Output already exists.\n",
            "Skipping 10235.jpg: Output already exists.\n",
            "Skipping 11327.jpg: Output already exists.\n",
            "Skipping 1426.jpg: Output already exists.\n",
            "Skipping 12970.jpg: Output already exists.\n",
            "Skipping 15335.jpg: Output already exists.\n",
            "Skipping 14604.jpg: Output already exists.\n",
            "Skipping 14487.jpg: Output already exists.\n",
            "Skipping 11526.jpg: Output already exists.\n",
            "Skipping 13828.jpg: Output already exists.\n",
            "Skipping 11401.jpg: Output already exists.\n",
            "Skipping 13653.jpg: Output already exists.\n",
            "Skipping 14950.jpg: Output already exists.\n",
            "Skipping 13107.jpg: Output already exists.\n",
            "Skipping 14287.jpg: Output already exists.\n",
            "Skipping 11816.jpg: Output already exists.\n",
            "Skipping 13324.jpg: Output already exists.\n",
            "Skipping 14044.jpg: Output already exists.\n",
            "Skipping 13714.jpg: Output already exists.\n",
            "Skipping 14891.jpg: Output already exists.\n",
            "Skipping 13574.jpg: Output already exists.\n",
            "Skipping 10205.jpg: Output already exists.\n",
            "Skipping 11999.jpg: Output already exists.\n",
            "Skipping 13527.jpg: Output already exists.\n",
            "Skipping 10140.jpg: Output already exists.\n",
            "Skipping 11408.jpg: Output already exists.\n",
            "Skipping 15241.jpg: Output already exists.\n",
            "Skipping 14712.jpg: Output already exists.\n",
            "Skipping 12189.jpg: Output already exists.\n",
            "Skipping 1179.jpg: Output already exists.\n",
            "Skipping 13733.jpg: Output already exists.\n",
            "Skipping 13048.jpg: Output already exists.\n",
            "Skipping 10385.jpg: Output already exists.\n",
            "Skipping 15215.jpg: Output already exists.\n",
            "Skipping 14813.jpg: Output already exists.\n",
            "Skipping 14335.jpg: Output already exists.\n",
            "Skipping 11814.jpg: Output already exists.\n",
            "Skipping 14434.jpg: Output already exists.\n",
            "Skipping 10255.jpg: Output already exists.\n",
            "Skipping 1149.jpg: Output already exists.\n",
            "Skipping 11717.jpg: Output already exists.\n",
            "Skipping 12104.jpg: Output already exists.\n",
            "Skipping 14102.jpg: Output already exists.\n",
            "Skipping 14724.jpg: Output already exists.\n",
            "Skipping 11513.jpg: Output already exists.\n",
            "Skipping 14289.jpg: Output already exists.\n",
            "Skipping 10329.jpg: Output already exists.\n",
            "Skipping 15300.jpg: Output already exists.\n",
            "Skipping 10884.jpg: Output already exists.\n",
            "Skipping 13146.jpg: Output already exists.\n",
            "Skipping 15266.jpg: Output already exists.\n",
            "Skipping 14198.jpg: Output already exists.\n",
            "Skipping 13896.jpg: Output already exists.\n",
            "Skipping 13164.jpg: Output already exists.\n",
            "Skipping 15168.jpg: Output already exists.\n",
            "Skipping 14922.jpg: Output already exists.\n",
            "Skipping 11758.jpg: Output already exists.\n",
            "Skipping 1239.jpg: Output already exists.\n",
            "Skipping 13183.jpg: Output already exists.\n",
            "Skipping 14534.jpg: Output already exists.\n",
            "Skipping 10910.jpg: Output already exists.\n",
            "Skipping 13380.jpg: Output already exists.\n",
            "Skipping 12983.jpg: Output already exists.\n",
            "Skipping 14523.jpg: Output already exists.\n",
            "Skipping 11210.jpg: Output already exists.\n",
            "Skipping 153.jpg: Output already exists.\n",
            "Skipping 1399.jpg: Output already exists.\n",
            "Skipping 11126.jpg: Output already exists.\n",
            "Skipping 14965.jpg: Output already exists.\n",
            "Skipping 13340.jpg: Output already exists.\n",
            "Skipping 13200.jpg: Output already exists.\n",
            "Skipping 10559.jpg: Output already exists.\n",
            "Skipping 11906.jpg: Output already exists.\n",
            "Skipping 1036.jpg: Output already exists.\n",
            "Skipping 12722.jpg: Output already exists.\n",
            "Skipping 14302.jpg: Output already exists.\n",
            "Skipping 107.jpg: Output already exists.\n",
            "Skipping 13958.jpg: Output already exists.\n",
            "Skipping 11866.jpg: Output already exists.\n",
            "Skipping 11128.jpg: Output already exists.\n",
            "Skipping 10159.jpg: Output already exists.\n",
            "Skipping 14517.jpg: Output already exists.\n",
            "Skipping 13178.jpg: Output already exists.\n",
            "Skipping 1330.jpg: Output already exists.\n",
            "Skipping 11123.jpg: Output already exists.\n",
            "Skipping 12211.jpg: Output already exists.\n",
            "Skipping 14883.jpg: Output already exists.\n",
            "Skipping 14210.jpg: Output already exists.\n",
            "Skipping 13337.jpg: Output already exists.\n",
            "Skipping 11504.jpg: Output already exists.\n",
            "Skipping 10861.jpg: Output already exists.\n",
            "Skipping 15214.jpg: Output already exists.\n",
            "Skipping 12301.jpg: Output already exists.\n",
            "Skipping 15052.jpg: Output already exists.\n",
            "Skipping 10583.jpg: Output already exists.\n",
            "Skipping 10839.jpg: Output already exists.\n",
            "Skipping 10613.jpg: Output already exists.\n",
            "Skipping 10176.jpg: Output already exists.\n",
            "Skipping 14201.jpg: Output already exists.\n",
            "Skipping 11161.jpg: Output already exists.\n",
            "Skipping 13126.jpg: Output already exists.\n",
            "Skipping 1308.jpg: Output already exists.\n",
            "Skipping 10063.jpg: Output already exists.\n",
            "Skipping 1110.jpg: Output already exists.\n",
            "Skipping 11519.jpg: Output already exists.\n",
            "Skipping 12958.jpg: Output already exists.\n",
            "Skipping 14003.jpg: Output already exists.\n",
            "Skipping 10898.jpg: Output already exists.\n",
            "Skipping 11378.jpg: Output already exists.\n",
            "Skipping 12663.jpg: Output already exists.\n",
            "Skipping 15010.jpg: Output already exists.\n",
            "Skipping 14912.jpg: Output already exists.\n",
            "Skipping 13026.jpg: Output already exists.\n",
            "Skipping 10827.jpg: Output already exists.\n",
            "Skipping 11625.jpg: Output already exists.\n",
            "Skipping 13561.jpg: Output already exists.\n",
            "Skipping 14993.jpg: Output already exists.\n",
            "Skipping 1185.jpg: Output already exists.\n",
            "Skipping 13504.jpg: Output already exists.\n",
            "Skipping 12794.jpg: Output already exists.\n",
            "Skipping 12608.jpg: Output already exists.\n",
            "Skipping 1079.jpg: Output already exists.\n",
            "Skipping 1128.jpg: Output already exists.\n",
            "Skipping 10617.jpg: Output already exists.\n",
            "Skipping 11211.jpg: Output already exists.\n",
            "Skipping 1494.jpg: Output already exists.\n",
            "Skipping 11272.jpg: Output already exists.\n",
            "Skipping 14390.jpg: Output already exists.\n",
            "Skipping 12649.jpg: Output already exists.\n",
            "Skipping 11114.jpg: Output already exists.\n",
            "Skipping 11641.jpg: Output already exists.\n",
            "Skipping 14070.jpg: Output already exists.\n",
            "Skipping 13406.jpg: Output already exists.\n",
            "Skipping 14255.jpg: Output already exists.\n",
            "Skipping 11079.jpg: Output already exists.\n",
            "Skipping 15395.jpg: Output already exists.\n",
            "Skipping 1136.jpg: Output already exists.\n",
            "Skipping 11073.jpg: Output already exists.\n",
            "Skipping 12261.jpg: Output already exists.\n",
            "Skipping 12935.jpg: Output already exists.\n",
            "Skipping 11998.jpg: Output already exists.\n",
            "Skipping 14560.jpg: Output already exists.\n",
            "Skipping 14543.jpg: Output already exists.\n",
            "Skipping 1200.jpg: Output already exists.\n",
            "Skipping 11654.jpg: Output already exists.\n",
            "Skipping 12254.jpg: Output already exists.\n",
            "Skipping 15354.jpg: Output already exists.\n",
            "Skipping 11280.jpg: Output already exists.\n",
            "Skipping 12209.jpg: Output already exists.\n",
            "Skipping 12528.jpg: Output already exists.\n",
            "Skipping 12784.jpg: Output already exists.\n",
            "Skipping 12878.jpg: Output already exists.\n",
            "Skipping 13113.jpg: Output already exists.\n",
            "Skipping 11848.jpg: Output already exists.\n",
            "Skipping 11111.jpg: Output already exists.\n",
            "Skipping 12203.jpg: Output already exists.\n",
            "Skipping 11530.jpg: Output already exists.\n",
            "Skipping 14155.jpg: Output already exists.\n",
            "Skipping 13356.jpg: Output already exists.\n",
            "Skipping 13046.jpg: Output already exists.\n",
            "Skipping 14816.jpg: Output already exists.\n",
            "Skipping 15164.jpg: Output already exists.\n",
            "Skipping 1007.jpg: Output already exists.\n",
            "Skipping 10874.jpg: Output already exists.\n",
            "Skipping 14233.jpg: Output already exists.\n",
            "Skipping 13679.jpg: Output already exists.\n",
            "Skipping 14871.jpg: Output already exists.\n",
            "Skipping 11619.jpg: Output already exists.\n",
            "Skipping 10518.jpg: Output already exists.\n",
            "Skipping 10730.jpg: Output already exists.\n",
            "Skipping 12771.jpg: Output already exists.\n",
            "Skipping 10831.jpg: Output already exists.\n",
            "Skipping 15062.jpg: Output already exists.\n",
            "Skipping 14696.jpg: Output already exists.\n",
            "Skipping 12715.jpg: Output already exists.\n",
            "Skipping 15044.jpg: Output already exists.\n",
            "Skipping 1470.jpg: Output already exists.\n",
            "Skipping 14692.jpg: Output already exists.\n",
            "Skipping 11843.jpg: Output already exists.\n",
            "Skipping 10865.jpg: Output already exists.\n",
            "Skipping 13003.jpg: Output already exists.\n",
            "Skipping 14281.jpg: Output already exists.\n",
            "Skipping 13758.jpg: Output already exists.\n",
            "Skipping 13317.jpg: Output already exists.\n",
            "Skipping 11008.jpg: Output already exists.\n",
            "Skipping 10749.jpg: Output already exists.\n",
            "Skipping 14698.jpg: Output already exists.\n",
            "Skipping 10334.jpg: Output already exists.\n",
            "Skipping 13856.jpg: Output already exists.\n",
            "Skipping 13908.jpg: Output already exists.\n",
            "Skipping 13801.jpg: Output already exists.\n",
            "Skipping 12915.jpg: Output already exists.\n",
            "Skipping 13810.jpg: Output already exists.\n",
            "Skipping 1431.jpg: Output already exists.\n",
            "Skipping 11860.jpg: Output already exists.\n",
            "Skipping 10324.jpg: Output already exists.\n",
            "Skipping 15371.jpg: Output already exists.\n",
            "Skipping 13992.jpg: Output already exists.\n",
            "Skipping 1072.jpg: Output already exists.\n",
            "Skipping 15274.jpg: Output already exists.\n",
            "Skipping 13131.jpg: Output already exists.\n",
            "Skipping 12825.jpg: Output already exists.\n",
            "Skipping 14020.jpg: Output already exists.\n",
            "Skipping 10192.jpg: Output already exists.\n",
            "Skipping 13876.jpg: Output already exists.\n",
            "Skipping 11623.jpg: Output already exists.\n",
            "Skipping 12598.jpg: Output already exists.\n",
            "Skipping 13887.jpg: Output already exists.\n",
            "Skipping 13839.jpg: Output already exists.\n",
            "Skipping 11336.jpg: Output already exists.\n",
            "Skipping 11919.jpg: Output already exists.\n",
            "Skipping 10558.jpg: Output already exists.\n",
            "Skipping 13466.jpg: Output already exists.\n",
            "Skipping 13427.jpg: Output already exists.\n",
            "Skipping 11561.jpg: Output already exists.\n",
            "Skipping 11826.jpg: Output already exists.\n",
            "Skipping 12076.jpg: Output already exists.\n",
            "Skipping 15212.jpg: Output already exists.\n",
            "Skipping 11011.jpg: Output already exists.\n",
            "Skipping 10947.jpg: Output already exists.\n",
            "Skipping 14449.jpg: Output already exists.\n",
            "Skipping 11603.jpg: Output already exists.\n",
            "Skipping 15197.jpg: Output already exists.\n",
            "Skipping 15.jpg: Output already exists.\n",
            "Skipping 13916.jpg: Output already exists.\n",
            "Skipping 13749.jpg: Output already exists.\n",
            "Skipping 1480.jpg: Output already exists.\n",
            "Skipping 1260.jpg: Output already exists.\n",
            "Skipping 15318.jpg: Output already exists.\n",
            "Skipping 14617.jpg: Output already exists.\n",
            "Skipping 12094.jpg: Output already exists.\n",
            "Skipping 12928.jpg: Output already exists.\n",
            "Skipping 12010.jpg: Output already exists.\n",
            "Skipping 1280.jpg: Output already exists.\n",
            "Skipping 11247.jpg: Output already exists.\n",
            "Skipping 12557.jpg: Output already exists.\n",
            "Skipping 10368.jpg: Output already exists.\n",
            "Skipping 12161.jpg: Output already exists.\n",
            "Skipping 13474.jpg: Output already exists.\n",
            "Skipping 11881.jpg: Output already exists.\n",
            "Skipping 14902.jpg: Output already exists.\n",
            "Skipping 14519.jpg: Output already exists.\n",
            "Skipping 11353.jpg: Output already exists.\n",
            "Skipping 1172.jpg: Output already exists.\n",
            "Skipping 10881.jpg: Output already exists.\n",
            "Skipping 14533.jpg: Output already exists.\n",
            "Skipping 13168.jpg: Output already exists.\n",
            "Skipping 14861.jpg: Output already exists.\n",
            "Skipping 14418.jpg: Output already exists.\n",
            "Skipping 1532.jpg: Output already exists.\n",
            "Skipping 11289.jpg: Output already exists.\n",
            "Skipping 11203.jpg: Output already exists.\n",
            "Skipping 14025.jpg: Output already exists.\n",
            "Skipping 13105.jpg: Output already exists.\n",
            "Skipping 12412.jpg: Output already exists.\n",
            "Skipping 13836.jpg: Output already exists.\n",
            "Skipping 15120.jpg: Output already exists.\n",
            "Skipping 14539.jpg: Output already exists.\n",
            "Skipping 13253.jpg: Output already exists.\n",
            "Skipping 10538.jpg: Output already exists.\n",
            "Skipping 1244.jpg: Output already exists.\n",
            "Skipping 15205.jpg: Output already exists.\n",
            "Skipping 134.jpg: Output already exists.\n",
            "Skipping 13890.jpg: Output already exists.\n",
            "Skipping 11535.jpg: Output already exists.\n",
            "Skipping 15138.jpg: Output already exists.\n",
            "Skipping 11893.jpg: Output already exists.\n",
            "Skipping 13471.jpg: Output already exists.\n",
            "Skipping 13662.jpg: Output already exists.\n",
            "Skipping 11961.jpg: Output already exists.\n",
            "Skipping 14442.jpg: Output already exists.\n",
            "Skipping 15329.jpg: Output already exists.\n",
            "Skipping 12876.jpg: Output already exists.\n",
            "Skipping 14562.jpg: Output already exists.\n",
            "Skipping 12320.jpg: Output already exists.\n",
            "Skipping 11016.jpg: Output already exists.\n",
            "Skipping 13314.jpg: Output already exists.\n",
            "Skipping 10774.jpg: Output already exists.\n",
            "Skipping 11887.jpg: Output already exists.\n",
            "Skipping 15160.jpg: Output already exists.\n",
            "Skipping 10239.jpg: Output already exists.\n",
            "Skipping 14984.jpg: Output already exists.\n",
            "Skipping 1096.jpg: Output already exists.\n",
            "Skipping 11925.jpg: Output already exists.\n",
            "Skipping 13878.jpg: Output already exists.\n",
            "Skipping 13415.jpg: Output already exists.\n",
            "Skipping 12592.jpg: Output already exists.\n",
            "Skipping 1339.jpg: Output already exists.\n",
            "Skipping 15380.jpg: Output already exists.\n",
            "Skipping 11124.jpg: Output already exists.\n",
            "Skipping 10109.jpg: Output already exists.\n",
            "Skipping 12464.jpg: Output already exists.\n",
            "Skipping 1402.jpg: Output already exists.\n",
            "Skipping 1307.jpg: Output already exists.\n",
            "Skipping 106.jpg: Output already exists.\n",
            "Skipping 12597.jpg: Output already exists.\n",
            "Skipping 13830.jpg: Output already exists.\n",
            "Skipping 14251.jpg: Output already exists.\n",
            "Skipping 13909.jpg: Output already exists.\n",
            "Skipping 14529.jpg: Output already exists.\n",
            "Skipping 10626.jpg: Output already exists.\n",
            "Skipping 11202.jpg: Output already exists.\n",
            "Skipping 13988.jpg: Output already exists.\n",
            "Skipping 12732.jpg: Output already exists.\n",
            "Skipping 1521.jpg: Output already exists.\n",
            "Skipping 1378.jpg: Output already exists.\n",
            "Skipping 14546.jpg: Output already exists.\n",
            "Skipping 13450.jpg: Output already exists.\n",
            "Skipping 13927.jpg: Output already exists.\n",
            "Skipping 14317.jpg: Output already exists.\n",
            "Skipping 14125.jpg: Output already exists.\n",
            "Skipping 11454.jpg: Output already exists.\n",
            "Skipping 10115.jpg: Output already exists.\n",
            "Skipping 14462.jpg: Output already exists.\n",
            "Skipping 12062.jpg: Output already exists.\n",
            "Skipping 15349.jpg: Output already exists.\n",
            "Skipping 13019.jpg: Output already exists.\n",
            "Skipping 14748.jpg: Output already exists.\n",
            "Skipping 12524.jpg: Output already exists.\n",
            "Skipping 13709.jpg: Output already exists.\n",
            "Skipping 12613.jpg: Output already exists.\n",
            "Skipping 11756.jpg: Output already exists.\n",
            "Skipping 11879.jpg: Output already exists.\n",
            "Skipping 13117.jpg: Output already exists.\n",
            "Skipping 14673.jpg: Output already exists.\n",
            "Skipping 11537.jpg: Output already exists.\n",
            "Skipping 15191.jpg: Output already exists.\n",
            "Skipping 14615.jpg: Output already exists.\n",
            "Skipping 10055.jpg: Output already exists.\n",
            "Skipping 113.jpg: Output already exists.\n",
            "Skipping 14232.jpg: Output already exists.\n",
            "Skipping 12738.jpg: Output already exists.\n",
            "Skipping 10332.jpg: Output already exists.\n",
            "Skipping 10765.jpg: Output already exists.\n",
            "Skipping 13604.jpg: Output already exists.\n",
            "Skipping 1138.jpg: Output already exists.\n",
            "Skipping 1092.jpg: Output already exists.\n",
            "Skipping 11863.jpg: Output already exists.\n",
            "Skipping 13018.jpg: Output already exists.\n",
            "Skipping 13439.jpg: Output already exists.\n",
            "Skipping 13391.jpg: Output already exists.\n",
            "Skipping 13641.jpg: Output already exists.\n",
            "Skipping 1156.jpg: Output already exists.\n",
            "Skipping 11587.jpg: Output already exists.\n",
            "Skipping 12013.jpg: Output already exists.\n",
            "Skipping 11644.jpg: Output already exists.\n",
            "Skipping 10003.jpg: Output already exists.\n",
            "Skipping 10197.jpg: Output already exists.\n",
            "Skipping 11062.jpg: Output already exists.\n",
            "Skipping 15166.jpg: Output already exists.\n",
            "Skipping 1129.jpg: Output already exists.\n",
            "Skipping 11412.jpg: Output already exists.\n",
            "Skipping 11862.jpg: Output already exists.\n",
            "Skipping 11728.jpg: Output already exists.\n",
            "Skipping 10858.jpg: Output already exists.\n",
            "Skipping 11719.jpg: Output already exists.\n",
            "Skipping 10341.jpg: Output already exists.\n",
            "Skipping 11153.jpg: Output already exists.\n",
            "Skipping 10783.jpg: Output already exists.\n",
            "Skipping 11634.jpg: Output already exists.\n",
            "Skipping 11696.jpg: Output already exists.\n",
            "Skipping 13291.jpg: Output already exists.\n",
            "Skipping 13961.jpg: Output already exists.\n",
            "Skipping 14264.jpg: Output already exists.\n",
            "Skipping 11036.jpg: Output already exists.\n",
            "Skipping 14549.jpg: Output already exists.\n",
            "Skipping 13477.jpg: Output already exists.\n",
            "Skipping 10246.jpg: Output already exists.\n",
            "Skipping 1435.jpg: Output already exists.\n",
            "Skipping 11890.jpg: Output already exists.\n",
            "Skipping 13820.jpg: Output already exists.\n",
            "Skipping 13763.jpg: Output already exists.\n",
            "Skipping 10475.jpg: Output already exists.\n",
            "Skipping 12460.jpg: Output already exists.\n",
            "Skipping 12587.jpg: Output already exists.\n",
            "Skipping 14964.jpg: Output already exists.\n",
            "Skipping 1287.jpg: Output already exists.\n",
            "Skipping 11240.jpg: Output already exists.\n",
            "Skipping 1391.jpg: Output already exists.\n",
            "Skipping 1294.jpg: Output already exists.\n",
            "Skipping 15190.jpg: Output already exists.\n",
            "Skipping 13928.jpg: Output already exists.\n",
            "Skipping 14537.jpg: Output already exists.\n",
            "Skipping 1122.jpg: Output already exists.\n",
            "Skipping 14730.jpg: Output already exists.\n",
            "Skipping 13716.jpg: Output already exists.\n",
            "Skipping 12386.jpg: Output already exists.\n",
            "Skipping 10250.jpg: Output already exists.\n",
            "Skipping 10729.jpg: Output already exists.\n",
            "Skipping 11554.jpg: Output already exists.\n",
            "Skipping 11195.jpg: Output already exists.\n",
            "Skipping 13483.jpg: Output already exists.\n",
            "Skipping 11782.jpg: Output already exists.\n",
            "Skipping 13155.jpg: Output already exists.\n",
            "Skipping 11962.jpg: Output already exists.\n",
            "Skipping 14296.jpg: Output already exists.\n",
            "Skipping 11914.jpg: Output already exists.\n",
            "Skipping 10161.jpg: Output already exists.\n",
            "Skipping 11568.jpg: Output already exists.\n",
            "Skipping 13198.jpg: Output already exists.\n",
            "Skipping 15122.jpg: Output already exists.\n",
            "Skipping 13503.jpg: Output already exists.\n",
            "Skipping 11131.jpg: Output already exists.\n",
            "Skipping 1526.jpg: Output already exists.\n",
            "Skipping 11234.jpg: Output already exists.\n",
            "Skipping 14258.jpg: Output already exists.\n",
            "Skipping 15066.jpg: Output already exists.\n",
            "Skipping 12868.jpg: Output already exists.\n",
            "Skipping 11231.jpg: Output already exists.\n",
            "Skipping 14725.jpg: Output already exists.\n",
            "Skipping 11838.jpg: Output already exists.\n",
            "Skipping 14590.jpg: Output already exists.\n",
            "Skipping 11393.jpg: Output already exists.\n",
            "Skipping 11857.jpg: Output already exists.\n",
            "Skipping 12631.jpg: Output already exists.\n",
            "Skipping 11031.jpg: Output already exists.\n",
            "Skipping 11363.jpg: Output already exists.\n",
            "Skipping 13935.jpg: Output already exists.\n",
            "Skipping 12311.jpg: Output already exists.\n",
            "Skipping 14806.jpg: Output already exists.\n",
            "Skipping 12248.jpg: Output already exists.\n",
            "Skipping 14105.jpg: Output already exists.\n",
            "Skipping 15150.jpg: Output already exists.\n",
            "Skipping 10309.jpg: Output already exists.\n",
            "Skipping 1127.jpg: Output already exists.\n",
            "Skipping 11682.jpg: Output already exists.\n",
            "Skipping 14516.jpg: Output already exists.\n",
            "Skipping 11099.jpg: Output already exists.\n",
            "Skipping 15277.jpg: Output already exists.\n",
            "Skipping 14711.jpg: Output already exists.\n",
            "Skipping 12497.jpg: Output already exists.\n",
            "Skipping 12920.jpg: Output already exists.\n",
            "Skipping 10776.jpg: Output already exists.\n",
            "Skipping 11178.jpg: Output already exists.\n",
            "Skipping 10037.jpg: Output already exists.\n",
            "Skipping 13179.jpg: Output already exists.\n",
            "Skipping 11446.jpg: Output already exists.\n",
            "Skipping 10581.jpg: Output already exists.\n",
            "Skipping 11068.jpg: Output already exists.\n",
            "Skipping 11002.jpg: Output already exists.\n",
            "Skipping 10585.jpg: Output already exists.\n",
            "Skipping 14455.jpg: Output already exists.\n",
            "Skipping 11850.jpg: Output already exists.\n",
            "Skipping 1460.jpg: Output already exists.\n",
            "Skipping 15249.jpg: Output already exists.\n",
            "Skipping 13124.jpg: Output already exists.\n",
            "Skipping 10775.jpg: Output already exists.\n",
            "Skipping 11150.jpg: Output already exists.\n",
            "Skipping 14435.jpg: Output already exists.\n",
            "Skipping 11290.jpg: Output already exists.\n",
            "Skipping 11274.jpg: Output already exists.\n",
            "Skipping 10403.jpg: Output already exists.\n",
            "Skipping 129.jpg: Output already exists.\n",
            "Skipping 13112.jpg: Output already exists.\n",
            "Skipping 11798.jpg: Output already exists.\n",
            "Skipping 10091.jpg: Output already exists.\n",
            "Skipping 10437.jpg: Output already exists.\n",
            "Skipping 11235.jpg: Output already exists.\n",
            "Skipping 15043.jpg: Output already exists.\n",
            "Skipping 11018.jpg: Output already exists.\n",
            "Skipping 12278.jpg: Output already exists.\n",
            "Skipping 12999.jpg: Output already exists.\n",
            "Skipping 11377.jpg: Output already exists.\n",
            "Skipping 12100.jpg: Output already exists.\n",
            "Skipping 12018.jpg: Output already exists.\n",
            "Skipping 13372.jpg: Output already exists.\n",
            "Skipping 1293.jpg: Output already exists.\n",
            "Skipping 15154.jpg: Output already exists.\n",
            "Skipping 10984.jpg: Output already exists.\n",
            "Skipping 13972.jpg: Output already exists.\n",
            "Skipping 10021.jpg: Output already exists.\n",
            "Skipping 13614.jpg: Output already exists.\n",
            "Skipping 12594.jpg: Output already exists.\n",
            "Skipping 1430.jpg: Output already exists.\n",
            "Skipping 10674.jpg: Output already exists.\n",
            "Skipping 12475.jpg: Output already exists.\n",
            "Skipping 12485.jpg: Output already exists.\n",
            "Skipping 15070.jpg: Output already exists.\n",
            "Skipping 11492.jpg: Output already exists.\n",
            "Skipping 14398.jpg: Output already exists.\n",
            "Skipping 13583.jpg: Output already exists.\n",
            "Skipping 13497.jpg: Output already exists.\n",
            "Skipping 10104.jpg: Output already exists.\n",
            "Skipping 10471.jpg: Output already exists.\n",
            "Skipping 11679.jpg: Output already exists.\n",
            "Skipping 14732.jpg: Output already exists.\n",
            "Skipping 12892.jpg: Output already exists.\n",
            "Skipping 13897.jpg: Output already exists.\n",
            "Skipping 11026.jpg: Output already exists.\n",
            "Skipping 116.jpg: Output already exists.\n",
            "Skipping 11092.jpg: Output already exists.\n",
            "Skipping 14773.jpg: Output already exists.\n",
            "Skipping 11451.jpg: Output already exists.\n",
            "Skipping 11452.jpg: Output already exists.\n",
            "Skipping 11915.jpg: Output already exists.\n",
            "Skipping 14063.jpg: Output already exists.\n",
            "Skipping 13955.jpg: Output already exists.\n",
            "Skipping 13442.jpg: Output already exists.\n",
            "Skipping 13462.jpg: Output already exists.\n",
            "Skipping 1304.jpg: Output already exists.\n",
            "Skipping 11109.jpg: Output already exists.\n",
            "Skipping 12589.jpg: Output already exists.\n",
            "Skipping 11086.jpg: Output already exists.\n",
            "Skipping 13141.jpg: Output already exists.\n",
            "Skipping 12869.jpg: Output already exists.\n",
            "Skipping 10179.jpg: Output already exists.\n",
            "Skipping 12781.jpg: Output already exists.\n",
            "Skipping 10959.jpg: Output already exists.\n",
            "Skipping 14547.jpg: Output already exists.\n",
            "Skipping 12393.jpg: Output already exists.\n",
            "Skipping 12510.jpg: Output already exists.\n",
            "Skipping 15315.jpg: Output already exists.\n",
            "Skipping 15102.jpg: Output already exists.\n",
            "Skipping 1407.jpg: Output already exists.\n",
            "Skipping 1424.jpg: Output already exists.\n",
            "Skipping 11435.jpg: Output already exists.\n",
            "Skipping 13943.jpg: Output already exists.\n",
            "Skipping 13032.jpg: Output already exists.\n",
            "Skipping 12354.jpg: Output already exists.\n",
            "Skipping 10803.jpg: Output already exists.\n",
            "Skipping 10343.jpg: Output already exists.\n",
            "Skipping 11071.jpg: Output already exists.\n",
            "Skipping 12079.jpg: Output already exists.\n",
            "Skipping 1409.jpg: Output already exists.\n",
            "Skipping 13084.jpg: Output already exists.\n",
            "Skipping 10347.jpg: Output already exists.\n",
            "Skipping 10204.jpg: Output already exists.\n",
            "Skipping 13509.jpg: Output already exists.\n",
            "Skipping 14824.jpg: Output already exists.\n",
            "Skipping 13616.jpg: Output already exists.\n",
            "Skipping 14036.jpg: Output already exists.\n",
            "Skipping 1438.jpg: Output already exists.\n",
            "Skipping 12390.jpg: Output already exists.\n",
            "Skipping 14276.jpg: Output already exists.\n",
            "Skipping 14906.jpg: Output already exists.\n",
            "Skipping 10212.jpg: Output already exists.\n",
            "Skipping 10505.jpg: Output already exists.\n",
            "Skipping 1504.jpg: Output already exists.\n",
            "Skipping 12709.jpg: Output already exists.\n",
            "Skipping 12632.jpg: Output already exists.\n",
            "Skipping 11557.jpg: Output already exists.\n",
            "Skipping 11072.jpg: Output already exists.\n",
            "Skipping 12640.jpg: Output already exists.\n",
            "Skipping 11832.jpg: Output already exists.\n",
            "Skipping 15061.jpg: Output already exists.\n",
            "Skipping 14879.jpg: Output already exists.\n",
            "Skipping 11642.jpg: Output already exists.\n",
            "Skipping 15287.jpg: Output already exists.\n",
            "Skipping 10639.jpg: Output already exists.\n",
            "Skipping 14132.jpg: Output already exists.\n",
            "Skipping 11419.jpg: Output already exists.\n",
            "Skipping 1445.jpg: Output already exists.\n",
            "Skipping 14582.jpg: Output already exists.\n",
            "Skipping 11767.jpg: Output already exists.\n",
            "Skipping 109.jpg: Output already exists.\n",
            "Skipping 1519.jpg: Output already exists.\n",
            "Skipping 13070.jpg: Output already exists.\n",
            "Skipping 11206.jpg: Output already exists.\n",
            "Skipping 14643.jpg: Output already exists.\n",
            "Skipping 13635.jpg: Output already exists.\n",
            "Skipping 14611.jpg: Output already exists.\n",
            "Skipping 15291.jpg: Output already exists.\n",
            "Skipping 14767.jpg: Output already exists.\n",
            "Skipping 13017.jpg: Output already exists.\n",
            "Skipping 1467.jpg: Output already exists.\n",
            "Skipping 14142.jpg: Output already exists.\n",
            "Skipping 13848.jpg: Output already exists.\n",
            "Skipping 13475.jpg: Output already exists.\n",
            "Skipping 14166.jpg: Output already exists.\n",
            "Skipping 12717.jpg: Output already exists.\n",
            "Skipping 11602.jpg: Output already exists.\n",
            "Skipping 10132.jpg: Output already exists.\n",
            "Skipping 10361.jpg: Output already exists.\n",
            "Skipping 12655.jpg: Output already exists.\n",
            "Skipping 11425.jpg: Output already exists.\n",
            "Skipping 10501.jpg: Output already exists.\n",
            "Skipping 13586.jpg: Output already exists.\n",
            "Skipping 11212.jpg: Output already exists.\n",
            "Skipping 1313.jpg: Output already exists.\n",
            "Skipping 12317.jpg: Output already exists.\n",
            "Skipping 12469.jpg: Output already exists.\n",
            "Skipping 12289.jpg: Output already exists.\n",
            "Skipping 10313.jpg: Output already exists.\n",
            "Skipping 14415.jpg: Output already exists.\n",
            "Skipping 10882.jpg: Output already exists.\n",
            "Skipping 13893.jpg: Output already exists.\n",
            "Skipping 14842.jpg: Output already exists.\n",
            "Skipping 11481.jpg: Output already exists.\n",
            "Skipping 1000.jpg: Output already exists.\n",
            "Skipping 13938.jpg: Output already exists.\n",
            "Skipping 15339.jpg: Output already exists.\n",
            "Skipping 13052.jpg: Output already exists.\n",
            "Skipping 1301.jpg: Output already exists.\n",
            "Skipping 10627.jpg: Output already exists.\n",
            "Skipping 1520.jpg: Output already exists.\n",
            "Skipping 14597.jpg: Output already exists.\n",
            "Skipping 11746.jpg: Output already exists.\n",
            "Skipping 10637.jpg: Output already exists.\n",
            "Skipping 14108.jpg: Output already exists.\n",
            "Skipping 10954.jpg: Output already exists.\n",
            "Skipping 14113.jpg: Output already exists.\n",
            "Skipping 13728.jpg: Output already exists.\n",
            "Skipping 11433.jpg: Output already exists.\n",
            "Skipping 1035.jpg: Output already exists.\n",
            "Skipping 1352.jpg: Output already exists.\n",
            "Skipping 15003.jpg: Output already exists.\n",
            "Skipping 10289.jpg: Output already exists.\n",
            "Skipping 13759.jpg: Output already exists.\n",
            "Skipping 14262.jpg: Output already exists.\n",
            "Skipping 1389.jpg: Output already exists.\n",
            "Skipping 14350.jpg: Output already exists.\n",
            "Skipping 10651.jpg: Output already exists.\n",
            "Skipping 11461.jpg: Output already exists.\n",
            "Skipping 12858.jpg: Output already exists.\n",
            "Skipping 12556.jpg: Output already exists.\n",
            "Skipping 11836.jpg: Output already exists.\n",
            "Skipping 14677.jpg: Output already exists.\n",
            "Skipping 13213.jpg: Output already exists.\n",
            "Skipping 15210.jpg: Output already exists.\n",
            "Skipping 13312.jpg: Output already exists.\n",
            "Skipping 10706.jpg: Output already exists.\n",
            "Skipping 11410.jpg: Output already exists.\n",
            "Skipping 12698.jpg: Output already exists.\n",
            "Skipping 13136.jpg: Output already exists.\n",
            "Skipping 15394.jpg: Output already exists.\n",
            "Skipping 11499.jpg: Output already exists.\n",
            "Skipping 10398.jpg: Output already exists.\n",
            "Skipping 13845.jpg: Output already exists.\n",
            "Skipping 10170.jpg: Output already exists.\n",
            "Skipping 10594.jpg: Output already exists.\n",
            "Skipping 13595.jpg: Output already exists.\n",
            "Skipping 12218.jpg: Output already exists.\n",
            "Skipping 13969.jpg: Output already exists.\n",
            "Skipping 14195.jpg: Output already exists.\n",
            "Skipping 13644.jpg: Output already exists.\n",
            "Skipping 1213.jpg: Output already exists.\n",
            "Skipping 12229.jpg: Output already exists.\n",
            "Skipping 10221.jpg: Output already exists.\n",
            "Skipping 12643.jpg: Output already exists.\n",
            "Skipping 11560.jpg: Output already exists.\n",
            "Skipping 10066.jpg: Output already exists.\n",
            "Skipping 1234.jpg: Output already exists.\n",
            "Skipping 12916.jpg: Output already exists.\n",
            "Skipping 11380.jpg: Output already exists.\n",
            "Skipping 10781.jpg: Output already exists.\n",
            "Skipping 11165.jpg: Output already exists.\n",
            "Skipping 13461.jpg: Output already exists.\n",
            "Skipping 11996.jpg: Output already exists.\n",
            "Skipping 11647.jpg: Output already exists.\n",
            "Skipping 11901.jpg: Output already exists.\n",
            "Skipping 14267.jpg: Output already exists.\n",
            "Skipping 11445.jpg: Output already exists.\n",
            "Skipping 14204.jpg: Output already exists.\n",
            "Skipping 12577.jpg: Output already exists.\n",
            "Skipping 14192.jpg: Output already exists.\n",
            "Skipping 122.jpg: Output already exists.\n",
            "Skipping 14007.jpg: Output already exists.\n",
            "Skipping 11088.jpg: Output already exists.\n",
            "Skipping 12145.jpg: Output already exists.\n",
            "Skipping 12269.jpg: Output already exists.\n",
            "Skipping 15280.jpg: Output already exists.\n",
            "Skipping 10902.jpg: Output already exists.\n",
            "Skipping 10503.jpg: Output already exists.\n",
            "Skipping 12252.jpg: Output already exists.\n",
            "Skipping 10733.jpg: Output already exists.\n",
            "Skipping 10821.jpg: Output already exists.\n",
            "Skipping 13045.jpg: Output already exists.\n",
            "Skipping 15105.jpg: Output already exists.\n",
            "Skipping 10333.jpg: Output already exists.\n",
            "Skipping 15028.jpg: Output already exists.\n",
            "Skipping 14009.jpg: Output already exists.\n",
            "Skipping 12863.jpg: Output already exists.\n",
            "Skipping 10936.jpg: Output already exists.\n",
            "Skipping 13002.jpg: Output already exists.\n",
            "Skipping 11367.jpg: Output already exists.\n",
            "Skipping 11493.jpg: Output already exists.\n",
            "Skipping 11358.jpg: Output already exists.\n",
            "Skipping 112.jpg: Output already exists.\n",
            "Skipping 12300.jpg: Output already exists.\n",
            "Skipping 10296.jpg: Output already exists.\n",
            "Skipping 14271.jpg: Output already exists.\n",
            "Skipping 10356.jpg: Output already exists.\n",
            "Skipping 12349.jpg: Output already exists.\n",
            "Skipping 13257.jpg: Output already exists.\n",
            "Skipping 14866.jpg: Output already exists.\n",
            "Skipping 1045.jpg: Output already exists.\n",
            "Skipping 15267.jpg: Output already exists.\n",
            "Skipping 14760.jpg: Output already exists.\n",
            "Skipping 15242.jpg: Output already exists.\n",
            "Skipping 1226.jpg: Output already exists.\n",
            "Skipping 13532.jpg: Output already exists.\n",
            "Skipping 10366.jpg: Output already exists.\n",
            "Skipping 11297.jpg: Output already exists.\n",
            "Skipping 12305.jpg: Output already exists.\n",
            "Skipping 13235.jpg: Output already exists.\n",
            "Skipping 15037.jpg: Output already exists.\n",
            "Skipping 11374.jpg: Output already exists.\n",
            "Skipping 10340.jpg: Output already exists.\n",
            "Skipping 15146.jpg: Output already exists.\n",
            "Skipping 1275.jpg: Output already exists.\n",
            "Skipping 10525.jpg: Output already exists.\n",
            "Skipping 114.jpg: Output already exists.\n",
            "Skipping 13637.jpg: Output already exists.\n",
            "Skipping 13783.jpg: Output already exists.\n",
            "Skipping 14245.jpg: Output already exists.\n",
            "Skipping 1266.jpg: Output already exists.\n",
            "Skipping 13665.jpg: Output already exists.\n",
            "Skipping 12134.jpg: Output already exists.\n",
            "Skipping 14821.jpg: Output already exists.\n",
            "Skipping 13414.jpg: Output already exists.\n",
            "Skipping 11788.jpg: Output already exists.\n",
            "Skipping 14491.jpg: Output already exists.\n",
            "Skipping 12075.jpg: Output already exists.\n",
            "Skipping 12919.jpg: Output already exists.\n",
            "Skipping 10568.jpg: Output already exists.\n",
            "Skipping 15110.jpg: Output already exists.\n",
            "Skipping 12763.jpg: Output already exists.\n",
            "Skipping 1491.jpg: Output already exists.\n",
            "Skipping 13118.jpg: Output already exists.\n",
            "Skipping 10325.jpg: Output already exists.\n",
            "Skipping 12870.jpg: Output already exists.\n",
            "Skipping 11421.jpg: Output already exists.\n",
            "Skipping 15121.jpg: Output already exists.\n",
            "Skipping 13315.jpg: Output already exists.\n",
            "Skipping 10451.jpg: Output already exists.\n",
            "Skipping 11649.jpg: Output already exists.\n",
            "Skipping 11736.jpg: Output already exists.\n",
            "Skipping 12686.jpg: Output already exists.\n",
            "Skipping 12105.jpg: Output already exists.\n",
            "Skipping 13078.jpg: Output already exists.\n",
            "Skipping 10445.jpg: Output already exists.\n",
            "Skipping 14848.jpg: Output already exists.\n",
            "Skipping 132.jpg: Output already exists.\n",
            "Skipping 12494.jpg: Output already exists.\n",
            "Skipping 10605.jpg: Output already exists.\n",
            "Skipping 13152.jpg: Output already exists.\n",
            "Skipping 12337.jpg: Output already exists.\n",
            "Skipping 14963.jpg: Output already exists.\n",
            "Skipping 14575.jpg: Output already exists.\n",
            "Skipping 13682.jpg: Output already exists.\n",
            "Skipping 10236.jpg: Output already exists.\n",
            "Skipping 11385.jpg: Output already exists.\n",
            "Skipping 1230.jpg: Output already exists.\n",
            "Skipping 10557.jpg: Output already exists.\n",
            "Skipping 12160.jpg: Output already exists.\n",
            "Skipping 12403.jpg: Output already exists.\n",
            "Skipping 13086.jpg: Output already exists.\n",
            "Skipping 12112.jpg: Output already exists.\n",
            "Skipping 11039.jpg: Output already exists.\n",
            "Skipping 10920.jpg: Output already exists.\n",
            "Skipping 11776.jpg: Output already exists.\n",
            "Skipping 12774.jpg: Output already exists.\n",
            "Skipping 13332.jpg: Output already exists.\n",
            "Skipping 10315.jpg: Output already exists.\n",
            "Skipping 1162.jpg: Output already exists.\n",
            "Skipping 10415.jpg: Output already exists.\n",
            "Skipping 12665.jpg: Output already exists.\n",
            "Skipping 1071.jpg: Output already exists.\n",
            "Skipping 1014.jpg: Output already exists.\n",
            "Skipping 10281.jpg: Output already exists.\n",
            "Skipping 10533.jpg: Output already exists.\n",
            "Skipping 14475.jpg: Output already exists.\n",
            "Skipping 14830.jpg: Output already exists.\n",
            "Skipping 13973.jpg: Output already exists.\n",
            "Skipping 10276.jpg: Output already exists.\n",
            "Skipping 11053.jpg: Output already exists.\n",
            "Skipping 103.jpg: Output already exists.\n",
            "Skipping 11140.jpg: Output already exists.\n",
            "Skipping 14386.jpg: Output already exists.\n",
            "Skipping 12651.jpg: Output already exists.\n",
            "Skipping 14669.jpg: Output already exists.\n",
            "Skipping 12381.jpg: Output already exists.\n",
            "Skipping 14538.jpg: Output already exists.\n",
            "Skipping 13549.jpg: Output already exists.\n",
            "Skipping 12194.jpg: Output already exists.\n",
            "Skipping 1169.jpg: Output already exists.\n",
            "Skipping 10652.jpg: Output already exists.\n",
            "Skipping 10835.jpg: Output already exists.\n",
            "Skipping 13319.jpg: Output already exists.\n",
            "Skipping 12837.jpg: Output already exists.\n",
            "Skipping 14059.jpg: Output already exists.\n",
            "Skipping 15228.jpg: Output already exists.\n",
            "Skipping 12453.jpg: Output already exists.\n",
            "Skipping 10346.jpg: Output already exists.\n",
            "Skipping 11100.jpg: Output already exists.\n",
            "Skipping 14635.jpg: Output already exists.\n",
            "Skipping 11275.jpg: Output already exists.\n",
            "Skipping 10925.jpg: Output already exists.\n",
            "Skipping 15182.jpg: Output already exists.\n",
            "Skipping 11547.jpg: Output already exists.\n",
            "Skipping 13998.jpg: Output already exists.\n",
            "Skipping 13187.jpg: Output already exists.\n",
            "Skipping 10816.jpg: Output already exists.\n",
            "Skipping 11349.jpg: Output already exists.\n",
            "Skipping 11531.jpg: Output already exists.\n",
            "Skipping 13387.jpg: Output already exists.\n",
            "Skipping 11823.jpg: Output already exists.\n",
            "Skipping 10384.jpg: Output already exists.\n",
            "Skipping 12544.jpg: Output already exists.\n",
            "Skipping 14090.jpg: Output already exists.\n",
            "Skipping 10830.jpg: Output already exists.\n",
            "Skipping 13919.jpg: Output already exists.\n",
            "Skipping 10540.jpg: Output already exists.\n",
            "Skipping 13247.jpg: Output already exists.\n",
            "Skipping 14138.jpg: Output already exists.\n",
            "Skipping 13884.jpg: Output already exists.\n",
            "Skipping 14851.jpg: Output already exists.\n",
            "Skipping 1331.jpg: Output already exists.\n",
            "Skipping 15293.jpg: Output already exists.\n",
            "Skipping 14222.jpg: Output already exists.\n",
            "Skipping 14017.jpg: Output already exists.\n",
            "Skipping 14833.jpg: Output already exists.\n",
            "Skipping 117.jpg: Output already exists.\n",
            "Skipping 12149.jpg: Output already exists.\n",
            "Skipping 13640.jpg: Output already exists.\n",
            "Skipping 14761.jpg: Output already exists.\n",
            "Skipping 11684.jpg: Output already exists.\n",
            "Skipping 11959.jpg: Output already exists.\n",
            "Skipping 13160.jpg: Output already exists.\n",
            "Skipping 10393.jpg: Output already exists.\n",
            "Skipping 11714.jpg: Output already exists.\n",
            "Skipping 12114.jpg: Output already exists.\n",
            "Skipping 11004.jpg: Output already exists.\n",
            "Skipping 12736.jpg: Output already exists.\n",
            "Skipping 15025.jpg: Output already exists.\n",
            "Skipping 10166.jpg: Output already exists.\n",
            "Skipping 10213.jpg: Output already exists.\n",
            "Skipping 14419.jpg: Output already exists.\n",
            "Skipping 10860.jpg: Output already exists.\n",
            "Skipping 13624.jpg: Output already exists.\n",
            "Skipping 12148.jpg: Output already exists.\n",
            "Skipping 10869.jpg: Output already exists.\n",
            "Skipping 13814.jpg: Output already exists.\n",
            "Skipping 12344.jpg: Output already exists.\n",
            "Skipping 13885.jpg: Output already exists.\n",
            "Skipping 1334.jpg: Output already exists.\n",
            "Skipping 12220.jpg: Output already exists.\n",
            "Skipping 14467.jpg: Output already exists.\n",
            "Skipping 14139.jpg: Output already exists.\n",
            "Skipping 10.jpg: Output already exists.\n",
            "Skipping 13476.jpg: Output already exists.\n",
            "Skipping 14407.jpg: Output already exists.\n",
            "Skipping 13700.jpg: Output already exists.\n",
            "Skipping 14443.jpg: Output already exists.\n",
            "Skipping 12795.jpg: Output already exists.\n",
            "Skipping 14525.jpg: Output already exists.\n",
            "Skipping 11089.jpg: Output already exists.\n",
            "Skipping 11223.jpg: Output already exists.\n",
            "Skipping 10014.jpg: Output already exists.\n",
            "Skipping 11075.jpg: Output already exists.\n",
            "Skipping 1248.jpg: Output already exists.\n",
            "Skipping 15392.jpg: Output already exists.\n",
            "Skipping 15030.jpg: Output already exists.\n",
            "Skipping 14990.jpg: Output already exists.\n",
            "Skipping 10363.jpg: Output already exists.\n",
            "Skipping 12703.jpg: Output already exists.\n",
            "Skipping 14526.jpg: Output already exists.\n",
            "Skipping 14026.jpg: Output already exists.\n",
            "Skipping 11584.jpg: Output already exists.\n",
            "Skipping 13892.jpg: Output already exists.\n",
            "Skipping 13225.jpg: Output already exists.\n",
            "Skipping 10692.jpg: Output already exists.\n",
            "Skipping 1240.jpg: Output already exists.\n",
            "Skipping 15221.jpg: Output already exists.\n",
            "Skipping 14214.jpg: Output already exists.\n",
            "Skipping 10665.jpg: Output already exists.\n",
            "Skipping 1437.jpg: Output already exists.\n",
            "Skipping 13072.jpg: Output already exists.\n",
            "Skipping 14633.jpg: Output already exists.\n",
            "Skipping 11105.jpg: Output already exists.\n",
            "Skipping 10460.jpg: Output already exists.\n",
            "Skipping 15227.jpg: Output already exists.\n",
            "Skipping 13174.jpg: Output already exists.\n",
            "Skipping 11984.jpg: Output already exists.\n",
            "Skipping 13664.jpg: Output already exists.\n",
            "Skipping 14084.jpg: Output already exists.\n",
            "Skipping 13923.jpg: Output already exists.\n",
            "Skipping 1123.jpg: Output already exists.\n",
            "Skipping 14697.jpg: Output already exists.\n",
            "Skipping 12567.jpg: Output already exists.\n",
            "Skipping 14219.jpg: Output already exists.\n",
            "Skipping 11139.jpg: Output already exists.\n",
            "Skipping 10020.jpg: Output already exists.\n",
            "Skipping 10025.jpg: Output already exists.\n",
            "Skipping 1107.jpg: Output already exists.\n",
            "Skipping 10762.jpg: Output already exists.\n",
            "Skipping 12822.jpg: Output already exists.\n",
            "Skipping 1289.jpg: Output already exists.\n",
            "Skipping 1164.jpg: Output already exists.\n",
            "Skipping 10073.jpg: Output already exists.\n",
            "Skipping 12607.jpg: Output already exists.\n",
            "Skipping 10655.jpg: Output already exists.\n",
            "Skipping 11873.jpg: Output already exists.\n",
            "Skipping 1165.jpg: Output already exists.\n",
            "Skipping 1513.jpg: Output already exists.\n",
            "Skipping 11945.jpg: Output already exists.\n",
            "Skipping 11967.jpg: Output already exists.\n",
            "Skipping 11578.jpg: Output already exists.\n",
            "Skipping 11120.jpg: Output already exists.\n",
            "Skipping 11001.jpg: Output already exists.\n",
            "Skipping 10521.jpg: Output already exists.\n",
            "Skipping 10074.jpg: Output already exists.\n",
            "Skipping 11133.jpg: Output already exists.\n",
            "Skipping 13368.jpg: Output already exists.\n",
            "Skipping 14688.jpg: Output already exists.\n",
            "Skipping 14451.jpg: Output already exists.\n",
            "Skipping 15187.jpg: Output already exists.\n",
            "Skipping 1481.jpg: Output already exists.\n",
            "Skipping 12407.jpg: Output already exists.\n",
            "Skipping 10698.jpg: Output already exists.\n",
            "Skipping 10499.jpg: Output already exists.\n",
            "Skipping 12350.jpg: Output already exists.\n",
            "Skipping 13930.jpg: Output already exists.\n",
            "Skipping 12477.jpg: Output already exists.\n",
            "Skipping 14901.jpg: Output already exists.\n",
            "Skipping 1050.jpg: Output already exists.\n",
            "Skipping 12054.jpg: Output already exists.\n",
            "Skipping 14048.jpg: Output already exists.\n",
            "Skipping 14212.jpg: Output already exists.\n",
            "Skipping 13589.jpg: Output already exists.\n",
            "Skipping 11376.jpg: Output already exists.\n",
            "Skipping 11606.jpg: Output already exists.\n",
            "Skipping 13028.jpg: Output already exists.\n",
            "Skipping 12297.jpg: Output already exists.\n",
            "Skipping 1536.jpg: Output already exists.\n",
            "Skipping 1184.jpg: Output already exists.\n",
            "Skipping 10985.jpg: Output already exists.\n",
            "Skipping 10409.jpg: Output already exists.\n",
            "Skipping 10934.jpg: Output already exists.\n",
            "Skipping 12952.jpg: Output already exists.\n",
            "Skipping 14454.jpg: Output already exists.\n",
            "Skipping 14387.jpg: Output already exists.\n",
            "Skipping 10873.jpg: Output already exists.\n",
            "Skipping 1005.jpg: Output already exists.\n",
            "Skipping 15074.jpg: Output already exists.\n",
            "Skipping 13669.jpg: Output already exists.\n",
            "Skipping 11853.jpg: Output already exists.\n",
            "Skipping 12045.jpg: Output already exists.\n",
            "Skipping 14920.jpg: Output already exists.\n",
            "Skipping 12799.jpg: Output already exists.\n",
            "Skipping 10689.jpg: Output already exists.\n",
            "Skipping 12329.jpg: Output already exists.\n",
            "Skipping 12733.jpg: Output already exists.\n",
            "Skipping 14320.jpg: Output already exists.\n",
            "Skipping 14684.jpg: Output already exists.\n",
            "Skipping 11929.jpg: Output already exists.\n",
            "Skipping 10484.jpg: Output already exists.\n",
            "Skipping 11198.jpg: Output already exists.\n",
            "Skipping 13713.jpg: Output already exists.\n",
            "Skipping 14977.jpg: Output already exists.\n",
            "Skipping 11761.jpg: Output already exists.\n",
            "Skipping 1432.jpg: Output already exists.\n",
            "Skipping 12078.jpg: Output already exists.\n",
            "Skipping 13737.jpg: Output already exists.\n",
            "Skipping 14784.jpg: Output already exists.\n",
            "Skipping 12569.jpg: Output already exists.\n",
            "Skipping 10031.jpg: Output already exists.\n",
            "Skipping 11065.jpg: Output already exists.\n",
            "Skipping 13691.jpg: Output already exists.\n",
            "Skipping 11791.jpg: Output already exists.\n",
            "Skipping 11745.jpg: Output already exists.\n",
            "Skipping 12283.jpg: Output already exists.\n",
            "Skipping 12414.jpg: Output already exists.\n",
            "Skipping 12235.jpg: Output already exists.\n",
            "Skipping 14758.jpg: Output already exists.\n",
            "Skipping 13912.jpg: Output already exists.\n",
            "Skipping 14159.jpg: Output already exists.\n",
            "Skipping 13186.jpg: Output already exists.\n",
            "Skipping 10477.jpg: Output already exists.\n",
            "Skipping 12713.jpg: Output already exists.\n",
            "Skipping 12813.jpg: Output already exists.\n",
            "Skipping 10412.jpg: Output already exists.\n",
            "Skipping 11748.jpg: Output already exists.\n",
            "Skipping 1242.jpg: Output already exists.\n",
            "Skipping 11197.jpg: Output already exists.\n",
            "Skipping 10704.jpg: Output already exists.\n",
            "Skipping 1429.jpg: Output already exists.\n",
            "Skipping 14713.jpg: Output already exists.\n",
            "Skipping 12840.jpg: Output already exists.\n",
            "Skipping 14223.jpg: Output already exists.\n",
            "Skipping 11822.jpg: Output already exists.\n",
            "Skipping 14612.jpg: Output already exists.\n",
            "Skipping 13212.jpg: Output already exists.\n",
            "Skipping 11388.jpg: Output already exists.\n",
            "Skipping 13645.jpg: Output already exists.\n",
            "Skipping 11935.jpg: Output already exists.\n",
            "Skipping 12345.jpg: Output already exists.\n",
            "Skipping 11837.jpg: Output already exists.\n",
            "Skipping 13345.jpg: Output already exists.\n",
            "Skipping 11828.jpg: Output already exists.\n",
            "Skipping 11453.jpg: Output already exists.\n",
            "Skipping 13753.jpg: Output already exists.\n",
            "Skipping 11698.jpg: Output already exists.\n",
            "Skipping 11293.jpg: Output already exists.\n",
            "Skipping 15297.jpg: Output already exists.\n",
            "Skipping 12746.jpg: Output already exists.\n",
            "Skipping 1198.jpg: Output already exists.\n",
            "Skipping 10710.jpg: Output already exists.\n",
            "Skipping 14299.jpg: Output already exists.\n",
            "Skipping 13621.jpg: Output already exists.\n",
            "Skipping 1265.jpg: Output already exists.\n",
            "Skipping 13873.jpg: Output already exists.\n",
            "Skipping 11322.jpg: Output already exists.\n",
            "Skipping 14551.jpg: Output already exists.\n",
            "Skipping 10926.jpg: Output already exists.\n",
            "Skipping 14351.jpg: Output already exists.\n",
            "Skipping 15080.jpg: Output already exists.\n",
            "Skipping 14149.jpg: Output already exists.\n",
            "Skipping 14311.jpg: Output already exists.\n",
            "Skipping 11980.jpg: Output already exists.\n",
            "Skipping 12063.jpg: Output already exists.\n",
            "Skipping 14119.jpg: Output already exists.\n",
            "Skipping 10589.jpg: Output already exists.\n",
            "Skipping 15045.jpg: Output already exists.\n",
            "Skipping 12102.jpg: Output already exists.\n",
            "Skipping 15170.jpg: Output already exists.\n",
            "Skipping 12164.jpg: Output already exists.\n",
            "Skipping 1411.jpg: Output already exists.\n",
            "Skipping 1395.jpg: Output already exists.\n",
            "Skipping 11596.jpg: Output already exists.\n",
            "Skipping 12303.jpg: Output already exists.\n",
            "Skipping 14916.jpg: Output already exists.\n",
            "Skipping 12988.jpg: Output already exists.\n",
            "Skipping 12666.jpg: Output already exists.\n",
            "Skipping 11787.jpg: Output already exists.\n",
            "Skipping 10607.jpg: Output already exists.\n",
            "Skipping 14650.jpg: Output already exists.\n",
            "Skipping 13868.jpg: Output already exists.\n",
            "Skipping 10241.jpg: Output already exists.\n",
            "Skipping 11486.jpg: Output already exists.\n",
            "Skipping 11620.jpg: Output already exists.\n",
            "Skipping 11263.jpg: Output already exists.\n",
            "Skipping 13964.jpg: Output already exists.\n",
            "Skipping 10199.jpg: Output already exists.\n",
            "Skipping 10883.jpg: Output already exists.\n",
            "Skipping 12956.jpg: Output already exists.\n",
            "Skipping 12343.jpg: Output already exists.\n",
            "Skipping 12242.jpg: Output already exists.\n",
            "Skipping 10449.jpg: Output already exists.\n",
            "Skipping 14671.jpg: Output already exists.\n",
            "Skipping 13320.jpg: Output already exists.\n",
            "Skipping 13852.jpg: Output already exists.\n",
            "Skipping 108.jpg: Output already exists.\n",
            "Skipping 10834.jpg: Output already exists.\n",
            "Skipping 15296.jpg: Output already exists.\n",
            "Skipping 11626.jpg: Output already exists.\n",
            "Skipping 11533.jpg: Output already exists.\n",
            "Skipping 14923.jpg: Output already exists.\n",
            "Skipping 14961.jpg: Output already exists.\n",
            "Skipping 12441.jpg: Output already exists.\n",
            "Skipping 15220.jpg: Output already exists.\n",
            "Skipping 10290.jpg: Output already exists.\n",
            "Skipping 13730.jpg: Output already exists.\n",
            "Skipping 13554.jpg: Output already exists.\n",
            "Skipping 1508.jpg: Output already exists.\n",
            "Skipping 12626.jpg: Output already exists.\n",
            "Skipping 14396.jpg: Output already exists.\n",
            "Skipping 15060.jpg: Output already exists.\n",
            "Skipping 11360.jpg: Output already exists.\n",
            "Skipping 1318.jpg: Output already exists.\n",
            "Skipping 14087.jpg: Output already exists.\n",
            "Skipping 15356.jpg: Output already exists.\n",
            "Skipping 1373.jpg: Output already exists.\n",
            "Skipping 14924.jpg: Output already exists.\n",
            "Skipping 10370.jpg: Output already exists.\n",
            "Skipping 13022.jpg: Output already exists.\n",
            "Skipping 12364.jpg: Output already exists.\n",
            "Skipping 10075.jpg: Output already exists.\n",
            "Skipping 13524.jpg: Output already exists.\n",
            "Skipping 10740.jpg: Output already exists.\n",
            "Skipping 11432.jpg: Output already exists.\n",
            "Skipping 11575.jpg: Output already exists.\n",
            "Skipping 14796.jpg: Output already exists.\n",
            "Skipping 12163.jpg: Output already exists.\n",
            "Skipping 14973.jpg: Output already exists.\n",
            "Skipping 10284.jpg: Output already exists.\n",
            "Skipping 15360.jpg: Output already exists.\n",
            "Skipping 14342.jpg: Output already exists.\n",
            "Skipping 11055.jpg: Output already exists.\n",
            "Skipping 1255.jpg: Output already exists.\n",
            "Skipping 14815.jpg: Output already exists.\n",
            "Skipping 14045.jpg: Output already exists.\n",
            "Skipping 13816.jpg: Output already exists.\n",
            "Skipping 1060.jpg: Output already exists.\n",
            "Skipping 1253.jpg: Output already exists.\n",
            "Skipping 12865.jpg: Output already exists.\n",
            "Skipping 13934.jpg: Output already exists.\n",
            "Skipping 14576.jpg: Output already exists.\n",
            "Skipping 14444.jpg: Output already exists.\n",
            "Skipping 11350.jpg: Output already exists.\n",
            "Skipping 13539.jpg: Output already exists.\n",
            "Skipping 12505.jpg: Output already exists.\n",
            "Skipping 11340.jpg: Output already exists.\n",
            "Skipping 12558.jpg: Output already exists.\n",
            "Skipping 11992.jpg: Output already exists.\n",
            "Skipping 1245.jpg: Output already exists.\n",
            "Skipping 11731.jpg: Output already exists.\n",
            "Skipping 11677.jpg: Output already exists.\n",
            "Skipping 10894.jpg: Output already exists.\n",
            "Skipping 12452.jpg: Output already exists.\n",
            "Skipping 10734.jpg: Output already exists.\n",
            "Skipping 15217.jpg: Output already exists.\n",
            "Skipping 14781.jpg: Output already exists.\n",
            "Skipping 12531.jpg: Output already exists.\n",
            "Skipping 12529.jpg: Output already exists.\n",
            "Skipping 14941.jpg: Output already exists.\n",
            "Skipping 12034.jpg: Output already exists.\n",
            "Skipping 14100.jpg: Output already exists.\n",
            "Skipping 12215.jpg: Output already exists.\n",
            "Skipping 14492.jpg: Output already exists.\n",
            "Skipping 11636.jpg: Output already exists.\n",
            "Skipping 12167.jpg: Output already exists.\n",
            "Skipping 14031.jpg: Output already exists.\n",
            "Skipping 12891.jpg: Output already exists.\n",
            "Skipping 14584.jpg: Output already exists.\n",
            "Skipping 13579.jpg: Output already exists.\n",
            "Skipping 11793.jpg: Output already exists.\n",
            "Skipping 10396.jpg: Output already exists.\n",
            "Skipping 14968.jpg: Output already exists.\n",
            "Skipping 12318.jpg: Output already exists.\n",
            "Skipping 11570.jpg: Output already exists.\n",
            "Skipping 14509.jpg: Output already exists.\n",
            "Skipping 13757.jpg: Output already exists.\n",
            "Skipping 13194.jpg: Output already exists.\n",
            "Skipping 13362.jpg: Output already exists.\n",
            "Skipping 10487.jpg: Output already exists.\n",
            "Skipping 1296.jpg: Output already exists.\n",
            "Skipping 12647.jpg: Output already exists.\n",
            "Skipping 10434.jpg: Output already exists.\n",
            "Skipping 14915.jpg: Output already exists.\n",
            "Skipping 13854.jpg: Output already exists.\n",
            "Skipping 12714.jpg: Output already exists.\n",
            "Skipping 11214.jpg: Output already exists.\n",
            "Skipping 14664.jpg: Output already exists.\n",
            "Skipping 15260.jpg: Output already exists.\n",
            "Skipping 1539.jpg: Output already exists.\n",
            "Skipping 13445.jpg: Output already exists.\n",
            "Skipping 13567.jpg: Output already exists.\n",
            "Skipping 13441.jpg: Output already exists.\n",
            "Skipping 11138.jpg: Output already exists.\n",
            "Skipping 13726.jpg: Output already exists.\n",
            "Skipping 12228.jpg: Output already exists.\n",
            "Skipping 12207.jpg: Output already exists.\n",
            "Skipping 12848.jpg: Output already exists.\n",
            "Skipping 14865.jpg: Output already exists.\n",
            "Skipping 11988.jpg: Output already exists.\n",
            "Skipping 15262.jpg: Output already exists.\n",
            "Skipping 14568.jpg: Output already exists.\n",
            "Skipping 13573.jpg: Output already exists.\n",
            "Skipping 12236.jpg: Output already exists.\n",
            "Skipping 10714.jpg: Output already exists.\n",
            "Skipping 10118.jpg: Output already exists.\n",
            "Skipping 10862.jpg: Output already exists.\n",
            "Skipping 10772.jpg: Output already exists.\n",
            "Skipping 1209.jpg: Output already exists.\n",
            "Skipping 15013.jpg: Output already exists.\n",
            "Skipping 12748.jpg: Output already exists.\n",
            "Skipping 12907.jpg: Output already exists.\n",
            "Skipping 14496.jpg: Output already exists.\n",
            "Skipping 10929.jpg: Output already exists.\n",
            "Skipping 10106.jpg: Output already exists.\n",
            "Skipping 11056.jpg: Output already exists.\n",
            "Skipping 12641.jpg: Output already exists.\n",
            "Skipping 10141.jpg: Output already exists.\n",
            "Skipping 11130.jpg: Output already exists.\n",
            "Skipping 12089.jpg: Output already exists.\n",
            "Skipping 14974.jpg: Output already exists.\n",
            "Skipping 14700.jpg: Output already exists.\n",
            "Skipping 11209.jpg: Output already exists.\n",
            "Skipping 11204.jpg: Output already exists.\n",
            "Skipping 12314.jpg: Output already exists.\n",
            "Skipping 12829.jpg: Output already exists.\n",
            "Skipping 1440.jpg: Output already exists.\n",
            "Skipping 1204.jpg: Output already exists.\n",
            "Skipping 10395.jpg: Output already exists.\n",
            "Skipping 15142.jpg: Output already exists.\n",
            "Skipping 11898.jpg: Output already exists.\n",
            "Skipping 11405.jpg: Output already exists.\n",
            "Skipping 10602.jpg: Output already exists.\n",
            "Skipping 14339.jpg: Output already exists.\n",
            "Skipping 1191.jpg: Output already exists.\n",
            "Skipping 11674.jpg: Output already exists.\n",
            "Skipping 13490.jpg: Output already exists.\n",
            "Skipping 15298.jpg: Output already exists.\n",
            "Skipping 13756.jpg: Output already exists.\n",
            "Skipping 14260.jpg: Output already exists.\n",
            "Skipping 12882.jpg: Output already exists.\n",
            "Skipping 13673.jpg: Output already exists.\n",
            "Skipping 15050.jpg: Output already exists.\n",
            "Skipping 10556.jpg: Output already exists.\n",
            "Skipping 12015.jpg: Output already exists.\n",
            "Skipping 10076.jpg: Output already exists.\n",
            "Skipping 15324.jpg: Output already exists.\n",
            "Skipping 15020.jpg: Output already exists.\n",
            "Skipping 11576.jpg: Output already exists.\n",
            "Skipping 1302.jpg: Output already exists.\n",
            "Skipping 11051.jpg: Output already exists.\n",
            "Skipping 15350.jpg: Output already exists.\n",
            "Skipping 13508.jpg: Output already exists.\n",
            "Skipping 10131.jpg: Output already exists.\n",
            "Skipping 13134.jpg: Output already exists.\n",
            "Skipping 11355.jpg: Output already exists.\n",
            "Skipping 14348.jpg: Output already exists.\n",
            "Skipping 11163.jpg: Output already exists.\n",
            "Skipping 13143.jpg: Output already exists.\n",
            "Skipping 13857.jpg: Output already exists.\n",
            "Skipping 1188.jpg: Output already exists.\n",
            "Skipping 13001.jpg: Output already exists.\n",
            "Skipping 11456.jpg: Output already exists.\n",
            "Skipping 12930.jpg: Output already exists.\n",
            "Skipping 13994.jpg: Output already exists.\n",
            "Skipping 12428.jpg: Output already exists.\n",
            "Skipping 11784.jpg: Output already exists.\n",
            "Skipping 11933.jpg: Output already exists.\n",
            "Skipping 15243.jpg: Output already exists.\n",
            "Skipping 11368.jpg: Output already exists.\n",
            "Skipping 13600.jpg: Output already exists.\n",
            "Skipping 11342.jpg: Output already exists.\n",
            "Skipping 12523.jpg: Output already exists.\n",
            "Skipping 10272.jpg: Output already exists.\n",
            "Skipping 1039.jpg: Output already exists.\n",
            "Skipping 15355.jpg: Output already exists.\n",
            "Skipping 13246.jpg: Output already exists.\n",
            "Skipping 13566.jpg: Output already exists.\n",
            "Skipping 11194.jpg: Output already exists.\n",
            "Skipping 12873.jpg: Output already exists.\n",
            "Skipping 13701.jpg: Output already exists.\n",
            "Skipping 11975.jpg: Output already exists.\n",
            "Skipping 10953.jpg: Output already exists.\n",
            "Skipping 13482.jpg: Output already exists.\n",
            "Skipping 12069.jpg: Output already exists.\n",
            "Skipping 12690.jpg: Output already exists.\n",
            "Skipping 10379.jpg: Output already exists.\n",
            "Skipping 10996.jpg: Output already exists.\n",
            "Skipping 11417.jpg: Output already exists.\n",
            "Skipping 1109.jpg: Output already exists.\n",
            "Skipping 10943.jpg: Output already exists.\n",
            "Skipping 13841.jpg: Output already exists.\n",
            "Skipping 12668.jpg: Output already exists.\n",
            "Skipping 11563.jpg: Output already exists.\n",
            "Skipping 14307.jpg: Output already exists.\n",
            "Skipping 12098.jpg: Output already exists.\n",
            "Skipping 11173.jpg: Output already exists.\n",
            "Skipping 1471.jpg: Output already exists.\n",
            "Skipping 11491.jpg: Output already exists.\n",
            "Skipping 1477.jpg: Output already exists.\n",
            "Skipping 1062.jpg: Output already exists.\n",
            "Skipping 15034.jpg: Output already exists.\n",
            "Skipping 13121.jpg: Output already exists.\n",
            "Skipping 13054.jpg: Output already exists.\n",
            "Skipping 11773.jpg: Output already exists.\n",
            "Skipping 13773.jpg: Output already exists.\n",
            "Skipping 10492.jpg: Output already exists.\n",
            "Skipping 11573.jpg: Output already exists.\n",
            "Skipping 13344.jpg: Output already exists.\n",
            "Skipping 10013.jpg: Output already exists.\n",
            "Skipping 1019.jpg: Output already exists.\n",
            "Skipping 11593.jpg: Output already exists.\n",
            "Skipping 12798.jpg: Output already exists.\n",
            "Skipping 13639.jpg: Output already exists.\n",
            "Skipping 10305.jpg: Output already exists.\n",
            "Skipping 12917.jpg: Output already exists.\n",
            "Skipping 14937.jpg: Output already exists.\n",
            "Skipping 1012.jpg: Output already exists.\n",
            "Skipping 14448.jpg: Output already exists.\n",
            "Skipping 10310.jpg: Output already exists.\n",
            "Skipping 14663.jpg: Output already exists.\n",
            "Skipping 14146.jpg: Output already exists.\n",
            "Skipping 1517.jpg: Output already exists.\n",
            "Skipping 10005.jpg: Output already exists.\n",
            "Skipping 12718.jpg: Output already exists.\n",
            "Skipping 15375.jpg: Output already exists.\n",
            "Skipping 11506.jpg: Output already exists.\n",
            "Skipping 12586.jpg: Output already exists.\n",
            "Skipping 1223.jpg: Output already exists.\n",
            "Skipping 1027.jpg: Output already exists.\n",
            "Skipping 1423.jpg: Output already exists.\n",
            "Skipping 13786.jpg: Output already exists.\n",
            "Skipping 11346.jpg: Output already exists.\n",
            "Skipping 15126.jpg: Output already exists.\n",
            "Skipping 1338.jpg: Output already exists.\n",
            "Skipping 11928.jpg: Output already exists.\n",
            "Skipping 10049.jpg: Output already exists.\n",
            "Skipping 1462.jpg: Output already exists.\n",
            "Skipping 14869.jpg: Output already exists.\n",
            "Skipping 151.jpg: Output already exists.\n",
            "Skipping 10517.jpg: Output already exists.\n",
            "Skipping 12811.jpg: Output already exists.\n",
            "Skipping 13520.jpg: Output already exists.\n",
            "Skipping 10298.jpg: Output already exists.\n",
            "Skipping 12629.jpg: Output already exists.\n",
            "Skipping 14561.jpg: Output already exists.\n",
            "Skipping 13060.jpg: Output already exists.\n",
            "Skipping 15014.jpg: Output already exists.\n",
            "Skipping 10818.jpg: Output already exists.\n",
            "Skipping 10229.jpg: Output already exists.\n",
            "Skipping 11362.jpg: Output already exists.\n",
            "Skipping 14330.jpg: Output already exists.\n",
            "Skipping 11811.jpg: Output already exists.\n",
            "Skipping 11329.jpg: Output already exists.\n",
            "Skipping 14383.jpg: Output already exists.\n",
            "Skipping 13114.jpg: Output already exists.\n",
            "Skipping 10864.jpg: Output already exists.\n",
            "Skipping 11948.jpg: Output already exists.\n",
            "Skipping 14756.jpg: Output already exists.\n",
            "Skipping 11541.jpg: Output already exists.\n",
            "Skipping 12150.jpg: Output already exists.\n",
            "Skipping 10468.jpg: Output already exists.\n",
            "Skipping 1281.jpg: Output already exists.\n",
            "Skipping 12299.jpg: Output already exists.\n",
            "Skipping 12669.jpg: Output already exists.\n",
            "Skipping 14521.jpg: Output already exists.\n",
            "Skipping 13510.jpg: Output already exists.\n",
            "Skipping 15006.jpg: Output already exists.\n",
            "Skipping 15257.jpg: Output already exists.\n",
            "Skipping 10978.jpg: Output already exists.\n",
            "Skipping 1086.jpg: Output already exists.\n",
            "Skipping 1268.jpg: Output already exists.\n",
            "Skipping 14347.jpg: Output already exists.\n",
            "Skipping 14068.jpg: Output already exists.\n",
            "Skipping 14917.jpg: Output already exists.\n",
            "Skipping 15078.jpg: Output already exists.\n",
            "Skipping 10661.jpg: Output already exists.\n",
            "Skipping 1093.jpg: Output already exists.\n",
            "Skipping 12896.jpg: Output already exists.\n",
            "Skipping 13963.jpg: Output already exists.\n",
            "Skipping 10972.jpg: Output already exists.\n",
            "Skipping 12710.jpg: Output already exists.\n",
            "Skipping 12624.jpg: Output already exists.\n",
            "Skipping 15161.jpg: Output already exists.\n",
            "Skipping 10804.jpg: Output already exists.\n",
            "Skipping 13262.jpg: Output already exists.\n",
            "Skipping 10878.jpg: Output already exists.\n",
            "Skipping 10269.jpg: Output already exists.\n",
            "Skipping 11283.jpg: Output already exists.\n",
            "Skipping 11306.jpg: Output already exists.\n",
            "Skipping 13119.jpg: Output already exists.\n",
            "Skipping 111.jpg: Output already exists.\n",
            "Skipping 10219.jpg: Output already exists.\n",
            "Skipping 12767.jpg: Output already exists.\n",
            "Skipping 11047.jpg: Output already exists.\n",
            "Skipping 10638.jpg: Output already exists.\n",
            "Skipping 1380.jpg: Output already exists.\n",
            "Skipping 12826.jpg: Output already exists.\n",
            "Skipping 1262.jpg: Output already exists.\n",
            "Skipping 15348.jpg: Output already exists.\n",
            "Skipping 12197.jpg: Output already exists.\n",
            "Skipping 12003.jpg: Output already exists.\n",
            "Skipping 1367.jpg: Output already exists.\n",
            "Skipping 1140.jpg: Output already exists.\n",
            "Skipping 12841.jpg: Output already exists.\n",
            "Skipping 10004.jpg: Output already exists.\n",
            "Skipping 12108.jpg: Output already exists.\n",
            "Skipping 1015.jpg: Output already exists.\n",
            "Skipping 15341.jpg: Output already exists.\n",
            "Skipping 13285.jpg: Output already exists.\n",
            "Skipping 10948.jpg: Output already exists.\n",
            "Skipping 12671.jpg: Output already exists.\n",
            "Skipping 12807.jpg: Output already exists.\n",
            "Skipping 10012.jpg: Output already exists.\n",
            "Skipping 13962.jpg: Output already exists.\n",
            "Skipping 14788.jpg: Output already exists.\n",
            "Skipping 10386.jpg: Output already exists.\n",
            "Skipping 15143.jpg: Output already exists.\n",
            "Skipping 14322.jpg: Output already exists.\n",
            "Skipping 12883.jpg: Output already exists.\n",
            "Skipping 14152.jpg: Output already exists.\n",
            "Skipping 1316.jpg: Output already exists.\n",
            "Skipping 13944.jpg: Output already exists.\n",
            "Skipping 12017.jpg: Output already exists.\n",
            "Skipping 1193.jpg: Output already exists.\n",
            "Skipping 10224.jpg: Output already exists.\n",
            "Skipping 14858.jpg: Output already exists.\n",
            "Skipping 0.jpg: Output already exists.\n",
            "Skipping 13886.jpg: Output already exists.\n",
            "Skipping 10047.jpg: Output already exists.\n",
            "Skipping 14422.jpg: Output already exists.\n",
            "Skipping 10917.jpg: Output already exists.\n",
            "Skipping 11463.jpg: Output already exists.\n",
            "Skipping 14976.jpg: Output already exists.\n",
            "Skipping 10911.jpg: Output already exists.\n",
            "Skipping 12128.jpg: Output already exists.\n",
            "Skipping 1444.jpg: Output already exists.\n",
            "Skipping 10771.jpg: Output already exists.\n",
            "Skipping 10576.jpg: Output already exists.\n",
            "Skipping 14708.jpg: Output already exists.\n",
            "Skipping 12222.jpg: Output already exists.\n",
            "Skipping 10715.jpg: Output already exists.\n",
            "Skipping 13960.jpg: Output already exists.\n",
            "Skipping 11354.jpg: Output already exists.\n",
            "Skipping 1118.jpg: Output already exists.\n",
            "Skipping 14873.jpg: Output already exists.\n",
            "Skipping 1325.jpg: Output already exists.\n",
            "Skipping 13718.jpg: Output already exists.\n",
            "Skipping 12939.jpg: Output already exists.\n",
            "Skipping 13289.jpg: Output already exists.\n",
            "Skipping 15096.jpg: Output already exists.\n",
            "Skipping 14080.jpg: Output already exists.\n",
            "Skipping 15286.jpg: Output already exists.\n",
            "Skipping 11661.jpg: Output already exists.\n",
            "Skipping 11196.jpg: Output already exists.\n",
            "Skipping 15358.jpg: Output already exists.\n",
            "Skipping 10050.jpg: Output already exists.\n",
            "Skipping 13581.jpg: Output already exists.\n",
            "Skipping 1006.jpg: Output already exists.\n",
            "Skipping 11438.jpg: Output already exists.\n",
            "Skipping 10124.jpg: Output already exists.\n",
            "Skipping 13780.jpg: Output already exists.\n",
            "Skipping 14010.jpg: Output already exists.\n",
            "Skipping 12029.jpg: Output already exists.\n",
            "Skipping 10819.jpg: Output already exists.\n",
            "Skipping 13459.jpg: Output already exists.\n",
            "Skipping 12986.jpg: Output already exists.\n",
            "Skipping 11494.jpg: Output already exists.\n",
            "Skipping 1196.jpg: Output already exists.\n",
            "Skipping 11610.jpg: Output already exists.\n",
            "Skipping 14050.jpg: Output already exists.\n",
            "Skipping 13034.jpg: Output already exists.\n",
            "Skipping 14470.jpg: Output already exists.\n",
            "Skipping 10244.jpg: Output already exists.\n",
            "Skipping 12009.jpg: Output already exists.\n",
            "Skipping 11458.jpg: Output already exists.\n",
            "Skipping 12995.jpg: Output already exists.\n",
            "Skipping 11164.jpg: Output already exists.\n",
            "Skipping 15144.jpg: Output already exists.\n",
            "Skipping 10630.jpg: Output already exists.\n",
            "Skipping 12921.jpg: Output already exists.\n",
            "Skipping 13150.jpg: Output already exists.\n",
            "Skipping 14994.jpg: Output already exists.\n",
            "Skipping 10184.jpg: Output already exists.\n",
            "Skipping 11842.jpg: Output already exists.\n",
            "Skipping 12886.jpg: Output already exists.\n",
            "Skipping 11738.jpg: Output already exists.\n",
            "Skipping 10128.jpg: Output already exists.\n",
            "Skipping 12660.jpg: Output already exists.\n",
            "Skipping 11264.jpg: Output already exists.\n",
            "Skipping 13778.jpg: Output already exists.\n",
            "Skipping 11528.jpg: Output already exists.\n",
            "Skipping 10752.jpg: Output already exists.\n",
            "Skipping 15029.jpg: Output already exists.\n",
            "Skipping 14209.jpg: Output already exists.\n",
            "Skipping 13675.jpg: Output already exists.\n",
            "Skipping 14244.jpg: Output already exists.\n",
            "Skipping 11817.jpg: Output already exists.\n",
            "Skipping 10530.jpg: Output already exists.\n",
            "Skipping 1021.jpg: Output already exists.\n",
            "Skipping 1059.jpg: Output already exists.\n",
            "Skipping 1099.jpg: Output already exists.\n",
            "Skipping 11245.jpg: Output already exists.\n",
            "Skipping 14999.jpg: Output already exists.\n",
            "Skipping 13451.jpg: Output already exists.\n",
            "Skipping 10769.jpg: Output already exists.\n",
            "Skipping 13240.jpg: Output already exists.\n",
            "Skipping 11920.jpg: Output already exists.\n",
            "Skipping 13578.jpg: Output already exists.\n",
            "Skipping 13106.jpg: Output already exists.\n",
            "Skipping 11175.jpg: Output already exists.\n",
            "Skipping 10924.jpg: Output already exists.\n",
            "Skipping 11861.jpg: Output already exists.\n",
            "Skipping 14130.jpg: Output already exists.\n",
            "Skipping 10458.jpg: Output already exists.\n",
            "Skipping 1270.jpg: Output already exists.\n",
            "Skipping 12996.jpg: Output already exists.\n",
            "Skipping 1386.jpg: Output already exists.\n",
            "Skipping 1269.jpg: Output already exists.\n",
            "Skipping 12967.jpg: Output already exists.\n",
            "Skipping 10662.jpg: Output already exists.\n",
            "Skipping 12724.jpg: Output already exists.\n",
            "Skipping 10868.jpg: Output already exists.\n",
            "Skipping 10788.jpg: Output already exists.\n",
            "Skipping 11505.jpg: Output already exists.\n",
            "Skipping 1133.jpg: Output already exists.\n",
            "Skipping 12693.jpg: Output already exists.\n",
            "Skipping 12360.jpg: Output already exists.\n",
            "Skipping 1070.jpg: Output already exists.\n",
            "Skipping 10164.jpg: Output already exists.\n",
            "Skipping 12097.jpg: Output already exists.\n",
            "Skipping 1456.jpg: Output already exists.\n",
            "Skipping 14763.jpg: Output already exists.\n",
            "Skipping 10595.jpg: Output already exists.\n",
            "Skipping 12388.jpg: Output already exists.\n",
            "Skipping 12156.jpg: Output already exists.\n",
            "Skipping 12796.jpg: Output already exists.\n",
            "Skipping 14831.jpg: Output already exists.\n",
            "Skipping 11559.jpg: Output already exists.\n",
            "Skipping 13924.jpg: Output already exists.\n",
            "Skipping 1130.jpg: Output already exists.\n",
            "Skipping 14715.jpg: Output already exists.\n",
            "Skipping 15231.jpg: Output already exists.\n",
            "Skipping 1264.jpg: Output already exists.\n",
            "Skipping 13770.jpg: Output already exists.\n",
            "Skipping 13102.jpg: Output already exists.\n",
            "Skipping 10782.jpg: Output already exists.\n",
            "Skipping 11781.jpg: Output already exists.\n",
            "Skipping 12580.jpg: Output already exists.\n",
            "Skipping 15337.jpg: Output already exists.\n",
            "Skipping 14101.jpg: Output already exists.\n",
            "Skipping 10700.jpg: Output already exists.\n",
            "Skipping 14955.jpg: Output already exists.\n",
            "Skipping 11442.jpg: Output already exists.\n",
            "Skipping 11833.jpg: Output already exists.\n",
            "Skipping 1324.jpg: Output already exists.\n",
            "Skipping 14940.jpg: Output already exists.\n",
            "Skipping 12008.jpg: Output already exists.\n",
            "Skipping 11303.jpg: Output already exists.\n",
            "Skipping 10030.jpg: Output already exists.\n",
            "Skipping 12581.jpg: Output already exists.\n",
            "Skipping 10609.jpg: Output already exists.\n",
            "Skipping 13264.jpg: Output already exists.\n",
            "Skipping 13789.jpg: Output already exists.\n",
            "Skipping 10452.jpg: Output already exists.\n",
            "Skipping 13097.jpg: Output already exists.\n",
            "Skipping 10956.jpg: Output already exists.\n",
            "Skipping 15067.jpg: Output already exists.\n",
            "Skipping 10136.jpg: Output already exists.\n",
            "Skipping 11495.jpg: Output already exists.\n",
            "Skipping 133.jpg: Output already exists.\n",
            "Skipping 12653.jpg: Output already exists.\n",
            "Skipping 13496.jpg: Output already exists.\n",
            "Skipping 11599.jpg: Output already exists.\n",
            "Skipping 11070.jpg: Output already exists.\n",
            "Skipping 11552.jpg: Output already exists.\n",
            "Skipping 12564.jpg: Output already exists.\n",
            "Skipping 12695.jpg: Output already exists.\n",
            "Skipping 10570.jpg: Output already exists.\n",
            "Skipping 11185.jpg: Output already exists.\n",
            "Skipping 10442.jpg: Output already exists.\n",
            "Skipping 10257.jpg: Output already exists.\n",
            "Skipping 1349.jpg: Output already exists.\n",
            "Skipping 10448.jpg: Output already exists.\n",
            "Skipping 10691.jpg: Output already exists.\n",
            "Skipping 14424.jpg: Output already exists.\n",
            "Skipping 12630.jpg: Output already exists.\n",
            "Skipping 14184.jpg: Output already exists.\n",
            "Skipping 10553.jpg: Output already exists.\n",
            "Skipping 14170.jpg: Output already exists.\n",
            "Skipping 13907.jpg: Output already exists.\n",
            "Skipping 13744.jpg: Output already exists.\n",
            "Skipping 10506.jpg: Output already exists.\n",
            "Skipping 14110.jpg: Output already exists.\n",
            "Skipping 12603.jpg: Output already exists.\n",
            "Skipping 13384.jpg: Output already exists.\n",
            "Skipping 12135.jpg: Output already exists.\n",
            "Skipping 12339.jpg: Output already exists.\n",
            "Skipping 1158.jpg: Output already exists.\n",
            "Skipping 12661.jpg: Output already exists.\n",
            "Skipping 15083.jpg: Output already exists.\n",
            "Skipping 14836.jpg: Output already exists.\n",
            "Skipping 14754.jpg: Output already exists.\n",
            "Skipping 13519.jpg: Output already exists.\n",
            "Skipping 13161.jpg: Output already exists.\n",
            "Skipping 14877.jpg: Output already exists.\n",
            "Skipping 1155.jpg: Output already exists.\n",
            "Skipping 11510.jpg: Output already exists.\n",
            "Skipping 10093.jpg: Output already exists.\n",
            "Skipping 11851.jpg: Output already exists.\n",
            "Skipping 11462.jpg: Output already exists.\n",
            "Skipping 135.jpg: Output already exists.\n",
            "Skipping 13843.jpg: Output already exists.\n",
            "Skipping 14028.jpg: Output already exists.\n",
            "Skipping 11017.jpg: Output already exists.\n",
            "Skipping 13791.jpg: Output already exists.\n",
            "Skipping 13239.jpg: Output already exists.\n",
            "Skipping 11472.jpg: Output already exists.\n",
            "Skipping 12042.jpg: Output already exists.\n",
            "Skipping 1199.jpg: Output already exists.\n",
            "Skipping 13371.jpg: Output already exists.\n",
            "Skipping 15112.jpg: Output already exists.\n",
            "Skipping 10247.jpg: Output already exists.\n",
            "Skipping 13657.jpg: Output already exists.\n",
            "Skipping 11237.jpg: Output already exists.\n",
            "Skipping 14006.jpg: Output already exists.\n",
            "Skipping 11386.jpg: Output already exists.\n",
            "Skipping 10688.jpg: Output already exists.\n",
            "Skipping 10644.jpg: Output already exists.\n",
            "Skipping 11591.jpg: Output already exists.\n",
            "Skipping 11872.jpg: Output already exists.\n",
            "Skipping 14995.jpg: Output already exists.\n",
            "Skipping 15007.jpg: Output already exists.\n",
            "Skipping 14019.jpg: Output already exists.\n",
            "Skipping 15195.jpg: Output already exists.\n",
            "Skipping 13651.jpg: Output already exists.\n",
            "Skipping 13025.jpg: Output already exists.\n",
            "Skipping 15119.jpg: Output already exists.\n",
            "Skipping 10189.jpg: Output already exists.\n",
            "Skipping 15086.jpg: Output already exists.\n",
            "Skipping 14058.jpg: Output already exists.\n",
            "Skipping 14356.jpg: Output already exists.\n",
            "Skipping 11585.jpg: Output already exists.\n",
            "Skipping 10685.jpg: Output already exists.\n",
            "Skipping 13970.jpg: Output already exists.\n",
            "Skipping 10766.jpg: Output already exists.\n",
            "Skipping 13582.jpg: Output already exists.\n",
            "Skipping 13173.jpg: Output already exists.\n",
            "Skipping 1252.jpg: Output already exists.\n",
            "Skipping 10679.jpg: Output already exists.\n",
            "Skipping 10222.jpg: Output already exists.\n",
            "Skipping 15085.jpg: Output already exists.\n",
            "Skipping 14811.jpg: Output already exists.\n",
            "Skipping 13237.jpg: Output already exists.\n",
            "Skipping 11589.jpg: Output already exists.\n",
            "Skipping 10228.jpg: Output already exists.\n",
            "Skipping 10418.jpg: Output already exists.\n",
            "Skipping 10574.jpg: Output already exists.\n",
            "Skipping 12974.jpg: Output already exists.\n",
            "Skipping 15019.jpg: Output already exists.\n",
            "Skipping 10402.jpg: Output already exists.\n",
            "Skipping 12762.jpg: Output already exists.\n",
            "Skipping 11177.jpg: Output already exists.\n",
            "Skipping 13035.jpg: Output already exists.\n",
            "Skipping 15139.jpg: Output already exists.\n",
            "Skipping 13199.jpg: Output already exists.\n",
            "Skipping 14953.jpg: Output already exists.\n",
            "Skipping 10587.jpg: Output already exists.\n",
            "Skipping 15099.jpg: Output already exists.\n",
            "Skipping 15199.jpg: Output already exists.\n",
            "Skipping 11790.jpg: Output already exists.\n",
            "Skipping 11786.jpg: Output already exists.\n",
            "Skipping 12859.jpg: Output already exists.\n",
            "Skipping 15292.jpg: Output already exists.\n",
            "Skipping 13553.jpg: Output already exists.\n",
            "Skipping 14200.jpg: Output already exists.\n",
            "Skipping 13869.jpg: Output already exists.\n",
            "Skipping 14354.jpg: Output already exists.\n",
            "Skipping 12399.jpg: Output already exists.\n",
            "Skipping 12240.jpg: Output already exists.\n",
            "Skipping 12559.jpg: Output already exists.\n",
            "Skipping 10531.jpg: Output already exists.\n",
            "Skipping 13089.jpg: Output already exists.\n",
            "Skipping 13103.jpg: Output already exists.\n",
            "Skipping 12761.jpg: Output already exists.\n",
            "Skipping 12143.jpg: Output already exists.\n",
            "Skipping 10548.jpg: Output already exists.\n",
            "Skipping 14037.jpg: Output already exists.\n",
            "Skipping 12041.jpg: Output already exists.\n",
            "Skipping 1152.jpg: Output already exists.\n",
            "Skipping 13738.jpg: Output already exists.\n",
            "Skipping 14199.jpg: Output already exists.\n",
            "Skipping 14438.jpg: Output already exists.\n",
            "Skipping 10432.jpg: Output already exists.\n",
            "Skipping 13769.jpg: Output already exists.\n",
            "Skipping 13685.jpg: Output already exists.\n",
            "Skipping 11712.jpg: Output already exists.\n",
            "Skipping 14458.jpg: Output already exists.\n",
            "Skipping 10678.jpg: Output already exists.\n",
            "Skipping 13110.jpg: Output already exists.\n",
            "Skipping 1412.jpg: Output already exists.\n",
            "Skipping 13396.jpg: Output already exists.\n",
            "Skipping 10990.jpg: Output already exists.\n",
            "Skipping 15382.jpg: Output already exists.\n",
            "Skipping 10344.jpg: Output already exists.\n",
            "Skipping 14226.jpg: Output already exists.\n",
            "Skipping 12310.jpg: Output already exists.\n",
            "Skipping 11455.jpg: Output already exists.\n",
            "Skipping 15198.jpg: Output already exists.\n",
            "Skipping 12836.jpg: Output already exists.\n",
            "Skipping 11877.jpg: Output already exists.\n",
            "Skipping 10413.jpg: Output already exists.\n",
            "Skipping 11395.jpg: Output already exists.\n",
            "Skipping 15000.jpg: Output already exists.\n",
            "Skipping 14238.jpg: Output already exists.\n",
            "Skipping 14563.jpg: Output already exists.\n",
            "Skipping 13710.jpg: Output already exists.\n",
            "Skipping 10848.jpg: Output already exists.\n",
            "Skipping 14292.jpg: Output already exists.\n",
            "Skipping 12204.jpg: Output already exists.\n",
            "Skipping 11232.jpg: Output already exists.\n",
            "Skipping 14203.jpg: Output already exists.\n",
            "Skipping 12109.jpg: Output already exists.\n",
            "Skipping 15071.jpg: Output already exists.\n",
            "Skipping 13618.jpg: Output already exists.\n",
            "Skipping 11926.jpg: Output already exists.\n",
            "Skipping 13755.jpg: Output already exists.\n",
            "Skipping 11423.jpg: Output already exists.\n",
            "Skipping 12093.jpg: Output already exists.\n",
            "Skipping 10778.jpg: Output already exists.\n",
            "Skipping 12090.jpg: Output already exists.\n",
            "Skipping 13248.jpg: Output already exists.\n",
            "Skipping 12960.jpg: Output already exists.\n",
            "Skipping 12823.jpg: Output already exists.\n",
            "Skipping 12342.jpg: Output already exists.\n",
            "Skipping 10603.jpg: Output already exists.\n",
            "Skipping 11930.jpg: Output already exists.\n",
            "Skipping 10981.jpg: Output already exists.\n",
            "Skipping 12944.jpg: Output already exists.\n",
            "Skipping 14794.jpg: Output already exists.\n",
            "Skipping 14928.jpg: Output already exists.\n",
            "Skipping 14293.jpg: Output already exists.\n",
            "Skipping 14217.jpg: Output already exists.\n",
            "Skipping 13252.jpg: Output already exists.\n",
            "Skipping 14321.jpg: Output already exists.\n",
            "Skipping 13069.jpg: Output already exists.\n",
            "Skipping 11918.jpg: Output already exists.\n",
            "Skipping 10010.jpg: Output already exists.\n",
            "Skipping 12775.jpg: Output already exists.\n",
            "Skipping 12968.jpg: Output already exists.\n",
            "Skipping 11614.jpg: Output already exists.\n",
            "Skipping 13304.jpg: Output already exists.\n",
            "Skipping 13352.jpg: Output already exists.\n",
            "Skipping 1150.jpg: Output already exists.\n",
            "Skipping 15209.jpg: Output already exists.\n",
            "Skipping 12992.jpg: Output already exists.\n",
            "Skipping 12406.jpg: Output already exists.\n",
            "Skipping 12990.jpg: Output already exists.\n",
            "Skipping 14394.jpg: Output already exists.\n",
            "Skipping 13808.jpg: Output already exists.\n",
            "Skipping 10728.jpg: Output already exists.\n",
            "Skipping 11804.jpg: Output already exists.\n",
            "Skipping 15390.jpg: Output already exists.\n",
            "Skipping 12279.jpg: Output already exists.\n",
            "Skipping 11256.jpg: Output already exists.\n",
            "Skipping 10101.jpg: Output already exists.\n",
            "Skipping 14991.jpg: Output already exists.\n",
            "Skipping 11673.jpg: Output already exists.\n",
            "Skipping 14116.jpg: Output already exists.\n",
            "Skipping 1241.jpg: Output already exists.\n",
            "Skipping 10172.jpg: Output already exists.\n",
            "Skipping 10476.jpg: Output already exists.\n",
            "Skipping 14428.jpg: Output already exists.\n",
            "Skipping 126.jpg: Output already exists.\n",
            "Skipping 13606.jpg: Output already exists.\n",
            "Skipping 15366.jpg: Output already exists.\n",
            "Skipping 14165.jpg: Output already exists.\n",
            "Skipping 12739.jpg: Output already exists.\n",
            "Skipping 12725.jpg: Output already exists.\n",
            "Skipping 14998.jpg: Output already exists.\n",
            "Skipping 1225.jpg: Output already exists.\n",
            "Skipping 11849.jpg: Output already exists.\n",
            "Skipping 11448.jpg: Output already exists.\n",
            "Skipping 14882.jpg: Output already exists.\n",
            "Skipping 13902.jpg: Output already exists.\n",
            "Skipping 11631.jpg: Output already exists.\n",
            "Skipping 11507.jpg: Output already exists.\n",
            "Skipping 14016.jpg: Output already exists.\n",
            "Skipping 12696.jpg: Output already exists.\n",
            "Skipping 10188.jpg: Output already exists.\n",
            "Skipping 1374.jpg: Output already exists.\n",
            "Skipping 12221.jpg: Output already exists.\n",
            "Skipping 14188.jpg: Output already exists.\n",
            "Skipping 14176.jpg: Output already exists.\n",
            "Skipping 14770.jpg: Output already exists.\n",
            "Skipping 12377.jpg: Output already exists.\n",
            "Skipping 10134.jpg: Output already exists.\n",
            "Skipping 14131.jpg: Output already exists.\n",
            "Skipping 12961.jpg: Output already exists.\n",
            "Skipping 12963.jpg: Output already exists.\n",
            "Skipping 12200.jpg: Output already exists.\n",
            "Skipping 10645.jpg: Output already exists.\n",
            "Skipping 12157.jpg: Output already exists.\n",
            "Skipping 14947.jpg: Output already exists.\n",
            "Skipping 14298.jpg: Output already exists.\n",
            "Skipping 11488.jpg: Output already exists.\n",
            "Skipping 13957.jpg: Output already exists.\n",
            "Skipping 10507.jpg: Output already exists.\n",
            "Skipping 12404.jpg: Output already exists.\n",
            "Skipping 12972.jpg: Output already exists.\n",
            "Skipping 12623.jpg: Output already exists.\n",
            "Skipping 14345.jpg: Output already exists.\n",
            "Skipping 13159.jpg: Output already exists.\n",
            "Skipping 15026.jpg: Output already exists.\n",
            "Skipping 13677.jpg: Output already exists.\n",
            "Skipping 13231.jpg: Output already exists.\n",
            "Skipping 11733.jpg: Output already exists.\n",
            "Skipping 10711.jpg: Output already exists.\n",
            "Skipping 13670.jpg: Output already exists.\n",
            "Skipping 14221.jpg: Output already exists.\n",
            "Skipping 14456.jpg: Output already exists.\n",
            "Skipping 12437.jpg: Output already exists.\n",
            "Skipping 13823.jpg: Output already exists.\n",
            "Skipping 13788.jpg: Output already exists.\n",
            "Skipping 13525.jpg: Output already exists.\n",
            "Skipping 10612.jpg: Output already exists.\n",
            "Skipping 12650.jpg: Output already exists.\n",
            "Skipping 130.jpg: Output already exists.\n",
            "Skipping 10481.jpg: Output already exists.\n",
            "Skipping 14352.jpg: Output already exists.\n",
            "Skipping 1479.jpg: Output already exists.\n",
            "Skipping 15376.jpg: Output already exists.\n",
            "Skipping 12729.jpg: Output already exists.\n",
            "Skipping 12628.jpg: Output already exists.\n",
            "Skipping 12465.jpg: Output already exists.\n",
            "Skipping 11321.jpg: Output already exists.\n",
            "Skipping 12719.jpg: Output already exists.\n",
            "Skipping 1408.jpg: Output already exists.\n",
            "Skipping 12680.jpg: Output already exists.\n",
            "Skipping 10657.jpg: Output already exists.\n",
            "Skipping 145.jpg: Output already exists.\n",
            "Skipping 11548.jpg: Output already exists.\n",
            "Skipping 12978.jpg: Output already exists.\n",
            "Skipping 14550.jpg: Output already exists.\n",
            "Skipping 12006.jpg: Output already exists.\n",
            "Skipping 10286.jpg: Output already exists.\n",
            "Skipping 15237.jpg: Output already exists.\n",
            "Skipping 12832.jpg: Output already exists.\n",
            "Skipping 14707.jpg: Output already exists.\n",
            "Skipping 14951.jpg: Output already exists.\n",
            "Skipping 11667.jpg: Output already exists.\n",
            "Skipping 11989.jpg: Output already exists.\n",
            "Skipping 12030.jpg: Output already exists.\n",
            "Skipping 15270.jpg: Output already exists.\n",
            "Skipping 12659.jpg: Output already exists.\n",
            "Skipping 11032.jpg: Output already exists.\n",
            "Skipping 13181.jpg: Output already exists.\n",
            "Skipping 13776.jpg: Output already exists.\n",
            "Skipping 13551.jpg: Output already exists.\n",
            "Skipping 13547.jpg: Output already exists.\n",
            "Skipping 15353.jpg: Output already exists.\n",
            "Skipping 1485.jpg: Output already exists.\n",
            "Skipping 14558.jpg: Output already exists.\n",
            "Skipping 11187.jpg: Output already exists.\n",
            "Skipping 1126.jpg: Output already exists.\n",
            "Skipping 14566.jpg: Output already exists.\n",
            "Skipping 14185.jpg: Output already exists.\n",
            "Skipping 12417.jpg: Output already exists.\n",
            "Skipping 12419.jpg: Output already exists.\n",
            "Skipping 10976.jpg: Output already exists.\n",
            "Skipping 13681.jpg: Output already exists.\n",
            "Skipping 13743.jpg: Output already exists.\n",
            "Skipping 1422.jpg: Output already exists.\n",
            "Skipping 10207.jpg: Output already exists.\n",
            "Skipping 10430.jpg: Output already exists.\n",
            "Skipping 14586.jpg: Output already exists.\n",
            "Skipping 14437.jpg: Output already exists.\n",
            "Skipping 14797.jpg: Output already exists.\n",
            "Skipping 15320.jpg: Output already exists.\n",
            "Skipping 10851.jpg: Output already exists.\n",
            "Skipping 13855.jpg: Output already exists.\n",
            "Skipping 12002.jpg: Output already exists.\n",
            "Skipping 15294.jpg: Output already exists.\n",
            "Skipping 12657.jpg: Output already exists.\n",
            "Skipping 10339.jpg: Output already exists.\n",
            "Skipping 10653.jpg: Output already exists.\n",
            "Skipping 14738.jpg: Output already exists.\n",
            "Skipping 10649.jpg: Output already exists.\n",
            "Skipping 10371.jpg: Output already exists.\n",
            "Skipping 13686.jpg: Output already exists.\n",
            "Skipping 12812.jpg: Output already exists.\n",
            "Skipping 11460.jpg: Output already exists.\n",
            "Skipping 13222.jpg: Output already exists.\n",
            "Skipping 14413.jpg: Output already exists.\n",
            "Skipping 1538.jpg: Output already exists.\n",
            "Skipping 10155.jpg: Output already exists.\n",
            "Skipping 13654.jpg: Output already exists.\n",
            "Skipping 12788.jpg: Output already exists.\n",
            "Skipping 10813.jpg: Output already exists.\n",
            "Skipping 15245.jpg: Output already exists.\n",
            "Skipping 14987.jpg: Output already exists.\n",
            "Skipping 12333.jpg: Output already exists.\n",
            "Skipping 11678.jpg: Output already exists.\n",
            "Skipping 10849.jpg: Output already exists.\n",
            "Skipping 10975.jpg: Output already exists.\n",
            "Skipping 15359.jpg: Output already exists.\n",
            "Skipping 120.jpg: Output already exists.\n",
            "Skipping 11875.jpg: Output already exists.\n",
            "Skipping 1465.jpg: Output already exists.\n",
            "Skipping 10912.jpg: Output already exists.\n",
            "Skipping 11770.jpg: Output already exists.\n",
            "Skipping 11189.jpg: Output already exists.\n",
            "Skipping 1344.jpg: Output already exists.\n",
            "Skipping 11365.jpg: Output already exists.\n",
            "Skipping 12193.jpg: Output already exists.\n",
            "Skipping 15049.jpg: Output already exists.\n",
            "Skipping 12667.jpg: Output already exists.\n",
            "Skipping 10666.jpg: Output already exists.\n",
            "Skipping 1309.jpg: Output already exists.\n",
            "Skipping 10823.jpg: Output already exists.\n",
            "Skipping 14071.jpg: Output already exists.\n",
            "Skipping 1103.jpg: Output already exists.\n",
            "Skipping 10759.jpg: Output already exists.\n",
            "Skipping 12572.jpg: Output already exists.\n",
            "Skipping 10809.jpg: Output already exists.\n",
            "Skipping 1108.jpg: Output already exists.\n",
            "Skipping 1355.jpg: Output already exists.\n",
            "Skipping 14275.jpg: Output already exists.\n",
            "Skipping 11772.jpg: Output already exists.\n",
            "Skipping 14506.jpg: Output already exists.\n",
            "Skipping 14403.jpg: Output already exists.\n",
            "Skipping 11755.jpg: Output already exists.\n",
            "Skipping 12644.jpg: Output already exists.\n",
            "Skipping 15123.jpg: Output already exists.\n",
            "Skipping 104.jpg: Output already exists.\n",
            "Skipping 10147.jpg: Output already exists.\n",
            "Skipping 11624.jpg: Output already exists.\n",
            "Skipping 11335.jpg: Output already exists.\n",
            "Skipping 14384.jpg: Output already exists.\n",
            "Skipping 13302.jpg: Output already exists.\n",
            "Skipping 10511.jpg: Output already exists.\n",
            "Skipping 1256.jpg: Output already exists.\n",
            "Skipping 14825.jpg: Output already exists.\n",
            "Skipping 1121.jpg: Output already exists.\n",
            "Skipping 14894.jpg: Output already exists.\n",
            "Skipping 13249.jpg: Output already exists.\n",
            "Skipping 14235.jpg: Output already exists.\n",
            "Skipping 13170.jpg: Output already exists.\n",
            "Skipping 11796.jpg: Output already exists.\n",
            "Skipping 13201.jpg: Output already exists.\n",
            "Skipping 12552.jpg: Output already exists.\n",
            "Skipping 12249.jpg: Output already exists.\n",
            "Skipping 1448.jpg: Output already exists.\n",
            "Skipping 12426.jpg: Output already exists.\n",
            "Skipping 11465.jpg: Output already exists.\n",
            "Skipping 10464.jpg: Output already exists.\n",
            "Skipping 12684.jpg: Output already exists.\n",
            "Skipping 14927.jpg: Output already exists.\n",
            "Skipping 123.jpg: Output already exists.\n",
            "Skipping 14672.jpg: Output already exists.\n",
            "Skipping 14490.jpg: Output already exists.\n",
            "Skipping 14416.jpg: Output already exists.\n",
            "Skipping 12735.jpg: Output already exists.\n",
            "Skipping 12212.jpg: Output already exists.\n",
            "Skipping 1002.jpg: Output already exists.\n",
            "Skipping 11839.jpg: Output already exists.\n",
            "Skipping 10919.jpg: Output already exists.\n",
            "Skipping 13968.jpg: Output already exists.\n",
            "Skipping 12024.jpg: Output already exists.\n",
            "Skipping 15384.jpg: Output already exists.\n",
            "Skipping 12168.jpg: Output already exists.\n",
            "Skipping 14107.jpg: Output already exists.\n",
            "Skipping 1254.jpg: Output already exists.\n",
            "Skipping 12423.jpg: Output already exists.\n",
            "Skipping 11974.jpg: Output already exists.\n",
            "Skipping 14225.jpg: Output already exists.\n",
            "Skipping 10011.jpg: Output already exists.\n",
            "Skipping 14154.jpg: Output already exists.\n",
            "Skipping 11605.jpg: Output already exists.\n",
            "Skipping 14220.jpg: Output already exists.\n",
            "Skipping 13818.jpg: Output already exists.\n",
            "Skipping 12828.jpg: Output already exists.\n",
            "Skipping 11691.jpg: Output already exists.\n",
            "Skipping 11027.jpg: Output already exists.\n",
            "Skipping 14581.jpg: Output already exists.\n",
            "Skipping 12757.jpg: Output already exists.\n",
            "Skipping 14156.jpg: Output already exists.\n",
            "Skipping 13429.jpg: Output already exists.\n",
            "Skipping 12538.jpg: Output already exists.\n",
            "Skipping 14862.jpg: Output already exists.\n",
            "Skipping 10904.jpg: Output already exists.\n",
            "Skipping 12831.jpg: Output already exists.\n",
            "Skipping 12627.jpg: Output already exists.\n",
            "Skipping 14662.jpg: Output already exists.\n",
            "Skipping 1067.jpg: Output already exists.\n",
            "Skipping 1125.jpg: Output already exists.\n",
            "Skipping 12405.jpg: Output already exists.\n",
            "Skipping 12366.jpg: Output already exists.\n",
            "Skipping 10707.jpg: Output already exists.\n",
            "Skipping 1028.jpg: Output already exists.\n",
            "Skipping 12548.jpg: Output already exists.\n",
            "Skipping 15295.jpg: Output already exists.\n",
            "Skipping 15361.jpg: Output already exists.\n",
            "Skipping 14029.jpg: Output already exists.\n",
            "Skipping 10177.jpg: Output already exists.\n",
            "Skipping 12955.jpg: Output already exists.\n",
            "Skipping 11819.jpg: Output already exists.\n",
            "Skipping 12943.jpg: Output already exists.\n",
            "Skipping 12512.jpg: Output already exists.\n",
            "Skipping 13348.jpg: Output already exists.\n",
            "Skipping 11737.jpg: Output already exists.\n",
            "Skipping 13009.jpg: Output already exists.\n",
            "Skipping 13167.jpg: Output already exists.\n",
            "Skipping 1075.jpg: Output already exists.\n",
            "Skipping 12214.jpg: Output already exists.\n",
            "Skipping 13053.jpg: Output already exists.\n",
            "Skipping 10547.jpg: Output already exists.\n",
            "Skipping 14000.jpg: Output already exists.\n",
            "Skipping 12934.jpg: Output already exists.\n",
            "Skipping 15238.jpg: Output already exists.\n",
            "Skipping 11469.jpg: Output already exists.\n",
            "Skipping 149.jpg: Output already exists.\n",
            "Skipping 1459.jpg: Output already exists.\n",
            "Skipping 10094.jpg: Output already exists.\n",
            "Skipping 11411.jpg: Output already exists.\n",
            "Skipping 11476.jpg: Output already exists.\n",
            "Skipping 13796.jpg: Output already exists.\n",
            "Skipping 11284.jpg: Output already exists.\n",
            "Skipping 11471.jpg: Output already exists.\n",
            "Skipping 15373.jpg: Output already exists.\n",
            "Skipping 12274.jpg: Output already exists.\n",
            "Skipping 15015.jpg: Output already exists.\n",
            "Skipping 14469.jpg: Output already exists.\n",
            "Skipping 11546.jpg: Output already exists.\n",
            "Skipping 13926.jpg: Output already exists.\n",
            "Skipping 13419.jpg: Output already exists.\n",
            "Skipping 14603.jpg: Output already exists.\n",
            "Skipping 1197.jpg: Output already exists.\n",
            "Skipping 10968.jpg: Output already exists.\n",
            "Skipping 1364.jpg: Output already exists.\n",
            "Skipping 10190.jpg: Output already exists.\n",
            "Skipping 11219.jpg: Output already exists.\n",
            "Skipping 10151.jpg: Output already exists.\n",
            "Skipping 12846.jpg: Output already exists.\n",
            "Skipping 14728.jpg: Output already exists.\n",
            "Skipping 14689.jpg: Output already exists.\n",
            "Skipping 10444.jpg: Output already exists.\n",
            "Skipping 13043.jpg: Output already exists.\n",
            "Skipping 10157.jpg: Output already exists.\n",
            "Skipping 11844.jpg: Output already exists.\n",
            "Skipping 15253.jpg: Output already exists.\n",
            "Skipping 13544.jpg: Output already exists.\n",
            "Skipping 12292.jpg: Output already exists.\n",
            "Skipping 1365.jpg: Output already exists.\n",
            "Skipping 10690.jpg: Output already exists.\n",
            "Skipping 10597.jpg: Output already exists.\n",
            "Skipping 13913.jpg: Output already exists.\n",
            "Skipping 14120.jpg: Output already exists.\n",
            "Skipping 10906.jpg: Output already exists.\n",
            "Skipping 14069.jpg: Output already exists.\n",
            "Skipping 13472.jpg: Output already exists.\n",
            "Skipping 12670.jpg: Output already exists.\n",
            "Skipping 13301.jpg: Output already exists.\n",
            "Skipping 10721.jpg: Output already exists.\n",
            "Skipping 14057.jpg: Output already exists.\n",
            "Skipping 13575.jpg: Output already exists.\n",
            "Skipping 11715.jpg: Output already exists.\n",
            "Skipping 13330.jpg: Output already exists.\n",
            "Skipping 10697.jpg: Output already exists.\n",
            "Skipping 13959.jpg: Output already exists.\n",
            "Skipping 11555.jpg: Output already exists.\n",
            "Skipping 14789.jpg: Output already exists.\n",
            "Skipping 13792.jpg: Output already exists.\n",
            "Skipping 14186.jpg: Output already exists.\n",
            "Skipping 15079.jpg: Output already exists.\n",
            "Skipping 10400.jpg: Output already exists.\n",
            "Skipping 15024.jpg: Output already exists.\n",
            "Skipping 13650.jpg: Output already exists.\n",
            "Skipping 10941.jpg: Output already exists.\n",
            "Skipping 11771.jpg: Output already exists.\n",
            "Skipping 11317.jpg: Output already exists.\n",
            "Skipping 15090.jpg: Output already exists.\n",
            "Skipping 11802.jpg: Output already exists.\n",
            "Skipping 10923.jpg: Output already exists.\n",
            "Skipping 1120.jpg: Output already exists.\n",
            "Skipping 1515.jpg: Output already exists.\n",
            "Skipping 11007.jpg: Output already exists.\n",
            "Skipping 10580.jpg: Output already exists.\n",
            "Skipping 10658.jpg: Output already exists.\n",
            "Skipping 13071.jpg: Output already exists.\n",
            "Skipping 13799.jpg: Output already exists.\n",
            "Skipping 12590.jpg: Output already exists.\n",
            "Skipping 13251.jpg: Output already exists.\n",
            "Skipping 11543.jpg: Output already exists.\n",
            "Skipping 12912.jpg: Output already exists.\n",
            "Skipping 12817.jpg: Output already exists.\n",
            "Skipping 13875.jpg: Output already exists.\n",
            "Skipping 10034.jpg: Output already exists.\n",
            "Skipping 12800.jpg: Output already exists.\n",
            "Skipping 13494.jpg: Output already exists.\n",
            "Skipping 10283.jpg: Output already exists.\n",
            "Skipping 11747.jpg: Output already exists.\n",
            "Skipping 10232.jpg: Output already exists.\n",
            "Skipping 1065.jpg: Output already exists.\n",
            "Skipping 12642.jpg: Output already exists.\n",
            "Skipping 11905.jpg: Output already exists.\n",
            "Skipping 13465.jpg: Output already exists.\n",
            "Skipping 10381.jpg: Output already exists.\n",
            "Skipping 14187.jpg: Output already exists.\n",
            "Skipping 1105.jpg: Output already exists.\n",
            "Skipping 12527.jpg: Output already exists.\n",
            "Skipping 1056.jpg: Output already exists.\n",
            "Skipping 12638.jpg: Output already exists.\n",
            "Skipping 10089.jpg: Output already exists.\n",
            "Skipping 10877.jpg: Output already exists.\n",
            "Skipping 11845.jpg: Output already exists.\n",
            "Skipping 12962.jpg: Output already exists.\n",
            "Skipping 14704.jpg: Output already exists.\n",
            "Skipping 15087.jpg: Output already exists.\n",
            "Skipping 10175.jpg: Output already exists.\n",
            "Skipping 13140.jpg: Output already exists.\n",
            "Skipping 14459.jpg: Output already exists.\n",
            "Skipping 14790.jpg: Output already exists.\n",
            "Skipping 13234.jpg: Output already exists.\n",
            "Skipping 10980.jpg: Output already exists.\n",
            "Skipping 10735.jpg: Output already exists.\n",
            "Skipping 15097.jpg: Output already exists.\n",
            "Skipping 13080.jpg: Output already exists.\n",
            "Skipping 12011.jpg: Output already exists.\n",
            "Skipping 13607.jpg: Output already exists.\n",
            "Skipping 10110.jpg: Output already exists.\n",
            "Skipping 10062.jpg: Output already exists.\n",
            "Skipping 1420.jpg: Output already exists.\n",
            "Skipping 13605.jpg: Output already exists.\n",
            "Skipping 11021.jpg: Output already exists.\n",
            "Skipping 10500.jpg: Output already exists.\n",
            "Skipping 13172.jpg: Output already exists.\n",
            "Skipping 13075.jpg: Output already exists.\n",
            "Skipping 11675.jpg: Output already exists.\n",
            "Skipping 11694.jpg: Output already exists.\n",
            "Skipping 14030.jpg: Output already exists.\n",
            "Skipping 12606.jpg: Output already exists.\n",
            "Skipping 10259.jpg: Output already exists.\n",
            "Skipping 13424.jpg: Output already exists.\n",
            "Skipping 13182.jpg: Output already exists.\n",
            "Skipping 10703.jpg: Output already exists.\n",
            "Skipping 15180.jpg: Output already exists.\n",
            "Skipping 15140.jpg: Output already exists.\n",
            "Skipping 1425.jpg: Output already exists.\n",
            "Skipping 11106.jpg: Output already exists.\n",
            "Skipping 10377.jpg: Output already exists.\n",
            "Skipping 13537.jpg: Output already exists.\n",
            "Skipping 1282.jpg: Output already exists.\n",
            "Skipping 10671.jpg: Output already exists.\n",
            "Skipping 14621.jpg: Output already exists.\n",
            "Skipping 12760.jpg: Output already exists.\n",
            "Skipping 11098.jpg: Output already exists.\n",
            "Skipping 11608.jpg: Output already exists.\n",
            "Skipping 12673.jpg: Output already exists.\n",
            "Skipping 10374.jpg: Output already exists.\n",
            "Skipping 13835.jpg: Output already exists.\n",
            "Skipping 13444.jpg: Output already exists.\n",
            "Skipping 14417.jpg: Output already exists.\n",
            "Skipping 15208.jpg: Output already exists.\n",
            "Skipping 1137.jpg: Output already exists.\n",
            "Skipping 12422.jpg: Output already exists.\n",
            "Skipping 125.jpg: Output already exists.\n",
            "Skipping 12330.jpg: Output already exists.\n",
            "Skipping 10622.jpg: Output already exists.\n",
            "Skipping 12502.jpg: Output already exists.\n",
            "Skipping 12827.jpg: Output already exists.\n",
            "Skipping 14787.jpg: Output already exists.\n",
            "Skipping 10088.jpg: Output already exists.\n",
            "Skipping 11166.jpg: Output already exists.\n",
            "Skipping 11220.jpg: Output already exists.\n",
            "Skipping 11650.jpg: Output already exists.\n",
            "Skipping 12639.jpg: Output already exists.\n",
            "Skipping 13536.jpg: Output already exists.\n",
            "Skipping 14569.jpg: Output already exists.\n",
            "Skipping 11244.jpg: Output already exists.\n",
            "Skipping 14631.jpg: Output already exists.\n",
            "Skipping 15278.jpg: Output already exists.\n",
            "Skipping 12395.jpg: Output already exists.\n",
            "Skipping 14012.jpg: Output already exists.\n",
            "Skipping 14717.jpg: Output already exists.\n",
            "Skipping 11783.jpg: Output already exists.\n",
            "Skipping 14450.jpg: Output already exists.\n",
            "Skipping 12359.jpg: Output already exists.\n",
            "Skipping 15128.jpg: Output already exists.\n",
            "Skipping 14723.jpg: Output already exists.\n",
            "Skipping 10935.jpg: Output already exists.\n",
            "Skipping 10859.jpg: Output already exists.\n",
            "Skipping 14907.jpg: Output already exists.\n",
            "Skipping 14234.jpg: Output already exists.\n",
            "Skipping 14327.jpg: Output already exists.\n",
            "Skipping 10440.jpg: Output already exists.\n",
            "Skipping 12965.jpg: Output already exists.\n",
            "Skipping 13760.jpg: Output already exists.\n",
            "Skipping 1044.jpg: Output already exists.\n",
            "Skipping 13528.jpg: Output already exists.\n",
            "Skipping 11268.jpg: Output already exists.\n",
            "Skipping 13545.jpg: Output already exists.\n",
            "Skipping 10046.jpg: Output already exists.\n",
            "Skipping 13226.jpg: Output already exists.\n",
            "Skipping 10797.jpg: Output already exists.\n",
            "Skipping 10352.jpg: Output already exists.\n",
            "Skipping 14098.jpg: Output already exists.\n",
            "Skipping 1170.jpg: Output already exists.\n",
            "Skipping 12352.jpg: Output already exists.\n",
            "Skipping 15088.jpg: Output already exists.\n",
            "Skipping 13242.jpg: Output already exists.\n",
            "Skipping 14828.jpg: Output already exists.\n",
            "Skipping 14931.jpg: Output already exists.\n",
            "Skipping 11902.jpg: Output already exists.\n",
            "Skipping 1022.jpg: Output already exists.\n",
            "Skipping 13761.jpg: Output already exists.\n",
            "Skipping 11242.jpg: Output already exists.\n",
            "Skipping 11257.jpg: Output already exists.\n",
            "Skipping 10952.jpg: Output already exists.\n",
            "Skipping 14117.jpg: Output already exists.\n",
            "Skipping 12938.jpg: Output already exists.\n",
            "Skipping 12720.jpg: Output already exists.\n",
            "Skipping 13809.jpg: Output already exists.\n",
            "Skipping 10983.jpg: Output already exists.\n",
            "Skipping 13062.jpg: Output already exists.\n",
            "Skipping 13983.jpg: Output already exists.\n",
            "Skipping 10528.jpg: Output already exists.\n",
            "Skipping 1259.jpg: Output already exists.\n",
            "Skipping 11522.jpg: Output already exists.\n",
            "Skipping 13486.jpg: Output already exists.\n",
            "Skipping 14683.jpg: Output already exists.\n",
            "Skipping 11615.jpg: Output already exists.\n",
            "Skipping 10022.jpg: Output already exists.\n",
            "Skipping 12503.jpg: Output already exists.\n",
            "Skipping 15369.jpg: Output already exists.\n",
            "Skipping 14832.jpg: Output already exists.\n",
            "Skipping 12772.jpg: Output already exists.\n",
            "Skipping 13082.jpg: Output already exists.\n",
            "Skipping 12982.jpg: Output already exists.\n",
            "Skipping 12675.jpg: Output already exists.\n",
            "Skipping 1315.jpg: Output already exists.\n",
            "Skipping 12245.jpg: Output already exists.\n",
            "Skipping 15089.jpg: Output already exists.\n",
            "Skipping 10565.jpg: Output already exists.\n",
            "Skipping 15246.jpg: Output already exists.\n",
            "Skipping 14463.jpg: Output already exists.\n",
            "Skipping 11022.jpg: Output already exists.\n",
            "Skipping 15372.jpg: Output already exists.\n",
            "Skipping 15125.jpg: Output already exists.\n",
            "Skipping 12239.jpg: Output already exists.\n",
            "Skipping 13834.jpg: Output already exists.\n",
            "Skipping 11628.jpg: Output already exists.\n",
            "Skipping 13365.jpg: Output already exists.\n",
            "Skipping 12136.jpg: Output already exists.\n",
            "Skipping 13266.jpg: Output already exists.\n",
            "Skipping 14294.jpg: Output already exists.\n",
            "Skipping 10566.jpg: Output already exists.\n",
            "Skipping 11135.jpg: Output already exists.\n",
            "Skipping 11732.jpg: Output already exists.\n",
            "Skipping 12133.jpg: Output already exists.\n",
            "Skipping 12357.jpg: Output already exists.\n",
            "Skipping 12130.jpg: Output already exists.\n",
            "Skipping 10382.jpg: Output already exists.\n",
            "Skipping 12410.jpg: Output already exists.\n",
            "Skipping 10491.jpg: Output already exists.\n",
            "Skipping 13715.jpg: Output already exists.\n",
            "Skipping 14676.jpg: Output already exists.\n",
            "Skipping 1144.jpg: Output already exists.\n",
            "Skipping 10378.jpg: Output already exists.\n",
            "Skipping 12438.jpg: Output already exists.\n",
            "Skipping 10571.jpg: Output already exists.\n",
            "Skipping 10969.jpg: Output already exists.\n",
            "Skipping 13292.jpg: Output already exists.\n",
            "Skipping 14616.jpg: Output already exists.\n",
            "Skipping 11622.jpg: Output already exists.\n",
            "Skipping 10261.jpg: Output already exists.\n",
            "Skipping 13355.jpg: Output already exists.\n",
            "Skipping 14183.jpg: Output already exists.\n",
            "Skipping 10791.jpg: Output already exists.\n",
            "Skipping 14297.jpg: Output already exists.\n",
            "Skipping 14755.jpg: Output already exists.\n",
            "Skipping 10669.jpg: Output already exists.\n",
            "Skipping 13297.jpg: Output already exists.\n",
            "Skipping 11818.jpg: Output already exists.\n",
            "Skipping 14934.jpg: Output already exists.\n",
            "Skipping 13861.jpg: Output already exists.\n",
            "Skipping 15109.jpg: Output already exists.\n",
            "Skipping 13037.jpg: Output already exists.\n",
            "Skipping 13775.jpg: Output already exists.\n",
            "Skipping 11045.jpg: Output already exists.\n",
            "Skipping 13931.jpg: Output already exists.\n",
            "Skipping 14326.jpg: Output already exists.\n",
            "Skipping 10903.jpg: Output already exists.\n",
            "Skipping 12365.jpg: Output already exists.\n",
            "Skipping 10633.jpg: Output already exists.\n",
            "Skipping 11897.jpg: Output already exists.\n",
            "Skipping 11808.jpg: Output already exists.\n",
            "Skipping 11052.jpg: Output already exists.\n",
            "Skipping 10586.jpg: Output already exists.\n",
            "Skipping 10317.jpg: Output already exists.\n",
            "Skipping 12845.jpg: Output already exists.\n",
            "Skipping 12491.jpg: Output already exists.\n",
            "Skipping 11604.jpg: Output already exists.\n",
            "Skipping 15027.jpg: Output already exists.\n",
            "Skipping 10001.jpg: Output already exists.\n",
            "Skipping 11371.jpg: Output already exists.\n",
            "Skipping 15273.jpg: Output already exists.\n",
            "Skipping 12280.jpg: Output already exists.\n",
            "Skipping 11621.jpg: Output already exists.\n",
            "Skipping 11108.jpg: Output already exists.\n",
            "Skipping 10598.jpg: Output already exists.\n",
            "Skipping 13904.jpg: Output already exists.\n",
            "Skipping 11134.jpg: Output already exists.\n",
            "Skipping 12770.jpg: Output already exists.\n",
            "Skipping 13148.jpg: Output already exists.\n",
            "Skipping 12205.jpg: Output already exists.\n",
            "Skipping 15312.jpg: Output already exists.\n",
            "Skipping 12247.jpg: Output already exists.\n",
            "Skipping 13603.jpg: Output already exists.\n",
            "Skipping 15357.jpg: Output already exists.\n",
            "Skipping 15106.jpg: Output already exists.\n",
            "Skipping 13358.jpg: Output already exists.\n",
            "Skipping 10362.jpg: Output already exists.\n",
            "Skipping 12574.jpg: Output already exists.\n",
            "Skipping 12888.jpg: Output already exists.\n",
            "Skipping 1453.jpg: Output already exists.\n",
            "Skipping 14782.jpg: Output already exists.\n",
            "Skipping 10108.jpg: Output already exists.\n",
            "Skipping 12213.jpg: Output already exists.\n",
            "Skipping 12942.jpg: Output already exists.\n",
            "Skipping 14193.jpg: Output already exists.\n",
            "Skipping 13863.jpg: Output already exists.\n",
            "Skipping 1208.jpg: Output already exists.\n",
            "Skipping 11681.jpg: Output already exists.\n",
            "Skipping 14151.jpg: Output already exists.\n",
            "Skipping 10223.jpg: Output already exists.\n",
            "Skipping 11743.jpg: Output already exists.\n",
            "Skipping 1148.jpg: Output already exists.\n",
            "Skipping 10513.jpg: Output already exists.\n",
            "Skipping 12083.jpg: Output already exists.\n",
            "Skipping 12625.jpg: Output already exists.\n",
            "Skipping 10542.jpg: Output already exists.\n",
            "Skipping 13976.jpg: Output already exists.\n",
            "Skipping 1439.jpg: Output already exists.\n",
            "Skipping 14013.jpg: Output already exists.\n",
            "Skipping 12415.jpg: Output already exists.\n",
            "Skipping 13149.jpg: Output already exists.\n",
            "Skipping 15196.jpg: Output already exists.\n",
            "Skipping 10273.jpg: Output already exists.\n",
            "Skipping 11081.jpg: Output already exists.\n",
            "Skipping 15367.jpg: Output already exists.\n",
            "Skipping 1132.jpg: Output already exists.\n",
            "Skipping 11292.jpg: Output already exists.\n",
            "Skipping 13750.jpg: Output already exists.\n",
            "Skipping 10695.jpg: Output already exists.\n",
            "Skipping 14805.jpg: Output already exists.\n",
            "Skipping 12504.jpg: Output already exists.\n",
            "Skipping 13991.jpg: Output already exists.\n",
            "Skipping 11160.jpg: Output already exists.\n",
            "Skipping 13925.jpg: Output already exists.\n",
            "Skipping 10825.jpg: Output already exists.\n",
            "Skipping 14399.jpg: Output already exists.\n",
            "Skipping 10137.jpg: Output already exists.\n",
            "Skipping 14466.jpg: Output already exists.\n",
            "Skipping 1061.jpg: Output already exists.\n",
            "Skipping 12185.jpg: Output already exists.\n",
            "Skipping 15181.jpg: Output already exists.\n",
            "Skipping 10058.jpg: Output already exists.\n",
            "Skipping 13680.jpg: Output already exists.\n",
            "Skipping 1182.jpg: Output already exists.\n",
            "Skipping 11066.jpg: Output already exists.\n",
            "Skipping 13985.jpg: Output already exists.\n",
            "Skipping 11334.jpg: Output already exists.\n",
            "Skipping 15233.jpg: Output already exists.\n",
            "Skipping 11942.jpg: Output already exists.\n",
            "Skipping 118.jpg: Output already exists.\n",
            "Skipping 10712.jpg: Output already exists.\n",
            "Skipping 14785.jpg: Output already exists.\n",
            "Skipping 14946.jpg: Output already exists.\n",
            "Skipping 10210.jpg: Output already exists.\n",
            "Skipping 12298.jpg: Output already exists.\n",
            "Skipping 14734.jpg: Output already exists.\n",
            "Skipping 13626.jpg: Output already exists.\n",
            "Skipping 10146.jpg: Output already exists.\n",
            "Skipping 12226.jpg: Output already exists.\n",
            "Skipping 12614.jpg: Output already exists.\n",
            "Skipping 11695.jpg: Output already exists.\n",
            "Skipping 10323.jpg: Output already exists.\n",
            "Skipping 14608.jpg: Output already exists.\n",
            "Skipping 11572.jpg: Output already exists.\n",
            "Skipping 11527.jpg: Output already exists.\n",
            "Skipping 13488.jpg: Output already exists.\n",
            "Skipping 10620.jpg: Output already exists.\n",
            "Skipping 11847.jpg: Output already exists.\n",
            "Skipping 10967.jpg: Output already exists.\n",
            "Skipping 15127.jpg: Output already exists.\n",
            "Skipping 1362.jpg: Output already exists.\n",
            "Skipping 12099.jpg: Output already exists.\n",
            "Skipping 15285.jpg: Output already exists.\n",
            "Skipping 15005.jpg: Output already exists.\n",
            "Skipping 14588.jpg: Output already exists.\n",
            "Skipping 11117.jpg: Output already exists.\n",
            "Skipping 14929.jpg: Output already exists.\n",
            "Skipping 1358.jpg: Output already exists.\n",
            "Skipping 12027.jpg: Output already exists.\n",
            "Skipping 13837.jpg: Output already exists.\n",
            "Skipping 14075.jpg: Output already exists.\n",
            "Skipping 11174.jpg: Output already exists.\n",
            "Skipping 12803.jpg: Output already exists.\n",
            "Skipping 12948.jpg: Output already exists.\n",
            "Skipping 14141.jpg: Output already exists.\n",
            "Skipping 14840.jpg: Output already exists.\n",
            "Skipping 10802.jpg: Output already exists.\n",
            "Skipping 10357.jpg: Output already exists.\n",
            "Skipping 1271.jpg: Output already exists.\n",
            "Skipping 13295.jpg: Output already exists.\n",
            "Skipping 14638.jpg: Output already exists.\n",
            "Skipping 15115.jpg: Output already exists.\n",
            "Skipping 11.jpg: Output already exists.\n",
            "Skipping 10949.jpg: Output already exists.\n",
            "Skipping 11414.jpg: Output already exists.\n",
            "Skipping 12914.jpg: Output already exists.\n",
            "Skipping 10119.jpg: Output already exists.\n",
            "Skipping 1427.jpg: Output already exists.\n",
            "Skipping 10890.jpg: Output already exists.\n",
            "Skipping 13975.jpg: Output already exists.\n",
            "Skipping 13130.jpg: Output already exists.\n",
            "Skipping 10520.jpg: Output already exists.\n",
            "Skipping 12084.jpg: Output already exists.\n",
            "Skipping 1142.jpg: Output already exists.\n",
            "Skipping 13005.jpg: Output already exists.\n",
            "Skipping 10163.jpg: Output already exists.\n",
            "Skipping 12571.jpg: Output already exists.\n",
            "Skipping 11658.jpg: Output already exists.\n",
            "Skipping 11671.jpg: Output already exists.\n",
            "Skipping 10039.jpg: Output already exists.\n",
            "Skipping 11664.jpg: Output already exists.\n",
            "Skipping 14319.jpg: Output already exists.\n",
            "Skipping 12323.jpg: Output already exists.\n",
            "Skipping 12508.jpg: Output already exists.\n",
            "Skipping 11103.jpg: Output already exists.\n",
            "Skipping 13286.jpg: Output already exists.\n",
            "Skipping 10907.jpg: Output already exists.\n",
            "Skipping 13208.jpg: Output already exists.\n",
            "Skipping 13596.jpg: Output already exists.\n",
            "Skipping 13418.jpg: Output already exists.\n",
            "Skipping 14127.jpg: Output already exists.\n",
            "Skipping 1496.jpg: Output already exists.\n",
            "Skipping 12923.jpg: Output already exists.\n",
            "Skipping 10940.jpg: Output already exists.\n",
            "Skipping 12481.jpg: Output already exists.\n",
            "Skipping 13210.jpg: Output already exists.\n",
            "Skipping 13010.jpg: Output already exists.\n",
            "Skipping 13109.jpg: Output already exists.\n",
            "Skipping 12180.jpg: Output already exists.\n",
            "Skipping 14476.jpg: Output already exists.\n",
            "Skipping 11757.jpg: Output already exists.\n",
            "Skipping 14175.jpg: Output already exists.\n",
            "Skipping 11273.jpg: Output already exists.\n",
            "Skipping 13688.jpg: Output already exists.\n",
            "Skipping 10149.jpg: Output already exists.\n",
            "Skipping 14970.jpg: Output already exists.\n",
            "Skipping 14510.jpg: Output already exists.\n",
            "Skipping 13061.jpg: Output already exists.\n",
            "Skipping 10760.jpg: Output already exists.\n",
            "Skipping 11633.jpg: Output already exists.\n",
            "Skipping 12755.jpg: Output already exists.\n",
            "Skipping 1202.jpg: Output already exists.\n",
            "Skipping 1171.jpg: Output already exists.\n",
            "Skipping 1343.jpg: Output already exists.\n",
            "Skipping 10194.jpg: Output already exists.\n",
            "Skipping 14666.jpg: Output already exists.\n",
            "Skipping 15201.jpg: Output already exists.\n",
            "Skipping 11884.jpg: Output already exists.\n",
            "Skipping 13092.jpg: Output already exists.\n",
            "Skipping 1450.jpg: Output already exists.\n",
            "Skipping 10915.jpg: Output already exists.\n",
            "Skipping 11288.jpg: Output already exists.\n",
            "Skipping 12435.jpg: Output already exists.\n",
            "Skipping 13683.jpg: Output already exists.\n",
            "Skipping 101.jpg: Output already exists.\n",
            "Skipping 13386.jpg: Output already exists.\n",
            "Skipping 10044.jpg: Output already exists.\n",
            "Skipping 14740.jpg: Output already exists.\n",
            "Skipping 15193.jpg: Output already exists.\n",
            "Skipping 13277.jpg: Output already exists.\n",
            "Skipping 15230.jpg: Output already exists.\n",
            "Skipping 12307.jpg: Output already exists.\n",
            "Skipping 15188.jpg: Output already exists.\n",
            "Skipping 11524.jpg: Output already exists.\n",
            "Skipping 15108.jpg: Output already exists.\n",
            "Skipping 10111.jpg: Output already exists.\n",
            "Skipping 13280.jpg: Output already exists.\n",
            "Skipping 11119.jpg: Output already exists.\n",
            "Skipping 12392.jpg: Output already exists.\n",
            "Skipping 10410.jpg: Output already exists.\n",
            "Skipping 11801.jpg: Output already exists.\n",
            "Skipping 14273.jpg: Output already exists.\n",
            "Skipping 15276.jpg: Output already exists.\n",
            "Skipping 15124.jpg: Output already exists.\n",
            "Skipping 14541.jpg: Output already exists.\n",
            "Skipping 13256.jpg: Output already exists.\n",
            "Skipping 143.jpg: Output already exists.\n",
            "Skipping 11279.jpg: Output already exists.\n",
            "Skipping 11233.jpg: Output already exists.\n",
            "Skipping 11255.jpg: Output already exists.\n",
            "Skipping 12159.jpg: Output already exists.\n",
            "Skipping 12579.jpg: Output already exists.\n",
            "Skipping 12933.jpg: Output already exists.\n",
            "Skipping 11683.jpg: Output already exists.\n",
            "Skipping 1081.jpg: Output already exists.\n",
            "Skipping 12737.jpg: Output already exists.\n",
            "Skipping 11903.jpg: Output already exists.\n",
            "Skipping 12106.jpg: Output already exists.\n",
            "Skipping 14600.jpg: Output already exists.\n",
            "Skipping 15308.jpg: Output already exists.\n",
            "Skipping 1051.jpg: Output already exists.\n",
            "Skipping 11766.jpg: Output already exists.\n",
            "Skipping 10554.jpg: Output already exists.\n",
            "Skipping 11876.jpg: Output already exists.\n",
            "Skipping 13922.jpg: Output already exists.\n",
            "Skipping 10069.jpg: Output already exists.\n",
            "Skipping 13189.jpg: Output already exists.\n",
            "Skipping 14658.jpg: Output already exists.\n",
            "Skipping 11159.jpg: Output already exists.\n",
            "Skipping 14073.jpg: Output already exists.\n",
            "Skipping 14969.jpg: Output already exists.\n",
            "Skipping 15218.jpg: Output already exists.\n",
            "Skipping 14731.jpg: Output already exists.\n",
            "Skipping 10248.jpg: Output already exists.\n",
            "Skipping 12064.jpg: Output already exists.\n",
            "Skipping 13050.jpg: Output already exists.\n",
            "Skipping 10856.jpg: Output already exists.\n",
            "Skipping 14206.jpg: Output already exists.\n",
            "Skipping 12899.jpg: Output already exists.\n",
            "Skipping 12759.jpg: Output already exists.\n",
            "Skipping 15288.jpg: Output already exists.\n",
            "Skipping 1322.jpg: Output already exists.\n",
            "Skipping 11688.jpg: Output already exists.\n",
            "Skipping 14453.jpg: Output already exists.\n",
            "Skipping 11156.jpg: Output already exists.\n",
            "Skipping 12834.jpg: Output already exists.\n",
            "Skipping 13745.jpg: Output already exists.\n",
            "Skipping 13323.jpg: Output already exists.\n",
            "Skipping 13484.jpg: Output already exists.\n",
            "Skipping 12282.jpg: Output already exists.\n",
            "Skipping 1161.jpg: Output already exists.\n",
            "Skipping 10575.jpg: Output already exists.\n",
            "Skipping 14587.jpg: Output already exists.\n",
            "Skipping 10196.jpg: Output already exists.\n",
            "Skipping 11276.jpg: Output already exists.\n",
            "Skipping 14286.jpg: Output already exists.\n",
            "Skipping 14632.jpg: Output already exists.\n",
            "Skipping 15351.jpg: Output already exists.\n",
            "Skipping 11095.jpg: Output already exists.\n",
            "Skipping 14157.jpg: Output already exists.\n",
            "Skipping 14011.jpg: Output already exists.\n",
            "Skipping 12897.jpg: Output already exists.\n",
            "Skipping 11498.jpg: Output already exists.\n",
            "Skipping 11739.jpg: Output already exists.\n",
            "Skipping 14626.jpg: Output already exists.\n",
            "Skipping 10407.jpg: Output already exists.\n",
            "Skipping 13954.jpg: Output already exists.\n",
            "Skipping 13325.jpg: Output already exists.\n",
            "Skipping 13144.jpg: Output already exists.\n",
            "Skipping 14014.jpg: Output already exists.\n",
            "Skipping 1095.jpg: Output already exists.\n",
            "Skipping 10198.jpg: Output already exists.\n",
            "Skipping 11947.jpg: Output already exists.\n",
            "Skipping 10754.jpg: Output already exists.\n",
            "Skipping 10485.jpg: Output already exists.\n",
            "Skipping 13813.jpg: Output already exists.\n",
            "Skipping 1487.jpg: Output already exists.\n",
            "Skipping 1483.jpg: Output already exists.\n",
            "Skipping 15075.jpg: Output already exists.\n",
            "Skipping 13077.jpg: Output already exists.\n",
            "Skipping 14661.jpg: Output already exists.\n",
            "Skipping 14768.jpg: Output already exists.\n",
            "Skipping 1366.jpg: Output already exists.\n",
            "Skipping 14150.jpg: Output already exists.\n",
            "Skipping 14718.jpg: Output already exists.\n",
            "Skipping 12866.jpg: Output already exists.\n",
            "Skipping 12975.jpg: Output already exists.\n",
            "Skipping 11067.jpg: Output already exists.\n",
            "Skipping 11810.jpg: Output already exists.\n",
            "Skipping 12808.jpg: Output already exists.\n",
            "Skipping 12231.jpg: Output already exists.\n",
            "Skipping 1359.jpg: Output already exists.\n",
            "Skipping 14997.jpg: Output already exists.\n",
            "Skipping 14053.jpg: Output already exists.\n",
            "Skipping 13489.jpg: Output already exists.\n",
            "Skipping 12158.jpg: Output already exists.\n",
            "Skipping 14849.jpg: Output already exists.\n",
            "Skipping 12319.jpg: Output already exists.\n",
            "Skipping 1475.jpg: Output already exists.\n",
            "Skipping 10416.jpg: Output already exists.\n",
            "Skipping 11343.jpg: Output already exists.\n",
            "Skipping 15379.jpg: Output already exists.\n",
            "Skipping 1495.jpg: Output already exists.\n",
            "Skipping 10268.jpg: Output already exists.\n",
            "Skipping 10318.jpg: Output already exists.\n",
            "Skipping 10180.jpg: Output already exists.\n",
            "Skipping 14464.jpg: Output already exists.\n",
            "Skipping 10404.jpg: Output already exists.\n",
            "Skipping 10209.jpg: Output already exists.\n",
            "Skipping 13129.jpg: Output already exists.\n",
            "Skipping 14024.jpg: Output already exists.\n",
            "Skipping 13877.jpg: Output already exists.\n",
            "Skipping 14218.jpg: Output already exists.\n",
            "Skipping 11020.jpg: Output already exists.\n",
            "Skipping 13012.jpg: Output already exists.\n",
            "Skipping 12421.jpg: Output already exists.\n",
            "Skipping 12101.jpg: Output already exists.\n",
            "Skipping 13794.jpg: Output already exists.\n",
            "Skipping 12924.jpg: Output already exists.\n",
            "Skipping 13655.jpg: Output already exists.\n",
            "Skipping 13522.jpg: Output already exists.\n",
            "Skipping 15178.jpg: Output already exists.\n",
            "Skipping 10125.jpg: Output already exists.\n",
            "Skipping 1101.jpg: Output already exists.\n",
            "Skipping 13558.jpg: Output already exists.\n",
            "Skipping 1363.jpg: Output already exists.\n",
            "Skipping 11722.jpg: Output already exists.\n",
            "Skipping 12874.jpg: Output already exists.\n",
            "Skipping 14182.jpg: Output already exists.\n",
            "Skipping 12778.jpg: Output already exists.\n",
            "Skipping 11936.jpg: Output already exists.\n",
            "Skipping 11815.jpg: Output already exists.\n",
            "Skipping 10631.jpg: Output already exists.\n",
            "Skipping 12141.jpg: Output already exists.\n",
            "Skipping 10611.jpg: Output already exists.\n",
            "Skipping 15281.jpg: Output already exists.\n",
            "Skipping 13932.jpg: Output already exists.\n",
            "Skipping 11061.jpg: Output already exists.\n",
            "Skipping 14194.jpg: Output already exists.\n",
            "Skipping 12322.jpg: Output already exists.\n",
            "Skipping 14589.jpg: Output already exists.\n",
            "Skipping 12741.jpg: Output already exists.\n",
            "Skipping 13784.jpg: Output already exists.\n",
            "Skipping 13421.jpg: Output already exists.\n",
            "Skipping 14695.jpg: Output already exists.\n",
            "Skipping 15303.jpg: Output already exists.\n",
            "Skipping 12120.jpg: Output already exists.\n",
            "Skipping 15232.jpg: Output already exists.\n",
            "Skipping 12449.jpg: Output already exists.\n",
            "Skipping 11886.jpg: Output already exists.\n",
            "Skipping 13008.jpg: Output already exists.\n",
            "Skipping 13437.jpg: Output already exists.\n",
            "Skipping 11534.jpg: Output already exists.\n",
            "Skipping 14308.jpg: Output already exists.\n",
            "Skipping 11774.jpg: Output already exists.\n",
            "Skipping 1116.jpg: Output already exists.\n",
            "Skipping 14618.jpg: Output already exists.\n",
            "Skipping 10017.jpg: Output already exists.\n",
            "Skipping 13774.jpg: Output already exists.\n",
            "Skipping 14081.jpg: Output already exists.\n",
            "Skipping 12950.jpg: Output already exists.\n",
            "Skipping 14872.jpg: Output already exists.\n",
            "Skipping 1263.jpg: Output already exists.\n",
            "Skipping 15377.jpg: Output already exists.\n",
            "Skipping 14364.jpg: Output already exists.\n",
            "Skipping 15165.jpg: Output already exists.\n",
            "Skipping 11820.jpg: Output already exists.\n",
            "Skipping 11296.jpg: Output already exists.\n",
            "Skipping 12198.jpg: Output already exists.\n",
            "Skipping 14601.jpg: Output already exists.\n",
            "Skipping 13158.jpg: Output already exists.\n",
            "Skipping 11352.jpg: Output already exists.\n",
            "Skipping 13339.jpg: Output already exists.\n",
            "Skipping 14729.jpg: Output already exists.\n",
            "Skipping 12195.jpg: Output already exists.\n",
            "Skipping 12517.jpg: Output already exists.\n",
            "Skipping 12206.jpg: Output already exists.\n",
            "Skipping 10718.jpg: Output already exists.\n",
            "Skipping 1228.jpg: Output already exists.\n",
            "Skipping 10879.jpg: Output already exists.\n",
            "Skipping 13076.jpg: Output already exists.\n",
            "Skipping 15330.jpg: Output already exists.\n",
            "Skipping 13449.jpg: Output already exists.\n",
            "Skipping 13073.jpg: Output already exists.\n",
            "Skipping 10790.jpg: Output already exists.\n",
            "Skipping 12793.jpg: Output already exists.\n",
            "Skipping 13821.jpg: Output already exists.\n",
            "Skipping 13374.jpg: Output already exists.\n",
            "Skipping 14377.jpg: Output already exists.\n",
            "Skipping 11500.jpg: Output already exists.\n",
            "Skipping 1232.jpg: Output already exists.\n",
            "Skipping 11483.jpg: Output already exists.\n",
            "Skipping 10676.jpg: Output already exists.\n",
            "Skipping 12263.jpg: Output already exists.\n",
            "Skipping 14890.jpg: Output already exists.\n",
            "Skipping 13917.jpg: Output already exists.\n",
            "Skipping 11078.jpg: Output already exists.\n",
            "Skipping 105.jpg: Output already exists.\n",
            "Skipping 11294.jpg: Output already exists.\n",
            "Skipping 12702.jpg: Output already exists.\n",
            "Skipping 14282.jpg: Output already exists.\n",
            "Skipping 1505.jpg: Output already exists.\n",
            "Skipping 10479.jpg: Output already exists.\n",
            "Skipping 10615.jpg: Output already exists.\n",
            "Skipping 11632.jpg: Output already exists.\n",
            "Skipping 11558.jpg: Output already exists.\n",
            "Skipping 14279.jpg: Output already exists.\n",
            "Skipping 14060.jpg: Output already exists.\n",
            "Skipping 10467.jpg: Output already exists.\n",
            "Skipping 15189.jpg: Output already exists.\n",
            "Skipping 1272.jpg: Output already exists.\n",
            "Skipping 12780.jpg: Output already exists.\n",
            "Skipping 14570.jpg: Output already exists.\n",
            "Skipping 10422.jpg: Output already exists.\n",
            "Skipping 12727.jpg: Output already exists.\n",
            "Skipping 14393.jpg: Output already exists.\n",
            "Skipping 12400.jpg: Output already exists.\n",
            "Skipping 10847.jpg: Output already exists.\n",
            "Skipping 11049.jpg: Output already exists.\n",
            "Skipping 1492.jpg: Output already exists.\n",
            "Skipping 14909.jpg: Output already exists.\n",
            "Skipping 12707.jpg: Output already exists.\n",
            "Skipping 14899.jpg: Output already exists.\n",
            "Skipping 10973.jpg: Output already exists.\n",
            "Skipping 13051.jpg: Output already exists.\n",
            "Skipping 15063.jpg: Output already exists.\n",
            "Skipping 10227.jpg: Output already exists.\n",
            "Skipping 10820.jpg: Output already exists.\n",
            "Skipping 11277.jpg: Output already exists.\n",
            "Skipping 11520.jpg: Output already exists.\n",
            "Skipping 11982.jpg: Output already exists.\n",
            "Skipping 11302.jpg: Output already exists.\n",
            "Skipping 15343.jpg: Output already exists.\n",
            "Skipping 10852.jpg: Output already exists.\n",
            "Skipping 1351.jpg: Output already exists.\n",
            "Skipping 10097.jpg: Output already exists.\n",
            "Skipping 10955.jpg: Output already exists.\n",
            "Skipping 14514.jpg: Output already exists.\n",
            "Skipping 10387.jpg: Output already exists.\n",
            "Skipping 10036.jpg: Output already exists.\n",
            "Skipping 11752.jpg: Output already exists.\n",
            "Skipping 12155.jpg: Output already exists.\n",
            "Skipping 14365.jpg: Output already exists.\n",
            "Skipping 13696.jpg: Output already exists.\n",
            "Skipping 14864.jpg: Output already exists.\n",
            "Skipping 11763.jpg: Output already exists.\n",
            "Skipping 10280.jpg: Output already exists.\n",
            "Skipping 13840.jpg: Output already exists.\n",
            "Skipping 11987.jpg: Output already exists.\n",
            "Skipping 11735.jpg: Output already exists.\n",
            "Skipping 13867.jpg: Output already exists.\n",
            "Skipping 12267.jpg: Output already exists.\n",
            "Skipping 10456.jpg: Output already exists.\n",
            "Skipping 12740.jpg: Output already exists.\n",
            "Skipping 11931.jpg: Output already exists.\n",
            "Skipping 11997.jpg: Output already exists.\n",
            "Skipping 13501.jpg: Output already exists.\n",
            "Skipping 13176.jpg: Output already exists.\n",
            "Skipping 10880.jpg: Output already exists.\n",
            "Skipping 1194.jpg: Output already exists.\n",
            "Skipping 10271.jpg: Output already exists.\n",
            "Skipping 10588.jpg: Output already exists.\n",
            "Skipping 10107.jpg: Output already exists.\n",
            "Skipping 13056.jpg: Output already exists.\n",
            "Skipping 14932.jpg: Output already exists.\n",
            "Skipping 13033.jpg: Output already exists.\n",
            "Skipping 10743.jpg: Output already exists.\n",
            "Skipping 14500.jpg: Output already exists.\n",
            "Skipping 13648.jpg: Output already exists.\n",
            "Skipping 13011.jpg: Output already exists.\n",
            "Skipping 12588.jpg: Output already exists.\n",
            "Skipping 1174.jpg: Output already exists.\n",
            "Skipping 10095.jpg: Output already exists.\n",
            "Skipping 12082.jpg: Output already exists.\n",
            "Skipping 1042.jpg: Output already exists.\n",
            "Skipping 14372.jpg: Output already exists.\n",
            "Skipping 12131.jpg: Output already exists.\n",
            "Skipping 10171.jpg: Output already exists.\n",
            "Skipping 1342.jpg: Output already exists.\n",
            "Skipping 11944.jpg: Output already exists.\n",
            "Skipping 15175.jpg: Output already exists.\n",
            "Skipping 12440.jpg: Output already exists.\n",
            "Skipping 14008.jpg: Output already exists.\n",
            "Skipping 10545.jpg: Output already exists.\n",
            "Skipping 11618.jpg: Output already exists.\n",
            "Skipping 1114.jpg: Output already exists.\n",
            "Skipping 11723.jpg: Output already exists.\n",
            "Skipping 15268.jpg: Output already exists.\n",
            "Skipping 13363.jpg: Output already exists.\n",
            "Skipping 14834.jpg: Output already exists.\n",
            "Skipping 11983.jpg: Output already exists.\n",
            "Skipping 11799.jpg: Output already exists.\n",
            "Skipping 14062.jpg: Output already exists.\n",
            "Skipping 13378.jpg: Output already exists.\n",
            "Skipping 15004.jpg: Output already exists.\n",
            "Skipping 14751.jpg: Output already exists.\n",
            "Skipping 13366.jpg: Output already exists.\n",
            "Skipping 11091.jpg: Output already exists.\n",
            "Skipping 13359.jpg: Output already exists.\n",
            "Skipping 10502.jpg: Output already exists.\n",
            "Skipping 14391.jpg: Output already exists.\n",
            "Skipping 1147.jpg: Output already exists.\n",
            "Skipping 12913.jpg: Output already exists.\n",
            "Skipping 1192.jpg: Output already exists.\n",
            "Skipping 10866.jpg: Output already exists.\n",
            "Skipping 10060.jpg: Output already exists.\n",
            "Skipping 14371.jpg: Output already exists.\n",
            "Skipping 10618.jpg: Output already exists.\n",
            "Skipping 10426.jpg: Output already exists.\n",
            "Skipping 13065.jpg: Output already exists.\n",
            "Skipping 15011.jpg: Output already exists.\n",
            "Skipping 11144.jpg: Output already exists.\n",
            "Skipping 10913.jpg: Output already exists.\n",
            "Skipping 11751.jpg: Output already exists.\n",
            "Skipping 10546.jpg: Output already exists.\n",
            "Skipping 10578.jpg: Output already exists.\n",
            "Skipping 10337.jpg: Output already exists.\n",
            "Skipping 12989.jpg: Output already exists.\n",
            "Skipping 11215.jpg: Output already exists.\n",
            "Skipping 12019.jpg: Output already exists.\n",
            "Skipping 14243.jpg: Output already exists.\n",
            "Skipping 12547.jpg: Output already exists.\n",
            "Skipping 13423.jpg: Output already exists.\n",
            "Skipping 11574.jpg: Output already exists.\n",
            "Skipping 12609.jpg: Output already exists.\n",
            "Skipping 1.jpg: Output already exists.\n",
            "Skipping 12166.jpg: Output already exists.\n",
            "Skipping 14896.jpg: Output already exists.\n",
            "Skipping 10747.jpg: Output already exists.\n",
            "Skipping 10056.jpg: Output already exists.\n",
            "Skipping 14622.jpg: Output already exists.\n",
            "Skipping 12208.jpg: Output already exists.\n",
            "Skipping 13851.jpg: Output already exists.\n",
            "Skipping 13929.jpg: Output already exists.\n",
            "Skipping 1371.jpg: Output already exists.\n",
            "Skipping 12408.jpg: Output already exists.\n",
            "Skipping 13470.jpg: Output already exists.\n",
            "Skipping 10606.jpg: Output already exists.\n",
            "Skipping 14179.jpg: Output already exists.\n",
            "Skipping 14733.jpg: Output already exists.\n",
            "Skipping 1064.jpg: Output already exists.\n",
            "Skipping 14145.jpg: Output already exists.\n",
            "Skipping 12742.jpg: Output already exists.\n",
            "Skipping 12191.jpg: Output already exists.\n",
            "Skipping 1297.jpg: Output already exists.\n",
            "Skipping 14378.jpg: Output already exists.\n",
            "Skipping 10758.jpg: Output already exists.\n",
            "Skipping 11580.jpg: Output already exists.\n",
            "Skipping 13055.jpg: Output already exists.\n",
            "Skipping 13443.jpg: Output already exists.\n",
            "Skipping 10876.jpg: Output already exists.\n",
            "Skipping 13950.jpg: Output already exists.\n",
            "Skipping 12258.jpg: Output already exists.\n",
            "Skipping 10443.jpg: Output already exists.\n",
            "Skipping 12617.jpg: Output already exists.\n",
            "Skipping 11880.jpg: Output already exists.\n",
            "Skipping 11594.jpg: Output already exists.\n",
            "Skipping 13807.jpg: Output already exists.\n",
            "Skipping 11118.jpg: Output already exists.\n",
            "Skipping 12525.jpg: Output already exists.\n",
            "Skipping 12773.jpg: Output already exists.\n",
            "Skipping 11372.jpg: Output already exists.\n",
            "Skipping 13007.jpg: Output already exists.\n",
            "Skipping 13911.jpg: Output already exists.\n",
            "Skipping 10145.jpg: Output already exists.\n",
            "Skipping 1464.jpg: Output already exists.\n",
            "Skipping 13612.jpg: Output already exists.\n",
            "Skipping 13269.jpg: Output already exists.\n",
            "Skipping 12723.jpg: Output already exists.\n",
            "Skipping 13620.jpg: Output already exists.\n",
            "Skipping 12898.jpg: Output already exists.\n",
            "Skipping 15158.jpg: Output already exists.\n",
            "Skipping 14709.jpg: Output already exists.\n",
            "Skipping 12362.jpg: Output already exists.\n",
            "Skipping 1529.jpg: Output already exists.\n",
            "Skipping 10446.jpg: Output already exists.\n",
            "Skipping 11753.jpg: Output already exists.\n",
            "Skipping 11208.jpg: Output already exists.\n",
            "Skipping 14104.jpg: Output already exists.\n",
            "Skipping 1514.jpg: Output already exists.\n",
            "Skipping 11991.jpg: Output already exists.\n",
            "Skipping 11885.jpg: Output already exists.\n",
            "Skipping 13000.jpg: Output already exists.\n",
            "Skipping 14425.jpg: Output already exists.\n",
            "Skipping 11265.jpg: Output already exists.\n",
            "Skipping 12726.jpg: Output already exists.\n",
            "Skipping 10447.jpg: Output already exists.\n",
            "Skipping 1219.jpg: Output already exists.\n",
            "Skipping 11229.jpg: Output already exists.\n",
            "Skipping 14820.jpg: Output already exists.\n",
            "Skipping 10543.jpg: Output already exists.\n",
            "Skipping 13021.jpg: Output already exists.\n",
            "Skipping 10870.jpg: Output already exists.\n",
            "Skipping 11331.jpg: Output already exists.\n",
            "Skipping 10668.jpg: Output already exists.\n",
            "Skipping 11800.jpg: Output already exists.\n",
            "Skipping 13188.jpg: Output already exists.\n",
            "Skipping 13219.jpg: Output already exists.\n",
            "Skipping 10277.jpg: Output already exists.\n",
            "Skipping 12633.jpg: Output already exists.\n",
            "Skipping 13245.jpg: Output already exists.\n",
            "Skipping 13979.jpg: Output already exists.\n",
            "Skipping 11972.jpg: Output already exists.\n",
            "Skipping 14949.jpg: Output already exists.\n",
            "Skipping 13844.jpg: Output already exists.\n",
            "Skipping 11115.jpg: Output already exists.\n",
            "Skipping 13479.jpg: Output already exists.\n",
            "Skipping 12334.jpg: Output already exists.\n",
            "Skipping 12071.jpg: Output already exists.\n",
            "Skipping 15322.jpg: Output already exists.\n",
            "Skipping 11083.jpg: Output already exists.\n",
            "Skipping 13941.jpg: Output already exists.\n",
            "Skipping 12637.jpg: Output already exists.\n",
            "Skipping 14236.jpg: Output already exists.\n",
            "Skipping 14829.jpg: Output already exists.\n",
            "Skipping 11330.jpg: Output already exists.\n",
            "Skipping 11308.jpg: Output already exists.\n",
            "Skipping 13555.jpg: Output already exists.\n",
            "Skipping 14652.jpg: Output already exists.\n",
            "Skipping 10237.jpg: Output already exists.\n",
            "Skipping 10292.jpg: Output already exists.\n",
            "Skipping 15194.jpg: Output already exists.\n",
            "Skipping 14474.jpg: Output already exists.\n",
            "Skipping 14001.jpg: Output already exists.\n",
            "Skipping 10187.jpg: Output already exists.\n",
            "Skipping 1090.jpg: Output already exists.\n",
            "Skipping 13108.jpg: Output already exists.\n",
            "Skipping 14213.jpg: Output already exists.\n",
            "Skipping 1360.jpg: Output already exists.\n",
            "Skipping 14252.jpg: Output already exists.\n",
            "Skipping 12125.jpg: Output already exists.\n",
            "Skipping 1341.jpg: Output already exists.\n",
            "Skipping 11076.jpg: Output already exists.\n",
            "Skipping 13402.jpg: Output already exists.\n",
            "Skipping 15056.jpg: Output already exists.\n",
            "Skipping 11154.jpg: Output already exists.\n",
            "Skipping 14358.jpg: Output already exists.\n",
            "Skipping 1457.jpg: Output already exists.\n",
            "Skipping 12744.jpg: Output already exists.\n",
            "Skipping 11243.jpg: Output already exists.\n",
            "Skipping 13790.jpg: Output already exists.\n",
            "Skipping 12486.jpg: Output already exists.\n",
            "Skipping 15103.jpg: Output already exists.\n",
            "Skipping 10810.jpg: Output already exists.\n",
            "Skipping 12183.jpg: Output already exists.\n",
            "Skipping 14769.jpg: Output already exists.\n",
            "Skipping 10964.jpg: Output already exists.\n",
            "Skipping 13948.jpg: Output already exists.\n",
            "Skipping 10098.jpg: Output already exists.\n",
            "Skipping 1041.jpg: Output already exists.\n",
            "Skipping 11750.jpg: Output already exists.\n",
            "Skipping 15082.jpg: Output already exists.\n",
            "Skipping 10731.jpg: Output already exists.\n",
            "Skipping 1163.jpg: Output already exists.\n",
            "Skipping 13316.jpg: Output already exists.\n",
            "Skipping 10092.jpg: Output already exists.\n",
            "Skipping 15098.jpg: Output already exists.\n",
            "Skipping 14460.jpg: Output already exists.\n",
            "Skipping 10654.jpg: Output already exists.\n",
            "Skipping 1205.jpg: Output already exists.\n",
            "Skipping 11390.jpg: Output already exists.\n",
            "Skipping 10777.jpg: Output already exists.\n",
            "Skipping 11521.jpg: Output already exists.\n",
            "Skipping 12463.jpg: Output already exists.\n",
            "Skipping 1428.jpg: Output already exists.\n",
            "Skipping 12070.jpg: Output already exists.\n",
            "Skipping 10152.jpg: Output already exists.\n",
            "Skipping 14049.jpg: Output already exists.\n",
            "Skipping 10077.jpg: Output already exists.\n",
            "Skipping 13244.jpg: Output already exists.\n",
            "Skipping 14919.jpg: Output already exists.\n",
            "Skipping 14249.jpg: Output already exists.\n",
            "Skipping 12593.jpg: Output already exists.\n",
            "Skipping 15236.jpg: Output already exists.\n",
            "Skipping 1416.jpg: Output already exists.\n",
            "Skipping 10977.jpg: Output already exists.\n",
            "Skipping 15040.jpg: Output already exists.\n",
            "Skipping 12244.jpg: Output already exists.\n",
            "Skipping 14956.jpg: Output already exists.\n",
            "Skipping 14240.jpg: Output already exists.\n",
            "Skipping 1533.jpg: Output already exists.\n",
            "Skipping 13094.jpg: Output already exists.\n",
            "Skipping 14511.jpg: Output already exists.\n",
            "Skipping 13598.jpg: Output already exists.\n",
            "Skipping 14986.jpg: Output already exists.\n",
            "Skipping 12237.jpg: Output already exists.\n",
            "Skipping 11082.jpg: Output already exists.\n",
            "Skipping 1217.jpg: Output already exists.\n",
            "Skipping 15272.jpg: Output already exists.\n",
            "Skipping 12341.jpg: Output already exists.\n",
            "Skipping 1501.jpg: Output already exists.\n",
            "Skipping 10478.jpg: Output already exists.\n",
            "Skipping 10681.jpg: Output already exists.\n",
            "Skipping 14714.jpg: Output already exists.\n",
            "Skipping 14531.jpg: Output already exists.\n",
            "Skipping 13548.jpg: Output already exists.\n",
            "Skipping 10779.jpg: Output already exists.\n",
            "Skipping 13736.jpg: Output already exists.\n",
            "Skipping 13533.jpg: Output already exists.\n",
            "Skipping 10411.jpg: Output already exists.\n",
            "Skipping 11581.jpg: Output already exists.\n",
            "Skipping 12257.jpg: Output already exists.\n",
            "Skipping 13797.jpg: Output already exists.\n",
            "Skipping 15058.jpg: Output already exists.\n",
            "Skipping 14162.jpg: Output already exists.\n",
            "Skipping 11148.jpg: Output already exists.\n",
            "Skipping 1383.jpg: Output already exists.\n",
            "Skipping 11183.jpg: Output already exists.\n",
            "Skipping 10489.jpg: Output already exists.\n",
            "Skipping 13515.jpg: Output already exists.\n",
            "Skipping 14440.jpg: Output already exists.\n",
            "Skipping 14978.jpg: Output already exists.\n",
            "Skipping 11646.jpg: Output already exists.\n",
            "Skipping 10610.jpg: Output already exists.\n",
            "Skipping 12436.jpg: Output already exists.\n",
            "Skipping 10582.jpg: Output already exists.\n",
            "Skipping 1413.jpg: Output already exists.\n",
            "Skipping 14333.jpg: Output already exists.\n",
            "Skipping 14847.jpg: Output already exists.\n",
            "Skipping 10937.jpg: Output already exists.\n",
            "Skipping 11464.jpg: Output already exists.\n",
            "Skipping 12256.jpg: Output already exists.\n",
            "Skipping 11963.jpg: Output already exists.\n",
            "Skipping 12871.jpg: Output already exists.\n",
            "Skipping 14942.jpg: Output already exists.\n",
            "Skipping 13672.jpg: Output already exists.\n",
            "Skipping 13425.jpg: Output already exists.\n",
            "Skipping 10564.jpg: Output already exists.\n",
            "Skipping 13822.jpg: Output already exists.\n",
            "Skipping 14349.jpg: Output already exists.\n",
            "Skipping 15185.jpg: Output already exists.\n",
            "Skipping 14620.jpg: Output already exists.\n",
            "Skipping 10059.jpg: Output already exists.\n",
            "Skipping 14918.jpg: Output already exists.\n",
            "Skipping 10524.jpg: Output already exists.\n",
            "Skipping 140.jpg: Output already exists.\n",
            "Skipping 1393.jpg: Output already exists.\n",
            "Skipping 13879.jpg: Output already exists.\n",
            "Skipping 13660.jpg: Output already exists.\n",
            "Skipping 11427.jpg: Output already exists.\n",
            "Skipping 11013.jpg: Output already exists.\n",
            "Skipping 11934.jpg: Output already exists.\n",
            "Skipping 11193.jpg: Output already exists.\n",
            "Skipping 14202.jpg: Output already exists.\n",
            "Skipping 15134.jpg: Output already exists.\n",
            "Skipping 10299.jpg: Output already exists.\n",
            "Skipping 10474.jpg: Output already exists.\n",
            "Skipping 13098.jpg: Output already exists.\n",
            "Skipping 13156.jpg: Output already exists.\n",
            "Skipping 11287.jpg: Output already exists.\n",
            "Skipping 15203.jpg: Output already exists.\n",
            "Skipping 1048.jpg: Output already exists.\n",
            "Skipping 14844.jpg: Output already exists.\n",
            "Skipping 10994.jpg: Output already exists.\n",
            "Skipping 14323.jpg: Output already exists.\n",
            "Skipping 12471.jpg: Output already exists.\n",
            "Skipping 13398.jpg: Output already exists.\n",
            "Skipping 13273.jpg: Output already exists.\n",
            "Skipping 14808.jpg: Output already exists.\n",
            "Skipping 14936.jpg: Output already exists.\n",
            "Skipping 1530.jpg: Output already exists.\n",
            "Skipping 13049.jpg: Output already exists.\n",
            "Skipping 11437.jpg: Output already exists.\n",
            "Skipping 139.jpg: Output already exists.\n",
            "Skipping 11536.jpg: Output already exists.\n",
            "Skipping 14972.jpg: Output already exists.\n",
            "Skipping 10591.jpg: Output already exists.\n",
            "Skipping 1396.jpg: Output already exists.\n",
            "Skipping 14366.jpg: Output already exists.\n",
            "Skipping 14140.jpg: Output already exists.\n",
            "Skipping 1274.jpg: Output already exists.\n",
            "Skipping 13937.jpg: Output already exists.\n",
            "Skipping 14644.jpg: Output already exists.\n",
            "Skipping 13559.jpg: Output already exists.\n",
            "Skipping 12023.jpg: Output already exists.\n",
            "Skipping 10931.jpg: Output already exists.\n",
            "Skipping 13023.jpg: Output already exists.\n",
            "Skipping 11895.jpg: Output already exists.\n",
            "Skipping 12488.jpg: Output already exists.\n",
            "Skipping 14757.jpg: Output already exists.\n",
            "Skipping 14944.jpg: Output already exists.\n",
            "Skipping 10745.jpg: Output already exists.\n",
            "Skipping 12884.jpg: Output already exists.\n",
            "Skipping 13914.jpg: Output already exists.\n",
            "Skipping 11496.jpg: Output already exists.\n",
            "Skipping 14535.jpg: Output already exists.\n",
            "Skipping 13431.jpg: Output already exists.\n",
            "Skipping 14189.jpg: Output already exists.\n",
            "Skipping 15259.jpg: Output already exists.\n",
            "Skipping 10872.jpg: Output already exists.\n",
            "Skipping 14646.jpg: Output already exists.\n",
            "Skipping 1534.jpg: Output already exists.\n",
            "Skipping 1466.jpg: Output already exists.\n",
            "Skipping 10002.jpg: Output already exists.\n",
            "Skipping 15135.jpg: Output already exists.\n",
            "Skipping 13906.jpg: Output already exists.\n",
            "Skipping 14445.jpg: Output already exists.\n",
            "Skipping 14095.jpg: Output already exists.\n",
            "Skipping 10857.jpg: Output already exists.\n",
            "Skipping 11310.jpg: Output already exists.\n",
            "Skipping 12835.jpg: Output already exists.\n",
            "Skipping 10201.jpg: Output already exists.\n",
            "Skipping 14925.jpg: Output already exists.\n",
            "Skipping 14158.jpg: Output already exists.\n",
            "Skipping 13404.jpg: Output already exists.\n",
            "Skipping 10664.jpg: Output already exists.\n",
            "Skipping 15051.jpg: Output already exists.\n",
            "Skipping 11549.jpg: Output already exists.\n",
            "Skipping 14577.jpg: Output already exists.\n",
            "Skipping 15184.jpg: Output already exists.\n",
            "Skipping 14421.jpg: Output already exists.\n",
            "Skipping 15171.jpg: Output already exists.\n"
          ]
        },
        {
          "name": "stderr",
          "output_type": "stream",
          "text": [
            "\r 53%|█████▎    | 3151/6000 [00:00<00:00, 15773.64it/s]"
          ]
        },
        {
          "name": "stdout",
          "output_type": "stream",
          "text": [
            "Skipping 13133.jpg: Output already exists.\n",
            "Skipping 11540.jpg: Output already exists.\n",
            "Skipping 14315.jpg: Output already exists.\n",
            "Skipping 15008.jpg: Output already exists.\n",
            "Skipping 12346.jpg: Output already exists.\n",
            "Skipping 15255.jpg: Output already exists.\n",
            "Skipping 10105.jpg: Output already exists.\n",
            "Skipping 15338.jpg: Output already exists.\n",
            "Skipping 14325.jpg: Output already exists.\n",
            "Skipping 15302.jpg: Output already exists.\n",
            "Skipping 11949.jpg: Output already exists.\n",
            "Skipping 12582.jpg: Output already exists.\n",
            "Skipping 15117.jpg: Output already exists.\n",
            "Skipping 12991.jpg: Output already exists.\n",
            "Skipping 1235.jpg: Output already exists.\n",
            "Skipping 14032.jpg: Output already exists.\n",
            "Skipping 11416.jpg: Output already exists.\n",
            "Skipping 14776.jpg: Output already exists.\n",
            "Skipping 1311.jpg: Output already exists.\n",
            "Skipping 12487.jpg: Output already exists.\n",
            "Skipping 13592.jpg: Output already exists.\n",
            "Skipping 14288.jpg: Output already exists.\n",
            "Skipping 13383.jpg: Output already exists.\n",
            "Skipping 14583.jpg: Output already exists.\n",
            "Skipping 11147.jpg: Output already exists.\n",
            "Skipping 12290.jpg: Output already exists.\n",
            "Skipping 10327.jpg: Output already exists.\n",
            "Skipping 10726.jpg: Output already exists.\n",
            "Skipping 12266.jpg: Output already exists.\n",
            "Skipping 14981.jpg: Output already exists.\n",
            "Skipping 11038.jpg: Output already exists.\n",
            "Skipping 15378.jpg: Output already exists.\n",
            "Skipping 1340.jpg: Output already exists.\n",
            "Skipping 13193.jpg: Output already exists.\n",
            "Skipping 14888.jpg: Output already exists.\n",
            "Skipping 12190.jpg: Output already exists.\n",
            "Skipping 11701.jpg: Output already exists.\n",
            "Skipping 13570.jpg: Output already exists.\n",
            "Skipping 13552.jpg: Output already exists.\n",
            "Skipping 12855.jpg: Output already exists.\n",
            "Skipping 11976.jpg: Output already exists.\n",
            "Skipping 14205.jpg: Output already exists.\n",
            "Skipping 14376.jpg: Output already exists.\n",
            "Skipping 10808.jpg: Output already exists.\n",
            "Skipping 10569.jpg: Output already exists.\n",
            "Skipping 15129.jpg: Output already exists.\n",
            "Skipping 14884.jpg: Output already exists.\n",
            "Skipping 10424.jpg: Output already exists.\n",
            "Skipping 1098.jpg: Output already exists.\n",
            "Skipping 13250.jpg: Output already exists.\n",
            "Skipping 10127.jpg: Output already exists.\n",
            "Skipping 14196.jpg: Output already exists.\n",
            "Skipping 14331.jpg: Output already exists.\n",
            "Skipping 1279.jpg: Output already exists.\n",
            "Skipping 1220.jpg: Output already exists.\n",
            "Skipping 10367.jpg: Output already exists.\n",
            "Skipping 11468.jpg: Output already exists.\n",
            "Skipping 11518.jpg: Output already exists.\n",
            "Skipping 10342.jpg: Output already exists.\n",
            "Skipping 14766.jpg: Output already exists.\n",
            "Skipping 10454.jpg: Output already exists.\n",
            "Skipping 11383.jpg: Output already exists.\n",
            "Skipping 10515.jpg: Output already exists.\n",
            "Skipping 13308.jpg: Output already exists.\n",
            "Skipping 1076.jpg: Output already exists.\n",
            "Skipping 13326.jpg: Output already exists.\n",
            "Skipping 12705.jpg: Output already exists.\n",
            "Skipping 13223.jpg: Output already exists.\n",
            "Skipping 12051.jpg: Output already exists.\n",
            "Skipping 12473.jpg: Output already exists.\n",
            "Skipping 15271.jpg: Output already exists.\n",
            "Skipping 11102.jpg: Output already exists.\n",
            "Skipping 11258.jpg: Output already exists.\n",
            "Skipping 1327.jpg: Output already exists.\n",
            "Skipping 10899.jpg: Output already exists.\n",
            "Skipping 14895.jpg: Output already exists.\n",
            "Skipping 14512.jpg: Output already exists.\n",
            "Skipping 12462.jpg: Output already exists.\n",
            "Skipping 10090.jpg: Output already exists.\n",
            "Skipping 128.jpg: Output already exists.\n",
            "Skipping 13529.jpg: Output already exists.\n",
            "Skipping 13646.jpg: Output already exists.\n",
            "Skipping 14837.jpg: Output already exists.\n",
            "Skipping 14115.jpg: Output already exists.\n",
            "Skipping 11792.jpg: Output already exists.\n",
            "Skipping 15252.jpg: Output already exists.\n",
            "Skipping 14039.jpg: Output already exists.\n",
            "Skipping 1337.jpg: Output already exists.\n",
            "Skipping 12355.jpg: Output already exists.\n",
            "Skipping 1025.jpg: Output already exists.\n",
            "Skipping 11965.jpg: Output already exists.\n",
            "Skipping 10516.jpg: Output already exists.\n",
            "Skipping 10643.jpg: Output already exists.\n",
            "Skipping 10773.jpg: Output already exists.\n",
            "Skipping 15116.jpg: Output already exists.\n",
            "Skipping 13634.jpg: Output already exists.\n",
            "Skipping 11613.jpg: Output already exists.\n",
            "Skipping 14397.jpg: Output already exists.\n",
            "Skipping 10256.jpg: Output already exists.\n",
            "Skipping 14346.jpg: Output already exists.\n",
            "Skipping 10699.jpg: Output already exists.\n",
            "Skipping 12067.jpg: Output already exists.\n",
            "Skipping 12370.jpg: Output already exists.\n",
            "Skipping 1312.jpg: Output already exists.\n",
            "Skipping 1500.jpg: Output already exists.\n",
            "Skipping 1251.jpg: Output already exists.\n",
            "Skipping 12327.jpg: Output already exists.\n",
            "Skipping 11326.jpg: Output already exists.\n",
            "Skipping 14494.jpg: Output already exists.\n",
            "Skipping 1267.jpg: Output already exists.\n",
            "Skipping 14933.jpg: Output already exists.\n",
            "Skipping 12336.jpg: Output already exists.\n",
            "Skipping 15275.jpg: Output already exists.\n",
            "Skipping 10601.jpg: Output already exists.\n",
            "Skipping 12830.jpg: Output already exists.\n",
            "Skipping 11415.jpg: Output already exists.\n",
            "Skipping 14257.jpg: Output already exists.\n",
            "Skipping 12153.jpg: Output already exists.\n",
            "Skipping 10592.jpg: Output already exists.\n",
            "Skipping 15136.jpg: Output already exists.\n",
            "Skipping 12843.jpg: Output already exists.\n",
            "Skipping 14573.jpg: Output already exists.\n",
            "Skipping 14483.jpg: Output already exists.\n",
            "Skipping 11246.jpg: Output already exists.\n",
            "Skipping 13271.jpg: Output already exists.\n",
            "Skipping 11867.jpg: Output already exists.\n",
            "Skipping 12147.jpg: Output already exists.\n",
            "Skipping 1261.jpg: Output already exists.\n",
            "Skipping 11201.jpg: Output already exists.\n",
            "Skipping 1328.jpg: Output already exists.\n",
            "Skipping 14571.jpg: Output already exists.\n",
            "Skipping 14553.jpg: Output already exists.\n",
            "Skipping 1537.jpg: Output already exists.\n",
            "Skipping 14389.jpg: Output already exists.\n",
            "Skipping 14178.jpg: Output already exists.\n",
            "Skipping 14338.jpg: Output already exists.\n",
            "Skipping 1372.jpg: Output already exists.\n",
            "Skipping 13138.jpg: Output already exists.\n",
            "Skipping 14777.jpg: Output already exists.\n",
            "Skipping 10673.jpg: Output already exists.\n",
            "Skipping 14123.jpg: Output already exists.\n",
            "Skipping 11298.jpg: Output already exists.\n",
            "Skipping 12378.jpg: Output already exists.\n",
            "Skipping 10807.jpg: Output already exists.\n",
            "Skipping 15247.jpg: Output already exists.\n",
            "Skipping 1354.jpg: Output already exists.\n",
            "Skipping 12425.jpg: Output already exists.\n",
            "Skipping 12394.jpg: Output already exists.\n",
            "Skipping 15234.jpg: Output already exists.\n",
            "Skipping 10240.jpg: Output already exists.\n",
            "Skipping 11954.jpg: Output already exists.\n",
            "Skipping 13871.jpg: Output already exists.\n",
            "Skipping 14948.jpg: Output already exists.\n",
            "Skipping 12020.jpg: Output already exists.\n",
            "Skipping 1047.jpg: Output already exists.\n",
            "Skipping 14489.jpg: Output already exists.\n",
            "Skipping 14197.jpg: Output already exists.\n",
            "Skipping 10206.jpg: Output already exists.\n",
            "Skipping 10713.jpg: Output already exists.\n",
            "Skipping 10621.jpg: Output already exists.\n",
            "Skipping 14992.jpg: Output already exists.\n",
            "Skipping 10989.jpg: Output already exists.\n",
            "Skipping 11891.jpg: Output already exists.\n",
            "Skipping 1010.jpg: Output already exists.\n",
            "Skipping 1433.jpg: Output already exists.\n",
            "Skipping 12682.jpg: Output already exists.\n",
            "Skipping 10153.jpg: Output already exists.\n",
            "Skipping 12025.jpg: Output already exists.\n",
            "Skipping 12838.jpg: Output already exists.\n",
            "Skipping 14985.jpg: Output already exists.\n",
            "Skipping 12969.jpg: Output already exists.\n",
            "Skipping 15036.jpg: Output already exists.\n",
            "Skipping 15336.jpg: Output already exists.\n",
            "Skipping 12689.jpg: Output already exists.\n",
            "Skipping 13224.jpg: Output already exists.\n",
            "Skipping 13806.jpg: Output already exists.\n",
            "Skipping 14309.jpg: Output already exists.\n",
            "Skipping 14022.jpg: Output already exists.\n",
            "Skipping 14485.jpg: Output already exists.\n",
            "Skipping 13690.jpg: Output already exists.\n",
            "Skipping 14136.jpg: Output already exists.\n",
            "Skipping 13705.jpg: Output already exists.\n",
            "Skipping 1238.jpg: Output already exists.\n",
            "Skipping 14306.jpg: Output already exists.\n",
            "Skipping 13767.jpg: Output already exists.\n",
            "Skipping 11267.jpg: Output already exists.\n",
            "Skipping 14482.jpg: Output already exists.\n",
            "Skipping 10391.jpg: Output already exists.\n",
            "Skipping 11101.jpg: Output already exists.\n",
            "Skipping 10632.jpg: Output already exists.\n",
            "Skipping 14578.jpg: Output already exists.\n",
            "Skipping 12348.jpg: Output already exists.\n",
            "Skipping 1166.jpg: Output already exists.\n",
            "Skipping 13014.jpg: Output already exists.\n",
            "Skipping 11553.jpg: Output already exists.\n",
            "Skipping 11768.jpg: Output already exists.\n",
            "Skipping 14614.jpg: Output already exists.\n",
            "Skipping 14005.jpg: Output already exists.\n",
            "Skipping 14544.jpg: Output already exists.\n",
            "Skipping 11809.jpg: Output already exists.\n",
            "Skipping 13812.jpg: Output already exists.\n",
            "Skipping 14224.jpg: Output already exists.\n",
            "Skipping 12384.jpg: Output already exists.\n",
            "Skipping 1489.jpg: Output already exists.\n",
            "Skipping 15064.jpg: Output already exists.\n",
            "Skipping 1518.jpg: Output already exists.\n",
            "Skipping 10174.jpg: Output already exists.\n",
            "Skipping 14897.jpg: Output already exists.\n",
            "Skipping 13364.jpg: Output already exists.\n",
            "Skipping 14962.jpg: Output already exists.\n",
            "Skipping 11044.jpg: Output already exists.\n",
            "Skipping 11333.jpg: Output already exists.\n",
            "Skipping 11221.jpg: Output already exists.\n",
            "Skipping 13703.jpg: Output already exists.\n",
            "Skipping 11112.jpg: Output already exists.\n",
            "Skipping 10427.jpg: Output already exists.\n",
            "Skipping 11182.jpg: Output already exists.\n",
            "Skipping 15114.jpg: Output already exists.\n",
            "Skipping 13625.jpg: Output already exists.\n",
            "Skipping 11711.jpg: Output already exists.\n",
            "Skipping 1497.jpg: Output already exists.\n",
            "Skipping 10000.jpg: Output already exists.\n",
            "Skipping 10316.jpg: Output already exists.\n",
            "Skipping 10251.jpg: Output already exists.\n",
            "Skipping 12073.jpg: Output already exists.\n",
            "Skipping 11512.jpg: Output already exists.\n",
            "Skipping 13343.jpg: Output already exists.\n",
            "Skipping 1017.jpg: Output already exists.\n",
            "Skipping 13708.jpg: Output already exists.\n",
            "Skipping 13203.jpg: Output already exists.\n",
            "Skipping 12852.jpg: Output already exists.\n",
            "Skipping 1415.jpg: Output already exists.\n",
            "Skipping 10388.jpg: Output already exists.\n",
            "Skipping 12782.jpg: Output already exists.\n",
            "Skipping 11146.jpg: Output already exists.\n",
            "Skipping 12925.jpg: Output already exists.\n",
            "Skipping 1243.jpg: Output already exists.\n",
            "Skipping 12001.jpg: Output already exists.\n",
            "Skipping 14304.jpg: Output already exists.\n",
            "Skipping 15107.jpg: Output already exists.\n",
            "Skipping 11730.jpg: Output already exists.\n",
            "Skipping 10763.jpg: Output already exists.\n",
            "Skipping 13765.jpg: Output already exists.\n",
            "Skipping 10614.jpg: Output already exists.\n",
            "Skipping 11567.jpg: Output already exists.\n",
            "Skipping 15311.jpg: Output already exists.\n",
            "Skipping 10033.jpg: Output already exists.\n",
            "Skipping 14685.jpg: Output already exists.\n",
            "Skipping 11345.jpg: Output already exists.\n",
            "Skipping 1319.jpg: Output already exists.\n",
            "Skipping 15094.jpg: Output already exists.\n",
            "Skipping 11538.jpg: Output already exists.\n",
            "Skipping 13436.jpg: Output already exists.\n",
            "Skipping 10529.jpg: Output already exists.\n",
            "Skipping 12430.jpg: Output already exists.\n",
            "Skipping 11532.jpg: Output already exists.\n",
            "Skipping 11181.jpg: Output already exists.\n",
            "Skipping 12998.jpg: Output already exists.\n",
            "Skipping 10099.jpg: Output already exists.\n",
            "Skipping 14667.jpg: Output already exists.\n",
            "Skipping 12326.jpg: Output already exists.\n",
            "Skipping 12905.jpg: Output already exists.\n",
            "Skipping 13041.jpg: Output already exists.\n",
            "Skipping 13154.jpg: Output already exists.\n",
            "Skipping 12902.jpg: Output already exists.\n",
            "Skipping 10126.jpg: Output already exists.\n",
            "Skipping 10029.jpg: Output already exists.\n",
            "Skipping 10724.jpg: Output already exists.\n",
            "Skipping 12584.jpg: Output already exists.\n",
            "Skipping 11666.jpg: Output already exists.\n",
            "Skipping 10634.jpg: Output already exists.\n",
            "Skipping 12129.jpg: Output already exists.\n",
            "Skipping 1345.jpg: Output already exists.\n",
            "Skipping 12490.jpg: Output already exists.\n",
            "Skipping 11048.jpg: Output already exists.\n",
            "Skipping 10116.jpg: Output already exists.\n",
            "Skipping 12113.jpg: Output already exists.\n",
            "Skipping 14082.jpg: Output already exists.\n",
            "Skipping 12179.jpg: Output already exists.\n",
            "Skipping 10359.jpg: Output already exists.\n",
            "Skipping 13111.jpg: Output already exists.\n",
            "Skipping 10725.jpg: Output already exists.\n",
            "Skipping 12908.jpg: Output already exists.\n",
            "Skipping 14337.jpg: Output already exists.\n",
            "Skipping 11348.jpg: Output already exists.\n",
            "Skipping 1117.jpg: Output already exists.\n",
            "Skipping 13530.jpg: Output already exists.\n",
            "Skipping 11672.jpg: Output already exists.\n",
            "Skipping 13739.jpg: Output already exists.\n",
            "Skipping 11807.jpg: Output already exists.\n",
            "Skipping 14248.jpg: Output already exists.\n",
            "Skipping 12391.jpg: Output already exists.\n",
            "Skipping 10748.jpg: Output already exists.\n",
            "Skipping 13693.jpg: Output already exists.\n",
            "Skipping 14630.jpg: Output already exists.\n",
            "Skipping 11689.jpg: Output already exists.\n",
            "Skipping 12397.jpg: Output already exists.\n",
            "Skipping 12683.jpg: Output already exists.\n",
            "Skipping 11830.jpg: Output already exists.\n",
            "Skipping 14856.jpg: Output already exists.\n",
            "Skipping 14513.jpg: Output already exists.\n",
            "Skipping 13762.jpg: Output already exists.\n",
            "Skipping 13727.jpg: Output already exists.\n",
            "Skipping 10139.jpg: Output already exists.\n",
            "Skipping 1247.jpg: Output already exists.\n",
            "Skipping 11601.jpg: Output already exists.\n",
            "Skipping 12302.jpg: Output already exists.\n",
            "Skipping 13299.jpg: Output already exists.\n",
            "Skipping 14362.jpg: Output already exists.\n",
            "Skipping 12273.jpg: Output already exists.\n",
            "Skipping 11450.jpg: Output already exists.\n",
            "Skipping 11058.jpg: Output already exists.\n",
            "Skipping 13731.jpg: Output already exists.\n",
            "Skipping 12541.jpg: Output already exists.\n",
            "Skipping 11145.jpg: Output already exists.\n",
            "Skipping 14079.jpg: Output already exists.\n",
            "Skipping 14599.jpg: Output already exists.\n",
            "Skipping 1088.jpg: Output already exists.\n",
            "Skipping 12396.jpg: Output already exists.\n",
            "Skipping 1227.jpg: Output already exists.\n",
            "Skipping 12520.jpg: Output already exists.\n",
            "Skipping 13999.jpg: Output already exists.\n",
            "Skipping 11266.jpg: Output already exists.\n",
            "Skipping 11000.jpg: Output already exists.\n",
            "Skipping 12446.jpg: Output already exists.\n",
            "Skipping 13057.jpg: Output already exists.\n",
            "Skipping 13004.jpg: Output already exists.\n",
            "Skipping 12271.jpg: Output already exists.\n",
            "Skipping 11913.jpg: Output already exists.\n",
            "Skipping 11046.jpg: Output already exists.\n",
            "Skipping 11077.jpg: Output already exists.\n",
            "Skipping 14682.jpg: Output already exists.\n",
            "Skipping 11894.jpg: Output already exists.\n",
            "Skipping 12057.jpg: Output already exists.\n",
            "Skipping 1455.jpg: Output already exists.\n",
            "Skipping 12268.jpg: Output already exists.\n",
            "Skipping 1392.jpg: Output already exists.\n",
            "Skipping 12199.jpg: Output already exists.\n",
            "Skipping 11583.jpg: Output already exists.\n",
            "Skipping 12363.jpg: Output already exists.\n",
            "Skipping 15387.jpg: Output already exists.\n",
            "Skipping 14173.jpg: Output already exists.\n",
            "Skipping 13438.jpg: Output already exists.\n",
            "Skipping 14960.jpg: Output already exists.\n",
            "Skipping 10986.jpg: Output already exists.\n",
            "Skipping 1206.jpg: Output already exists.\n",
            "Skipping 14076.jpg: Output already exists.\n",
            "Skipping 11200.jpg: Output already exists.\n",
            "Skipping 10829.jpg: Output already exists.\n",
            "Skipping 1486.jpg: Output already exists.\n",
            "Skipping 13659.jpg: Output already exists.\n",
            "Skipping 10636.jpg: Output already exists.\n",
            "Skipping 14823.jpg: Output already exists.\n",
            "Skipping 11969.jpg: Output already exists.\n",
            "Skipping 15256.jpg: Output already exists.\n",
            "Skipping 14555.jpg: Output already exists.\n",
            "Skipping 15048.jpg: Output already exists.\n",
            "Skipping 10143.jpg: Output already exists.\n",
            "Skipping 14634.jpg: Output already exists.\n",
            "Skipping 12328.jpg: Output already exists.\n",
            "Skipping 14822.jpg: Output already exists.\n",
            "Skipping 15310.jpg: Output already exists.\n",
            "Skipping 10200.jpg: Output already exists.\n",
            "Skipping 11835.jpg: Output already exists.\n",
            "Skipping 11978.jpg: Output already exists.\n",
            "Skipping 12566.jpg: Output already exists.\n",
            "Skipping 10191.jpg: Output already exists.\n",
            "Skipping 15141.jpg: Output already exists.\n",
            "Skipping 10375.jpg: Output already exists.\n",
            "Skipping 13550.jpg: Output already exists.\n",
            "Skipping 10007.jpg: Output already exists.\n",
            "Skipping 14735.jpg: Output already exists.\n",
            "Skipping 10249.jpg: Output already exists.\n",
            "Skipping 1488.jpg: Output already exists.\n",
            "Skipping 1474.jpg: Output already exists.\n",
            "Skipping 11841.jpg: Output already exists.\n",
            "Skipping 12272.jpg: Output already exists.\n",
            "Skipping 11908.jpg: Output already exists.\n",
            "Skipping 13446.jpg: Output already exists.\n",
            "Skipping 10757.jpg: Output already exists.\n",
            "Skipping 13294.jpg: Output already exists.\n",
            "Skipping 13433.jpg: Output already exists.\n",
            "Skipping 13042.jpg: Output already exists.\n",
            "Skipping 12444.jpg: Output already exists.\n",
            "Skipping 14727.jpg: Output already exists.\n",
            "Skipping 12731.jpg: Output already exists.\n",
            "Skipping 14939.jpg: Output already exists.\n",
            "Skipping 10071.jpg: Output already exists.\n",
            "Skipping 14528.jpg: Output already exists.\n",
            "Skipping 1524.jpg: Output already exists.\n",
            "Skipping 13543.jpg: Output already exists.\n",
            "Skipping 11373.jpg: Output already exists.\n",
            "Skipping 12791.jpg: Output already exists.\n",
            "Skipping 13623.jpg: Output already exists.\n",
            "Skipping 14870.jpg: Output already exists.\n",
            "Skipping 12276.jpg: Output already exists.\n",
            "Skipping 10408.jpg: Output already exists.\n",
            "Skipping 10348.jpg: Output already exists.\n",
            "Skipping 10840.jpg: Output already exists.\n",
            "Skipping 13734.jpg: Output already exists.\n",
            "Skipping 12728.jpg: Output already exists.\n",
            "Skipping 1181.jpg: Output already exists.\n",
            "Skipping 13898.jpg: Output already exists.\n",
            "Skipping 13145.jpg: Output already exists.\n",
            "Skipping 1106.jpg: Output already exists.\n",
            "Skipping 13385.jpg: Output already exists.\n",
            "Skipping 10425.jpg: Output already exists.\n",
            "Skipping 13321.jpg: Output already exists.\n",
            "Skipping 1189.jpg: Output already exists.\n",
            "Skipping 13088.jpg: Output already exists.\n",
            "Skipping 14118.jpg: Output already exists.\n",
            "Skipping 10217.jpg: Output already exists.\n",
            "Skipping 11259.jpg: Output already exists.\n",
            "Skipping 1186.jpg: Output already exists.\n",
            "Skipping 13327.jpg: Output already exists.\n",
            "Skipping 13577.jpg: Output already exists.\n",
            "Skipping 11010.jpg: Output already exists.\n",
            "Skipping 10045.jpg: Output already exists.\n",
            "Skipping 14420.jpg: Output already exists.\n",
            "Skipping 14423.jpg: Output already exists.\n",
            "Skipping 11093.jpg: Output already exists.\n",
            "Skipping 10979.jpg: Output already exists.\n",
            "Skipping 1385.jpg: Output already exists.\n",
            "Skipping 12468.jpg: Output already exists.\n",
            "Skipping 15130.jpg: Output already exists.\n",
            "Skipping 12864.jpg: Output already exists.\n",
            "Skipping 11470.jpg: Output already exists.\n",
            "Skipping 10156.jpg: Output already exists.\n",
            "Skipping 13403.jpg: Output already exists.\n",
            "Skipping 11630.jpg: Output already exists.\n",
            "Skipping 11320.jpg: Output already exists.\n",
            "Skipping 10974.jpg: Output already exists.\n",
            "Skipping 12443.jpg: Output already exists.\n",
            "Skipping 12539.jpg: Output already exists.\n",
            "Skipping 1229.jpg: Output already exists.\n",
            "Skipping 11577.jpg: Output already exists.\n",
            "Skipping 13732.jpg: Output already exists.\n",
            "Skipping 14207.jpg: Output already exists.\n",
            "Skipping 12551.jpg: Output already exists.\n",
            "Skipping 15177.jpg: Output already exists.\n",
            "Skipping 10167.jpg: Output already exists.\n",
            "Skipping 14046.jpg: Output already exists.\n",
            "Skipping 15035.jpg: Output already exists.\n",
            "Skipping 14838.jpg: Output already exists.\n",
            "Skipping 13920.jpg: Output already exists.\n",
            "Skipping 11142.jpg: Output already exists.\n",
            "Skipping 14361.jpg: Output already exists.\n",
            "Skipping 11023.jpg: Output already exists.\n",
            "Skipping 12210.jpg: Output already exists.\n",
            "Skipping 14721.jpg: Output already exists.\n",
            "Skipping 14910.jpg: Output already exists.\n",
            "Skipping 1222.jpg: Output already exists.\n",
            "Skipping 10951.jpg: Output already exists.\n",
            "Skipping 14341.jpg: Output already exists.\n",
            "Skipping 11311.jpg: Output already exists.\n",
            "Skipping 10785.jpg: Output already exists.\n",
            "Skipping 12903.jpg: Output already exists.\n",
            "Skipping 13538.jpg: Output already exists.\n",
            "Skipping 13643.jpg: Output already exists.\n",
            "Skipping 10242.jpg: Output already exists.\n",
            "Skipping 10787.jpg: Output already exists.\n",
            "Skipping 11957.jpg: Output already exists.\n",
            "Skipping 11440.jpg: Output already exists.\n",
            "Skipping 14493.jpg: Output already exists.\n",
            "Skipping 13981.jpg: Output already exists.\n",
            "Skipping 10720.jpg: Output already exists.\n",
            "Skipping 1069.jpg: Output already exists.\n",
            "Skipping 10263.jpg: Output already exists.\n",
            "Skipping 13263.jpg: Output already exists.\n",
            "Skipping 11391.jpg: Output already exists.\n",
            "Skipping 14122.jpg: Output already exists.\n",
            "Skipping 14227.jpg: Output already exists.\n",
            "Skipping 10338.jpg: Output already exists.\n",
            "Skipping 10068.jpg: Output already exists.\n",
            "Skipping 11479.jpg: Output already exists.\n",
            "Skipping 12172.jpg: Output already exists.\n",
            "Skipping 11396.jpg: Output already exists.\n",
            "Skipping 11993.jpg: Output already exists.\n",
            "Skipping 1030.jpg: Output already exists.\n",
            "Skipping 13858.jpg: Output already exists.\n",
            "Skipping 14177.jpg: Output already exists.\n",
            "Skipping 1472.jpg: Output already exists.\n",
            "Skipping 10473.jpg: Output already exists.\n",
            "Skipping 14720.jpg: Output already exists.\n",
            "Skipping 10905.jpg: Output already exists.\n",
            "Skipping 14703.jpg: Output already exists.\n",
            "Skipping 15023.jpg: Output already exists.\n",
            "Skipping 1011.jpg: Output already exists.\n",
            "Skipping 12816.jpg: Output already exists.\n",
            "Skipping 13629.jpg: Output already exists.\n",
            "Skipping 13377.jpg: Output already exists.\n",
            "Skipping 14.jpg: Output already exists.\n",
            "Skipping 12315.jpg: Output already exists.\n",
            "Skipping 12820.jpg: Output already exists.\n",
            "Skipping 11281.jpg: Output already exists.\n",
            "Skipping 1052.jpg: Output already exists.\n",
            "Skipping 13826.jpg: Output already exists.\n",
            "Skipping 10186.jpg: Output already exists.\n",
            "Skipping 14112.jpg: Output already exists.\n",
            "Skipping 10019.jpg: Output already exists.\n",
            "Skipping 12646.jpg: Output already exists.\n",
            "Skipping 11424.jpg: Output already exists.\n",
            "Skipping 12126.jpg: Output already exists.\n",
            "Skipping 12474.jpg: Output already exists.\n",
            "Skipping 13630.jpg: Output already exists.\n",
            "Skipping 12032.jpg: Output already exists.\n",
            "Skipping 12409.jpg: Output already exists.\n",
            "Skipping 12677.jpg: Output already exists.\n",
            "Skipping 10716.jpg: Output already exists.\n",
            "Skipping 13100.jpg: Output already exists.\n",
            "Skipping 10927.jpg: Output already exists.\n",
            "Skipping 14817.jpg: Output already exists.\n",
            "Skipping 13162.jpg: Output already exists.\n",
            "Skipping 11852.jpg: Output already exists.\n",
            "Skipping 14938.jpg: Output already exists.\n",
            "Skipping 12275.jpg: Output already exists.\n",
            "Skipping 13781.jpg: Output already exists.\n",
            "Skipping 11864.jpg: Output already exists.\n",
            "Skipping 11090.jpg: Output already exists.\n",
            "Skipping 13638.jpg: Output already exists.\n",
            "Skipping 10982.jpg: Output already exists.\n",
            "Skipping 14952.jpg: Output already exists.\n",
            "Skipping 15155.jpg: Output already exists.\n",
            "Skipping 14954.jpg: Output already exists.\n",
            "Skipping 13180.jpg: Output already exists.\n",
            "Skipping 12306.jpg: Output already exists.\n",
            "Skipping 15111.jpg: Output already exists.\n",
            "Skipping 11777.jpg: Output already exists.\n",
            "Skipping 11917.jpg: Output already exists.\n",
            "Skipping 15113.jpg: Output already exists.\n",
            "Skipping 11389.jpg: Output already exists.\n",
            "Skipping 13942.jpg: Output already exists.\n",
            "Skipping 1321.jpg: Output already exists.\n",
            "Skipping 1216.jpg: Output already exists.\n",
            "Skipping 14670.jpg: Output already exists.\n",
            "Skipping 13063.jpg: Output already exists.\n",
            "Skipping 12044.jpg: Output already exists.\n",
            "Skipping 10081.jpg: Output already exists.\n",
            "Skipping 10604.jpg: Output already exists.\n",
            "Skipping 1013.jpg: Output already exists.\n",
            "Skipping 12818.jpg: Output already exists.\n",
            "Skipping 14301.jpg: Output already exists.\n",
            "Skipping 14868.jpg: Output already exists.\n",
            "Skipping 10067.jpg: Output already exists.\n",
            "Skipping 13571.jpg: Output already exists.\n",
            "Skipping 14827.jpg: Output already exists.\n",
            "Skipping 1443.jpg: Output already exists.\n",
            "Skipping 14778.jpg: Output already exists.\n",
            "Skipping 1024.jpg: Output already exists.\n",
            "Skipping 12764.jpg: Output already exists.\n",
            "Skipping 11064.jpg: Output already exists.\n",
            "Skipping 102.jpg: Output already exists.\n",
            "Skipping 11765.jpg: Output already exists.\n",
            "Skipping 14499.jpg: Output already exists.\n",
            "Skipping 13452.jpg: Output already exists.\n",
            "Skipping 1347.jpg: Output already exists.\n",
            "Skipping 11059.jpg: Output already exists.\n",
            "Skipping 14843.jpg: Output already exists.\n",
            "Skipping 12117.jpg: Output already exists.\n",
            "Skipping 12340.jpg: Output already exists.\n",
            "Skipping 14278.jpg: Output already exists.\n",
            "Skipping 13684.jpg: Output already exists.\n",
            "Skipping 11896.jpg: Output already exists.\n",
            "Skipping 12585.jpg: Output already exists.\n",
            "Skipping 12621.jpg: Output already exists.\n",
            "Skipping 12867.jpg: Output already exists.\n",
            "Skipping 11361.jpg: Output already exists.\n",
            "Skipping 1055.jpg: Output already exists.\n",
            "Skipping 14426.jpg: Output already exists.\n",
            "Skipping 13492.jpg: Output already exists.\n",
            "Skipping 11865.jpg: Output already exists.\n",
            "Skipping 12033.jpg: Output already exists.\n",
            "Skipping 14174.jpg: Output already exists.\n",
            "Skipping 14305.jpg: Output already exists.\n",
            "Skipping 12234.jpg: Output already exists.\n",
            "Skipping 15229.jpg: Output already exists.\n",
            "Skipping 14486.jpg: Output already exists.\n",
            "Skipping 10836.jpg: Output already exists.\n",
            "Skipping 13719.jpg: Output already exists.\n",
            "Skipping 14596.jpg: Output already exists.\n",
            "Skipping 12456.jpg: Output already exists.\n",
            "Skipping 13601.jpg: Output already exists.\n",
            "Skipping 10739.jpg: Output already exists.\n",
            "Skipping 11834.jpg: Output already exists.\n",
            "Skipping 12356.jpg: Output already exists.\n",
            "Skipping 14242.jpg: Output already exists.\n",
            "Skipping 14542.jpg: Output already exists.\n",
            "Skipping 11655.jpg: Output already exists.\n",
            "Skipping 10349.jpg: Output already exists.\n",
            "Skipping 11429.jpg: Output already exists.\n",
            "Skipping 10260.jpg: Output already exists.\n",
            "Skipping 13722.jpg: Output already exists.\n",
            "Skipping 10623.jpg: Output already exists.\n",
            "Skipping 10383.jpg: Output already exists.\n",
            "Skipping 11497.jpg: Output already exists.\n",
            "Skipping 15192.jpg: Output already exists.\n",
            "Skipping 11725.jpg: Output already exists.\n",
            "Skipping 13782.jpg: Output already exists.\n",
            "Skipping 1038.jpg: Output already exists.\n",
            "Skipping 13209.jpg: Output already exists.\n",
            "Skipping 11230.jpg: Output already exists.\n",
            "Skipping 10482.jpg: Output already exists.\n",
            "Skipping 10738.jpg: Output already exists.\n",
            "Skipping 13805.jpg: Output already exists.\n",
            "Skipping 14211.jpg: Output already exists.\n",
            "Skipping 13360.jpg: Output already exists.\n",
            "Skipping 13752.jpg: Output already exists.\n",
            "Skipping 1151.jpg: Output already exists.\n",
            "Skipping 10438.jpg: Output already exists.\n",
            "Skipping 15323.jpg: Output already exists.\n",
            "Skipping 11869.jpg: Output already exists.\n",
            "Skipping 11087.jpg: Output already exists.\n",
            "Skipping 13430.jpg: Output already exists.\n",
            "Skipping 10162.jpg: Output already exists.\n",
            "Skipping 13712.jpg: Output already exists.\n",
            "Skipping 15226.jpg: Output already exists.\n",
            "Skipping 15104.jpg: Output already exists.\n",
            "Skipping 12691.jpg: Output already exists.\n",
            "Skipping 13699.jpg: Output already exists.\n",
            "Skipping 12721.jpg: Output already exists.\n",
            "Skipping 13901.jpg: Output already exists.\n",
            "Skipping 10035.jpg: Output already exists.\n",
            "Skipping 14021.jpg: Output already exists.\n",
            "Skipping 13171.jpg: Output already exists.\n",
            "Skipping 14329.jpg: Output already exists.\n",
            "Skipping 13346.jpg: Output already exists.\n",
            "Skipping 14812.jpg: Output already exists.\n",
            "Skipping 10130.jpg: Output already exists.\n",
            "Skipping 14094.jpg: Output already exists.\n",
            "Skipping 13276.jpg: Output already exists.\n",
            "Skipping 10737.jpg: Output already exists.\n",
            "Skipping 10100.jpg: Output already exists.\n",
            "Skipping 11924.jpg: Output already exists.\n",
            "Skipping 11889.jpg: Output already exists.\n",
            "Skipping 14875.jpg: Output already exists.\n",
            "Skipping 13824.jpg: Output already exists.\n",
            "Skipping 10995.jpg: Output already exists.\n",
            "Skipping 1168.jpg: Output already exists.\n",
            "Skipping 10854.jpg: Output already exists.\n",
            "Skipping 11478.jpg: Output already exists.\n",
            "Skipping 11943.jpg: Output already exists.\n",
            "Skipping 1414.jpg: Output already exists.\n",
            "Skipping 11692.jpg: Output already exists.\n",
            "Skipping 10483.jpg: Output already exists.\n",
            "Skipping 1180.jpg: Output already exists.\n",
            "Skipping 14565.jpg: Output already exists.\n",
            "Skipping 10350.jpg: Output already exists.\n",
            "Skipping 11939.jpg: Output already exists.\n",
            "Skipping 15159.jpg: Output already exists.\n",
            "Skipping 12927.jpg: Output already exists.\n",
            "Skipping 10650.jpg: Output already exists.\n",
            "Skipping 14270.jpg: Output already exists.\n",
            "Skipping 13661.jpg: Output already exists.\n",
            "Skipping 1278.jpg: Output already exists.\n",
            "Skipping 15118.jpg: Output already exists.\n",
            "Skipping 11979.jpg: Output already exists.\n",
            "Skipping 11856.jpg: Output already exists.\n",
            "Skipping 10539.jpg: Output already exists.\n",
            "Skipping 11797.jpg: Output already exists.\n",
            "Skipping 10364.jpg: Output already exists.\n",
            "Skipping 12476.jpg: Output already exists.\n",
            "Skipping 11759.jpg: Output already exists.\n",
            "Skipping 11364.jpg: Output already exists.\n",
            "Skipping 14504.jpg: Output already exists.\n",
            "Skipping 11727.jpg: Output already exists.\n",
            "Skipping 14639.jpg: Output already exists.\n",
            "Skipping 1207.jpg: Output already exists.\n",
            "Skipping 13287.jpg: Output already exists.\n",
            "Skipping 14841.jpg: Output already exists.\n",
            "Skipping 13980.jpg: Output already exists.\n",
            "Skipping 12849.jpg: Output already exists.\n",
            "Skipping 11224.jpg: Output already exists.\n",
            "Skipping 14357.jpg: Output already exists.\n",
            "Skipping 14229.jpg: Output already exists.\n",
            "Skipping 11152.jpg: Output already exists.\n",
            "Skipping 13997.jpg: Output already exists.\n",
            "Skipping 1073.jpg: Output already exists.\n",
            "Skipping 14854.jpg: Output already exists.\n",
            "Skipping 13735.jpg: Output already exists.\n",
            "Skipping 11571.jpg: Output already exists.\n",
            "Skipping 14750.jpg: Output already exists.\n",
            "Skipping 12072.jpg: Output already exists.\n",
            "Skipping 13382.jpg: Output already exists.\n",
            "Skipping 12000.jpg: Output already exists.\n",
            "Skipping 1135.jpg: Output already exists.\n",
            "Skipping 13803.jpg: Output already exists.\n",
            "Skipping 12679.jpg: Output already exists.\n",
            "Skipping 14408.jpg: Output already exists.\n",
            "Skipping 12554.jpg: Output already exists.\n",
            "Skipping 10043.jpg: Output already exists.\n",
            "Skipping 14280.jpg: Output already exists.\n",
            "Skipping 10300.jpg: Output already exists.\n",
            "Skipping 12383.jpg: Output already exists.\n",
            "Skipping 11653.jpg: Output already exists.\n",
            "Skipping 11854.jpg: Output already exists.\n",
            "Skipping 12850.jpg: Output already exists.\n",
            "Skipping 13939.jpg: Output already exists.\n",
            "Skipping 1353.jpg: Output already exists.\n",
            "Skipping 11941.jpg: Output already exists.\n",
            "Skipping 12184.jpg: Output already exists.\n",
            "Skipping 10457.jpg: Output already exists.\n",
            "Skipping 13636.jpg: Output already exists.\n",
            "Skipping 13066.jpg: Output already exists.\n",
            "Skipping 13613.jpg: Output already exists.\n",
            "Skipping 14921.jpg: Output already exists.\n",
            "Skipping 15039.jpg: Output already exists.\n",
            "Skipping 14153.jpg: Output already exists.\n",
            "Skipping 11005.jpg: Output already exists.\n",
            "Skipping 11136.jpg: Output already exists.\n",
            "Skipping 11167.jpg: Output already exists.\n",
            "Skipping 14272.jpg: Output already exists.\n",
            "Skipping 13177.jpg: Output already exists.\n",
            "Skipping 10850.jpg: Output already exists.\n",
            "Skipping 10220.jpg: Output already exists.\n",
            "Skipping 11149.jpg: Output already exists.\n",
            "Skipping 14318.jpg: Output already exists.\n",
            "Skipping 14680.jpg: Output already exists.\n",
            "Skipping 10999.jpg: Output already exists.\n",
            "Skipping 13243.jpg: Output already exists.\n",
            "Skipping 12253.jpg: Output already exists.\n",
            "Skipping 10563.jpg: Output already exists.\n",
            "Skipping 14172.jpg: Output already exists.\n",
            "Skipping 14775.jpg: Output already exists.\n",
            "Skipping 15261.jpg: Output already exists.\n",
            "Skipping 14678.jpg: Output already exists.\n",
            "Skipping 11227.jpg: Output already exists.\n",
            "Skipping 10799.jpg: Output already exists.\n",
            "Skipping 13740.jpg: Output already exists.\n",
            "Skipping 10072.jpg: Output already exists.\n",
            "Skipping 10971.jpg: Output already exists.\n",
            "Skipping 10293.jpg: Output already exists.\n",
            "Skipping 14943.jpg: Output already exists.\n",
            "Skipping 11003.jpg: Output already exists.\n",
            "Skipping 10320.jpg: Output already exists.\n",
            "Skipping 13412.jpg: Output already exists.\n",
            "Skipping 13401.jpg: Output already exists.\n",
            "Skipping 10845.jpg: Output already exists.\n",
            "Skipping 12779.jpg: Output already exists.\n",
            "Skipping 15081.jpg: Output already exists.\n",
            "Skipping 13772.jpg: Output already exists.\n",
            "Skipping 1398.jpg: Output already exists.\n",
            "Skipping 13024.jpg: Output already exists.\n",
            "Skipping 15149.jpg: Output already exists.\n",
            "Skipping 10793.jpg: Output already exists.\n",
            "Skipping 1525.jpg: Output already exists.\n",
            "Skipping 14484.jpg: Output already exists.\n",
            "Skipping 14860.jpg: Output already exists.\n",
            "Skipping 14167.jpg: Output already exists.\n",
            "Skipping 11946.jpg: Output already exists.\n",
            "Skipping 14887.jpg: Output already exists.\n",
            "Skipping 14979.jpg: Output already exists.\n",
            "Skipping 13417.jpg: Output already exists.\n",
            "Skipping 10358.jpg: Output already exists.\n",
            "Skipping 12648.jpg: Output already exists.\n",
            "Skipping 10608.jpg: Output already exists.\n",
            "Skipping 14452.jpg: Output already exists.\n",
            "Skipping 11795.jpg: Output already exists.\n",
            "Skipping 14395.jpg: Output already exists.\n",
            "Skipping 14261.jpg: Output already exists.\n",
            "Skipping 13611.jpg: Output already exists.\n",
            "Skipping 15307.jpg: Output already exists.\n",
            "Skipping 13609.jpg: Output already exists.\n",
            "Skipping 1506.jpg: Output already exists.\n",
            "Skipping 10158.jpg: Output already exists.\n",
            "Skipping 10660.jpg: Output already exists.\n",
            "Skipping 10562.jpg: Output already exists.\n",
            "Skipping 10133.jpg: Output already exists.\n",
            "Skipping 13405.jpg: Output already exists.\n",
            "Skipping 14144.jpg: Output already exists.\n",
            "Skipping 1376.jpg: Output already exists.\n",
            "Skipping 12176.jpg: Output already exists.\n",
            "Skipping 11054.jpg: Output already exists.\n",
            "Skipping 15206.jpg: Output already exists.\n",
            "Skipping 11990.jpg: Output already exists.\n",
            "Skipping 13120.jpg: Output already exists.\n",
            "Skipping 12768.jpg: Output already exists.\n",
            "Skipping 12545.jpg: Output already exists.\n",
            "Skipping 12224.jpg: Output already exists.\n",
            "Skipping 14747.jpg: Output already exists.\n",
            "Skipping 14699.jpg: Output already exists.\n",
            "Skipping 14181.jpg: Output already exists.\n",
            "Skipping 10048.jpg: Output already exists.\n",
            "Skipping 1211.jpg: Output already exists.\n",
            "Skipping 11970.jpg: Output already exists.\n",
            "Skipping 11904.jpg: Output already exists.\n",
            "Skipping 11262.jpg: Output already exists.\n",
            "Skipping 13996.jpg: Output already exists.\n",
            "Skipping 12847.jpg: Output already exists.\n",
            "Skipping 14846.jpg: Output already exists.\n",
            "Skipping 1063.jpg: Output already exists.\n",
            "Skipping 137.jpg: Output already exists.\n",
            "Skipping 12264.jpg: Output already exists.\n",
            "Skipping 14067.jpg: Output already exists.\n",
            "Skipping 1332.jpg: Output already exists.\n",
            "Skipping 13859.jpg: Output already exists.\n",
            "Skipping 14857.jpg: Output already exists.\n",
            "Skipping 12971.jpg: Output already exists.\n",
            "Skipping 10103.jpg: Output already exists.\n",
            "Skipping 13702.jpg: Output already exists.\n",
            "Skipping 12401.jpg: Output already exists.\n",
            "Skipping 11107.jpg: Output already exists.\n",
            "Skipping 14591.jpg: Output already exists.\n",
            "Skipping 12281.jpg: Output already exists.\n",
            "Skipping 14092.jpg: Output already exists.\n",
            "Skipping 10838.jpg: Output already exists.\n",
            "Skipping 11720.jpg: Output already exists.\n",
            "Skipping 13185.jpg: Output already exists.\n",
            "Skipping 13947.jpg: Output already exists.\n",
            "Skipping 10306.jpg: Output already exists.\n",
            "Skipping 1441.jpg: Output already exists.\n",
            "Skipping 10265.jpg: Output already exists.\n",
            "Skipping 11617.jpg: Output already exists.\n",
            "Skipping 15306.jpg: Output already exists.\n",
            "Skipping 13793.jpg: Output already exists.\n",
            "Skipping 1173.jpg: Output already exists.\n",
            "Skipping 15346.jpg: Output already exists.\n",
            "Skipping 14461.jpg: Output already exists.\n",
            "Skipping 14649.jpg: Output already exists.\n",
            "Skipping 15340.jpg: Output already exists.\n",
            "Skipping 13546.jpg: Output already exists.\n",
            "Skipping 12434.jpg: Output already exists.\n",
            "Skipping 1233.jpg: Output already exists.\n",
            "Skipping 13351.jpg: Output already exists.\n",
            "Skipping 1512.jpg: Output already exists.\n",
            "Skipping 13101.jpg: Output already exists.\n",
            "Skipping 14971.jpg: Output already exists.\n",
            "Skipping 10078.jpg: Output already exists.\n",
            "Skipping 13647.jpg: Output already exists.\n",
            "Skipping 14085.jpg: Output already exists.\n",
            "Skipping 1104.jpg: Output already exists.\n",
            "Skipping 14253.jpg: Output already exists.\n",
            "Skipping 10888.jpg: Output already exists.\n",
            "Skipping 15264.jpg: Output already exists.\n",
            "Skipping 12175.jpg: Output already exists.\n",
            "Skipping 12750.jpg: Output already exists.\n",
            "Skipping 13766.jpg: Output already exists.\n",
            "Skipping 12056.jpg: Output already exists.\n",
            "Skipping 12118.jpg: Output already exists.\n",
            "Skipping 13724.jpg: Output already exists.\n",
            "Skipping 15263.jpg: Output already exists.\n",
            "Skipping 14935.jpg: Output already exists.\n",
            "Skipping 11186.jpg: Output already exists.\n",
            "Skipping 11338.jpg: Output already exists.\n",
            "Skipping 11270.jpg: Output already exists.\n",
            "Skipping 1078.jpg: Output already exists.\n",
            "Skipping 15251.jpg: Output already exists.\n",
            "Skipping 11304.jpg: Output already exists.\n",
            "Skipping 11084.jpg: Output already exists.\n",
            "Skipping 12578.jpg: Output already exists.\n",
            "Skipping 1493.jpg: Output already exists.\n",
            "Skipping 12232.jpg: Output already exists.\n",
            "Skipping 15137.jpg: Output already exists.\n",
            "Skipping 15133.jpg: Output already exists.\n",
            "Skipping 13184.jpg: Output already exists.\n",
            "Skipping 12953.jpg: Output already exists.\n",
            "Skipping 11685.jpg: Output already exists.\n",
            "Skipping 14737.jpg: Output already exists.\n",
            "Skipping 13521.jpg: Output already exists.\n",
            "Skipping 1113.jpg: Output already exists.\n",
            "Skipping 11663.jpg: Output already exists.\n",
            "Skipping 12604.jpg: Output already exists.\n",
            "Skipping 14078.jpg: Output already exists.\n",
            "Skipping 15151.jpg: Output already exists.\n",
            "Skipping 11188.jpg: Output already exists.\n",
            "Executing: python sketchKeras-pytorch/src/test.py -i /content/images/images/11724.jpg -o /content/sketches/sketches/11724.jpg -w sketchKeras-pytorch/weights/sketchKeras_pytorch.pth\n",
            "Skipping 14520.jpg: Output already exists.\n",
            "Executing: python sketchKeras-pytorch/src/test.py -i /content/images/images/15344.jpg -o /content/sketches/sketches/15344.jpg -w sketchKeras-pytorch/weights/sketchKeras_pytorch.pth\n",
            "Executing: python sketchKeras-pytorch/src/test.py -i /content/images/images/10297.jpg -o /content/sketches/sketches/10297.jpg -w sketchKeras-pytorch/weights/sketchKeras_pytorch.pth\n",
            "Executing: python sketchKeras-pytorch/src/test.py -i /content/images/images/12039.jpg -o /content/sketches/sketches/12039.jpg -w sketchKeras-pytorch/weights/sketchKeras_pytorch.pth\n",
            "Executing: python sketchKeras-pytorch/src/test.py -i /content/images/images/11640.jpg -o /content/sketches/sketches/11640.jpg -w sketchKeras-pytorch/weights/sketchKeras_pytorch.pth\n",
            "Executing: python sketchKeras-pytorch/src/test.py -i /content/images/images/11226.jpg -o /content/sketches/sketches/11226.jpg -w sketchKeras-pytorch/weights/sketchKeras_pytorch.pth\n"
          ]
        },
        {
          "name": "stderr",
          "output_type": "stream",
          "text": [
            " 67%|██████▋   | 4021/6000 [00:20<00:14, 138.13it/s]  "
          ]
        },
        {
          "name": "stdout",
          "output_type": "stream",
          "text": [
            "Executing: python sketchKeras-pytorch/src/test.py -i /content/images/images/13838.jpg -o /content/sketches/sketches/13838.jpg -w sketchKeras-pytorch/weights/sketchKeras_pytorch.pth\n",
            "Executing: python sketchKeras-pytorch/src/test.py -i /content/images/images/14637.jpg -o /content/sketches/sketches/14637.jpg -w sketchKeras-pytorch/weights/sketchKeras_pytorch.pth\n",
            "Executing: python sketchKeras-pytorch/src/test.py -i /content/images/images/13891.jpg -o /content/sketches/sketches/13891.jpg -w sketchKeras-pytorch/weights/sketchKeras_pytorch.pth\n",
            "Executing: python sketchKeras-pytorch/src/test.py -i /content/images/images/14133.jpg -o /content/sketches/sketches/14133.jpg -w sketchKeras-pytorch/weights/sketchKeras_pytorch.pth\n",
            "Executing: python sketchKeras-pytorch/src/test.py -i /content/images/images/1094.jpg -o /content/sketches/sketches/1094.jpg -w sketchKeras-pytorch/weights/sketchKeras_pytorch.pth\n"
          ]
        },
        {
          "name": "stderr",
          "output_type": "stream",
          "text": [
            "\r 67%|██████▋   | 4026/6000 [00:36<00:30, 64.73it/s] "
          ]
        },
        {
          "name": "stdout",
          "output_type": "stream",
          "text": [
            "Executing: python sketchKeras-pytorch/src/test.py -i /content/images/images/14148.jpg -o /content/sketches/sketches/14148.jpg -w sketchKeras-pytorch/weights/sketchKeras_pytorch.pth\n"
          ]
        },
        {
          "name": "stderr",
          "output_type": "stream",
          "text": [
            "\r 67%|██████▋   | 4027/6000 [00:39<00:35, 55.54it/s]"
          ]
        },
        {
          "name": "stdout",
          "output_type": "stream",
          "text": [
            "Executing: python sketchKeras-pytorch/src/test.py -i /content/images/images/10599.jpg -o /content/sketches/sketches/10599.jpg -w sketchKeras-pytorch/weights/sketchKeras_pytorch.pth\n",
            "Executing: python sketchKeras-pytorch/src/test.py -i /content/images/images/10814.jpg -o /content/sketches/sketches/10814.jpg -w sketchKeras-pytorch/weights/sketchKeras_pytorch.pth\n",
            "Executing: python sketchKeras-pytorch/src/test.py -i /content/images/images/11328.jpg -o /content/sketches/sketches/11328.jpg -w sketchKeras-pytorch/weights/sketchKeras_pytorch.pth\n",
            "Executing: python sketchKeras-pytorch/src/test.py -i /content/images/images/13153.jpg -o /content/sketches/sketches/13153.jpg -w sketchKeras-pytorch/weights/sketchKeras_pytorch.pth\n"
          ]
        },
        {
          "name": "stderr",
          "output_type": "stream",
          "text": [
            " 67%|██████▋   | 4031/6000 [00:52<01:00, 32.38it/s]"
          ]
        },
        {
          "name": "stdout",
          "output_type": "stream",
          "text": [
            "Executing: python sketchKeras-pytorch/src/test.py -i /content/images/images/14726.jpg -o /content/sketches/sketches/14726.jpg -w sketchKeras-pytorch/weights/sketchKeras_pytorch.pth\n"
          ]
        },
        {
          "name": "stderr",
          "output_type": "stream",
          "text": [
            "\r 67%|██████▋   | 4032/6000 [00:56<01:11, 27.38it/s]"
          ]
        },
        {
          "name": "stdout",
          "output_type": "stream",
          "text": [
            "Executing: python sketchKeras-pytorch/src/test.py -i /content/images/images/12815.jpg -o /content/sketches/sketches/12815.jpg -w sketchKeras-pytorch/weights/sketchKeras_pytorch.pth\n",
            "Executing: python sketchKeras-pytorch/src/test.py -i /content/images/images/14804.jpg -o /content/sketches/sketches/14804.jpg -w sketchKeras-pytorch/weights/sketchKeras_pytorch.pth\n",
            "Executing: python sketchKeras-pytorch/src/test.py -i /content/images/images/11286.jpg -o /content/sketches/sketches/11286.jpg -w sketchKeras-pytorch/weights/sketchKeras_pytorch.pth\n",
            "Executing: python sketchKeras-pytorch/src/test.py -i /content/images/images/12230.jpg -o /content/sketches/sketches/12230.jpg -w sketchKeras-pytorch/weights/sketchKeras_pytorch.pth\n",
            "Executing: python sketchKeras-pytorch/src/test.py -i /content/images/images/12470.jpg -o /content/sketches/sketches/12470.jpg -w sketchKeras-pytorch/weights/sketchKeras_pytorch.pth\n"
          ]
        },
        {
          "name": "stderr",
          "output_type": "stream",
          "text": [
            " 67%|██████▋   | 4037/6000 [01:12<02:19, 14.05it/s]"
          ]
        },
        {
          "name": "stdout",
          "output_type": "stream",
          "text": [
            "Executing: python sketchKeras-pytorch/src/test.py -i /content/images/images/13457.jpg -o /content/sketches/sketches/13457.jpg -w sketchKeras-pytorch/weights/sketchKeras_pytorch.pth\n"
          ]
        },
        {
          "name": "stderr",
          "output_type": "stream",
          "text": [
            "\r 67%|██████▋   | 4038/6000 [01:15<02:37, 12.49it/s]"
          ]
        },
        {
          "name": "stdout",
          "output_type": "stream",
          "text": [
            "Executing: python sketchKeras-pytorch/src/test.py -i /content/images/images/1357.jpg -o /content/sketches/sketches/1357.jpg -w sketchKeras-pytorch/weights/sketchKeras_pytorch.pth\n",
            "Executing: python sketchKeras-pytorch/src/test.py -i /content/images/images/13.jpg -o /content/sketches/sketches/13.jpg -w sketchKeras-pytorch/weights/sketchKeras_pytorch.pth\n",
            "Executing: python sketchKeras-pytorch/src/test.py -i /content/images/images/10497.jpg -o /content/sketches/sketches/10497.jpg -w sketchKeras-pytorch/weights/sketchKeras_pytorch.pth\n",
            "Executing: python sketchKeras-pytorch/src/test.py -i /content/images/images/10274.jpg -o /content/sketches/sketches/10274.jpg -w sketchKeras-pytorch/weights/sketchKeras_pytorch.pth\n",
            "Executing: python sketchKeras-pytorch/src/test.py -i /content/images/images/12615.jpg -o /content/sketches/sketches/12615.jpg -w sketchKeras-pytorch/weights/sketchKeras_pytorch.pth\n"
          ]
        },
        {
          "name": "stderr",
          "output_type": "stream",
          "text": [
            " 67%|██████▋   | 4043/6000 [01:32<04:46,  6.84it/s]"
          ]
        },
        {
          "name": "stdout",
          "output_type": "stream",
          "text": [
            "Executing: python sketchKeras-pytorch/src/test.py -i /content/images/images/131.jpg -o /content/sketches/sketches/131.jpg -w sketchKeras-pytorch/weights/sketchKeras_pytorch.pth\n"
          ]
        },
        {
          "name": "stderr",
          "output_type": "stream",
          "text": [
            "\r 67%|██████▋   | 4044/6000 [01:36<05:31,  5.89it/s]"
          ]
        },
        {
          "name": "stdout",
          "output_type": "stream",
          "text": [
            "Executing: python sketchKeras-pytorch/src/test.py -i /content/images/images/11344.jpg -o /content/sketches/sketches/11344.jpg -w sketchKeras-pytorch/weights/sketchKeras_pytorch.pth\n",
            "Executing: python sketchKeras-pytorch/src/test.py -i /content/images/images/11278.jpg -o /content/sketches/sketches/11278.jpg -w sketchKeras-pytorch/weights/sketchKeras_pytorch.pth\n",
            "Executing: python sketchKeras-pytorch/src/test.py -i /content/images/images/13717.jpg -o /content/sketches/sketches/13717.jpg -w sketchKeras-pytorch/weights/sketchKeras_pytorch.pth\n",
            "Executing: python sketchKeras-pytorch/src/test.py -i /content/images/images/10038.jpg -o /content/sketches/sketches/10038.jpg -w sketchKeras-pytorch/weights/sketchKeras_pytorch.pth\n",
            "Executing: python sketchKeras-pytorch/src/test.py -i /content/images/images/12398.jpg -o /content/sketches/sketches/12398.jpg -w sketchKeras-pytorch/weights/sketchKeras_pytorch.pth\n"
          ]
        },
        {
          "name": "stderr",
          "output_type": "stream",
          "text": [
            " 67%|██████▋   | 4049/6000 [01:52<09:30,  3.42it/s]"
          ]
        },
        {
          "name": "stdout",
          "output_type": "stream",
          "text": [
            "Executing: python sketchKeras-pytorch/src/test.py -i /content/images/images/1215.jpg -o /content/sketches/sketches/1215.jpg -w sketchKeras-pytorch/weights/sketchKeras_pytorch.pth\n"
          ]
        },
        {
          "name": "stderr",
          "output_type": "stream",
          "text": [
            "\r 68%|██████▊   | 4050/6000 [01:55<10:31,  3.09it/s]"
          ]
        },
        {
          "name": "stdout",
          "output_type": "stream",
          "text": [
            "Executing: python sketchKeras-pytorch/src/test.py -i /content/images/images/12294.jpg -o /content/sketches/sketches/12294.jpg -w sketchKeras-pytorch/weights/sketchKeras_pytorch.pth\n",
            "Executing: python sketchKeras-pytorch/src/test.py -i /content/images/images/12046.jpg -o /content/sketches/sketches/12046.jpg -w sketchKeras-pytorch/weights/sketchKeras_pytorch.pth\n",
            "Executing: python sketchKeras-pytorch/src/test.py -i /content/images/images/10084.jpg -o /content/sketches/sketches/10084.jpg -w sketchKeras-pytorch/weights/sketchKeras_pytorch.pth\n",
            "Executing: python sketchKeras-pytorch/src/test.py -i /content/images/images/10225.jpg -o /content/sketches/sketches/10225.jpg -w sketchKeras-pytorch/weights/sketchKeras_pytorch.pth\n",
            "Executing: python sketchKeras-pytorch/src/test.py -i /content/images/images/10750.jpg -o /content/sketches/sketches/10750.jpg -w sketchKeras-pytorch/weights/sketchKeras_pytorch.pth\n"
          ]
        },
        {
          "name": "stderr",
          "output_type": "stream",
          "text": [
            " 68%|██████▊   | 4055/6000 [02:11<17:34,  1.84it/s]"
          ]
        },
        {
          "name": "stdout",
          "output_type": "stream",
          "text": [
            "Executing: python sketchKeras-pytorch/src/test.py -i /content/images/images/13608.jpg -o /content/sketches/sketches/13608.jpg -w sketchKeras-pytorch/weights/sketchKeras_pytorch.pth\n"
          ]
        },
        {
          "name": "stderr",
          "output_type": "stream",
          "text": [
            "\r 68%|██████▊   | 4056/6000 [02:14<19:31,  1.66it/s]"
          ]
        },
        {
          "name": "stdout",
          "output_type": "stream",
          "text": [
            "Executing: python sketchKeras-pytorch/src/test.py -i /content/images/images/10991.jpg -o /content/sketches/sketches/10991.jpg -w sketchKeras-pytorch/weights/sketchKeras_pytorch.pth\n",
            "Executing: python sketchKeras-pytorch/src/test.py -i /content/images/images/10123.jpg -o /content/sketches/sketches/10123.jpg -w sketchKeras-pytorch/weights/sketchKeras_pytorch.pth\n",
            "Executing: python sketchKeras-pytorch/src/test.py -i /content/images/images/13518.jpg -o /content/sketches/sketches/13518.jpg -w sketchKeras-pytorch/weights/sketchKeras_pytorch.pth\n",
            "Executing: python sketchKeras-pytorch/src/test.py -i /content/images/images/14038.jpg -o /content/sketches/sketches/14038.jpg -w sketchKeras-pytorch/weights/sketchKeras_pytorch.pth\n",
            "Executing: python sketchKeras-pytorch/src/test.py -i /content/images/images/11529.jpg -o /content/sketches/sketches/11529.jpg -w sketchKeras-pytorch/weights/sketchKeras_pytorch.pth\n"
          ]
        },
        {
          "name": "stderr",
          "output_type": "stream",
          "text": [
            " 68%|██████▊   | 4061/6000 [02:31<30:58,  1.04it/s]"
          ]
        },
        {
          "name": "stdout",
          "output_type": "stream",
          "text": [
            "Executing: python sketchKeras-pytorch/src/test.py -i /content/images/images/11097.jpg -o /content/sketches/sketches/11097.jpg -w sketchKeras-pytorch/weights/sketchKeras_pytorch.pth\n"
          ]
        },
        {
          "name": "stderr",
          "output_type": "stream",
          "text": [
            "\r 68%|██████▊   | 4062/6000 [02:34<33:19,  1.03s/it]"
          ]
        },
        {
          "name": "stdout",
          "output_type": "stream",
          "text": [
            "Executing: python sketchKeras-pytorch/src/test.py -i /content/images/images/10600.jpg -o /content/sketches/sketches/10600.jpg -w sketchKeras-pytorch/weights/sketchKeras_pytorch.pth\n",
            "Executing: python sketchKeras-pytorch/src/test.py -i /content/images/images/15183.jpg -o /content/sketches/sketches/15183.jpg -w sketchKeras-pytorch/weights/sketchKeras_pytorch.pth\n",
            "Executing: python sketchKeras-pytorch/src/test.py -i /content/images/images/13059.jpg -o /content/sketches/sketches/13059.jpg -w sketchKeras-pytorch/weights/sketchKeras_pytorch.pth\n",
            "Executing: python sketchKeras-pytorch/src/test.py -i /content/images/images/10380.jpg -o /content/sketches/sketches/10380.jpg -w sketchKeras-pytorch/weights/sketchKeras_pytorch.pth\n",
            "Executing: python sketchKeras-pytorch/src/test.py -i /content/images/images/15219.jpg -o /content/sketches/sketches/15219.jpg -w sketchKeras-pytorch/weights/sketchKeras_pytorch.pth\n"
          ]
        },
        {
          "name": "stderr",
          "output_type": "stream",
          "text": [
            " 68%|██████▊   | 4067/6000 [02:50<47:37,  1.48s/it]"
          ]
        },
        {
          "name": "stdout",
          "output_type": "stream",
          "text": [
            "Executing: python sketchKeras-pytorch/src/test.py -i /content/images/images/11938.jpg -o /content/sketches/sketches/11938.jpg -w sketchKeras-pytorch/weights/sketchKeras_pytorch.pth\n"
          ]
        },
        {
          "name": "stderr",
          "output_type": "stream",
          "text": [
            "\r 68%|██████▊   | 4068/6000 [02:53<50:16,  1.56s/it]"
          ]
        },
        {
          "name": "stdout",
          "output_type": "stream",
          "text": [
            "Executing: python sketchKeras-pytorch/src/test.py -i /content/images/images/15374.jpg -o /content/sketches/sketches/15374.jpg -w sketchKeras-pytorch/weights/sketchKeras_pytorch.pth\n",
            "Executing: python sketchKeras-pytorch/src/test.py -i /content/images/images/10534.jpg -o /content/sketches/sketches/10534.jpg -w sketchKeras-pytorch/weights/sketchKeras_pytorch.pth\n",
            "Executing: python sketchKeras-pytorch/src/test.py -i /content/images/images/12734.jpg -o /content/sketches/sketches/12734.jpg -w sketchKeras-pytorch/weights/sketchKeras_pytorch.pth\n",
            "Executing: python sketchKeras-pytorch/src/test.py -i /content/images/images/11676.jpg -o /content/sketches/sketches/11676.jpg -w sketchKeras-pytorch/weights/sketchKeras_pytorch.pth\n",
            "Executing: python sketchKeras-pytorch/src/test.py -i /content/images/images/12479.jpg -o /content/sketches/sketches/12479.jpg -w sketchKeras-pytorch/weights/sketchKeras_pytorch.pth\n"
          ]
        },
        {
          "name": "stderr",
          "output_type": "stream",
          "text": [
            "\r 68%|██████▊   | 4068/6000 [03:10<50:16,  1.56s/it]"
          ]
        },
        {
          "name": "stdout",
          "output_type": "stream",
          "text": [
            "Executing: python sketchKeras-pytorch/src/test.py -i /content/images/images/11824.jpg -o /content/sketches/sketches/11824.jpg -w sketchKeras-pytorch/weights/sketchKeras_pytorch.pth\n"
          ]
        },
        {
          "name": "stderr",
          "output_type": "stream",
          "text": [
            "\r 68%|██████▊   | 4074/6000 [03:13<1:08:19,  2.13s/it]"
          ]
        },
        {
          "name": "stdout",
          "output_type": "stream",
          "text": [
            "Executing: python sketchKeras-pytorch/src/test.py -i /content/images/images/11213.jpg -o /content/sketches/sketches/11213.jpg -w sketchKeras-pytorch/weights/sketchKeras_pytorch.pth\n"
          ]
        },
        {
          "name": "stderr",
          "output_type": "stream",
          "text": [
            "\r 68%|██████▊   | 4075/6000 [03:16<1:10:16,  2.19s/it]"
          ]
        },
        {
          "name": "stdout",
          "output_type": "stream",
          "text": [
            "Executing: python sketchKeras-pytorch/src/test.py -i /content/images/images/1404.jpg -o /content/sketches/sketches/1404.jpg -w sketchKeras-pytorch/weights/sketchKeras_pytorch.pth\n",
            "Executing: python sketchKeras-pytorch/src/test.py -i /content/images/images/10086.jpg -o /content/sketches/sketches/10086.jpg -w sketchKeras-pytorch/weights/sketchKeras_pytorch.pth\n",
            "Executing: python sketchKeras-pytorch/src/test.py -i /content/images/images/13978.jpg -o /content/sketches/sketches/13978.jpg -w sketchKeras-pytorch/weights/sketchKeras_pytorch.pth\n",
            "Executing: python sketchKeras-pytorch/src/test.py -i /content/images/images/10278.jpg -o /content/sketches/sketches/10278.jpg -w sketchKeras-pytorch/weights/sketchKeras_pytorch.pth\n",
            "Executing: python sketchKeras-pytorch/src/test.py -i /content/images/images/13502.jpg -o /content/sketches/sketches/13502.jpg -w sketchKeras-pytorch/weights/sketchKeras_pytorch.pth\n"
          ]
        },
        {
          "name": "stderr",
          "output_type": "stream",
          "text": [
            " 68%|██████▊   | 4080/6000 [03:31<1:20:21,  2.51s/it]"
          ]
        },
        {
          "name": "stdout",
          "output_type": "stream",
          "text": [
            "Executing: python sketchKeras-pytorch/src/test.py -i /content/images/images/13468.jpg -o /content/sketches/sketches/13468.jpg -w sketchKeras-pytorch/weights/sketchKeras_pytorch.pth\n"
          ]
        },
        {
          "name": "stderr",
          "output_type": "stream",
          "text": [
            "\r 68%|██████▊   | 4081/6000 [03:35<1:22:26,  2.58s/it]"
          ]
        },
        {
          "name": "stdout",
          "output_type": "stream",
          "text": [
            "Executing: python sketchKeras-pytorch/src/test.py -i /content/images/images/11480.jpg -o /content/sketches/sketches/11480.jpg -w sketchKeras-pytorch/weights/sketchKeras_pytorch.pth\n",
            "Executing: python sketchKeras-pytorch/src/test.py -i /content/images/images/11387.jpg -o /content/sketches/sketches/11387.jpg -w sketchKeras-pytorch/weights/sketchKeras_pytorch.pth\n",
            "Executing: python sketchKeras-pytorch/src/test.py -i /content/images/images/13993.jpg -o /content/sketches/sketches/13993.jpg -w sketchKeras-pytorch/weights/sketchKeras_pytorch.pth\n",
            "Executing: python sketchKeras-pytorch/src/test.py -i /content/images/images/11127.jpg -o /content/sketches/sketches/11127.jpg -w sketchKeras-pytorch/weights/sketchKeras_pytorch.pth\n",
            "Executing: python sketchKeras-pytorch/src/test.py -i /content/images/images/11597.jpg -o /content/sketches/sketches/11597.jpg -w sketchKeras-pytorch/weights/sketchKeras_pytorch.pth\n"
          ]
        },
        {
          "name": "stderr",
          "output_type": "stream",
          "text": [
            " 68%|██████▊   | 4086/6000 [03:52<1:32:24,  2.90s/it]"
          ]
        },
        {
          "name": "stdout",
          "output_type": "stream",
          "text": [
            "Executing: python sketchKeras-pytorch/src/test.py -i /content/images/images/12747.jpg -o /content/sketches/sketches/12747.jpg -w sketchKeras-pytorch/weights/sketchKeras_pytorch.pth\n"
          ]
        },
        {
          "name": "stderr",
          "output_type": "stream",
          "text": [
            "\r 68%|██████▊   | 4087/6000 [03:55<1:32:37,  2.90s/it]"
          ]
        },
        {
          "name": "stdout",
          "output_type": "stream",
          "text": [
            "Executing: python sketchKeras-pytorch/src/test.py -i /content/images/images/14559.jpg -o /content/sketches/sketches/14559.jpg -w sketchKeras-pytorch/weights/sketchKeras_pytorch.pth\n",
            "Executing: python sketchKeras-pytorch/src/test.py -i /content/images/images/14171.jpg -o /content/sketches/sketches/14171.jpg -w sketchKeras-pytorch/weights/sketchKeras_pytorch.pth\n",
            "Executing: python sketchKeras-pytorch/src/test.py -i /content/images/images/1134.jpg -o /content/sketches/sketches/1134.jpg -w sketchKeras-pytorch/weights/sketchKeras_pytorch.pth\n",
            "Executing: python sketchKeras-pytorch/src/test.py -i /content/images/images/1221.jpg -o /content/sketches/sketches/1221.jpg -w sketchKeras-pytorch/weights/sketchKeras_pytorch.pth\n",
            "Executing: python sketchKeras-pytorch/src/test.py -i /content/images/images/11137.jpg -o /content/sketches/sketches/11137.jpg -w sketchKeras-pytorch/weights/sketchKeras_pytorch.pth\n"
          ]
        },
        {
          "name": "stderr",
          "output_type": "stream",
          "text": [
            " 68%|██████▊   | 4092/6000 [04:11<1:36:17,  3.03s/it]"
          ]
        },
        {
          "name": "stdout",
          "output_type": "stream",
          "text": [
            "Executing: python sketchKeras-pytorch/src/test.py -i /content/images/images/14850.jpg -o /content/sketches/sketches/14850.jpg -w sketchKeras-pytorch/weights/sketchKeras_pytorch.pth\n"
          ]
        },
        {
          "name": "stderr",
          "output_type": "stream",
          "text": [
            "\r 68%|██████▊   | 4093/6000 [04:14<1:36:09,  3.03s/it]"
          ]
        },
        {
          "name": "stdout",
          "output_type": "stream",
          "text": [
            "Executing: python sketchKeras-pytorch/src/test.py -i /content/images/images/10459.jpg -o /content/sketches/sketches/10459.jpg -w sketchKeras-pytorch/weights/sketchKeras_pytorch.pth\n",
            "Executing: python sketchKeras-pytorch/src/test.py -i /content/images/images/11874.jpg -o /content/sketches/sketches/11874.jpg -w sketchKeras-pytorch/weights/sketchKeras_pytorch.pth\n",
            "Executing: python sketchKeras-pytorch/src/test.py -i /content/images/images/13381.jpg -o /content/sketches/sketches/13381.jpg -w sketchKeras-pytorch/weights/sketchKeras_pytorch.pth\n",
            "Executing: python sketchKeras-pytorch/src/test.py -i /content/images/images/14911.jpg -o /content/sketches/sketches/14911.jpg -w sketchKeras-pytorch/weights/sketchKeras_pytorch.pth\n",
            "Executing: python sketchKeras-pytorch/src/test.py -i /content/images/images/12824.jpg -o /content/sketches/sketches/12824.jpg -w sketchKeras-pytorch/weights/sketchKeras_pytorch.pth\n"
          ]
        },
        {
          "name": "stderr",
          "output_type": "stream",
          "text": [
            " 68%|██████▊   | 4098/6000 [04:31<1:40:56,  3.18s/it]"
          ]
        },
        {
          "name": "stdout",
          "output_type": "stream",
          "text": [
            "Executing: python sketchKeras-pytorch/src/test.py -i /content/images/images/12862.jpg -o /content/sketches/sketches/12862.jpg -w sketchKeras-pytorch/weights/sketchKeras_pytorch.pth\n"
          ]
        },
        {
          "name": "stderr",
          "output_type": "stream",
          "text": [
            "\r 68%|██████▊   | 4099/6000 [04:34<1:41:41,  3.21s/it]"
          ]
        },
        {
          "name": "stdout",
          "output_type": "stream",
          "text": [
            "Executing: python sketchKeras-pytorch/src/test.py -i /content/images/images/10040.jpg -o /content/sketches/sketches/10040.jpg -w sketchKeras-pytorch/weights/sketchKeras_pytorch.pth\n",
            "Executing: python sketchKeras-pytorch/src/test.py -i /content/images/images/14099.jpg -o /content/sketches/sketches/14099.jpg -w sketchKeras-pytorch/weights/sketchKeras_pytorch.pth\n",
            "Executing: python sketchKeras-pytorch/src/test.py -i /content/images/images/15054.jpg -o /content/sketches/sketches/15054.jpg -w sketchKeras-pytorch/weights/sketchKeras_pytorch.pth\n",
            "Executing: python sketchKeras-pytorch/src/test.py -i /content/images/images/11883.jpg -o /content/sketches/sketches/11883.jpg -w sketchKeras-pytorch/weights/sketchKeras_pytorch.pth\n",
            "Executing: python sketchKeras-pytorch/src/test.py -i /content/images/images/14501.jpg -o /content/sketches/sketches/14501.jpg -w sketchKeras-pytorch/weights/sketchKeras_pytorch.pth\n"
          ]
        },
        {
          "name": "stderr",
          "output_type": "stream",
          "text": [
            " 68%|██████▊   | 4104/6000 [04:50<1:40:49,  3.19s/it]"
          ]
        },
        {
          "name": "stdout",
          "output_type": "stream",
          "text": [
            "Executing: python sketchKeras-pytorch/src/test.py -i /content/images/images/11595.jpg -o /content/sketches/sketches/11595.jpg -w sketchKeras-pytorch/weights/sketchKeras_pytorch.pth\n"
          ]
        },
        {
          "name": "stderr",
          "output_type": "stream",
          "text": [
            "\r 68%|██████▊   | 4105/6000 [04:53<1:40:04,  3.17s/it]"
          ]
        },
        {
          "name": "stdout",
          "output_type": "stream",
          "text": [
            "Executing: python sketchKeras-pytorch/src/test.py -i /content/images/images/13399.jpg -o /content/sketches/sketches/13399.jpg -w sketchKeras-pytorch/weights/sketchKeras_pytorch.pth\n",
            "Executing: python sketchKeras-pytorch/src/test.py -i /content/images/images/11413.jpg -o /content/sketches/sketches/11413.jpg -w sketchKeras-pytorch/weights/sketchKeras_pytorch.pth\n",
            "Executing: python sketchKeras-pytorch/src/test.py -i /content/images/images/14655.jpg -o /content/sketches/sketches/14655.jpg -w sketchKeras-pytorch/weights/sketchKeras_pytorch.pth\n",
            "Executing: python sketchKeras-pytorch/src/test.py -i /content/images/images/12495.jpg -o /content/sketches/sketches/12495.jpg -w sketchKeras-pytorch/weights/sketchKeras_pytorch.pth\n",
            "Executing: python sketchKeras-pytorch/src/test.py -i /content/images/images/12375.jpg -o /content/sketches/sketches/12375.jpg -w sketchKeras-pytorch/weights/sketchKeras_pytorch.pth\n",
            "Executing: python sketchKeras-pytorch/src/test.py -i /content/images/images/13288.jpg -o /content/sketches/sketches/13288.jpg -w sketchKeras-pytorch/weights/sketchKeras_pytorch.pth\n"
          ]
        },
        {
          "name": "stderr",
          "output_type": "stream",
          "text": [
            " 69%|██████▊   | 4111/6000 [05:13<1:42:33,  3.26s/it]"
          ]
        },
        {
          "name": "stdout",
          "output_type": "stream",
          "text": [
            "Executing: python sketchKeras-pytorch/src/test.py -i /content/images/images/1100.jpg -o /content/sketches/sketches/1100.jpg -w sketchKeras-pytorch/weights/sketchKeras_pytorch.pth\n"
          ]
        },
        {
          "name": "stderr",
          "output_type": "stream",
          "text": [
            "\r 69%|██████▊   | 4112/6000 [05:16<1:41:27,  3.22s/it]"
          ]
        },
        {
          "name": "stdout",
          "output_type": "stream",
          "text": [
            "Executing: python sketchKeras-pytorch/src/test.py -i /content/images/images/10114.jpg -o /content/sketches/sketches/10114.jpg -w sketchKeras-pytorch/weights/sketchKeras_pytorch.pth\n",
            "Executing: python sketchKeras-pytorch/src/test.py -i /content/images/images/13132.jpg -o /content/sketches/sketches/13132.jpg -w sketchKeras-pytorch/weights/sketchKeras_pytorch.pth\n",
            "Executing: python sketchKeras-pytorch/src/test.py -i /content/images/images/12519.jpg -o /content/sketches/sketches/12519.jpg -w sketchKeras-pytorch/weights/sketchKeras_pytorch.pth\n",
            "Executing: python sketchKeras-pytorch/src/test.py -i /content/images/images/13977.jpg -o /content/sketches/sketches/13977.jpg -w sketchKeras-pytorch/weights/sketchKeras_pytorch.pth\n"
          ]
        },
        {
          "name": "stderr",
          "output_type": "stream",
          "text": [
            "\r 69%|██████▊   | 4116/6000 [05:29<1:41:10,  3.22s/it]"
          ]
        },
        {
          "name": "stdout",
          "output_type": "stream",
          "text": [
            "Executing: python sketchKeras-pytorch/src/test.py -i /content/images/images/1370.jpg -o /content/sketches/sketches/1370.jpg -w sketchKeras-pytorch/weights/sketchKeras_pytorch.pth\n"
          ]
        },
        {
          "name": "stderr",
          "output_type": "stream",
          "text": [
            "\r 69%|██████▊   | 4117/6000 [05:32<1:40:11,  3.19s/it]"
          ]
        },
        {
          "name": "stdout",
          "output_type": "stream",
          "text": [
            "Executing: python sketchKeras-pytorch/src/test.py -i /content/images/images/13204.jpg -o /content/sketches/sketches/13204.jpg -w sketchKeras-pytorch/weights/sketchKeras_pytorch.pth\n",
            "Executing: python sketchKeras-pytorch/src/test.py -i /content/images/images/11282.jpg -o /content/sketches/sketches/11282.jpg -w sketchKeras-pytorch/weights/sketchKeras_pytorch.pth\n",
            "Executing: python sketchKeras-pytorch/src/test.py -i /content/images/images/11337.jpg -o /content/sketches/sketches/11337.jpg -w sketchKeras-pytorch/weights/sketchKeras_pytorch.pth\n"
          ]
        },
        {
          "name": "stderr",
          "output_type": "stream",
          "text": [
            "\r 69%|██████▊   | 4120/6000 [05:42<1:41:21,  3.24s/it]"
          ]
        },
        {
          "name": "stdout",
          "output_type": "stream",
          "text": [
            "Executing: python sketchKeras-pytorch/src/test.py -i /content/images/images/15250.jpg -o /content/sketches/sketches/15250.jpg -w sketchKeras-pytorch/weights/sketchKeras_pytorch.pth\n",
            "Executing: python sketchKeras-pytorch/src/test.py -i /content/images/images/15364.jpg -o /content/sketches/sketches/15364.jpg -w sketchKeras-pytorch/weights/sketchKeras_pytorch.pth\n"
          ]
        },
        {
          "name": "stderr",
          "output_type": "stream",
          "text": [
            "\r 69%|██████▊   | 4122/6000 [05:48<1:38:57,  3.16s/it]"
          ]
        },
        {
          "name": "stdout",
          "output_type": "stream",
          "text": [
            "Executing: python sketchKeras-pytorch/src/test.py -i /content/images/images/10694.jpg -o /content/sketches/sketches/10694.jpg -w sketchKeras-pytorch/weights/sketchKeras_pytorch.pth\n",
            "Executing: python sketchKeras-pytorch/src/test.py -i /content/images/images/12853.jpg -o /content/sketches/sketches/12853.jpg -w sketchKeras-pytorch/weights/sketchKeras_pytorch.pth\n"
          ]
        },
        {
          "name": "stderr",
          "output_type": "stream",
          "text": [
            "\r 69%|██████▊   | 4124/6000 [05:55<1:41:35,  3.25s/it]"
          ]
        },
        {
          "name": "stdout",
          "output_type": "stream",
          "text": [
            "Executing: python sketchKeras-pytorch/src/test.py -i /content/images/images/12288.jpg -o /content/sketches/sketches/12288.jpg -w sketchKeras-pytorch/weights/sketchKeras_pytorch.pth\n"
          ]
        },
        {
          "name": "stderr",
          "output_type": "stream",
          "text": [
            "\r 69%|██████▉   | 4125/6000 [05:58<1:40:13,  3.21s/it]"
          ]
        },
        {
          "name": "stdout",
          "output_type": "stream",
          "text": [
            "Executing: python sketchKeras-pytorch/src/test.py -i /content/images/images/11009.jpg -o /content/sketches/sketches/11009.jpg -w sketchKeras-pytorch/weights/sketchKeras_pytorch.pth\n"
          ]
        },
        {
          "name": "stderr",
          "output_type": "stream",
          "text": [
            "\r 69%|██████▉   | 4126/6000 [06:01<1:38:45,  3.16s/it]"
          ]
        },
        {
          "name": "stdout",
          "output_type": "stream",
          "text": [
            "Executing: python sketchKeras-pytorch/src/test.py -i /content/images/images/11827.jpg -o /content/sketches/sketches/11827.jpg -w sketchKeras-pytorch/weights/sketchKeras_pytorch.pth\n"
          ]
        },
        {
          "name": "stderr",
          "output_type": "stream",
          "text": [
            "\r 69%|██████▉   | 4127/6000 [06:04<1:39:25,  3.19s/it]"
          ]
        },
        {
          "name": "stdout",
          "output_type": "stream",
          "text": [
            "Executing: python sketchKeras-pytorch/src/test.py -i /content/images/images/10399.jpg -o /content/sketches/sketches/10399.jpg -w sketchKeras-pytorch/weights/sketchKeras_pytorch.pth\n"
          ]
        },
        {
          "name": "stderr",
          "output_type": "stream",
          "text": [
            "\r 69%|██████▉   | 4128/6000 [06:08<1:44:17,  3.34s/it]"
          ]
        },
        {
          "name": "stdout",
          "output_type": "stream",
          "text": [
            "Executing: python sketchKeras-pytorch/src/test.py -i /content/images/images/14657.jpg -o /content/sketches/sketches/14657.jpg -w sketchKeras-pytorch/weights/sketchKeras_pytorch.pth\n"
          ]
        },
        {
          "name": "stderr",
          "output_type": "stream",
          "text": [
            "\r 69%|██████▉   | 4129/6000 [06:11<1:41:33,  3.26s/it]"
          ]
        },
        {
          "name": "stdout",
          "output_type": "stream",
          "text": [
            "Executing: python sketchKeras-pytorch/src/test.py -i /content/images/images/10693.jpg -o /content/sketches/sketches/10693.jpg -w sketchKeras-pytorch/weights/sketchKeras_pytorch.pth\n"
          ]
        },
        {
          "name": "stderr",
          "output_type": "stream",
          "text": [
            "\r 69%|██████▉   | 4130/6000 [06:14<1:39:46,  3.20s/it]"
          ]
        },
        {
          "name": "stdout",
          "output_type": "stream",
          "text": [
            "Executing: python sketchKeras-pytorch/src/test.py -i /content/images/images/12513.jpg -o /content/sketches/sketches/12513.jpg -w sketchKeras-pytorch/weights/sketchKeras_pytorch.pth\n"
          ]
        },
        {
          "name": "stderr",
          "output_type": "stream",
          "text": [
            "\r 69%|██████▉   | 4131/6000 [06:17<1:39:33,  3.20s/it]"
          ]
        },
        {
          "name": "stdout",
          "output_type": "stream",
          "text": [
            "Executing: python sketchKeras-pytorch/src/test.py -i /content/images/images/12181.jpg -o /content/sketches/sketches/12181.jpg -w sketchKeras-pytorch/weights/sketchKeras_pytorch.pth\n"
          ]
        },
        {
          "name": "stderr",
          "output_type": "stream",
          "text": [
            "\r 69%|██████▉   | 4132/6000 [06:21<1:48:04,  3.47s/it]"
          ]
        },
        {
          "name": "stdout",
          "output_type": "stream",
          "text": [
            "Executing: python sketchKeras-pytorch/src/test.py -i /content/images/images/11709.jpg -o /content/sketches/sketches/11709.jpg -w sketchKeras-pytorch/weights/sketchKeras_pytorch.pth\n"
          ]
        },
        {
          "name": "stderr",
          "output_type": "stream",
          "text": [
            "\r 69%|██████▉   | 4133/6000 [06:24<1:44:41,  3.36s/it]"
          ]
        },
        {
          "name": "stdout",
          "output_type": "stream",
          "text": [
            "Executing: python sketchKeras-pytorch/src/test.py -i /content/images/images/1053.jpg -o /content/sketches/sketches/1053.jpg -w sketchKeras-pytorch/weights/sketchKeras_pytorch.pth\n"
          ]
        },
        {
          "name": "stderr",
          "output_type": "stream",
          "text": [
            "\r 69%|██████▉   | 4134/6000 [06:27<1:41:52,  3.28s/it]"
          ]
        },
        {
          "name": "stdout",
          "output_type": "stream",
          "text": [
            "Executing: python sketchKeras-pytorch/src/test.py -i /content/images/images/15179.jpg -o /content/sketches/sketches/15179.jpg -w sketchKeras-pytorch/weights/sketchKeras_pytorch.pth\n"
          ]
        },
        {
          "name": "stderr",
          "output_type": "stream",
          "text": [
            "\r 69%|██████▉   | 4135/6000 [06:30<1:40:34,  3.24s/it]"
          ]
        },
        {
          "name": "stdout",
          "output_type": "stream",
          "text": [
            "Executing: python sketchKeras-pytorch/src/test.py -i /content/images/images/11912.jpg -o /content/sketches/sketches/11912.jpg -w sketchKeras-pytorch/weights/sketchKeras_pytorch.pth\n"
          ]
        },
        {
          "name": "stderr",
          "output_type": "stream",
          "text": [
            "\r 69%|██████▉   | 4136/6000 [06:35<1:49:34,  3.53s/it]"
          ]
        },
        {
          "name": "stdout",
          "output_type": "stream",
          "text": [
            "Executing: python sketchKeras-pytorch/src/test.py -i /content/images/images/1034.jpg -o /content/sketches/sketches/1034.jpg -w sketchKeras-pytorch/weights/sketchKeras_pytorch.pth\n"
          ]
        },
        {
          "name": "stderr",
          "output_type": "stream",
          "text": [
            "\r 69%|██████▉   | 4137/6000 [06:38<1:44:24,  3.36s/it]"
          ]
        },
        {
          "name": "stdout",
          "output_type": "stream",
          "text": [
            "Executing: python sketchKeras-pytorch/src/test.py -i /content/images/images/1112.jpg -o /content/sketches/sketches/1112.jpg -w sketchKeras-pytorch/weights/sketchKeras_pytorch.pth\n"
          ]
        },
        {
          "name": "stderr",
          "output_type": "stream",
          "text": [
            "\r 69%|██████▉   | 4138/6000 [06:41<1:41:03,  3.26s/it]"
          ]
        },
        {
          "name": "stdout",
          "output_type": "stream",
          "text": [
            "Executing: python sketchKeras-pytorch/src/test.py -i /content/images/images/12480.jpg -o /content/sketches/sketches/12480.jpg -w sketchKeras-pytorch/weights/sketchKeras_pytorch.pth\n"
          ]
        },
        {
          "name": "stderr",
          "output_type": "stream",
          "text": [
            "\r 69%|██████▉   | 4139/6000 [06:44<1:38:30,  3.18s/it]"
          ]
        },
        {
          "name": "stdout",
          "output_type": "stream",
          "text": [
            "Executing: python sketchKeras-pytorch/src/test.py -i /content/images/images/13232.jpg -o /content/sketches/sketches/13232.jpg -w sketchKeras-pytorch/weights/sketchKeras_pytorch.pth\n"
          ]
        },
        {
          "name": "stderr",
          "output_type": "stream",
          "text": [
            "\r 69%|██████▉   | 4140/6000 [06:48<1:46:56,  3.45s/it]"
          ]
        },
        {
          "name": "stdout",
          "output_type": "stream",
          "text": [
            "Executing: python sketchKeras-pytorch/src/test.py -i /content/images/images/14436.jpg -o /content/sketches/sketches/14436.jpg -w sketchKeras-pytorch/weights/sketchKeras_pytorch.pth\n"
          ]
        },
        {
          "name": "stderr",
          "output_type": "stream",
          "text": [
            "\r 69%|██████▉   | 4141/6000 [06:51<1:42:21,  3.30s/it]"
          ]
        },
        {
          "name": "stdout",
          "output_type": "stream",
          "text": [
            "Executing: python sketchKeras-pytorch/src/test.py -i /content/images/images/11588.jpg -o /content/sketches/sketches/11588.jpg -w sketchKeras-pytorch/weights/sketchKeras_pytorch.pth\n"
          ]
        },
        {
          "name": "stderr",
          "output_type": "stream",
          "text": [
            "\r 69%|██████▉   | 4142/6000 [06:54<1:39:34,  3.22s/it]"
          ]
        },
        {
          "name": "stdout",
          "output_type": "stream",
          "text": [
            "Executing: python sketchKeras-pytorch/src/test.py -i /content/images/images/12618.jpg -o /content/sketches/sketches/12618.jpg -w sketchKeras-pytorch/weights/sketchKeras_pytorch.pth\n"
          ]
        },
        {
          "name": "stderr",
          "output_type": "stream",
          "text": [
            "\r 69%|██████▉   | 4143/6000 [06:57<1:37:17,  3.14s/it]"
          ]
        },
        {
          "name": "stdout",
          "output_type": "stream",
          "text": [
            "Executing: python sketchKeras-pytorch/src/test.py -i /content/images/images/14126.jpg -o /content/sketches/sketches/14126.jpg -w sketchKeras-pytorch/weights/sketchKeras_pytorch.pth\n"
          ]
        },
        {
          "name": "stderr",
          "output_type": "stream",
          "text": [
            "\r 69%|██████▉   | 4144/6000 [07:00<1:44:03,  3.36s/it]"
          ]
        },
        {
          "name": "stdout",
          "output_type": "stream",
          "text": [
            "Executing: python sketchKeras-pytorch/src/test.py -i /content/images/images/11370.jpg -o /content/sketches/sketches/11370.jpg -w sketchKeras-pytorch/weights/sketchKeras_pytorch.pth\n"
          ]
        },
        {
          "name": "stderr",
          "output_type": "stream",
          "text": [
            "\r 69%|██████▉   | 4145/6000 [07:04<1:41:51,  3.29s/it]"
          ]
        },
        {
          "name": "stdout",
          "output_type": "stream",
          "text": [
            "Executing: python sketchKeras-pytorch/src/test.py -i /content/images/images/11769.jpg -o /content/sketches/sketches/11769.jpg -w sketchKeras-pytorch/weights/sketchKeras_pytorch.pth\n"
          ]
        },
        {
          "name": "stderr",
          "output_type": "stream",
          "text": [
            "\r 69%|██████▉   | 4146/6000 [07:07<1:38:45,  3.20s/it]"
          ]
        },
        {
          "name": "stdout",
          "output_type": "stream",
          "text": [
            "Executing: python sketchKeras-pytorch/src/test.py -i /content/images/images/14799.jpg -o /content/sketches/sketches/14799.jpg -w sketchKeras-pytorch/weights/sketchKeras_pytorch.pth\n"
          ]
        },
        {
          "name": "stderr",
          "output_type": "stream",
          "text": [
            "\r 69%|██████▉   | 4147/6000 [07:10<1:36:20,  3.12s/it]"
          ]
        },
        {
          "name": "stdout",
          "output_type": "stream",
          "text": [
            "Executing: python sketchKeras-pytorch/src/test.py -i /content/images/images/12016.jpg -o /content/sketches/sketches/12016.jpg -w sketchKeras-pytorch/weights/sketchKeras_pytorch.pth\n"
          ]
        },
        {
          "name": "stderr",
          "output_type": "stream",
          "text": [
            "\r 69%|██████▉   | 4148/6000 [07:13<1:40:26,  3.25s/it]"
          ]
        },
        {
          "name": "stdout",
          "output_type": "stream",
          "text": [
            "Executing: python sketchKeras-pytorch/src/test.py -i /content/images/images/10811.jpg -o /content/sketches/sketches/10811.jpg -w sketchKeras-pytorch/weights/sketchKeras_pytorch.pth\n"
          ]
        },
        {
          "name": "stderr",
          "output_type": "stream",
          "text": [
            "\r 69%|██████▉   | 4149/6000 [07:17<1:42:15,  3.31s/it]"
          ]
        },
        {
          "name": "stdout",
          "output_type": "stream",
          "text": [
            "Executing: python sketchKeras-pytorch/src/test.py -i /content/images/images/11028.jpg -o /content/sketches/sketches/11028.jpg -w sketchKeras-pytorch/weights/sketchKeras_pytorch.pth\n"
          ]
        },
        {
          "name": "stderr",
          "output_type": "stream",
          "text": [
            "\r 69%|██████▉   | 4150/6000 [07:20<1:39:04,  3.21s/it]"
          ]
        },
        {
          "name": "stdout",
          "output_type": "stream",
          "text": [
            "Executing: python sketchKeras-pytorch/src/test.py -i /content/images/images/10522.jpg -o /content/sketches/sketches/10522.jpg -w sketchKeras-pytorch/weights/sketchKeras_pytorch.pth\n"
          ]
        },
        {
          "name": "stderr",
          "output_type": "stream",
          "text": [
            "\r 69%|██████▉   | 4151/6000 [07:22<1:36:19,  3.13s/it]"
          ]
        },
        {
          "name": "stdout",
          "output_type": "stream",
          "text": [
            "Executing: python sketchKeras-pytorch/src/test.py -i /content/images/images/10319.jpg -o /content/sketches/sketches/10319.jpg -w sketchKeras-pytorch/weights/sketchKeras_pytorch.pth\n"
          ]
        },
        {
          "name": "stderr",
          "output_type": "stream",
          "text": [
            "\r 69%|██████▉   | 4152/6000 [07:26<1:36:51,  3.14s/it]"
          ]
        },
        {
          "name": "stdout",
          "output_type": "stream",
          "text": [
            "Executing: python sketchKeras-pytorch/src/test.py -i /content/images/images/1111.jpg -o /content/sketches/sketches/1111.jpg -w sketchKeras-pytorch/weights/sketchKeras_pytorch.pth\n"
          ]
        },
        {
          "name": "stderr",
          "output_type": "stream",
          "text": [
            "\r 69%|██████▉   | 4153/6000 [07:29<1:42:21,  3.32s/it]"
          ]
        },
        {
          "name": "stdout",
          "output_type": "stream",
          "text": [
            "Executing: python sketchKeras-pytorch/src/test.py -i /content/images/images/14363.jpg -o /content/sketches/sketches/14363.jpg -w sketchKeras-pytorch/weights/sketchKeras_pytorch.pth\n"
          ]
        },
        {
          "name": "stderr",
          "output_type": "stream",
          "text": [
            "\r 69%|██████▉   | 4154/6000 [07:32<1:39:09,  3.22s/it]"
          ]
        },
        {
          "name": "stdout",
          "output_type": "stream",
          "text": [
            "Executing: python sketchKeras-pytorch/src/test.py -i /content/images/images/12534.jpg -o /content/sketches/sketches/12534.jpg -w sketchKeras-pytorch/weights/sketchKeras_pytorch.pth\n"
          ]
        },
        {
          "name": "stderr",
          "output_type": "stream",
          "text": [
            "\r 69%|██████▉   | 4155/6000 [07:35<1:36:39,  3.14s/it]"
          ]
        },
        {
          "name": "stdout",
          "output_type": "stream",
          "text": [
            "Executing: python sketchKeras-pytorch/src/test.py -i /content/images/images/12743.jpg -o /content/sketches/sketches/12743.jpg -w sketchKeras-pytorch/weights/sketchKeras_pytorch.pth\n"
          ]
        },
        {
          "name": "stderr",
          "output_type": "stream",
          "text": [
            "\r 69%|██████▉   | 4156/6000 [07:38<1:36:14,  3.13s/it]"
          ]
        },
        {
          "name": "stdout",
          "output_type": "stream",
          "text": [
            "Executing: python sketchKeras-pytorch/src/test.py -i /content/images/images/11403.jpg -o /content/sketches/sketches/11403.jpg -w sketchKeras-pytorch/weights/sketchKeras_pytorch.pth\n"
          ]
        },
        {
          "name": "stderr",
          "output_type": "stream",
          "text": [
            "\r 69%|██████▉   | 4157/6000 [07:42<1:44:06,  3.39s/it]"
          ]
        },
        {
          "name": "stdout",
          "output_type": "stream",
          "text": [
            "Executing: python sketchKeras-pytorch/src/test.py -i /content/images/images/11718.jpg -o /content/sketches/sketches/11718.jpg -w sketchKeras-pytorch/weights/sketchKeras_pytorch.pth\n"
          ]
        },
        {
          "name": "stderr",
          "output_type": "stream",
          "text": [
            "\r 69%|██████▉   | 4158/6000 [07:45<1:40:21,  3.27s/it]"
          ]
        },
        {
          "name": "stdout",
          "output_type": "stream",
          "text": [
            "Executing: python sketchKeras-pytorch/src/test.py -i /content/images/images/10275.jpg -o /content/sketches/sketches/10275.jpg -w sketchKeras-pytorch/weights/sketchKeras_pytorch.pth\n"
          ]
        },
        {
          "name": "stderr",
          "output_type": "stream",
          "text": [
            "\r 69%|██████▉   | 4159/6000 [07:48<1:37:28,  3.18s/it]"
          ]
        },
        {
          "name": "stdout",
          "output_type": "stream",
          "text": [
            "Executing: python sketchKeras-pytorch/src/test.py -i /content/images/images/15216.jpg -o /content/sketches/sketches/15216.jpg -w sketchKeras-pytorch/weights/sketchKeras_pytorch.pth\n"
          ]
        },
        {
          "name": "stderr",
          "output_type": "stream",
          "text": [
            "\r 69%|██████▉   | 4160/6000 [07:51<1:34:56,  3.10s/it]"
          ]
        },
        {
          "name": "stdout",
          "output_type": "stream",
          "text": [
            "Executing: python sketchKeras-pytorch/src/test.py -i /content/images/images/13831.jpg -o /content/sketches/sketches/13831.jpg -w sketchKeras-pytorch/weights/sketchKeras_pytorch.pth\n"
          ]
        },
        {
          "name": "stderr",
          "output_type": "stream",
          "text": [
            "\r 69%|██████▉   | 4161/6000 [07:55<1:43:29,  3.38s/it]"
          ]
        },
        {
          "name": "stdout",
          "output_type": "stream",
          "text": [
            "Executing: python sketchKeras-pytorch/src/test.py -i /content/images/images/12911.jpg -o /content/sketches/sketches/12911.jpg -w sketchKeras-pytorch/weights/sketchKeras_pytorch.pth\n"
          ]
        },
        {
          "name": "stderr",
          "output_type": "stream",
          "text": [
            "\r 69%|██████▉   | 4162/6000 [07:58<1:39:32,  3.25s/it]"
          ]
        },
        {
          "name": "stdout",
          "output_type": "stream",
          "text": [
            "Executing: python sketchKeras-pytorch/src/test.py -i /content/images/images/1249.jpg -o /content/sketches/sketches/1249.jpg -w sketchKeras-pytorch/weights/sketchKeras_pytorch.pth\n"
          ]
        },
        {
          "name": "stderr",
          "output_type": "stream",
          "text": [
            "\r 69%|██████▉   | 4163/6000 [08:01<1:36:23,  3.15s/it]"
          ]
        },
        {
          "name": "stdout",
          "output_type": "stream",
          "text": [
            "Executing: python sketchKeras-pytorch/src/test.py -i /content/images/images/10345.jpg -o /content/sketches/sketches/10345.jpg -w sketchKeras-pytorch/weights/sketchKeras_pytorch.pth\n"
          ]
        },
        {
          "name": "stderr",
          "output_type": "stream",
          "text": [
            "\r 69%|██████▉   | 4164/6000 [08:04<1:34:33,  3.09s/it]"
          ]
        },
        {
          "name": "stdout",
          "output_type": "stream",
          "text": [
            "Executing: python sketchKeras-pytorch/src/test.py -i /content/images/images/10079.jpg -o /content/sketches/sketches/10079.jpg -w sketchKeras-pytorch/weights/sketchKeras_pytorch.pth\n"
          ]
        },
        {
          "name": "stderr",
          "output_type": "stream",
          "text": [
            "\r 69%|██████▉   | 4165/6000 [08:08<1:41:11,  3.31s/it]"
          ]
        },
        {
          "name": "stdout",
          "output_type": "stream",
          "text": [
            "Executing: python sketchKeras-pytorch/src/test.py -i /content/images/images/10285.jpg -o /content/sketches/sketches/10285.jpg -w sketchKeras-pytorch/weights/sketchKeras_pytorch.pth\n"
          ]
        },
        {
          "name": "stderr",
          "output_type": "stream",
          "text": [
            "\r 69%|██████▉   | 4166/6000 [08:11<1:40:20,  3.28s/it]"
          ]
        },
        {
          "name": "stdout",
          "output_type": "stream",
          "text": [
            "Executing: python sketchKeras-pytorch/src/test.py -i /content/images/images/1382.jpg -o /content/sketches/sketches/1382.jpg -w sketchKeras-pytorch/weights/sketchKeras_pytorch.pth\n"
          ]
        },
        {
          "name": "stderr",
          "output_type": "stream",
          "text": [
            "\r 69%|██████▉   | 4167/6000 [08:14<1:37:20,  3.19s/it]"
          ]
        },
        {
          "name": "stdout",
          "output_type": "stream",
          "text": [
            "Executing: python sketchKeras-pytorch/src/test.py -i /content/images/images/13081.jpg -o /content/sketches/sketches/13081.jpg -w sketchKeras-pytorch/weights/sketchKeras_pytorch.pth\n"
          ]
        },
        {
          "name": "stderr",
          "output_type": "stream",
          "text": [
            "\r 69%|██████▉   | 4168/6000 [08:17<1:34:35,  3.10s/it]"
          ]
        },
        {
          "name": "stdout",
          "output_type": "stream",
          "text": [
            "Executing: python sketchKeras-pytorch/src/test.py -i /content/images/images/14886.jpg -o /content/sketches/sketches/14886.jpg -w sketchKeras-pytorch/weights/sketchKeras_pytorch.pth\n"
          ]
        },
        {
          "name": "stderr",
          "output_type": "stream",
          "text": [
            "\r 69%|██████▉   | 4169/6000 [08:20<1:37:46,  3.20s/it]"
          ]
        },
        {
          "name": "stdout",
          "output_type": "stream",
          "text": [
            "Executing: python sketchKeras-pytorch/src/test.py -i /content/images/images/13910.jpg -o /content/sketches/sketches/13910.jpg -w sketchKeras-pytorch/weights/sketchKeras_pytorch.pth\n"
          ]
        },
        {
          "name": "stderr",
          "output_type": "stream",
          "text": [
            "\r 70%|██████▉   | 4170/6000 [08:24<1:41:04,  3.31s/it]"
          ]
        },
        {
          "name": "stdout",
          "output_type": "stream",
          "text": [
            "Executing: python sketchKeras-pytorch/src/test.py -i /content/images/images/11952.jpg -o /content/sketches/sketches/11952.jpg -w sketchKeras-pytorch/weights/sketchKeras_pytorch.pth\n"
          ]
        },
        {
          "name": "stderr",
          "output_type": "stream",
          "text": [
            "\r 70%|██████▉   | 4171/6000 [08:27<1:38:02,  3.22s/it]"
          ]
        },
        {
          "name": "stdout",
          "output_type": "stream",
          "text": [
            "Executing: python sketchKeras-pytorch/src/test.py -i /content/images/images/10311.jpg -o /content/sketches/sketches/10311.jpg -w sketchKeras-pytorch/weights/sketchKeras_pytorch.pth\n"
          ]
        },
        {
          "name": "stderr",
          "output_type": "stream",
          "text": [
            "\r 70%|██████▉   | 4172/6000 [08:30<1:35:47,  3.14s/it]"
          ]
        },
        {
          "name": "stdout",
          "output_type": "stream",
          "text": [
            "Executing: python sketchKeras-pytorch/src/test.py -i /content/images/images/13370.jpg -o /content/sketches/sketches/13370.jpg -w sketchKeras-pytorch/weights/sketchKeras_pytorch.pth\n"
          ]
        },
        {
          "name": "stderr",
          "output_type": "stream",
          "text": [
            "\r 70%|██████▉   | 4173/6000 [08:33<1:36:28,  3.17s/it]"
          ]
        },
        {
          "name": "stdout",
          "output_type": "stream",
          "text": [
            "Executing: python sketchKeras-pytorch/src/test.py -i /content/images/images/12499.jpg -o /content/sketches/sketches/12499.jpg -w sketchKeras-pytorch/weights/sketchKeras_pytorch.pth\n"
          ]
        },
        {
          "name": "stderr",
          "output_type": "stream",
          "text": [
            "\r 70%|██████▉   | 4174/6000 [08:37<1:43:17,  3.39s/it]"
          ]
        },
        {
          "name": "stdout",
          "output_type": "stream",
          "text": [
            "Executing: python sketchKeras-pytorch/src/test.py -i /content/images/images/12483.jpg -o /content/sketches/sketches/12483.jpg -w sketchKeras-pytorch/weights/sketchKeras_pytorch.pth\n"
          ]
        },
        {
          "name": "stderr",
          "output_type": "stream",
          "text": [
            "\r 70%|██████▉   | 4175/6000 [08:40<1:39:19,  3.27s/it]"
          ]
        },
        {
          "name": "stdout",
          "output_type": "stream",
          "text": [
            "Executing: python sketchKeras-pytorch/src/test.py -i /content/images/images/12949.jpg -o /content/sketches/sketches/12949.jpg -w sketchKeras-pytorch/weights/sketchKeras_pytorch.pth\n"
          ]
        },
        {
          "name": "stderr",
          "output_type": "stream",
          "text": [
            "\r 70%|██████▉   | 4176/6000 [08:43<1:36:43,  3.18s/it]"
          ]
        },
        {
          "name": "stdout",
          "output_type": "stream",
          "text": [
            "Executing: python sketchKeras-pytorch/src/test.py -i /content/images/images/10767.jpg -o /content/sketches/sketches/10767.jpg -w sketchKeras-pytorch/weights/sketchKeras_pytorch.pth\n"
          ]
        },
        {
          "name": "stderr",
          "output_type": "stream",
          "text": [
            "\r 70%|██████▉   | 4177/6000 [08:46<1:36:22,  3.17s/it]"
          ]
        },
        {
          "name": "stdout",
          "output_type": "stream",
          "text": [
            "Executing: python sketchKeras-pytorch/src/test.py -i /content/images/images/14800.jpg -o /content/sketches/sketches/14800.jpg -w sketchKeras-pytorch/weights/sketchKeras_pytorch.pth\n"
          ]
        },
        {
          "name": "stderr",
          "output_type": "stream",
          "text": [
            "\r 70%|██████▉   | 4178/6000 [08:50<1:44:20,  3.44s/it]"
          ]
        },
        {
          "name": "stdout",
          "output_type": "stream",
          "text": [
            "Executing: python sketchKeras-pytorch/src/test.py -i /content/images/images/12844.jpg -o /content/sketches/sketches/12844.jpg -w sketchKeras-pytorch/weights/sketchKeras_pytorch.pth\n"
          ]
        },
        {
          "name": "stderr",
          "output_type": "stream",
          "text": [
            "\r 70%|██████▉   | 4179/6000 [08:53<1:39:48,  3.29s/it]"
          ]
        },
        {
          "name": "stdout",
          "output_type": "stream",
          "text": [
            "Executing: python sketchKeras-pytorch/src/test.py -i /content/images/images/12119.jpg -o /content/sketches/sketches/12119.jpg -w sketchKeras-pytorch/weights/sketchKeras_pytorch.pth\n"
          ]
        },
        {
          "name": "stderr",
          "output_type": "stream",
          "text": [
            "\r 70%|██████▉   | 4180/6000 [08:56<1:36:34,  3.18s/it]"
          ]
        },
        {
          "name": "stdout",
          "output_type": "stream",
          "text": [
            "Executing: python sketchKeras-pytorch/src/test.py -i /content/images/images/14648.jpg -o /content/sketches/sketches/14648.jpg -w sketchKeras-pytorch/weights/sketchKeras_pytorch.pth\n"
          ]
        },
        {
          "name": "stderr",
          "output_type": "stream",
          "text": [
            "\r 70%|██████▉   | 4181/6000 [08:59<1:34:29,  3.12s/it]"
          ]
        },
        {
          "name": "stdout",
          "output_type": "stream",
          "text": [
            "Executing: python sketchKeras-pytorch/src/test.py -i /content/images/images/12596.jpg -o /content/sketches/sketches/12596.jpg -w sketchKeras-pytorch/weights/sketchKeras_pytorch.pth\n"
          ]
        },
        {
          "name": "stderr",
          "output_type": "stream",
          "text": [
            "\r 70%|██████▉   | 4182/6000 [09:03<1:43:09,  3.40s/it]"
          ]
        }
      ],
      "source": [
        "import os\n",
        "from tqdm import tqdm\n",
        "\n",
        "# Directories\n",
        "input_dir = \"/content/images/images\"\n",
        "output_dir = \"/content/sketches/sketches\"\n",
        "\n",
        "# Ensure the output directory exists\n",
        "os.makedirs(output_dir, exist_ok=True)\n",
        "\n",
        "# Iterate over all files in the input directory\n",
        "for img_file in tqdm(os.listdir(input_dir)):\n",
        "    input_path = os.path.join(input_dir, img_file)\n",
        "    output_path = os.path.join(output_dir, img_file)  # Same filename for output\n",
        "\n",
        "    # Skip processing if the output file already exists\n",
        "    if os.path.exists(output_path):\n",
        "        print(f\"Skipping {img_file}: Output already exists.\")\n",
        "        continue\n",
        "\n",
        "    # Run the sketchKeras command\n",
        "    command = f\"python sketchKeras-pytorch/src/test.py -i {input_path} -o {output_path} -w sketchKeras-pytorch/weights/sketchKeras_pytorch.pth\"\n",
        "    print(f\"Executing: {command}\")  # Debug print\n",
        "    os.system(command)\n"
      ]
    },
    {
      "cell_type": "code",
      "source": [
        "import os\n",
        "from tqdm import tqdm\n",
        "\n",
        "# Directories\n",
        "input_dir = \"/content/images/test_images\"\n",
        "output_dir = \"/content/sketches/\"\n",
        "\n",
        "# Ensure the output directory exists\n",
        "os.makedirs(output_dir, exist_ok=True)\n",
        "\n",
        "# Counter for the number of sketches generated\n",
        "sketch_count = 0\n",
        "max_sketches = 200  # Maximum number of sketches to generate\n",
        "\n",
        "# Iterate over all files in the input directory\n",
        "for img_file in tqdm(os.listdir(input_dir)):\n",
        "    input_path = os.path.join(input_dir, img_file)\n",
        "    output_path = os.path.join(output_dir, img_file)  # Same filename for output\n",
        "\n",
        "    # Skip processing if the output file already exists\n",
        "    if os.path.exists(output_path):\n",
        "        print(f\"Skipping {img_file}: Output already exists.\")\n",
        "        continue\n",
        "\n",
        "    # Run the sketchKeras command\n",
        "    command = f\"python sketchKeras-pytorch/src/test.py -i {input_path} -o {output_path} -w sketchKeras-pytorch/weights/sketchKeras_pytorch.pth\"\n",
        "    print(f\"Executing: {command}\")  # Debug print\n",
        "    os.system(command)\n",
        "\n",
        "    # Increment the sketch counter\n",
        "    sketch_count += 1\n",
        "\n",
        "    # Stop after generating the specified number of sketches\n",
        "    if sketch_count >= max_sketches:\n",
        "        print(f\"Reached the maximum of {max_sketches} sketches. Stopping.\")\n",
        "        break\n"
      ],
      "metadata": {
        "colab": {
          "base_uri": "https://localhost:8080/"
        },
        "id": "sYtUN-3YrLax",
        "outputId": "5debd926-b44e-4457-db4e-d9da32bbbb73"
      },
      "execution_count": null,
      "outputs": [
        {
          "output_type": "stream",
          "name": "stderr",
          "text": [
            "\r  0%|          | 0/700 [00:00<?, ?it/s]"
          ]
        },
        {
          "output_type": "stream",
          "name": "stdout",
          "text": [
            "Executing: python sketchKeras-pytorch/src/test.py -i /content/images/test_images/713.jpg -o /content/sketches/713.jpg -w sketchKeras-pytorch/weights/sketchKeras_pytorch.pth\n"
          ]
        },
        {
          "output_type": "stream",
          "name": "stderr",
          "text": [
            "\r  0%|          | 1/700 [00:05<1:01:16,  5.26s/it]"
          ]
        },
        {
          "output_type": "stream",
          "name": "stdout",
          "text": [
            "Executing: python sketchKeras-pytorch/src/test.py -i /content/images/test_images/793.jpg -o /content/sketches/793.jpg -w sketchKeras-pytorch/weights/sketchKeras_pytorch.pth\n"
          ]
        },
        {
          "output_type": "stream",
          "name": "stderr",
          "text": [
            "\r  0%|          | 2/700 [00:08<46:52,  4.03s/it]  "
          ]
        },
        {
          "output_type": "stream",
          "name": "stdout",
          "text": [
            "Skipping 612.jpg: Output already exists.\n",
            "Skipping 698.jpg: Output already exists.\n",
            "Executing: python sketchKeras-pytorch/src/test.py -i /content/images/test_images/360.jpg -o /content/sketches/360.jpg -w sketchKeras-pytorch/weights/sketchKeras_pytorch.pth\n"
          ]
        },
        {
          "output_type": "stream",
          "name": "stderr",
          "text": [
            "\r  1%|          | 5/700 [00:12<25:30,  2.20s/it]"
          ]
        },
        {
          "output_type": "stream",
          "name": "stdout",
          "text": [
            "Skipping 886.jpg: Output already exists.\n",
            "Executing: python sketchKeras-pytorch/src/test.py -i /content/images/test_images/834.jpg -o /content/sketches/834.jpg -w sketchKeras-pytorch/weights/sketchKeras_pytorch.pth\n"
          ]
        },
        {
          "output_type": "stream",
          "name": "stderr",
          "text": [
            "\r  1%|          | 7/700 [00:15<22:04,  1.91s/it]"
          ]
        },
        {
          "output_type": "stream",
          "name": "stdout",
          "text": [
            "Executing: python sketchKeras-pytorch/src/test.py -i /content/images/test_images/782.jpg -o /content/sketches/782.jpg -w sketchKeras-pytorch/weights/sketchKeras_pytorch.pth\n"
          ]
        },
        {
          "output_type": "stream",
          "name": "stderr",
          "text": [
            "\r  1%|          | 8/700 [00:18<24:49,  2.15s/it]"
          ]
        },
        {
          "output_type": "stream",
          "name": "stdout",
          "text": [
            "Executing: python sketchKeras-pytorch/src/test.py -i /content/images/test_images/841.jpg -o /content/sketches/841.jpg -w sketchKeras-pytorch/weights/sketchKeras_pytorch.pth\n"
          ]
        },
        {
          "output_type": "stream",
          "name": "stderr",
          "text": [
            "\r  1%|▏         | 9/700 [00:21<27:26,  2.38s/it]"
          ]
        },
        {
          "output_type": "stream",
          "name": "stdout",
          "text": [
            "Executing: python sketchKeras-pytorch/src/test.py -i /content/images/test_images/859.jpg -o /content/sketches/859.jpg -w sketchKeras-pytorch/weights/sketchKeras_pytorch.pth\n"
          ]
        },
        {
          "output_type": "stream",
          "name": "stderr",
          "text": [
            "\r  1%|▏         | 10/700 [00:25<32:22,  2.82s/it]"
          ]
        },
        {
          "output_type": "stream",
          "name": "stdout",
          "text": [
            "Executing: python sketchKeras-pytorch/src/test.py -i /content/images/test_images/200.jpg -o /content/sketches/200.jpg -w sketchKeras-pytorch/weights/sketchKeras_pytorch.pth\n"
          ]
        },
        {
          "output_type": "stream",
          "name": "stderr",
          "text": [
            "\r  2%|▏         | 11/700 [00:29<33:07,  2.89s/it]"
          ]
        },
        {
          "output_type": "stream",
          "name": "stdout",
          "text": [
            "Executing: python sketchKeras-pytorch/src/test.py -i /content/images/test_images/488.jpg -o /content/sketches/488.jpg -w sketchKeras-pytorch/weights/sketchKeras_pytorch.pth\n"
          ]
        },
        {
          "output_type": "stream",
          "name": "stderr",
          "text": [
            "\r  2%|▏         | 12/700 [00:32<33:38,  2.93s/it]"
          ]
        },
        {
          "output_type": "stream",
          "name": "stdout",
          "text": [
            "Executing: python sketchKeras-pytorch/src/test.py -i /content/images/test_images/256.jpg -o /content/sketches/256.jpg -w sketchKeras-pytorch/weights/sketchKeras_pytorch.pth\n"
          ]
        },
        {
          "output_type": "stream",
          "name": "stderr",
          "text": [
            "\r  2%|▏         | 13/700 [00:35<34:07,  2.98s/it]"
          ]
        },
        {
          "output_type": "stream",
          "name": "stdout",
          "text": [
            "Executing: python sketchKeras-pytorch/src/test.py -i /content/images/test_images/857.jpg -o /content/sketches/857.jpg -w sketchKeras-pytorch/weights/sketchKeras_pytorch.pth\n"
          ]
        },
        {
          "output_type": "stream",
          "name": "stderr",
          "text": [
            "\r  2%|▏         | 14/700 [00:39<37:04,  3.24s/it]"
          ]
        },
        {
          "output_type": "stream",
          "name": "stdout",
          "text": [
            "Executing: python sketchKeras-pytorch/src/test.py -i /content/images/test_images/737.jpg -o /content/sketches/737.jpg -w sketchKeras-pytorch/weights/sketchKeras_pytorch.pth\n"
          ]
        },
        {
          "output_type": "stream",
          "name": "stderr",
          "text": [
            "\r  2%|▏         | 15/700 [00:42<37:23,  3.28s/it]"
          ]
        },
        {
          "output_type": "stream",
          "name": "stdout",
          "text": [
            "Executing: python sketchKeras-pytorch/src/test.py -i /content/images/test_images/714.jpg -o /content/sketches/714.jpg -w sketchKeras-pytorch/weights/sketchKeras_pytorch.pth\n"
          ]
        },
        {
          "output_type": "stream",
          "name": "stderr",
          "text": [
            "\r  2%|▏         | 16/700 [00:45<36:30,  3.20s/it]"
          ]
        },
        {
          "output_type": "stream",
          "name": "stdout",
          "text": [
            "Executing: python sketchKeras-pytorch/src/test.py -i /content/images/test_images/357.jpg -o /content/sketches/357.jpg -w sketchKeras-pytorch/weights/sketchKeras_pytorch.pth\n"
          ]
        },
        {
          "output_type": "stream",
          "name": "stderr",
          "text": [
            "\r  2%|▏         | 17/700 [00:48<35:49,  3.15s/it]"
          ]
        },
        {
          "output_type": "stream",
          "name": "stdout",
          "text": [
            "Executing: python sketchKeras-pytorch/src/test.py -i /content/images/test_images/455.jpg -o /content/sketches/455.jpg -w sketchKeras-pytorch/weights/sketchKeras_pytorch.pth\n"
          ]
        },
        {
          "output_type": "stream",
          "name": "stderr",
          "text": [
            "\r  3%|▎         | 18/700 [00:52<38:00,  3.34s/it]"
          ]
        },
        {
          "output_type": "stream",
          "name": "stdout",
          "text": [
            "Executing: python sketchKeras-pytorch/src/test.py -i /content/images/test_images/847.jpg -o /content/sketches/847.jpg -w sketchKeras-pytorch/weights/sketchKeras_pytorch.pth\n"
          ]
        },
        {
          "output_type": "stream",
          "name": "stderr",
          "text": [
            "\r  3%|▎         | 19/700 [00:55<38:15,  3.37s/it]"
          ]
        },
        {
          "output_type": "stream",
          "name": "stdout",
          "text": [
            "Executing: python sketchKeras-pytorch/src/test.py -i /content/images/test_images/726.jpg -o /content/sketches/726.jpg -w sketchKeras-pytorch/weights/sketchKeras_pytorch.pth\n"
          ]
        },
        {
          "output_type": "stream",
          "name": "stderr",
          "text": [
            "\r  3%|▎         | 20/700 [00:58<37:03,  3.27s/it]"
          ]
        },
        {
          "output_type": "stream",
          "name": "stdout",
          "text": [
            "Executing: python sketchKeras-pytorch/src/test.py -i /content/images/test_images/216.jpg -o /content/sketches/216.jpg -w sketchKeras-pytorch/weights/sketchKeras_pytorch.pth\n"
          ]
        },
        {
          "output_type": "stream",
          "name": "stderr",
          "text": [
            "\r  3%|▎         | 21/700 [01:01<36:12,  3.20s/it]"
          ]
        },
        {
          "output_type": "stream",
          "name": "stdout",
          "text": [
            "Executing: python sketchKeras-pytorch/src/test.py -i /content/images/test_images/729.jpg -o /content/sketches/729.jpg -w sketchKeras-pytorch/weights/sketchKeras_pytorch.pth\n"
          ]
        },
        {
          "output_type": "stream",
          "name": "stderr",
          "text": [
            "\r  3%|▎         | 22/700 [01:05<37:13,  3.29s/it]"
          ]
        },
        {
          "output_type": "stream",
          "name": "stdout",
          "text": [
            "Executing: python sketchKeras-pytorch/src/test.py -i /content/images/test_images/378.jpg -o /content/sketches/378.jpg -w sketchKeras-pytorch/weights/sketchKeras_pytorch.pth\n"
          ]
        },
        {
          "output_type": "stream",
          "name": "stderr",
          "text": [
            "\r  3%|▎         | 23/700 [01:08<38:22,  3.40s/it]"
          ]
        },
        {
          "output_type": "stream",
          "name": "stdout",
          "text": [
            "Executing: python sketchKeras-pytorch/src/test.py -i /content/images/test_images/566.jpg -o /content/sketches/566.jpg -w sketchKeras-pytorch/weights/sketchKeras_pytorch.pth\n"
          ]
        },
        {
          "output_type": "stream",
          "name": "stderr",
          "text": [
            "\r  3%|▎         | 24/700 [01:12<37:19,  3.31s/it]"
          ]
        },
        {
          "output_type": "stream",
          "name": "stdout",
          "text": [
            "Executing: python sketchKeras-pytorch/src/test.py -i /content/images/test_images/263.jpg -o /content/sketches/263.jpg -w sketchKeras-pytorch/weights/sketchKeras_pytorch.pth\n"
          ]
        },
        {
          "output_type": "stream",
          "name": "stderr",
          "text": [
            "\r  4%|▎         | 25/700 [01:15<36:25,  3.24s/it]"
          ]
        },
        {
          "output_type": "stream",
          "name": "stdout",
          "text": [
            "Executing: python sketchKeras-pytorch/src/test.py -i /content/images/test_images/487.jpg -o /content/sketches/487.jpg -w sketchKeras-pytorch/weights/sketchKeras_pytorch.pth\n"
          ]
        },
        {
          "output_type": "stream",
          "name": "stderr",
          "text": [
            "\r  4%|▎         | 26/700 [01:18<37:05,  3.30s/it]"
          ]
        },
        {
          "output_type": "stream",
          "name": "stdout",
          "text": [
            "Executing: python sketchKeras-pytorch/src/test.py -i /content/images/test_images/707.jpg -o /content/sketches/707.jpg -w sketchKeras-pytorch/weights/sketchKeras_pytorch.pth\n"
          ]
        },
        {
          "output_type": "stream",
          "name": "stderr",
          "text": [
            "\r  4%|▍         | 27/700 [01:22<38:22,  3.42s/it]"
          ]
        },
        {
          "output_type": "stream",
          "name": "stdout",
          "text": [
            "Executing: python sketchKeras-pytorch/src/test.py -i /content/images/test_images/600.jpg -o /content/sketches/600.jpg -w sketchKeras-pytorch/weights/sketchKeras_pytorch.pth\n"
          ]
        },
        {
          "output_type": "stream",
          "name": "stderr",
          "text": [
            "\r  4%|▍         | 28/700 [01:25<36:54,  3.30s/it]"
          ]
        },
        {
          "output_type": "stream",
          "name": "stdout",
          "text": [
            "Executing: python sketchKeras-pytorch/src/test.py -i /content/images/test_images/291.jpg -o /content/sketches/291.jpg -w sketchKeras-pytorch/weights/sketchKeras_pytorch.pth\n"
          ]
        },
        {
          "output_type": "stream",
          "name": "stderr",
          "text": [
            "\r  4%|▍         | 29/700 [01:28<35:51,  3.21s/it]"
          ]
        },
        {
          "output_type": "stream",
          "name": "stdout",
          "text": [
            "Executing: python sketchKeras-pytorch/src/test.py -i /content/images/test_images/244.jpg -o /content/sketches/244.jpg -w sketchKeras-pytorch/weights/sketchKeras_pytorch.pth\n"
          ]
        },
        {
          "output_type": "stream",
          "name": "stderr",
          "text": [
            "\r  4%|▍         | 30/700 [01:31<36:17,  3.25s/it]"
          ]
        },
        {
          "output_type": "stream",
          "name": "stdout",
          "text": [
            "Executing: python sketchKeras-pytorch/src/test.py -i /content/images/test_images/653.jpg -o /content/sketches/653.jpg -w sketchKeras-pytorch/weights/sketchKeras_pytorch.pth\n"
          ]
        },
        {
          "output_type": "stream",
          "name": "stderr",
          "text": [
            "\r  4%|▍         | 31/700 [01:35<38:33,  3.46s/it]"
          ]
        },
        {
          "output_type": "stream",
          "name": "stdout",
          "text": [
            "Executing: python sketchKeras-pytorch/src/test.py -i /content/images/test_images/414.jpg -o /content/sketches/414.jpg -w sketchKeras-pytorch/weights/sketchKeras_pytorch.pth\n"
          ]
        },
        {
          "output_type": "stream",
          "name": "stderr",
          "text": [
            "\r  5%|▍         | 32/700 [01:38<37:15,  3.35s/it]"
          ]
        },
        {
          "output_type": "stream",
          "name": "stdout",
          "text": [
            "Executing: python sketchKeras-pytorch/src/test.py -i /content/images/test_images/406.jpg -o /content/sketches/406.jpg -w sketchKeras-pytorch/weights/sketchKeras_pytorch.pth\n"
          ]
        },
        {
          "output_type": "stream",
          "name": "stderr",
          "text": [
            "\r  5%|▍         | 33/700 [01:41<36:16,  3.26s/it]"
          ]
        },
        {
          "output_type": "stream",
          "name": "stdout",
          "text": [
            "Executing: python sketchKeras-pytorch/src/test.py -i /content/images/test_images/411.jpg -o /content/sketches/411.jpg -w sketchKeras-pytorch/weights/sketchKeras_pytorch.pth\n"
          ]
        },
        {
          "output_type": "stream",
          "name": "stderr",
          "text": [
            "\r  5%|▍         | 34/700 [01:45<36:43,  3.31s/it]"
          ]
        },
        {
          "output_type": "stream",
          "name": "stdout",
          "text": [
            "Executing: python sketchKeras-pytorch/src/test.py -i /content/images/test_images/877.jpg -o /content/sketches/877.jpg -w sketchKeras-pytorch/weights/sketchKeras_pytorch.pth\n"
          ]
        },
        {
          "output_type": "stream",
          "name": "stderr",
          "text": [
            "\r  5%|▌         | 35/700 [01:49<39:32,  3.57s/it]"
          ]
        },
        {
          "output_type": "stream",
          "name": "stdout",
          "text": [
            "Executing: python sketchKeras-pytorch/src/test.py -i /content/images/test_images/401.jpg -o /content/sketches/401.jpg -w sketchKeras-pytorch/weights/sketchKeras_pytorch.pth\n"
          ]
        },
        {
          "output_type": "stream",
          "name": "stderr",
          "text": [
            "\r  5%|▌         | 36/700 [01:52<37:56,  3.43s/it]"
          ]
        },
        {
          "output_type": "stream",
          "name": "stdout",
          "text": [
            "Executing: python sketchKeras-pytorch/src/test.py -i /content/images/test_images/369.jpg -o /content/sketches/369.jpg -w sketchKeras-pytorch/weights/sketchKeras_pytorch.pth\n"
          ]
        },
        {
          "output_type": "stream",
          "name": "stderr",
          "text": [
            "\r  5%|▌         | 37/700 [01:55<36:51,  3.34s/it]"
          ]
        },
        {
          "output_type": "stream",
          "name": "stdout",
          "text": [
            "Executing: python sketchKeras-pytorch/src/test.py -i /content/images/test_images/651.jpg -o /content/sketches/651.jpg -w sketchKeras-pytorch/weights/sketchKeras_pytorch.pth\n"
          ]
        },
        {
          "output_type": "stream",
          "name": "stderr",
          "text": [
            "\r  5%|▌         | 38/700 [01:58<36:26,  3.30s/it]"
          ]
        },
        {
          "output_type": "stream",
          "name": "stdout",
          "text": [
            "Executing: python sketchKeras-pytorch/src/test.py -i /content/images/test_images/468.jpg -o /content/sketches/468.jpg -w sketchKeras-pytorch/weights/sketchKeras_pytorch.pth\n"
          ]
        },
        {
          "output_type": "stream",
          "name": "stderr",
          "text": [
            "\r  6%|▌         | 39/700 [02:02<38:51,  3.53s/it]"
          ]
        },
        {
          "output_type": "stream",
          "name": "stdout",
          "text": [
            "Executing: python sketchKeras-pytorch/src/test.py -i /content/images/test_images/670.jpg -o /content/sketches/670.jpg -w sketchKeras-pytorch/weights/sketchKeras_pytorch.pth\n"
          ]
        },
        {
          "output_type": "stream",
          "name": "stderr",
          "text": [
            "\r  6%|▌         | 40/700 [02:05<37:13,  3.38s/it]"
          ]
        },
        {
          "output_type": "stream",
          "name": "stdout",
          "text": [
            "Executing: python sketchKeras-pytorch/src/test.py -i /content/images/test_images/627.jpg -o /content/sketches/627.jpg -w sketchKeras-pytorch/weights/sketchKeras_pytorch.pth\n"
          ]
        },
        {
          "output_type": "stream",
          "name": "stderr",
          "text": [
            "\r  6%|▌         | 41/700 [02:08<35:54,  3.27s/it]"
          ]
        },
        {
          "output_type": "stream",
          "name": "stdout",
          "text": [
            "Executing: python sketchKeras-pytorch/src/test.py -i /content/images/test_images/495.jpg -o /content/sketches/495.jpg -w sketchKeras-pytorch/weights/sketchKeras_pytorch.pth\n"
          ]
        },
        {
          "output_type": "stream",
          "name": "stderr",
          "text": [
            "\r  6%|▌         | 42/700 [02:12<35:36,  3.25s/it]"
          ]
        },
        {
          "output_type": "stream",
          "name": "stdout",
          "text": [
            "Executing: python sketchKeras-pytorch/src/test.py -i /content/images/test_images/678.jpg -o /content/sketches/678.jpg -w sketchKeras-pytorch/weights/sketchKeras_pytorch.pth\n"
          ]
        },
        {
          "output_type": "stream",
          "name": "stderr",
          "text": [
            "\r  6%|▌         | 43/700 [02:16<38:36,  3.53s/it]"
          ]
        },
        {
          "output_type": "stream",
          "name": "stdout",
          "text": [
            "Executing: python sketchKeras-pytorch/src/test.py -i /content/images/test_images/594.jpg -o /content/sketches/594.jpg -w sketchKeras-pytorch/weights/sketchKeras_pytorch.pth\n"
          ]
        },
        {
          "output_type": "stream",
          "name": "stderr",
          "text": [
            "\r  6%|▋         | 44/700 [02:19<36:58,  3.38s/it]"
          ]
        },
        {
          "output_type": "stream",
          "name": "stdout",
          "text": [
            "Executing: python sketchKeras-pytorch/src/test.py -i /content/images/test_images/510.jpg -o /content/sketches/510.jpg -w sketchKeras-pytorch/weights/sketchKeras_pytorch.pth\n"
          ]
        },
        {
          "output_type": "stream",
          "name": "stderr",
          "text": [
            "\r  6%|▋         | 45/700 [02:22<35:48,  3.28s/it]"
          ]
        },
        {
          "output_type": "stream",
          "name": "stdout",
          "text": [
            "Executing: python sketchKeras-pytorch/src/test.py -i /content/images/test_images/610.jpg -o /content/sketches/610.jpg -w sketchKeras-pytorch/weights/sketchKeras_pytorch.pth\n"
          ]
        },
        {
          "output_type": "stream",
          "name": "stderr",
          "text": [
            "\r  7%|▋         | 46/700 [02:25<35:46,  3.28s/it]"
          ]
        },
        {
          "output_type": "stream",
          "name": "stdout",
          "text": [
            "Executing: python sketchKeras-pytorch/src/test.py -i /content/images/test_images/335.jpg -o /content/sketches/335.jpg -w sketchKeras-pytorch/weights/sketchKeras_pytorch.pth\n"
          ]
        },
        {
          "output_type": "stream",
          "name": "stderr",
          "text": [
            "\r  7%|▋         | 47/700 [02:29<38:28,  3.53s/it]"
          ]
        },
        {
          "output_type": "stream",
          "name": "stdout",
          "text": [
            "Executing: python sketchKeras-pytorch/src/test.py -i /content/images/test_images/601.jpg -o /content/sketches/601.jpg -w sketchKeras-pytorch/weights/sketchKeras_pytorch.pth\n"
          ]
        },
        {
          "output_type": "stream",
          "name": "stderr",
          "text": [
            "\r  7%|▋         | 48/700 [02:32<36:49,  3.39s/it]"
          ]
        },
        {
          "output_type": "stream",
          "name": "stdout",
          "text": [
            "Executing: python sketchKeras-pytorch/src/test.py -i /content/images/test_images/884.jpg -o /content/sketches/884.jpg -w sketchKeras-pytorch/weights/sketchKeras_pytorch.pth\n"
          ]
        },
        {
          "output_type": "stream",
          "name": "stderr",
          "text": [
            "\r  7%|▋         | 49/700 [02:35<35:50,  3.30s/it]"
          ]
        },
        {
          "output_type": "stream",
          "name": "stdout",
          "text": [
            "Executing: python sketchKeras-pytorch/src/test.py -i /content/images/test_images/649.jpg -o /content/sketches/649.jpg -w sketchKeras-pytorch/weights/sketchKeras_pytorch.pth\n"
          ]
        },
        {
          "output_type": "stream",
          "name": "stderr",
          "text": [
            "\r  7%|▋         | 50/700 [02:39<35:15,  3.26s/it]"
          ]
        },
        {
          "output_type": "stream",
          "name": "stdout",
          "text": [
            "Executing: python sketchKeras-pytorch/src/test.py -i /content/images/test_images/1834.jpg -o /content/sketches/1834.jpg -w sketchKeras-pytorch/weights/sketchKeras_pytorch.pth\n"
          ]
        },
        {
          "output_type": "stream",
          "name": "stderr",
          "text": [
            "\r  7%|▋         | 51/700 [02:43<38:13,  3.53s/it]"
          ]
        },
        {
          "output_type": "stream",
          "name": "stdout",
          "text": [
            "Executing: python sketchKeras-pytorch/src/test.py -i /content/images/test_images/435.jpg -o /content/sketches/435.jpg -w sketchKeras-pytorch/weights/sketchKeras_pytorch.pth\n"
          ]
        },
        {
          "output_type": "stream",
          "name": "stderr",
          "text": [
            "\r  7%|▋         | 52/700 [02:46<36:40,  3.40s/it]"
          ]
        },
        {
          "output_type": "stream",
          "name": "stdout",
          "text": [
            "Executing: python sketchKeras-pytorch/src/test.py -i /content/images/test_images/456.jpg -o /content/sketches/456.jpg -w sketchKeras-pytorch/weights/sketchKeras_pytorch.pth\n"
          ]
        },
        {
          "output_type": "stream",
          "name": "stderr",
          "text": [
            "\r  8%|▊         | 53/700 [02:49<35:47,  3.32s/it]"
          ]
        },
        {
          "output_type": "stream",
          "name": "stdout",
          "text": [
            "Executing: python sketchKeras-pytorch/src/test.py -i /content/images/test_images/326.jpg -o /content/sketches/326.jpg -w sketchKeras-pytorch/weights/sketchKeras_pytorch.pth\n"
          ]
        },
        {
          "output_type": "stream",
          "name": "stderr",
          "text": [
            "\r  8%|▊         | 54/700 [02:52<34:49,  3.23s/it]"
          ]
        },
        {
          "output_type": "stream",
          "name": "stdout",
          "text": [
            "Executing: python sketchKeras-pytorch/src/test.py -i /content/images/test_images/451.jpg -o /content/sketches/451.jpg -w sketchKeras-pytorch/weights/sketchKeras_pytorch.pth\n"
          ]
        },
        {
          "output_type": "stream",
          "name": "stderr",
          "text": [
            "\r  8%|▊         | 55/700 [02:56<37:53,  3.52s/it]"
          ]
        },
        {
          "output_type": "stream",
          "name": "stdout",
          "text": [
            "Executing: python sketchKeras-pytorch/src/test.py -i /content/images/test_images/439.jpg -o /content/sketches/439.jpg -w sketchKeras-pytorch/weights/sketchKeras_pytorch.pth\n"
          ]
        },
        {
          "output_type": "stream",
          "name": "stderr",
          "text": [
            "\r  8%|▊         | 56/700 [02:59<36:15,  3.38s/it]"
          ]
        },
        {
          "output_type": "stream",
          "name": "stdout",
          "text": [
            "Executing: python sketchKeras-pytorch/src/test.py -i /content/images/test_images/808.jpg -o /content/sketches/808.jpg -w sketchKeras-pytorch/weights/sketchKeras_pytorch.pth\n"
          ]
        },
        {
          "output_type": "stream",
          "name": "stderr",
          "text": [
            "\r  8%|▊         | 57/700 [03:02<35:16,  3.29s/it]"
          ]
        },
        {
          "output_type": "stream",
          "name": "stdout",
          "text": [
            "Executing: python sketchKeras-pytorch/src/test.py -i /content/images/test_images/255.jpg -o /content/sketches/255.jpg -w sketchKeras-pytorch/weights/sketchKeras_pytorch.pth\n"
          ]
        },
        {
          "output_type": "stream",
          "name": "stderr",
          "text": [
            "\r  8%|▊         | 58/700 [03:05<34:30,  3.23s/it]"
          ]
        },
        {
          "output_type": "stream",
          "name": "stdout",
          "text": [
            "Executing: python sketchKeras-pytorch/src/test.py -i /content/images/test_images/573.jpg -o /content/sketches/573.jpg -w sketchKeras-pytorch/weights/sketchKeras_pytorch.pth\n"
          ]
        },
        {
          "output_type": "stream",
          "name": "stderr",
          "text": [
            "\r  8%|▊         | 59/700 [03:10<37:18,  3.49s/it]"
          ]
        },
        {
          "output_type": "stream",
          "name": "stdout",
          "text": [
            "Executing: python sketchKeras-pytorch/src/test.py -i /content/images/test_images/606.jpg -o /content/sketches/606.jpg -w sketchKeras-pytorch/weights/sketchKeras_pytorch.pth\n"
          ]
        },
        {
          "output_type": "stream",
          "name": "stderr",
          "text": [
            "\r  9%|▊         | 60/700 [03:13<35:57,  3.37s/it]"
          ]
        },
        {
          "output_type": "stream",
          "name": "stdout",
          "text": [
            "Executing: python sketchKeras-pytorch/src/test.py -i /content/images/test_images/843.jpg -o /content/sketches/843.jpg -w sketchKeras-pytorch/weights/sketchKeras_pytorch.pth\n"
          ]
        },
        {
          "output_type": "stream",
          "name": "stderr",
          "text": [
            "\r  9%|▊         | 61/700 [03:16<34:58,  3.28s/it]"
          ]
        },
        {
          "output_type": "stream",
          "name": "stdout",
          "text": [
            "Executing: python sketchKeras-pytorch/src/test.py -i /content/images/test_images/219.jpg -o /content/sketches/219.jpg -w sketchKeras-pytorch/weights/sketchKeras_pytorch.pth\n"
          ]
        },
        {
          "output_type": "stream",
          "name": "stderr",
          "text": [
            "\r  9%|▉         | 62/700 [03:19<34:07,  3.21s/it]"
          ]
        },
        {
          "output_type": "stream",
          "name": "stdout",
          "text": [
            "Executing: python sketchKeras-pytorch/src/test.py -i /content/images/test_images/475.jpg -o /content/sketches/475.jpg -w sketchKeras-pytorch/weights/sketchKeras_pytorch.pth\n"
          ]
        },
        {
          "output_type": "stream",
          "name": "stderr",
          "text": [
            "\r  9%|▉         | 63/700 [03:23<36:56,  3.48s/it]"
          ]
        },
        {
          "output_type": "stream",
          "name": "stdout",
          "text": [
            "Executing: python sketchKeras-pytorch/src/test.py -i /content/images/test_images/236.jpg -o /content/sketches/236.jpg -w sketchKeras-pytorch/weights/sketchKeras_pytorch.pth\n"
          ]
        },
        {
          "output_type": "stream",
          "name": "stderr",
          "text": [
            "\r  9%|▉         | 64/700 [03:26<35:55,  3.39s/it]"
          ]
        },
        {
          "output_type": "stream",
          "name": "stdout",
          "text": [
            "Executing: python sketchKeras-pytorch/src/test.py -i /content/images/test_images/748.jpg -o /content/sketches/748.jpg -w sketchKeras-pytorch/weights/sketchKeras_pytorch.pth\n"
          ]
        },
        {
          "output_type": "stream",
          "name": "stderr",
          "text": [
            "\r  9%|▉         | 65/700 [03:29<34:50,  3.29s/it]"
          ]
        },
        {
          "output_type": "stream",
          "name": "stdout",
          "text": [
            "Executing: python sketchKeras-pytorch/src/test.py -i /content/images/test_images/241.jpg -o /content/sketches/241.jpg -w sketchKeras-pytorch/weights/sketchKeras_pytorch.pth\n"
          ]
        },
        {
          "output_type": "stream",
          "name": "stderr",
          "text": [
            "\r  9%|▉         | 66/700 [03:32<34:09,  3.23s/it]"
          ]
        },
        {
          "output_type": "stream",
          "name": "stdout",
          "text": [
            "Executing: python sketchKeras-pytorch/src/test.py -i /content/images/test_images/457.jpg -o /content/sketches/457.jpg -w sketchKeras-pytorch/weights/sketchKeras_pytorch.pth\n"
          ]
        },
        {
          "output_type": "stream",
          "name": "stderr",
          "text": [
            "\r 10%|▉         | 67/700 [03:36<36:15,  3.44s/it]"
          ]
        },
        {
          "output_type": "stream",
          "name": "stdout",
          "text": [
            "Executing: python sketchKeras-pytorch/src/test.py -i /content/images/test_images/634.jpg -o /content/sketches/634.jpg -w sketchKeras-pytorch/weights/sketchKeras_pytorch.pth\n"
          ]
        },
        {
          "output_type": "stream",
          "name": "stderr",
          "text": [
            "\r 10%|▉         | 68/700 [03:39<36:04,  3.43s/it]"
          ]
        },
        {
          "output_type": "stream",
          "name": "stdout",
          "text": [
            "Executing: python sketchKeras-pytorch/src/test.py -i /content/images/test_images/614.jpg -o /content/sketches/614.jpg -w sketchKeras-pytorch/weights/sketchKeras_pytorch.pth\n"
          ]
        },
        {
          "output_type": "stream",
          "name": "stderr",
          "text": [
            "\r 10%|▉         | 69/700 [03:43<34:55,  3.32s/it]"
          ]
        },
        {
          "output_type": "stream",
          "name": "stdout",
          "text": [
            "Executing: python sketchKeras-pytorch/src/test.py -i /content/images/test_images/572.jpg -o /content/sketches/572.jpg -w sketchKeras-pytorch/weights/sketchKeras_pytorch.pth\n"
          ]
        },
        {
          "output_type": "stream",
          "name": "stderr",
          "text": [
            "\r 10%|█         | 70/700 [03:46<34:25,  3.28s/it]"
          ]
        },
        {
          "output_type": "stream",
          "name": "stdout",
          "text": [
            "Executing: python sketchKeras-pytorch/src/test.py -i /content/images/test_images/876.jpg -o /content/sketches/876.jpg -w sketchKeras-pytorch/weights/sketchKeras_pytorch.pth\n"
          ]
        },
        {
          "output_type": "stream",
          "name": "stderr",
          "text": [
            "\r 10%|█         | 71/700 [03:50<36:04,  3.44s/it]"
          ]
        },
        {
          "output_type": "stream",
          "name": "stdout",
          "text": [
            "Executing: python sketchKeras-pytorch/src/test.py -i /content/images/test_images/252.jpg -o /content/sketches/252.jpg -w sketchKeras-pytorch/weights/sketchKeras_pytorch.pth\n"
          ]
        },
        {
          "output_type": "stream",
          "name": "stderr",
          "text": [
            "\r 10%|█         | 72/700 [03:53<36:06,  3.45s/it]"
          ]
        },
        {
          "output_type": "stream",
          "name": "stdout",
          "text": [
            "Executing: python sketchKeras-pytorch/src/test.py -i /content/images/test_images/801.jpg -o /content/sketches/801.jpg -w sketchKeras-pytorch/weights/sketchKeras_pytorch.pth\n"
          ]
        },
        {
          "output_type": "stream",
          "name": "stderr",
          "text": [
            "\r 10%|█         | 73/700 [03:56<35:06,  3.36s/it]"
          ]
        },
        {
          "output_type": "stream",
          "name": "stdout",
          "text": [
            "Executing: python sketchKeras-pytorch/src/test.py -i /content/images/test_images/202.jpg -o /content/sketches/202.jpg -w sketchKeras-pytorch/weights/sketchKeras_pytorch.pth\n"
          ]
        },
        {
          "output_type": "stream",
          "name": "stderr",
          "text": [
            "\r 11%|█         | 74/700 [03:59<34:03,  3.26s/it]"
          ]
        },
        {
          "output_type": "stream",
          "name": "stdout",
          "text": [
            "Executing: python sketchKeras-pytorch/src/test.py -i /content/images/test_images/844.jpg -o /content/sketches/844.jpg -w sketchKeras-pytorch/weights/sketchKeras_pytorch.pth\n"
          ]
        },
        {
          "output_type": "stream",
          "name": "stderr",
          "text": [
            "\r 11%|█         | 75/700 [04:03<35:31,  3.41s/it]"
          ]
        },
        {
          "output_type": "stream",
          "name": "stdout",
          "text": [
            "Executing: python sketchKeras-pytorch/src/test.py -i /content/images/test_images/885.jpg -o /content/sketches/885.jpg -w sketchKeras-pytorch/weights/sketchKeras_pytorch.pth\n"
          ]
        },
        {
          "output_type": "stream",
          "name": "stderr",
          "text": [
            "\r 11%|█         | 76/700 [04:06<35:40,  3.43s/it]"
          ]
        },
        {
          "output_type": "stream",
          "name": "stdout",
          "text": [
            "Executing: python sketchKeras-pytorch/src/test.py -i /content/images/test_images/662.jpg -o /content/sketches/662.jpg -w sketchKeras-pytorch/weights/sketchKeras_pytorch.pth\n"
          ]
        },
        {
          "output_type": "stream",
          "name": "stderr",
          "text": [
            "\r 11%|█         | 77/700 [04:09<34:16,  3.30s/it]"
          ]
        },
        {
          "output_type": "stream",
          "name": "stdout",
          "text": [
            "Executing: python sketchKeras-pytorch/src/test.py -i /content/images/test_images/757.jpg -o /content/sketches/757.jpg -w sketchKeras-pytorch/weights/sketchKeras_pytorch.pth\n"
          ]
        },
        {
          "output_type": "stream",
          "name": "stderr",
          "text": [
            "\r 11%|█         | 78/700 [04:12<33:24,  3.22s/it]"
          ]
        },
        {
          "output_type": "stream",
          "name": "stdout",
          "text": [
            "Executing: python sketchKeras-pytorch/src/test.py -i /content/images/test_images/805.jpg -o /content/sketches/805.jpg -w sketchKeras-pytorch/weights/sketchKeras_pytorch.pth\n"
          ]
        },
        {
          "output_type": "stream",
          "name": "stderr",
          "text": [
            "\r 11%|█▏        | 79/700 [04:16<34:35,  3.34s/it]"
          ]
        },
        {
          "output_type": "stream",
          "name": "stdout",
          "text": [
            "Executing: python sketchKeras-pytorch/src/test.py -i /content/images/test_images/297.jpg -o /content/sketches/297.jpg -w sketchKeras-pytorch/weights/sketchKeras_pytorch.pth\n"
          ]
        },
        {
          "output_type": "stream",
          "name": "stderr",
          "text": [
            "\r 11%|█▏        | 80/700 [04:20<35:22,  3.42s/it]"
          ]
        },
        {
          "output_type": "stream",
          "name": "stdout",
          "text": [
            "Executing: python sketchKeras-pytorch/src/test.py -i /content/images/test_images/221.jpg -o /content/sketches/221.jpg -w sketchKeras-pytorch/weights/sketchKeras_pytorch.pth\n"
          ]
        },
        {
          "output_type": "stream",
          "name": "stderr",
          "text": [
            "\r 12%|█▏        | 81/700 [04:23<34:03,  3.30s/it]"
          ]
        },
        {
          "output_type": "stream",
          "name": "stdout",
          "text": [
            "Executing: python sketchKeras-pytorch/src/test.py -i /content/images/test_images/438.jpg -o /content/sketches/438.jpg -w sketchKeras-pytorch/weights/sketchKeras_pytorch.pth\n"
          ]
        },
        {
          "output_type": "stream",
          "name": "stderr",
          "text": [
            "\r 12%|█▏        | 82/700 [04:26<33:25,  3.25s/it]"
          ]
        },
        {
          "output_type": "stream",
          "name": "stdout",
          "text": [
            "Executing: python sketchKeras-pytorch/src/test.py -i /content/images/test_images/430.jpg -o /content/sketches/430.jpg -w sketchKeras-pytorch/weights/sketchKeras_pytorch.pth\n"
          ]
        },
        {
          "output_type": "stream",
          "name": "stderr",
          "text": [
            "\r 12%|█▏        | 83/700 [04:29<33:57,  3.30s/it]"
          ]
        },
        {
          "output_type": "stream",
          "name": "stdout",
          "text": [
            "Executing: python sketchKeras-pytorch/src/test.py -i /content/images/test_images/483.jpg -o /content/sketches/483.jpg -w sketchKeras-pytorch/weights/sketchKeras_pytorch.pth\n"
          ]
        },
        {
          "output_type": "stream",
          "name": "stderr",
          "text": [
            "\r 12%|█▏        | 84/700 [04:33<35:09,  3.42s/it]"
          ]
        },
        {
          "output_type": "stream",
          "name": "stdout",
          "text": [
            "Executing: python sketchKeras-pytorch/src/test.py -i /content/images/test_images/739.jpg -o /content/sketches/739.jpg -w sketchKeras-pytorch/weights/sketchKeras_pytorch.pth\n"
          ]
        },
        {
          "output_type": "stream",
          "name": "stderr",
          "text": [
            "\r 12%|█▏        | 85/700 [04:36<33:56,  3.31s/it]"
          ]
        },
        {
          "output_type": "stream",
          "name": "stdout",
          "text": [
            "Executing: python sketchKeras-pytorch/src/test.py -i /content/images/test_images/319.jpg -o /content/sketches/319.jpg -w sketchKeras-pytorch/weights/sketchKeras_pytorch.pth\n"
          ]
        },
        {
          "output_type": "stream",
          "name": "stderr",
          "text": [
            "\r 12%|█▏        | 86/700 [04:39<33:11,  3.24s/it]"
          ]
        },
        {
          "output_type": "stream",
          "name": "stdout",
          "text": [
            "Executing: python sketchKeras-pytorch/src/test.py -i /content/images/test_images/827.jpg -o /content/sketches/827.jpg -w sketchKeras-pytorch/weights/sketchKeras_pytorch.pth\n"
          ]
        },
        {
          "output_type": "stream",
          "name": "stderr",
          "text": [
            "\r 12%|█▏        | 87/700 [04:42<33:31,  3.28s/it]"
          ]
        },
        {
          "output_type": "stream",
          "name": "stdout",
          "text": [
            "Executing: python sketchKeras-pytorch/src/test.py -i /content/images/test_images/535.jpg -o /content/sketches/535.jpg -w sketchKeras-pytorch/weights/sketchKeras_pytorch.pth\n"
          ]
        },
        {
          "output_type": "stream",
          "name": "stderr",
          "text": [
            "\r 13%|█▎        | 88/700 [04:46<35:32,  3.49s/it]"
          ]
        },
        {
          "output_type": "stream",
          "name": "stdout",
          "text": [
            "Executing: python sketchKeras-pytorch/src/test.py -i /content/images/test_images/814.jpg -o /content/sketches/814.jpg -w sketchKeras-pytorch/weights/sketchKeras_pytorch.pth\n"
          ]
        },
        {
          "output_type": "stream",
          "name": "stderr",
          "text": [
            "\r 13%|█▎        | 89/700 [04:49<34:02,  3.34s/it]"
          ]
        },
        {
          "output_type": "stream",
          "name": "stdout",
          "text": [
            "Executing: python sketchKeras-pytorch/src/test.py -i /content/images/test_images/199.jpg -o /content/sketches/199.jpg -w sketchKeras-pytorch/weights/sketchKeras_pytorch.pth\n"
          ]
        },
        {
          "output_type": "stream",
          "name": "stderr",
          "text": [
            "\r 13%|█▎        | 90/700 [04:53<33:11,  3.26s/it]"
          ]
        },
        {
          "output_type": "stream",
          "name": "stdout",
          "text": [
            "Executing: python sketchKeras-pytorch/src/test.py -i /content/images/test_images/666.jpg -o /content/sketches/666.jpg -w sketchKeras-pytorch/weights/sketchKeras_pytorch.pth\n"
          ]
        },
        {
          "output_type": "stream",
          "name": "stderr",
          "text": [
            "\r 13%|█▎        | 91/700 [04:57<36:51,  3.63s/it]"
          ]
        },
        {
          "output_type": "stream",
          "name": "stdout",
          "text": [
            "Executing: python sketchKeras-pytorch/src/test.py -i /content/images/test_images/257.jpg -o /content/sketches/257.jpg -w sketchKeras-pytorch/weights/sketchKeras_pytorch.pth\n"
          ]
        },
        {
          "output_type": "stream",
          "name": "stderr",
          "text": [
            "\r 13%|█▎        | 92/700 [05:01<38:21,  3.79s/it]"
          ]
        },
        {
          "output_type": "stream",
          "name": "stdout",
          "text": [
            "Executing: python sketchKeras-pytorch/src/test.py -i /content/images/test_images/722.jpg -o /content/sketches/722.jpg -w sketchKeras-pytorch/weights/sketchKeras_pytorch.pth\n"
          ]
        },
        {
          "output_type": "stream",
          "name": "stderr",
          "text": [
            "\r 13%|█▎        | 93/700 [05:04<36:10,  3.58s/it]"
          ]
        },
        {
          "output_type": "stream",
          "name": "stdout",
          "text": [
            "Executing: python sketchKeras-pytorch/src/test.py -i /content/images/test_images/754.jpg -o /content/sketches/754.jpg -w sketchKeras-pytorch/weights/sketchKeras_pytorch.pth\n"
          ]
        },
        {
          "output_type": "stream",
          "name": "stderr",
          "text": [
            "\r 13%|█▎        | 94/700 [05:07<34:28,  3.41s/it]"
          ]
        },
        {
          "output_type": "stream",
          "name": "stdout",
          "text": [
            "Executing: python sketchKeras-pytorch/src/test.py -i /content/images/test_images/760.jpg -o /content/sketches/760.jpg -w sketchKeras-pytorch/weights/sketchKeras_pytorch.pth\n"
          ]
        },
        {
          "output_type": "stream",
          "name": "stderr",
          "text": [
            "\r 14%|█▎        | 95/700 [05:11<33:52,  3.36s/it]"
          ]
        },
        {
          "output_type": "stream",
          "name": "stdout",
          "text": [
            "Executing: python sketchKeras-pytorch/src/test.py -i /content/images/test_images/570.jpg -o /content/sketches/570.jpg -w sketchKeras-pytorch/weights/sketchKeras_pytorch.pth\n"
          ]
        },
        {
          "output_type": "stream",
          "name": "stderr",
          "text": [
            "\r 14%|█▎        | 96/700 [05:15<35:54,  3.57s/it]"
          ]
        },
        {
          "output_type": "stream",
          "name": "stdout",
          "text": [
            "Executing: python sketchKeras-pytorch/src/test.py -i /content/images/test_images/395.jpg -o /content/sketches/395.jpg -w sketchKeras-pytorch/weights/sketchKeras_pytorch.pth\n"
          ]
        },
        {
          "output_type": "stream",
          "name": "stderr",
          "text": [
            "\r 14%|█▍        | 97/700 [05:18<34:17,  3.41s/it]"
          ]
        },
        {
          "output_type": "stream",
          "name": "stdout",
          "text": [
            "Executing: python sketchKeras-pytorch/src/test.py -i /content/images/test_images/660.jpg -o /content/sketches/660.jpg -w sketchKeras-pytorch/weights/sketchKeras_pytorch.pth\n"
          ]
        },
        {
          "output_type": "stream",
          "name": "stderr",
          "text": [
            "\r 14%|█▍        | 98/700 [05:21<33:15,  3.31s/it]"
          ]
        },
        {
          "output_type": "stream",
          "name": "stdout",
          "text": [
            "Executing: python sketchKeras-pytorch/src/test.py -i /content/images/test_images/552.jpg -o /content/sketches/552.jpg -w sketchKeras-pytorch/weights/sketchKeras_pytorch.pth\n"
          ]
        },
        {
          "output_type": "stream",
          "name": "stderr",
          "text": [
            "\r 14%|█▍        | 99/700 [05:24<33:00,  3.30s/it]"
          ]
        },
        {
          "output_type": "stream",
          "name": "stdout",
          "text": [
            "Executing: python sketchKeras-pytorch/src/test.py -i /content/images/test_images/548.jpg -o /content/sketches/548.jpg -w sketchKeras-pytorch/weights/sketchKeras_pytorch.pth\n"
          ]
        },
        {
          "output_type": "stream",
          "name": "stderr",
          "text": [
            "\r 14%|█▍        | 100/700 [05:28<35:18,  3.53s/it]"
          ]
        },
        {
          "output_type": "stream",
          "name": "stdout",
          "text": [
            "Executing: python sketchKeras-pytorch/src/test.py -i /content/images/test_images/743.jpg -o /content/sketches/743.jpg -w sketchKeras-pytorch/weights/sketchKeras_pytorch.pth\n"
          ]
        },
        {
          "output_type": "stream",
          "name": "stderr",
          "text": [
            "\r 14%|█▍        | 101/700 [05:31<34:02,  3.41s/it]"
          ]
        },
        {
          "output_type": "stream",
          "name": "stdout",
          "text": [
            "Executing: python sketchKeras-pytorch/src/test.py -i /content/images/test_images/576.jpg -o /content/sketches/576.jpg -w sketchKeras-pytorch/weights/sketchKeras_pytorch.pth\n"
          ]
        },
        {
          "output_type": "stream",
          "name": "stderr",
          "text": [
            "\r 15%|█▍        | 102/700 [05:34<33:02,  3.32s/it]"
          ]
        },
        {
          "output_type": "stream",
          "name": "stdout",
          "text": [
            "Executing: python sketchKeras-pytorch/src/test.py -i /content/images/test_images/542.jpg -o /content/sketches/542.jpg -w sketchKeras-pytorch/weights/sketchKeras_pytorch.pth\n"
          ]
        },
        {
          "output_type": "stream",
          "name": "stderr",
          "text": [
            "\r 15%|█▍        | 103/700 [05:38<32:54,  3.31s/it]"
          ]
        },
        {
          "output_type": "stream",
          "name": "stdout",
          "text": [
            "Executing: python sketchKeras-pytorch/src/test.py -i /content/images/test_images/837.jpg -o /content/sketches/837.jpg -w sketchKeras-pytorch/weights/sketchKeras_pytorch.pth\n"
          ]
        },
        {
          "output_type": "stream",
          "name": "stderr",
          "text": [
            "\r 15%|█▍        | 104/700 [05:42<35:09,  3.54s/it]"
          ]
        },
        {
          "output_type": "stream",
          "name": "stdout",
          "text": [
            "Executing: python sketchKeras-pytorch/src/test.py -i /content/images/test_images/750.jpg -o /content/sketches/750.jpg -w sketchKeras-pytorch/weights/sketchKeras_pytorch.pth\n"
          ]
        },
        {
          "output_type": "stream",
          "name": "stderr",
          "text": [
            "\r 15%|█▌        | 105/700 [05:45<33:43,  3.40s/it]"
          ]
        },
        {
          "output_type": "stream",
          "name": "stdout",
          "text": [
            "Executing: python sketchKeras-pytorch/src/test.py -i /content/images/test_images/618.jpg -o /content/sketches/618.jpg -w sketchKeras-pytorch/weights/sketchKeras_pytorch.pth\n"
          ]
        },
        {
          "output_type": "stream",
          "name": "stderr",
          "text": [
            "\r 15%|█▌        | 106/700 [05:48<32:46,  3.31s/it]"
          ]
        },
        {
          "output_type": "stream",
          "name": "stdout",
          "text": [
            "Executing: python sketchKeras-pytorch/src/test.py -i /content/images/test_images/721.jpg -o /content/sketches/721.jpg -w sketchKeras-pytorch/weights/sketchKeras_pytorch.pth\n"
          ]
        },
        {
          "output_type": "stream",
          "name": "stderr",
          "text": [
            "\r 15%|█▌        | 107/700 [05:51<32:28,  3.29s/it]"
          ]
        },
        {
          "output_type": "stream",
          "name": "stdout",
          "text": [
            "Executing: python sketchKeras-pytorch/src/test.py -i /content/images/test_images/773.jpg -o /content/sketches/773.jpg -w sketchKeras-pytorch/weights/sketchKeras_pytorch.pth\n"
          ]
        },
        {
          "output_type": "stream",
          "name": "stderr",
          "text": [
            "\r 15%|█▌        | 108/700 [05:55<34:42,  3.52s/it]"
          ]
        },
        {
          "output_type": "stream",
          "name": "stdout",
          "text": [
            "Executing: python sketchKeras-pytorch/src/test.py -i /content/images/test_images/334.jpg -o /content/sketches/334.jpg -w sketchKeras-pytorch/weights/sketchKeras_pytorch.pth\n"
          ]
        },
        {
          "output_type": "stream",
          "name": "stderr",
          "text": [
            "\r 16%|█▌        | 109/700 [05:58<33:12,  3.37s/it]"
          ]
        },
        {
          "output_type": "stream",
          "name": "stdout",
          "text": [
            "Executing: python sketchKeras-pytorch/src/test.py -i /content/images/test_images/410.jpg -o /content/sketches/410.jpg -w sketchKeras-pytorch/weights/sketchKeras_pytorch.pth\n"
          ]
        },
        {
          "output_type": "stream",
          "name": "stderr",
          "text": [
            "\r 16%|█▌        | 110/700 [06:01<32:14,  3.28s/it]"
          ]
        },
        {
          "output_type": "stream",
          "name": "stdout",
          "text": [
            "Executing: python sketchKeras-pytorch/src/test.py -i /content/images/test_images/471.jpg -o /content/sketches/471.jpg -w sketchKeras-pytorch/weights/sketchKeras_pytorch.pth\n"
          ]
        },
        {
          "output_type": "stream",
          "name": "stderr",
          "text": [
            "\r 16%|█▌        | 111/700 [06:04<32:05,  3.27s/it]"
          ]
        },
        {
          "output_type": "stream",
          "name": "stdout",
          "text": [
            "Executing: python sketchKeras-pytorch/src/test.py -i /content/images/test_images/871.jpg -o /content/sketches/871.jpg -w sketchKeras-pytorch/weights/sketchKeras_pytorch.pth\n"
          ]
        },
        {
          "output_type": "stream",
          "name": "stderr",
          "text": [
            "\r 16%|█▌        | 112/700 [06:09<34:59,  3.57s/it]"
          ]
        },
        {
          "output_type": "stream",
          "name": "stdout",
          "text": [
            "Executing: python sketchKeras-pytorch/src/test.py -i /content/images/test_images/683.jpg -o /content/sketches/683.jpg -w sketchKeras-pytorch/weights/sketchKeras_pytorch.pth\n"
          ]
        },
        {
          "output_type": "stream",
          "name": "stderr",
          "text": [
            "\r 16%|█▌        | 113/700 [06:12<33:24,  3.42s/it]"
          ]
        },
        {
          "output_type": "stream",
          "name": "stdout",
          "text": [
            "Executing: python sketchKeras-pytorch/src/test.py -i /content/images/test_images/222.jpg -o /content/sketches/222.jpg -w sketchKeras-pytorch/weights/sketchKeras_pytorch.pth\n"
          ]
        },
        {
          "output_type": "stream",
          "name": "stderr",
          "text": [
            "\r 16%|█▋        | 114/700 [06:15<32:12,  3.30s/it]"
          ]
        },
        {
          "output_type": "stream",
          "name": "stdout",
          "text": [
            "Executing: python sketchKeras-pytorch/src/test.py -i /content/images/test_images/505.jpg -o /content/sketches/505.jpg -w sketchKeras-pytorch/weights/sketchKeras_pytorch.pth\n"
          ]
        },
        {
          "output_type": "stream",
          "name": "stderr",
          "text": [
            "\r 16%|█▋        | 115/700 [06:18<31:54,  3.27s/it]"
          ]
        },
        {
          "output_type": "stream",
          "name": "stdout",
          "text": [
            "Executing: python sketchKeras-pytorch/src/test.py -i /content/images/test_images/565.jpg -o /content/sketches/565.jpg -w sketchKeras-pytorch/weights/sketchKeras_pytorch.pth\n"
          ]
        },
        {
          "output_type": "stream",
          "name": "stderr",
          "text": [
            "\r 17%|█▋        | 116/700 [06:22<34:41,  3.56s/it]"
          ]
        },
        {
          "output_type": "stream",
          "name": "stdout",
          "text": [
            "Executing: python sketchKeras-pytorch/src/test.py -i /content/images/test_images/350.jpg -o /content/sketches/350.jpg -w sketchKeras-pytorch/weights/sketchKeras_pytorch.pth\n"
          ]
        },
        {
          "output_type": "stream",
          "name": "stderr",
          "text": [
            "\r 17%|█▋        | 117/700 [06:25<33:07,  3.41s/it]"
          ]
        },
        {
          "output_type": "stream",
          "name": "stdout",
          "text": [
            "Executing: python sketchKeras-pytorch/src/test.py -i /content/images/test_images/696.jpg -o /content/sketches/696.jpg -w sketchKeras-pytorch/weights/sketchKeras_pytorch.pth\n"
          ]
        },
        {
          "output_type": "stream",
          "name": "stderr",
          "text": [
            "\r 17%|█▋        | 118/700 [06:28<32:06,  3.31s/it]"
          ]
        },
        {
          "output_type": "stream",
          "name": "stdout",
          "text": [
            "Executing: python sketchKeras-pytorch/src/test.py -i /content/images/test_images/675.jpg -o /content/sketches/675.jpg -w sketchKeras-pytorch/weights/sketchKeras_pytorch.pth\n"
          ]
        },
        {
          "output_type": "stream",
          "name": "stderr",
          "text": [
            "\r 17%|█▋        | 119/700 [06:31<31:26,  3.25s/it]"
          ]
        },
        {
          "output_type": "stream",
          "name": "stdout",
          "text": [
            "Executing: python sketchKeras-pytorch/src/test.py -i /content/images/test_images/620.jpg -o /content/sketches/620.jpg -w sketchKeras-pytorch/weights/sketchKeras_pytorch.pth\n"
          ]
        },
        {
          "output_type": "stream",
          "name": "stderr",
          "text": [
            "\r 17%|█▋        | 120/700 [06:36<34:14,  3.54s/it]"
          ]
        },
        {
          "output_type": "stream",
          "name": "stdout",
          "text": [
            "Executing: python sketchKeras-pytorch/src/test.py -i /content/images/test_images/636.jpg -o /content/sketches/636.jpg -w sketchKeras-pytorch/weights/sketchKeras_pytorch.pth\n"
          ]
        },
        {
          "output_type": "stream",
          "name": "stderr",
          "text": [
            "\r 17%|█▋        | 121/700 [06:39<32:57,  3.42s/it]"
          ]
        },
        {
          "output_type": "stream",
          "name": "stdout",
          "text": [
            "Executing: python sketchKeras-pytorch/src/test.py -i /content/images/test_images/622.jpg -o /content/sketches/622.jpg -w sketchKeras-pytorch/weights/sketchKeras_pytorch.pth\n"
          ]
        },
        {
          "output_type": "stream",
          "name": "stderr",
          "text": [
            "\r 17%|█▋        | 122/700 [06:42<31:54,  3.31s/it]"
          ]
        },
        {
          "output_type": "stream",
          "name": "stdout",
          "text": [
            "Executing: python sketchKeras-pytorch/src/test.py -i /content/images/test_images/609.jpg -o /content/sketches/609.jpg -w sketchKeras-pytorch/weights/sketchKeras_pytorch.pth\n"
          ]
        },
        {
          "output_type": "stream",
          "name": "stderr",
          "text": [
            "\r 18%|█▊        | 123/700 [06:45<31:04,  3.23s/it]"
          ]
        },
        {
          "output_type": "stream",
          "name": "stdout",
          "text": [
            "Executing: python sketchKeras-pytorch/src/test.py -i /content/images/test_images/306.jpg -o /content/sketches/306.jpg -w sketchKeras-pytorch/weights/sketchKeras_pytorch.pth\n"
          ]
        },
        {
          "output_type": "stream",
          "name": "stderr",
          "text": [
            "\r 18%|█▊        | 124/700 [06:49<33:58,  3.54s/it]"
          ]
        },
        {
          "output_type": "stream",
          "name": "stdout",
          "text": [
            "Executing: python sketchKeras-pytorch/src/test.py -i /content/images/test_images/437.jpg -o /content/sketches/437.jpg -w sketchKeras-pytorch/weights/sketchKeras_pytorch.pth\n"
          ]
        },
        {
          "output_type": "stream",
          "name": "stderr",
          "text": [
            "\r 18%|█▊        | 125/700 [06:52<32:43,  3.41s/it]"
          ]
        },
        {
          "output_type": "stream",
          "name": "stdout",
          "text": [
            "Executing: python sketchKeras-pytorch/src/test.py -i /content/images/test_images/702.jpg -o /content/sketches/702.jpg -w sketchKeras-pytorch/weights/sketchKeras_pytorch.pth\n"
          ]
        },
        {
          "output_type": "stream",
          "name": "stderr",
          "text": [
            "\r 18%|█▊        | 126/700 [06:55<31:38,  3.31s/it]"
          ]
        },
        {
          "output_type": "stream",
          "name": "stdout",
          "text": [
            "Executing: python sketchKeras-pytorch/src/test.py -i /content/images/test_images/196.jpg -o /content/sketches/196.jpg -w sketchKeras-pytorch/weights/sketchKeras_pytorch.pth\n"
          ]
        },
        {
          "output_type": "stream",
          "name": "stderr",
          "text": [
            "\r 18%|█▊        | 127/700 [06:58<30:58,  3.24s/it]"
          ]
        },
        {
          "output_type": "stream",
          "name": "stdout",
          "text": [
            "Executing: python sketchKeras-pytorch/src/test.py -i /content/images/test_images/393.jpg -o /content/sketches/393.jpg -w sketchKeras-pytorch/weights/sketchKeras_pytorch.pth\n"
          ]
        },
        {
          "output_type": "stream",
          "name": "stderr",
          "text": [
            "\r 18%|█▊        | 128/700 [07:03<33:29,  3.51s/it]"
          ]
        },
        {
          "output_type": "stream",
          "name": "stdout",
          "text": [
            "Executing: python sketchKeras-pytorch/src/test.py -i /content/images/test_images/753.jpg -o /content/sketches/753.jpg -w sketchKeras-pytorch/weights/sketchKeras_pytorch.pth\n"
          ]
        },
        {
          "output_type": "stream",
          "name": "stderr",
          "text": [
            "\r 18%|█▊        | 129/700 [07:06<32:23,  3.40s/it]"
          ]
        },
        {
          "output_type": "stream",
          "name": "stdout",
          "text": [
            "Executing: python sketchKeras-pytorch/src/test.py -i /content/images/test_images/301.jpg -o /content/sketches/301.jpg -w sketchKeras-pytorch/weights/sketchKeras_pytorch.pth\n"
          ]
        },
        {
          "output_type": "stream",
          "name": "stderr",
          "text": [
            "\r 19%|█▊        | 130/700 [07:09<31:25,  3.31s/it]"
          ]
        },
        {
          "output_type": "stream",
          "name": "stdout",
          "text": [
            "Executing: python sketchKeras-pytorch/src/test.py -i /content/images/test_images/353.jpg -o /content/sketches/353.jpg -w sketchKeras-pytorch/weights/sketchKeras_pytorch.pth\n"
          ]
        },
        {
          "output_type": "stream",
          "name": "stderr",
          "text": [
            "\r 19%|█▊        | 131/700 [07:12<30:53,  3.26s/it]"
          ]
        },
        {
          "output_type": "stream",
          "name": "stdout",
          "text": [
            "Executing: python sketchKeras-pytorch/src/test.py -i /content/images/test_images/822.jpg -o /content/sketches/822.jpg -w sketchKeras-pytorch/weights/sketchKeras_pytorch.pth\n"
          ]
        },
        {
          "output_type": "stream",
          "name": "stderr",
          "text": [
            "\r 19%|█▉        | 132/700 [07:16<33:14,  3.51s/it]"
          ]
        },
        {
          "output_type": "stream",
          "name": "stdout",
          "text": [
            "Executing: python sketchKeras-pytorch/src/test.py -i /content/images/test_images/281.jpg -o /content/sketches/281.jpg -w sketchKeras-pytorch/weights/sketchKeras_pytorch.pth\n"
          ]
        },
        {
          "output_type": "stream",
          "name": "stderr",
          "text": [
            "\r 19%|█▉        | 133/700 [07:19<32:19,  3.42s/it]"
          ]
        },
        {
          "output_type": "stream",
          "name": "stdout",
          "text": [
            "Executing: python sketchKeras-pytorch/src/test.py -i /content/images/test_images/231.jpg -o /content/sketches/231.jpg -w sketchKeras-pytorch/weights/sketchKeras_pytorch.pth\n"
          ]
        },
        {
          "output_type": "stream",
          "name": "stderr",
          "text": [
            "\r 19%|█▉        | 134/700 [07:22<31:25,  3.33s/it]"
          ]
        },
        {
          "output_type": "stream",
          "name": "stdout",
          "text": [
            "Executing: python sketchKeras-pytorch/src/test.py -i /content/images/test_images/540.jpg -o /content/sketches/540.jpg -w sketchKeras-pytorch/weights/sketchKeras_pytorch.pth\n"
          ]
        },
        {
          "output_type": "stream",
          "name": "stderr",
          "text": [
            "\r 19%|█▉        | 135/700 [07:25<30:35,  3.25s/it]"
          ]
        },
        {
          "output_type": "stream",
          "name": "stdout",
          "text": [
            "Executing: python sketchKeras-pytorch/src/test.py -i /content/images/test_images/268.jpg -o /content/sketches/268.jpg -w sketchKeras-pytorch/weights/sketchKeras_pytorch.pth\n"
          ]
        },
        {
          "output_type": "stream",
          "name": "stderr",
          "text": [
            "\r 19%|█▉        | 136/700 [07:30<32:44,  3.48s/it]"
          ]
        },
        {
          "output_type": "stream",
          "name": "stdout",
          "text": [
            "Executing: python sketchKeras-pytorch/src/test.py -i /content/images/test_images/686.jpg -o /content/sketches/686.jpg -w sketchKeras-pytorch/weights/sketchKeras_pytorch.pth\n"
          ]
        },
        {
          "output_type": "stream",
          "name": "stderr",
          "text": [
            "\r 20%|█▉        | 137/700 [07:33<32:23,  3.45s/it]"
          ]
        },
        {
          "output_type": "stream",
          "name": "stdout",
          "text": [
            "Executing: python sketchKeras-pytorch/src/test.py -i /content/images/test_images/506.jpg -o /content/sketches/506.jpg -w sketchKeras-pytorch/weights/sketchKeras_pytorch.pth\n"
          ]
        },
        {
          "output_type": "stream",
          "name": "stderr",
          "text": [
            "\r 20%|█▉        | 138/700 [07:36<31:14,  3.34s/it]"
          ]
        },
        {
          "output_type": "stream",
          "name": "stdout",
          "text": [
            "Executing: python sketchKeras-pytorch/src/test.py -i /content/images/test_images/692.jpg -o /content/sketches/692.jpg -w sketchKeras-pytorch/weights/sketchKeras_pytorch.pth\n"
          ]
        },
        {
          "output_type": "stream",
          "name": "stderr",
          "text": [
            "\r 20%|█▉        | 139/700 [07:39<30:35,  3.27s/it]"
          ]
        },
        {
          "output_type": "stream",
          "name": "stdout",
          "text": [
            "Executing: python sketchKeras-pytorch/src/test.py -i /content/images/test_images/593.jpg -o /content/sketches/593.jpg -w sketchKeras-pytorch/weights/sketchKeras_pytorch.pth\n"
          ]
        },
        {
          "output_type": "stream",
          "name": "stderr",
          "text": [
            "\r 20%|██        | 140/700 [07:43<32:00,  3.43s/it]"
          ]
        },
        {
          "output_type": "stream",
          "name": "stdout",
          "text": [
            "Executing: python sketchKeras-pytorch/src/test.py -i /content/images/test_images/581.jpg -o /content/sketches/581.jpg -w sketchKeras-pytorch/weights/sketchKeras_pytorch.pth\n"
          ]
        },
        {
          "output_type": "stream",
          "name": "stderr",
          "text": [
            "\r 20%|██        | 141/700 [07:46<32:10,  3.45s/it]"
          ]
        },
        {
          "output_type": "stream",
          "name": "stdout",
          "text": [
            "Executing: python sketchKeras-pytorch/src/test.py -i /content/images/test_images/197.jpg -o /content/sketches/197.jpg -w sketchKeras-pytorch/weights/sketchKeras_pytorch.pth\n"
          ]
        },
        {
          "output_type": "stream",
          "name": "stderr",
          "text": [
            "\r 20%|██        | 142/700 [07:49<31:02,  3.34s/it]"
          ]
        },
        {
          "output_type": "stream",
          "name": "stdout",
          "text": [
            "Executing: python sketchKeras-pytorch/src/test.py -i /content/images/test_images/580.jpg -o /content/sketches/580.jpg -w sketchKeras-pytorch/weights/sketchKeras_pytorch.pth\n"
          ]
        },
        {
          "output_type": "stream",
          "name": "stderr",
          "text": [
            "\r 20%|██        | 143/700 [07:53<30:26,  3.28s/it]"
          ]
        },
        {
          "output_type": "stream",
          "name": "stdout",
          "text": [
            "Executing: python sketchKeras-pytorch/src/test.py -i /content/images/test_images/655.jpg -o /content/sketches/655.jpg -w sketchKeras-pytorch/weights/sketchKeras_pytorch.pth\n"
          ]
        },
        {
          "output_type": "stream",
          "name": "stderr",
          "text": [
            "\r 21%|██        | 144/700 [07:56<31:42,  3.42s/it]"
          ]
        },
        {
          "output_type": "stream",
          "name": "stdout",
          "text": [
            "Executing: python sketchKeras-pytorch/src/test.py -i /content/images/test_images/728.jpg -o /content/sketches/728.jpg -w sketchKeras-pytorch/weights/sketchKeras_pytorch.pth\n"
          ]
        },
        {
          "output_type": "stream",
          "name": "stderr",
          "text": [
            "\r 21%|██        | 145/700 [08:00<31:54,  3.45s/it]"
          ]
        },
        {
          "output_type": "stream",
          "name": "stdout",
          "text": [
            "Executing: python sketchKeras-pytorch/src/test.py -i /content/images/test_images/536.jpg -o /content/sketches/536.jpg -w sketchKeras-pytorch/weights/sketchKeras_pytorch.pth\n"
          ]
        },
        {
          "output_type": "stream",
          "name": "stderr",
          "text": [
            "\r 21%|██        | 146/700 [08:03<30:42,  3.33s/it]"
          ]
        },
        {
          "output_type": "stream",
          "name": "stdout",
          "text": [
            "Executing: python sketchKeras-pytorch/src/test.py -i /content/images/test_images/595.jpg -o /content/sketches/595.jpg -w sketchKeras-pytorch/weights/sketchKeras_pytorch.pth\n"
          ]
        },
        {
          "output_type": "stream",
          "name": "stderr",
          "text": [
            "\r 21%|██        | 147/700 [08:06<29:57,  3.25s/it]"
          ]
        },
        {
          "output_type": "stream",
          "name": "stdout",
          "text": [
            "Executing: python sketchKeras-pytorch/src/test.py -i /content/images/test_images/284.jpg -o /content/sketches/284.jpg -w sketchKeras-pytorch/weights/sketchKeras_pytorch.pth\n"
          ]
        },
        {
          "output_type": "stream",
          "name": "stderr",
          "text": [
            "\r 21%|██        | 148/700 [08:10<30:42,  3.34s/it]"
          ]
        },
        {
          "output_type": "stream",
          "name": "stdout",
          "text": [
            "Executing: python sketchKeras-pytorch/src/test.py -i /content/images/test_images/867.jpg -o /content/sketches/867.jpg -w sketchKeras-pytorch/weights/sketchKeras_pytorch.pth\n"
          ]
        },
        {
          "output_type": "stream",
          "name": "stderr",
          "text": [
            "\r 21%|██▏       | 149/700 [08:13<31:46,  3.46s/it]"
          ]
        },
        {
          "output_type": "stream",
          "name": "stdout",
          "text": [
            "Executing: python sketchKeras-pytorch/src/test.py -i /content/images/test_images/734.jpg -o /content/sketches/734.jpg -w sketchKeras-pytorch/weights/sketchKeras_pytorch.pth\n"
          ]
        },
        {
          "output_type": "stream",
          "name": "stderr",
          "text": [
            "\r 21%|██▏       | 150/700 [08:16<30:39,  3.34s/it]"
          ]
        },
        {
          "output_type": "stream",
          "name": "stdout",
          "text": [
            "Executing: python sketchKeras-pytorch/src/test.py -i /content/images/test_images/881.jpg -o /content/sketches/881.jpg -w sketchKeras-pytorch/weights/sketchKeras_pytorch.pth\n"
          ]
        },
        {
          "output_type": "stream",
          "name": "stderr",
          "text": [
            "\r 22%|██▏       | 151/700 [08:19<30:03,  3.28s/it]"
          ]
        },
        {
          "output_type": "stream",
          "name": "stdout",
          "text": [
            "Executing: python sketchKeras-pytorch/src/test.py -i /content/images/test_images/277.jpg -o /content/sketches/277.jpg -w sketchKeras-pytorch/weights/sketchKeras_pytorch.pth\n"
          ]
        },
        {
          "output_type": "stream",
          "name": "stderr",
          "text": [
            "\r 22%|██▏       | 152/700 [08:23<30:37,  3.35s/it]"
          ]
        },
        {
          "output_type": "stream",
          "name": "stdout",
          "text": [
            "Executing: python sketchKeras-pytorch/src/test.py -i /content/images/test_images/546.jpg -o /content/sketches/546.jpg -w sketchKeras-pytorch/weights/sketchKeras_pytorch.pth\n"
          ]
        },
        {
          "output_type": "stream",
          "name": "stderr",
          "text": [
            "\r 22%|██▏       | 153/700 [08:27<31:36,  3.47s/it]"
          ]
        },
        {
          "output_type": "stream",
          "name": "stdout",
          "text": [
            "Executing: python sketchKeras-pytorch/src/test.py -i /content/images/test_images/613.jpg -o /content/sketches/613.jpg -w sketchKeras-pytorch/weights/sketchKeras_pytorch.pth\n"
          ]
        },
        {
          "output_type": "stream",
          "name": "stderr",
          "text": [
            "\r 22%|██▏       | 154/700 [08:30<30:30,  3.35s/it]"
          ]
        },
        {
          "output_type": "stream",
          "name": "stdout",
          "text": [
            "Executing: python sketchKeras-pytorch/src/test.py -i /content/images/test_images/550.jpg -o /content/sketches/550.jpg -w sketchKeras-pytorch/weights/sketchKeras_pytorch.pth\n"
          ]
        },
        {
          "output_type": "stream",
          "name": "stderr",
          "text": [
            "\r 22%|██▏       | 155/700 [08:33<29:35,  3.26s/it]"
          ]
        },
        {
          "output_type": "stream",
          "name": "stdout",
          "text": [
            "Executing: python sketchKeras-pytorch/src/test.py -i /content/images/test_images/749.jpg -o /content/sketches/749.jpg -w sketchKeras-pytorch/weights/sketchKeras_pytorch.pth\n"
          ]
        },
        {
          "output_type": "stream",
          "name": "stderr",
          "text": [
            "\r 22%|██▏       | 156/700 [08:36<29:55,  3.30s/it]"
          ]
        },
        {
          "output_type": "stream",
          "name": "stdout",
          "text": [
            "Executing: python sketchKeras-pytorch/src/test.py -i /content/images/test_images/878.jpg -o /content/sketches/878.jpg -w sketchKeras-pytorch/weights/sketchKeras_pytorch.pth\n"
          ]
        },
        {
          "output_type": "stream",
          "name": "stderr",
          "text": [
            "\r 22%|██▏       | 157/700 [08:40<31:10,  3.44s/it]"
          ]
        },
        {
          "output_type": "stream",
          "name": "stdout",
          "text": [
            "Executing: python sketchKeras-pytorch/src/test.py -i /content/images/test_images/249.jpg -o /content/sketches/249.jpg -w sketchKeras-pytorch/weights/sketchKeras_pytorch.pth\n"
          ]
        },
        {
          "output_type": "stream",
          "name": "stderr",
          "text": [
            "\r 23%|██▎       | 158/700 [08:43<30:02,  3.33s/it]"
          ]
        },
        {
          "output_type": "stream",
          "name": "stdout",
          "text": [
            "Executing: python sketchKeras-pytorch/src/test.py -i /content/images/test_images/672.jpg -o /content/sketches/672.jpg -w sketchKeras-pytorch/weights/sketchKeras_pytorch.pth\n"
          ]
        },
        {
          "output_type": "stream",
          "name": "stderr",
          "text": [
            "\r 23%|██▎       | 159/700 [08:46<29:09,  3.23s/it]"
          ]
        },
        {
          "output_type": "stream",
          "name": "stdout",
          "text": [
            "Executing: python sketchKeras-pytorch/src/test.py -i /content/images/test_images/308.jpg -o /content/sketches/308.jpg -w sketchKeras-pytorch/weights/sketchKeras_pytorch.pth\n"
          ]
        },
        {
          "output_type": "stream",
          "name": "stderr",
          "text": [
            "\r 23%|██▎       | 160/700 [08:49<29:23,  3.27s/it]"
          ]
        },
        {
          "output_type": "stream",
          "name": "stdout",
          "text": [
            "Executing: python sketchKeras-pytorch/src/test.py -i /content/images/test_images/863.jpg -o /content/sketches/863.jpg -w sketchKeras-pytorch/weights/sketchKeras_pytorch.pth\n"
          ]
        },
        {
          "output_type": "stream",
          "name": "stderr",
          "text": [
            "\r 23%|██▎       | 161/700 [08:53<31:14,  3.48s/it]"
          ]
        },
        {
          "output_type": "stream",
          "name": "stdout",
          "text": [
            "Executing: python sketchKeras-pytorch/src/test.py -i /content/images/test_images/328.jpg -o /content/sketches/328.jpg -w sketchKeras-pytorch/weights/sketchKeras_pytorch.pth\n"
          ]
        },
        {
          "output_type": "stream",
          "name": "stderr",
          "text": [
            "\r 23%|██▎       | 162/700 [08:57<30:09,  3.36s/it]"
          ]
        },
        {
          "output_type": "stream",
          "name": "stdout",
          "text": [
            "Executing: python sketchKeras-pytorch/src/test.py -i /content/images/test_images/586.jpg -o /content/sketches/586.jpg -w sketchKeras-pytorch/weights/sketchKeras_pytorch.pth\n"
          ]
        },
        {
          "output_type": "stream",
          "name": "stderr",
          "text": [
            "\r 23%|██▎       | 163/700 [09:00<29:15,  3.27s/it]"
          ]
        },
        {
          "output_type": "stream",
          "name": "stdout",
          "text": [
            "Executing: python sketchKeras-pytorch/src/test.py -i /content/images/test_images/242.jpg -o /content/sketches/242.jpg -w sketchKeras-pytorch/weights/sketchKeras_pytorch.pth\n"
          ]
        },
        {
          "output_type": "stream",
          "name": "stderr",
          "text": [
            "\r 23%|██▎       | 164/700 [09:03<29:07,  3.26s/it]"
          ]
        },
        {
          "output_type": "stream",
          "name": "stdout",
          "text": [
            "Executing: python sketchKeras-pytorch/src/test.py -i /content/images/test_images/646.jpg -o /content/sketches/646.jpg -w sketchKeras-pytorch/weights/sketchKeras_pytorch.pth\n"
          ]
        },
        {
          "output_type": "stream",
          "name": "stderr",
          "text": [
            "\r 24%|██▎       | 165/700 [09:07<31:05,  3.49s/it]"
          ]
        },
        {
          "output_type": "stream",
          "name": "stdout",
          "text": [
            "Executing: python sketchKeras-pytorch/src/test.py -i /content/images/test_images/377.jpg -o /content/sketches/377.jpg -w sketchKeras-pytorch/weights/sketchKeras_pytorch.pth\n"
          ]
        },
        {
          "output_type": "stream",
          "name": "stderr",
          "text": [
            "\r 24%|██▎       | 166/700 [09:10<29:56,  3.36s/it]"
          ]
        },
        {
          "output_type": "stream",
          "name": "stdout",
          "text": [
            "Executing: python sketchKeras-pytorch/src/test.py -i /content/images/test_images/557.jpg -o /content/sketches/557.jpg -w sketchKeras-pytorch/weights/sketchKeras_pytorch.pth\n"
          ]
        },
        {
          "output_type": "stream",
          "name": "stderr",
          "text": [
            "\r 24%|██▍       | 167/700 [09:13<29:06,  3.28s/it]"
          ]
        },
        {
          "output_type": "stream",
          "name": "stdout",
          "text": [
            "Executing: python sketchKeras-pytorch/src/test.py -i /content/images/test_images/480.jpg -o /content/sketches/480.jpg -w sketchKeras-pytorch/weights/sketchKeras_pytorch.pth\n"
          ]
        },
        {
          "output_type": "stream",
          "name": "stderr",
          "text": [
            "\r 24%|██▍       | 168/700 [09:16<28:52,  3.26s/it]"
          ]
        },
        {
          "output_type": "stream",
          "name": "stdout",
          "text": [
            "Executing: python sketchKeras-pytorch/src/test.py -i /content/images/test_images/224.jpg -o /content/sketches/224.jpg -w sketchKeras-pytorch/weights/sketchKeras_pytorch.pth\n"
          ]
        },
        {
          "output_type": "stream",
          "name": "stderr",
          "text": [
            "\r 24%|██▍       | 169/700 [09:20<30:58,  3.50s/it]"
          ]
        },
        {
          "output_type": "stream",
          "name": "stdout",
          "text": [
            "Executing: python sketchKeras-pytorch/src/test.py -i /content/images/test_images/628.jpg -o /content/sketches/628.jpg -w sketchKeras-pytorch/weights/sketchKeras_pytorch.pth\n"
          ]
        },
        {
          "output_type": "stream",
          "name": "stderr",
          "text": [
            "\r 24%|██▍       | 170/700 [09:23<29:40,  3.36s/it]"
          ]
        },
        {
          "output_type": "stream",
          "name": "stdout",
          "text": [
            "Executing: python sketchKeras-pytorch/src/test.py -i /content/images/test_images/771.jpg -o /content/sketches/771.jpg -w sketchKeras-pytorch/weights/sketchKeras_pytorch.pth\n"
          ]
        },
        {
          "output_type": "stream",
          "name": "stderr",
          "text": [
            "\r 24%|██▍       | 171/700 [09:26<28:52,  3.28s/it]"
          ]
        },
        {
          "output_type": "stream",
          "name": "stdout",
          "text": [
            "Executing: python sketchKeras-pytorch/src/test.py -i /content/images/test_images/602.jpg -o /content/sketches/602.jpg -w sketchKeras-pytorch/weights/sketchKeras_pytorch.pth\n"
          ]
        },
        {
          "output_type": "stream",
          "name": "stderr",
          "text": [
            "\r 25%|██▍       | 172/700 [09:30<28:48,  3.27s/it]"
          ]
        },
        {
          "output_type": "stream",
          "name": "stdout",
          "text": [
            "Executing: python sketchKeras-pytorch/src/test.py -i /content/images/test_images/408.jpg -o /content/sketches/408.jpg -w sketchKeras-pytorch/weights/sketchKeras_pytorch.pth\n"
          ]
        },
        {
          "output_type": "stream",
          "name": "stderr",
          "text": [
            "\r 25%|██▍       | 173/700 [09:34<30:48,  3.51s/it]"
          ]
        },
        {
          "output_type": "stream",
          "name": "stdout",
          "text": [
            "Executing: python sketchKeras-pytorch/src/test.py -i /content/images/test_images/849.jpg -o /content/sketches/849.jpg -w sketchKeras-pytorch/weights/sketchKeras_pytorch.pth\n"
          ]
        },
        {
          "output_type": "stream",
          "name": "stderr",
          "text": [
            "\r 25%|██▍       | 174/700 [09:37<29:28,  3.36s/it]"
          ]
        },
        {
          "output_type": "stream",
          "name": "stdout",
          "text": [
            "Executing: python sketchKeras-pytorch/src/test.py -i /content/images/test_images/469.jpg -o /content/sketches/469.jpg -w sketchKeras-pytorch/weights/sketchKeras_pytorch.pth\n"
          ]
        },
        {
          "output_type": "stream",
          "name": "stderr",
          "text": [
            "\r 25%|██▌       | 175/700 [09:40<28:28,  3.26s/it]"
          ]
        },
        {
          "output_type": "stream",
          "name": "stdout",
          "text": [
            "Executing: python sketchKeras-pytorch/src/test.py -i /content/images/test_images/238.jpg -o /content/sketches/238.jpg -w sketchKeras-pytorch/weights/sketchKeras_pytorch.pth\n"
          ]
        },
        {
          "output_type": "stream",
          "name": "stderr",
          "text": [
            "\r 25%|██▌       | 176/700 [09:43<28:04,  3.22s/it]"
          ]
        },
        {
          "output_type": "stream",
          "name": "stdout",
          "text": [
            "Executing: python sketchKeras-pytorch/src/test.py -i /content/images/test_images/262.jpg -o /content/sketches/262.jpg -w sketchKeras-pytorch/weights/sketchKeras_pytorch.pth\n"
          ]
        },
        {
          "output_type": "stream",
          "name": "stderr",
          "text": [
            "\r 25%|██▌       | 177/700 [09:47<30:23,  3.49s/it]"
          ]
        },
        {
          "output_type": "stream",
          "name": "stdout",
          "text": [
            "Executing: python sketchKeras-pytorch/src/test.py -i /content/images/test_images/765.jpg -o /content/sketches/765.jpg -w sketchKeras-pytorch/weights/sketchKeras_pytorch.pth\n"
          ]
        },
        {
          "output_type": "stream",
          "name": "stderr",
          "text": [
            "\r 25%|██▌       | 178/700 [09:50<29:11,  3.35s/it]"
          ]
        },
        {
          "output_type": "stream",
          "name": "stdout",
          "text": [
            "Executing: python sketchKeras-pytorch/src/test.py -i /content/images/test_images/819.jpg -o /content/sketches/819.jpg -w sketchKeras-pytorch/weights/sketchKeras_pytorch.pth\n"
          ]
        },
        {
          "output_type": "stream",
          "name": "stderr",
          "text": [
            "\r 26%|██▌       | 179/700 [09:53<28:14,  3.25s/it]"
          ]
        },
        {
          "output_type": "stream",
          "name": "stdout",
          "text": [
            "Executing: python sketchKeras-pytorch/src/test.py -i /content/images/test_images/447.jpg -o /content/sketches/447.jpg -w sketchKeras-pytorch/weights/sketchKeras_pytorch.pth\n"
          ]
        },
        {
          "output_type": "stream",
          "name": "stderr",
          "text": [
            "\r 26%|██▌       | 180/700 [09:56<28:02,  3.23s/it]"
          ]
        },
        {
          "output_type": "stream",
          "name": "stdout",
          "text": [
            "Executing: python sketchKeras-pytorch/src/test.py -i /content/images/test_images/616.jpg -o /content/sketches/616.jpg -w sketchKeras-pytorch/weights/sketchKeras_pytorch.pth\n"
          ]
        },
        {
          "output_type": "stream",
          "name": "stderr",
          "text": [
            "\r 26%|██▌       | 181/700 [10:00<30:25,  3.52s/it]"
          ]
        },
        {
          "output_type": "stream",
          "name": "stdout",
          "text": [
            "Executing: python sketchKeras-pytorch/src/test.py -i /content/images/test_images/436.jpg -o /content/sketches/436.jpg -w sketchKeras-pytorch/weights/sketchKeras_pytorch.pth\n"
          ]
        },
        {
          "output_type": "stream",
          "name": "stderr",
          "text": [
            "\r 26%|██▌       | 182/700 [10:03<29:07,  3.37s/it]"
          ]
        },
        {
          "output_type": "stream",
          "name": "stdout",
          "text": [
            "Executing: python sketchKeras-pytorch/src/test.py -i /content/images/test_images/738.jpg -o /content/sketches/738.jpg -w sketchKeras-pytorch/weights/sketchKeras_pytorch.pth\n"
          ]
        },
        {
          "output_type": "stream",
          "name": "stderr",
          "text": [
            "\r 26%|██▌       | 183/700 [10:06<28:12,  3.27s/it]"
          ]
        },
        {
          "output_type": "stream",
          "name": "stdout",
          "text": [
            "Executing: python sketchKeras-pytorch/src/test.py -i /content/images/test_images/625.jpg -o /content/sketches/625.jpg -w sketchKeras-pytorch/weights/sketchKeras_pytorch.pth\n"
          ]
        },
        {
          "output_type": "stream",
          "name": "stderr",
          "text": [
            "\r 26%|██▋       | 184/700 [10:10<27:35,  3.21s/it]"
          ]
        },
        {
          "output_type": "stream",
          "name": "stdout",
          "text": [
            "Executing: python sketchKeras-pytorch/src/test.py -i /content/images/test_images/394.jpg -o /content/sketches/394.jpg -w sketchKeras-pytorch/weights/sketchKeras_pytorch.pth\n"
          ]
        },
        {
          "output_type": "stream",
          "name": "stderr",
          "text": [
            "\r 26%|██▋       | 185/700 [10:14<31:52,  3.71s/it]"
          ]
        },
        {
          "output_type": "stream",
          "name": "stdout",
          "text": [
            "Executing: python sketchKeras-pytorch/src/test.py -i /content/images/test_images/213.jpg -o /content/sketches/213.jpg -w sketchKeras-pytorch/weights/sketchKeras_pytorch.pth\n"
          ]
        },
        {
          "output_type": "stream",
          "name": "stderr",
          "text": [
            "\r 27%|██▋       | 186/700 [10:18<32:07,  3.75s/it]"
          ]
        },
        {
          "output_type": "stream",
          "name": "stdout",
          "text": [
            "Executing: python sketchKeras-pytorch/src/test.py -i /content/images/test_images/744.jpg -o /content/sketches/744.jpg -w sketchKeras-pytorch/weights/sketchKeras_pytorch.pth\n"
          ]
        },
        {
          "output_type": "stream",
          "name": "stderr",
          "text": [
            "\r 27%|██▋       | 187/700 [10:21<30:13,  3.53s/it]"
          ]
        },
        {
          "output_type": "stream",
          "name": "stdout",
          "text": [
            "Executing: python sketchKeras-pytorch/src/test.py -i /content/images/test_images/700.jpg -o /content/sketches/700.jpg -w sketchKeras-pytorch/weights/sketchKeras_pytorch.pth\n"
          ]
        },
        {
          "output_type": "stream",
          "name": "stderr",
          "text": [
            "\r 27%|██▋       | 188/700 [10:24<28:54,  3.39s/it]"
          ]
        },
        {
          "output_type": "stream",
          "name": "stdout",
          "text": [
            "Executing: python sketchKeras-pytorch/src/test.py -i /content/images/test_images/524.jpg -o /content/sketches/524.jpg -w sketchKeras-pytorch/weights/sketchKeras_pytorch.pth\n"
          ]
        },
        {
          "output_type": "stream",
          "name": "stderr",
          "text": [
            "\r 27%|██▋       | 189/700 [10:28<30:19,  3.56s/it]"
          ]
        },
        {
          "output_type": "stream",
          "name": "stdout",
          "text": [
            "Executing: python sketchKeras-pytorch/src/test.py -i /content/images/test_images/511.jpg -o /content/sketches/511.jpg -w sketchKeras-pytorch/weights/sketchKeras_pytorch.pth\n"
          ]
        },
        {
          "output_type": "stream",
          "name": "stderr",
          "text": [
            "\r 27%|██▋       | 190/700 [10:32<29:24,  3.46s/it]"
          ]
        },
        {
          "output_type": "stream",
          "name": "stdout",
          "text": [
            "Executing: python sketchKeras-pytorch/src/test.py -i /content/images/test_images/706.jpg -o /content/sketches/706.jpg -w sketchKeras-pytorch/weights/sketchKeras_pytorch.pth\n"
          ]
        },
        {
          "output_type": "stream",
          "name": "stderr",
          "text": [
            "\r 27%|██▋       | 191/700 [10:35<28:17,  3.33s/it]"
          ]
        },
        {
          "output_type": "stream",
          "name": "stdout",
          "text": [
            "Executing: python sketchKeras-pytorch/src/test.py -i /content/images/test_images/599.jpg -o /content/sketches/599.jpg -w sketchKeras-pytorch/weights/sketchKeras_pytorch.pth\n"
          ]
        },
        {
          "output_type": "stream",
          "name": "stderr",
          "text": [
            "\r 27%|██▋       | 192/700 [10:38<27:40,  3.27s/it]"
          ]
        },
        {
          "output_type": "stream",
          "name": "stdout",
          "text": [
            "Executing: python sketchKeras-pytorch/src/test.py -i /content/images/test_images/742.jpg -o /content/sketches/742.jpg -w sketchKeras-pytorch/weights/sketchKeras_pytorch.pth\n"
          ]
        },
        {
          "output_type": "stream",
          "name": "stderr",
          "text": [
            "\r 28%|██▊       | 193/700 [10:41<29:01,  3.44s/it]"
          ]
        },
        {
          "output_type": "stream",
          "name": "stdout",
          "text": [
            "Executing: python sketchKeras-pytorch/src/test.py -i /content/images/test_images/657.jpg -o /content/sketches/657.jpg -w sketchKeras-pytorch/weights/sketchKeras_pytorch.pth\n"
          ]
        },
        {
          "output_type": "stream",
          "name": "stderr",
          "text": [
            "\r 28%|██▊       | 194/700 [10:45<28:39,  3.40s/it]"
          ]
        },
        {
          "output_type": "stream",
          "name": "stdout",
          "text": [
            "Executing: python sketchKeras-pytorch/src/test.py -i /content/images/test_images/875.jpg -o /content/sketches/875.jpg -w sketchKeras-pytorch/weights/sketchKeras_pytorch.pth\n"
          ]
        },
        {
          "output_type": "stream",
          "name": "stderr",
          "text": [
            "\r 28%|██▊       | 195/700 [10:48<27:49,  3.31s/it]"
          ]
        },
        {
          "output_type": "stream",
          "name": "stdout",
          "text": [
            "Executing: python sketchKeras-pytorch/src/test.py -i /content/images/test_images/855.jpg -o /content/sketches/855.jpg -w sketchKeras-pytorch/weights/sketchKeras_pytorch.pth\n"
          ]
        },
        {
          "output_type": "stream",
          "name": "stderr",
          "text": [
            "\r 28%|██▊       | 196/700 [10:51<27:10,  3.24s/it]"
          ]
        },
        {
          "output_type": "stream",
          "name": "stdout",
          "text": [
            "Executing: python sketchKeras-pytorch/src/test.py -i /content/images/test_images/217.jpg -o /content/sketches/217.jpg -w sketchKeras-pytorch/weights/sketchKeras_pytorch.pth\n"
          ]
        },
        {
          "output_type": "stream",
          "name": "stderr",
          "text": [
            "\r 28%|██▊       | 197/700 [10:55<28:30,  3.40s/it]"
          ]
        },
        {
          "output_type": "stream",
          "name": "stdout",
          "text": [
            "Executing: python sketchKeras-pytorch/src/test.py -i /content/images/test_images/246.jpg -o /content/sketches/246.jpg -w sketchKeras-pytorch/weights/sketchKeras_pytorch.pth\n"
          ]
        },
        {
          "output_type": "stream",
          "name": "stderr",
          "text": [
            "\r 28%|██▊       | 198/700 [10:58<28:45,  3.44s/it]"
          ]
        },
        {
          "output_type": "stream",
          "name": "stdout",
          "text": [
            "Executing: python sketchKeras-pytorch/src/test.py -i /content/images/test_images/460.jpg -o /content/sketches/460.jpg -w sketchKeras-pytorch/weights/sketchKeras_pytorch.pth\n"
          ]
        },
        {
          "output_type": "stream",
          "name": "stderr",
          "text": [
            "\r 28%|██▊       | 199/700 [11:01<28:03,  3.36s/it]"
          ]
        },
        {
          "output_type": "stream",
          "name": "stdout",
          "text": [
            "Executing: python sketchKeras-pytorch/src/test.py -i /content/images/test_images/444.jpg -o /content/sketches/444.jpg -w sketchKeras-pytorch/weights/sketchKeras_pytorch.pth\n"
          ]
        },
        {
          "output_type": "stream",
          "name": "stderr",
          "text": [
            "\r 29%|██▊       | 200/700 [11:05<27:32,  3.30s/it]"
          ]
        },
        {
          "output_type": "stream",
          "name": "stdout",
          "text": [
            "Executing: python sketchKeras-pytorch/src/test.py -i /content/images/test_images/198.jpg -o /content/sketches/198.jpg -w sketchKeras-pytorch/weights/sketchKeras_pytorch.pth\n"
          ]
        },
        {
          "output_type": "stream",
          "name": "stderr",
          "text": [
            "\r 29%|██▊       | 201/700 [11:09<29:02,  3.49s/it]"
          ]
        },
        {
          "output_type": "stream",
          "name": "stdout",
          "text": [
            "Executing: python sketchKeras-pytorch/src/test.py -i /content/images/test_images/820.jpg -o /content/sketches/820.jpg -w sketchKeras-pytorch/weights/sketchKeras_pytorch.pth\n"
          ]
        },
        {
          "output_type": "stream",
          "name": "stderr",
          "text": [
            "\r 29%|██▉       | 202/700 [11:12<29:12,  3.52s/it]"
          ]
        },
        {
          "output_type": "stream",
          "name": "stdout",
          "text": [
            "Executing: python sketchKeras-pytorch/src/test.py -i /content/images/test_images/307.jpg -o /content/sketches/307.jpg -w sketchKeras-pytorch/weights/sketchKeras_pytorch.pth\n"
          ]
        },
        {
          "output_type": "stream",
          "name": "stderr",
          "text": [
            "\r 29%|██▉       | 202/700 [11:15<27:46,  3.35s/it]"
          ]
        },
        {
          "output_type": "stream",
          "name": "stdout",
          "text": [
            "Reached the maximum of 200 sketches. Stopping.\n"
          ]
        },
        {
          "output_type": "stream",
          "name": "stderr",
          "text": [
            "\n"
          ]
        }
      ]
    },
    {
      "cell_type": "code",
      "execution_count": null,
      "metadata": {
        "colab": {
          "base_uri": "https://localhost:8080/"
        },
        "id": "YeRg87t3rOO4",
        "outputId": "84e8c2c9-0583-47be-e224-df372458dfd3"
      },
      "outputs": [
        {
          "name": "stdout",
          "output_type": "stream",
          "text": [
            "ls: cannot access 'sketches/sketches': No such file or directory\n",
            "0\n",
            "ls: cannot access 'sketches/sketches': No such file or directory\n",
            "0\n"
          ]
        }
      ],
      "source": [
        "!ls sketches/sketches | wc -l\n",
        "!ls sketches/sketches | grep -E '^[0-9]+\\.jpg$' | wc -l\n"
      ]
    },
    {
      "cell_type": "code",
      "source": [
        "!mkdir images_200"
      ],
      "metadata": {
        "id": "KK8kM-GkvwgO"
      },
      "execution_count": null,
      "outputs": []
    },
    {
      "cell_type": "code",
      "source": [
        "import os\n",
        "import shutil\n",
        "from tqdm import tqdm\n",
        "\n",
        "# Directories\n",
        "sketches_dir = \"/content/sketches/\"\n",
        "images_dir = \"/content/images/test_images\"\n",
        "output_dir = \"/content/images_200\"\n",
        "\n",
        "# Ensure the output directory exists\n",
        "os.makedirs(output_dir, exist_ok=True)\n",
        "\n",
        "# Get the list of files in the sketches directory\n",
        "sketch_files = os.listdir(sketches_dir)\n",
        "\n",
        "# Filter and copy matching images\n",
        "for sketch_file in tqdm(sketch_files, desc=\"Processing\"):\n",
        "    # Get the corresponding image filename\n",
        "    if sketch_file.endswith(('.jpg', '.png', '.jpeg')):  # Ensure it's an image file\n",
        "        image_file = sketch_file  # Same name as sketch file\n",
        "\n",
        "        # Paths for source and destination\n",
        "        image_path = os.path.join(images_dir, image_file)\n",
        "        output_path = os.path.join(output_dir, image_file)\n",
        "\n",
        "        # Check if the corresponding image exists in the images folder\n",
        "        if os.path.exists(image_path):\n",
        "            shutil.copy(image_path, output_path)  # Copy the file\n",
        "        else:\n",
        "            print(f\"Image not found for {sketch_file}\")\n",
        "\n",
        "print(f\"Completed copying {len(os.listdir(output_dir))} images to {output_dir}\")\n"
      ],
      "metadata": {
        "colab": {
          "base_uri": "https://localhost:8080/"
        },
        "id": "2gpUnwGvwJ2V",
        "outputId": "91387b77-ea76-4044-f2b0-c1b3524ce64a"
      },
      "execution_count": null,
      "outputs": [
        {
          "output_type": "stream",
          "name": "stderr",
          "text": [
            "Processing: 100%|██████████| 203/203 [00:00<00:00, 5250.70it/s]"
          ]
        },
        {
          "output_type": "stream",
          "name": "stdout",
          "text": [
            "Completed copying 203 images to /content/images_200\n"
          ]
        },
        {
          "output_type": "stream",
          "name": "stderr",
          "text": [
            "\n"
          ]
        }
      ]
    },
    {
      "cell_type": "code",
      "execution_count": null,
      "metadata": {
        "colab": {
          "base_uri": "https://localhost:8080/"
        },
        "id": "Myk5Mc0Jg5m0",
        "outputId": "7a4631b7-6147-426c-afbd-87b3d6b0b652"
      },
      "outputs": [
        {
          "name": "stdout",
          "output_type": "stream",
          "text": [
            "import argparse\n",
            "import numpy as np\n",
            "import torch\n",
            "import cv2\n",
            "from model import SketchKeras\n",
            "\n",
            "device = \"cuda\" if torch.cuda.is_available() else \"cpu\"\n",
            "\n",
            "def parse_args():\n",
            "    parser = argparse.ArgumentParser()\n",
            "    parser.add_argument(\"--input\", \"-i\", type=str, default=\"\", help=\"input image file\")\n",
            "    parser.add_argument(\n",
            "        \"--output\", \"-o\", type=str, default=\"output.jpg\", help=\"output image file\"\n",
            "    )\n",
            "    parser.add_argument(\n",
            "        \"--weight\", \"-w\", type=str, default=\"weights/sketchKeras_pytorch.pth\", help=\"weight file\"\n",
            "    )\n",
            "    return parser.parse_args()\n",
            "\n",
            "\n",
            "def preprocess(img):\n",
            "    h, w, c = img.shape\n",
            "    blurred = cv2.GaussianBlur(img, (0, 0), 3)\n",
            "    highpass = img.astype(int) - blurred.astype(int)\n",
            "    highpass = highpass.astype(np.float) / 128.0\n",
            "    highpass /= np.max(highpass)\n",
            "\n",
            "    ret = np.zeros((512, 512, 3), dtype=np.float)\n",
            "    ret[0:h,0:w,0:c] = highpass\n",
            "    return ret\n",
            "\n",
            "\n",
            "def postprocess(pred, thresh=0.18, smooth=False):\n",
            "    assert thresh <= 1.0 and thresh >= 0.0\n",
            "\n",
            "    pred = np.amax(pred, 0)\n",
            "    pred[pred < thresh] = 0\n",
            "    pred = 1 - pred\n",
            "    pred *= 255\n",
            "    pred = np.clip(pred, 0, 255).astype(np.uint8)\n",
            "    if smooth:\n",
            "        pred = cv2.medianBlur(pred, 3)\n",
            "    return pred\n",
            "\n",
            "\n",
            "if __name__ == \"__main__\":\n",
            "    args = parse_args()\n",
            "\n",
            "    model = SketchKeras().to(device)\n",
            "\n",
            "    if len(args.weight) > 0:\n",
            "        model.load_state_dict(torch.load(args.weight))\n",
            "        print(f\"{args.weight} loaded..\")\n",
            "\n",
            "    img = cv2.imread(args.input)\n",
            "\n",
            "    # resize\n",
            "    height, width = float(img.shape[0]), float(img.shape[1])\n",
            "    if width > height:\n",
            "        new_width, new_height = (512, int(512 / width * height))\n",
            "    else:\n",
            "        new_width, new_height = (int(512 / height * width), 512)\n",
            "    img = cv2.resize(img, (new_width, new_height))\n",
            "    \n",
            "    # preprocess\n",
            "    img = preprocess(img)\n",
            "    x = img.reshape(1, *img.shape).transpose(3, 0, 1, 2)\n",
            "    x = torch.tensor(x).float()\n",
            "    \n",
            "    # feed into the network\n",
            "    with torch.no_grad():\n",
            "        pred = model(x.to(device))\n",
            "    pred = pred.squeeze()\n",
            "    \n",
            "    # postprocess\n",
            "    output = pred.cpu().detach().numpy()\n",
            "    output = postprocess(output, thresh=0.1, smooth=False) \n",
            "    output = output[:new_height, :new_width]\n",
            "\n",
            "    cv2.imwrite(args.output, output)\n"
          ]
        }
      ],
      "source": [
        "!cat sketchKeras-pytorch/src/test.py\n"
      ]
    },
    {
      "cell_type": "code",
      "execution_count": null,
      "metadata": {
        "id": "IWjBPKGph2QS"
      },
      "outputs": [],
      "source": [
        "!mv REAL.jpg sketchKeras-pytorch/outputs/\n"
      ]
    },
    {
      "cell_type": "code",
      "execution_count": null,
      "metadata": {
        "id": "alcakJMBjot_"
      },
      "outputs": [],
      "source": [
        "!mv 105.jpg sketchKeras-pytorch/outputs/\n"
      ]
    },
    {
      "cell_type": "code",
      "execution_count": null,
      "metadata": {
        "colab": {
          "base_uri": "https://localhost:8080/"
        },
        "id": "tbIKSaZAh-nM",
        "outputId": "ec4b3043-a268-45ee-85c1-b0563f3ee3e4"
      },
      "outputs": [
        {
          "name": "stdout",
          "output_type": "stream",
          "text": [
            "LICENSE  outputs  README.md  src  tests  weights\n"
          ]
        }
      ],
      "source": [
        "!ls /content/sketchKeras-pytorch"
      ]
    },
    {
      "cell_type": "code",
      "execution_count": null,
      "metadata": {
        "id": "pw7li0p6itYa"
      },
      "outputs": [],
      "source": [
        "!sed -i \"s/np\\.float/np.float64/g\" sketchKeras-pytorch/src/test.py\n"
      ]
    },
    {
      "cell_type": "code",
      "execution_count": null,
      "metadata": {
        "colab": {
          "base_uri": "https://localhost:8080/"
        },
        "id": "v0fItG7ffYMf",
        "outputId": "5e2dd2a1-5001-4aa4-9c8d-7b7e38681dbc"
      },
      "outputs": [
        {
          "output_type": "stream",
          "name": "stdout",
          "text": [
            "/content/sketchKeras-pytorch/src/test.py:52: FutureWarning: You are using `torch.load` with `weights_only=False` (the current default value), which uses the default pickle module implicitly. It is possible to construct malicious pickle data which will execute arbitrary code during unpickling (See https://github.com/pytorch/pytorch/blob/main/SECURITY.md#untrusted-models for more details). In a future release, the default value for `weights_only` will be flipped to `True`. This limits the functions that could be executed during unpickling. Arbitrary objects will no longer be allowed to be loaded via this mode unless they are explicitly allowlisted by the user via `torch.serialization.add_safe_globals`. We recommend you start setting `weights_only=True` for any use case where you don't have full control of the loaded file. Please open an issue on GitHub for any issues related to this experimental feature.\n",
            "  model.load_state_dict(torch.load(args.weight))\n",
            "sketchKeras-pytorch/weights/sketchKeras_pytorch.pth loaded..\n"
          ]
        }
      ],
      "source": [
        "!python sketchKeras-pytorch/src/test.py -i sketchKeras-pytorch/outputs/Hokusai-cat.jpg -o sketchKeras-pytorch/outputs/output2.jpg -w sketchKeras-pytorch/weights/sketchKeras_pytorch.pth\n"
      ]
    },
    {
      "cell_type": "code",
      "execution_count": null,
      "metadata": {
        "id": "iOw3x9I9Wg5b"
      },
      "outputs": [],
      "source": [
        "!mkdir -p sketchKeras-pytorch/weights\n",
        "!wget -O sketchKeras-pytorch/weights/sketchKeras_pytorch.pth <URL_OF_WEIGHT_FILE>\n"
      ]
    }
  ],
  "metadata": {
    "accelerator": "GPU",
    "colab": {
      "gpuType": "T4",
      "provenance": []
    },
    "kernelspec": {
      "display_name": "Python 3",
      "name": "python3"
    },
    "language_info": {
      "name": "python"
    }
  },
  "nbformat": 4,
  "nbformat_minor": 0
}